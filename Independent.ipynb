{
 "cells": [
  {
   "cell_type": "code",
   "execution_count": 1,
   "metadata": {},
   "outputs": [],
   "source": [
    "import numpy as np\n",
    "import pandas as pd\n",
    "from joblib import delayed, Parallel"
   ]
  },
  {
   "cell_type": "code",
   "execution_count": 2,
   "metadata": {},
   "outputs": [],
   "source": [
    "class paths:\n",
    "    TRAIN = './data/train.csv'\n",
    "    TEST = './data/test.csv'"
   ]
  },
  {
   "cell_type": "code",
   "execution_count": 3,
   "metadata": {},
   "outputs": [],
   "source": [
    "df = pd.read_csv(paths.TRAIN)"
   ]
  },
  {
   "cell_type": "markdown",
   "metadata": {},
   "source": [
    "## Pastry\n",
    "\n",
    "Baseline: 0.853"
   ]
  },
  {
   "cell_type": "code",
   "execution_count": 148,
   "metadata": {},
   "outputs": [],
   "source": [
    "def pastry_engineering(df):\n",
    "    new_df = df.copy()\n",
    "    new_df['Abs_Orientation'] = np.abs(new_df['Orientation_Index'])\n",
    "    new_df['New_Lum'] = 1 + new_df['Luminosity_Index']\n",
    "    #new_df['Width'] = np.abs(new_df['X_Maximum'] - new_df['X_Minimum'])\n",
    "    new_df['Height'] = np.abs(new_df['Y_Maximum'] - new_df['Y_Minimum'])\n",
    "    new_df['Lum_Range'] = np.abs(\n",
    "        new_df['Maximum_of_Luminosity'] - new_df['Minimum_of_Luminosity'])\n",
    "    \n",
    "    new_df['Log_Y/X'] = new_df['Log_Y_Index'] / new_df['Log_X_Index']\n",
    "\n",
    "    new_df['Feature1'] = new_df['Sum_of_Luminosity'] / new_df['New_Lum']\n",
    "    new_df['Feature2'] = new_df['Steel_Plate_Thickness'] * \\\n",
    "        new_df['Length_of_Conveyer']\n",
    "    new_df['Feature3'] = new_df['Outside_Global_Index'] * new_df['Minimum_of_Luminosity']\n",
    "    new_df['Feature4'] = new_df['Minimum_of_Luminosity'] * new_df['Empty_Index']\n",
    "    new_df['Feature5'] = new_df['New_Lum'] * new_df['Empty_Index'] / (1e-6+new_df['Log_Y_Index'])\n",
    "    new_df['Feature6'] = new_df['Edges_Y_Index']**2 * new_df['Log_Y/X']\n",
    "    new_df['Feature7'] = new_df['Maximum_of_Luminosity'] * new_df['Minimum_of_Luminosity'] / \\\n",
    "        (new_df['New_Lum'] + new_df['Outside_Global_Index'])\n",
    "    new_df['Feature8'] = new_df['Outside_Global_Index'] * new_df['New_Lum']\n",
    "    new_df['F9'] = new_df['Outside_Global_Index'] * new_df['Empty_Index'] / new_df['Sum_of_Luminosity']\n",
    "\n",
    "    drop_cols = ['Y_Maximum', 'Y_Minimum', 'X_Maximum', 'X_Minimum',\n",
    "                 'SigmoidOfAreas', 'Pixels_Areas', 'Outside_X_Index',\n",
    "                 'X_Perimeter', 'Y_Perimeter', 'Square_Index',\n",
    "                 'Orientation_Index', 'Luminosity_Index', 'Height', 'Edges_X_Index',\n",
    "                 'Log_X_Index', 'Log_Y/X', 'Outside_Global_Index', 'TypeOfSteel_A400']\n",
    "\n",
    "    new_df = new_df.drop(drop_cols, axis=1)\n",
    "    return new_df"
   ]
  },
  {
   "cell_type": "code",
   "execution_count": 149,
   "metadata": {},
   "outputs": [],
   "source": [
    "train_df = pastry_engineering(df)\n",
    "\n",
    "y_cols = ['Pastry', 'Z_Scratch', 'K_Scatch',\n",
    "          'Stains', 'Dirtiness', 'Bumps', 'Other_Faults']\n",
    "y = train_df[y_cols]\n",
    "X = train_df.drop(y, axis=1)\n",
    "ids = X['id']\n",
    "X = X.drop(['id'], axis=1)"
   ]
  },
  {
   "cell_type": "code",
   "execution_count": 150,
   "metadata": {},
   "outputs": [
    {
     "name": "stdout",
     "output_type": "stream",
     "text": [
      "Fold: 0\n",
      "Fold: 1\n",
      "Fold: 2\n",
      "Fold: 3\n",
      "Fold: 4\n"
     ]
    }
   ],
   "source": [
    "from sklearn.model_selection import GroupKFold\n",
    "gkf = GroupKFold(n_splits=5)\n",
    "\n",
    "trains = []\n",
    "valids = []\n",
    "for fold, (train_index, valid_index) in enumerate(gkf.split(X, y, ids)):\n",
    "    print(f'Fold: {fold}')\n",
    "    train_X = X.loc[train_index]\n",
    "    train_y = y.loc[train_index]\n",
    "    valid_X = X.loc[valid_index]\n",
    "    valid_y = y.loc[valid_index]\n",
    "    trains.append((train_X, train_y))\n",
    "    valids.append((valid_X, valid_y))"
   ]
  },
  {
   "cell_type": "code",
   "execution_count": 151,
   "metadata": {},
   "outputs": [
    {
     "name": "stdout",
     "output_type": "stream",
     "text": [
      "Feature6: 0.33000001311302185\n",
      "Lum_Range: 0.05000000074505806\n",
      "Length_of_Conveyer: 0.03999999910593033\n",
      "Edges_Y_Index: 0.03999999910593033\n",
      "TypeOfSteel_A300: 0.03999999910593033\n",
      "Minimum_of_Luminosity: 0.03999999910593033\n",
      "Steel_Plate_Thickness: 0.03999999910593033\n",
      "Feature7: 0.03999999910593033\n",
      "Feature5: 0.029999999329447746\n",
      "Abs_Orientation: 0.029999999329447746\n",
      "F9: 0.029999999329447746\n",
      "Feature4: 0.029999999329447746\n",
      "Maximum_of_Luminosity: 0.029999999329447746\n",
      "Feature1: 0.029999999329447746\n",
      "Feature2: 0.029999999329447746\n",
      "Sum_of_Luminosity: 0.029999999329447746\n",
      "Edges_Index: 0.029999999329447746\n",
      "Feature3: 0.029999999329447746\n",
      "LogOfAreas: 0.019999999552965164\n",
      "Empty_Index: 0.019999999552965164\n",
      "Feature8: 0.019999999552965164\n",
      "Log_Y_Index: 0.019999999552965164\n",
      "New_Lum: 0.019999999552965164\n",
      "\n",
      "Mean AUC: 0.863\n"
     ]
    }
   ],
   "source": [
    "from xgboost import XGBClassifier\n",
    "from sklearn.metrics import roc_auc_score\n",
    "\n",
    "col = 'Pastry'\n",
    "\n",
    "estimators = 1000\n",
    "stopping = 5\n",
    "lr = 0.05\n",
    "\n",
    "xgboosts = []\n",
    "aucs_sum = 0\n",
    "for fold in range(5):\n",
    "    X, y = trains[fold]\n",
    "    y_col = np.array(y[col])\n",
    "    X_val, y_val = valids[fold]\n",
    "    y_val_col = np.array(y_val[col])\n",
    "\n",
    "    # Fit Model\n",
    "    model = XGBClassifier(n_estimators=estimators,\n",
    "                          early_stopping_rounds=stopping,\n",
    "                          learning_rate=lr,\n",
    "                          n_jobs=4,\n",
    "                          eval_metric='auc')\n",
    "\n",
    "    model.fit(X, y_col, eval_set=[\n",
    "              (X_val, np.array(y_val[col]))], verbose=0)\n",
    "    xgboosts.append(model)\n",
    "\n",
    "    # Calculate ROCS\n",
    "    preds = model.predict_proba(X_val)[:, 1]\n",
    "    aucs_sum += roc_auc_score(np.array(y_val[col]), preds)\n",
    "\n",
    "aucs = aucs_sum / 5\n",
    "# Importances\n",
    "importances = xgboosts[0].feature_importances_\n",
    "for xgboost in xgboosts[1:]:\n",
    "    importances += xgboost.feature_importances_\n",
    "importances = np.array(importances) / 5\n",
    "Xcols = np.array(X.columns)[np.argsort(importances)][::-1]\n",
    "sortd = np.sort(importances)[::-1]\n",
    "for i, clm in enumerate(Xcols):\n",
    "    print(f'{clm}: {round(sortd[i], 2)}')\n",
    "\n",
    "print(f'\\nMean AUC: {aucs:.3f}')"
   ]
  }
 ],
 "metadata": {
  "kernelspec": {
   "display_name": ".venv",
   "language": "python",
   "name": "python3"
  },
  "language_info": {
   "codemirror_mode": {
    "name": "ipython",
    "version": 3
   },
   "file_extension": ".py",
   "mimetype": "text/x-python",
   "name": "python",
   "nbconvert_exporter": "python",
   "pygments_lexer": "ipython3",
   "version": "3.11.0"
  }
 },
 "nbformat": 4,
 "nbformat_minor": 2
}
