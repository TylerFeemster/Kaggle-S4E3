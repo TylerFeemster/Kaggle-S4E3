{
 "cells": [
  {
   "cell_type": "code",
   "execution_count": 50,
   "metadata": {},
   "outputs": [],
   "source": [
    "import numpy as np\n",
    "import pandas as pd\n",
    "import matplotlib.pyplot as plt\n",
    "\n",
    "from sklearn.decomposition import PCA\n",
    "from sklearn.model_selection import GroupKFold\n",
    "from sklearn.metrics import roc_auc_score\n",
    "\n",
    "from sklearn.ensemble import RandomForestClassifier\n",
    "from xgboost import XGBClassifier"
   ]
  },
  {
   "cell_type": "code",
   "execution_count": 51,
   "metadata": {},
   "outputs": [],
   "source": [
    "TRAIN_PATH = './data/train.csv'\n",
    "df = pd.read_csv(TRAIN_PATH)"
   ]
  },
  {
   "cell_type": "markdown",
   "metadata": {},
   "source": [
    "## Feature Engineering"
   ]
  },
  {
   "cell_type": "code",
   "execution_count": 52,
   "metadata": {},
   "outputs": [],
   "source": [
    "def full_feature_engineering(df):\n",
    "    new_df = df.copy()\n",
    "    new_df['Height'] = np.abs(new_df['Y_Maximum'] - new_df['Y_Minimum'])\n",
    "    new_df['Width'] = np.abs(new_df['X_Maximum'] - new_df['X_Minimum'])\n",
    "    new_df[['Log_Outside_X_Index', \n",
    "            'Log_X_Perimeter', 'Log_Y_Perimeter']] = np.log(new_df[['Outside_X_Index', \n",
    "                                                                    'X_Perimeter', 'Y_Perimeter']] + 1e-6)\n",
    "    new_df[['Log_Width', 'Log_Height']] = np.log(new_df[['Width', 'Height']] + 1)\n",
    "    new_df['Abs_Orientation'] = np.abs(new_df['Orientation_Index'])\n",
    "    new_df['Log_Range'] = np.log(1 + new_df['Maximum_of_Luminosity']) - np.log(1 + new_df['Minimum_of_Luminosity'])\n",
    "    new_df['Log_Lum'] = np.log(new_df['Sum_of_Luminosity'])\n",
    "    new_df['Log_Avg_Lum'] = new_df['Log_Lum'] - 2 * new_df['LogOfAreas']\n",
    "\n",
    "    y_cols = ['Pastry', 'Z_Scratch', 'K_Scatch',\n",
    "              'Stains', 'Dirtiness', 'Bumps', 'Other_Faults']\n",
    "    non_cols = ['id'] + y_cols\n",
    "    \n",
    "    X = new_df.drop(columns=non_cols)\n",
    "    X_stats = X.describe().T\n",
    "    X = (X - X_stats['mean']) / X_stats['std']\n",
    "    pca = PCA().fit(X)\n",
    "    new_df[[f'pca_{i}' for i in range(pca.n_components_)]] = pca.transform(X)\n",
    "\n",
    "    new_df['No Defect'] = (new_df[y_cols].sum(axis=1) == 0).astype('int')\n",
    "\n",
    "    drop_cols = ['Y_Maximum', 'Y_Minimum', 'X_Maximum', 'X_Minimum']\n",
    "    return new_df.drop(columns=drop_cols)"
   ]
  },
  {
   "cell_type": "code",
   "execution_count": 53,
   "metadata": {},
   "outputs": [],
   "source": [
    "train_df = full_feature_engineering(df)\n",
    "y_cols = ['No Defect', 'Pastry', 'Z_Scratch', 'K_Scatch',\n",
    "          'Stains', 'Dirtiness', 'Bumps', 'Other_Faults']\n",
    "y = train_df[y_cols]\n",
    "X = train_df.drop(y, axis=1)\n",
    "ids = X['id']\n",
    "X = X.drop(['id'], axis=1)"
   ]
  },
  {
   "cell_type": "code",
   "execution_count": 54,
   "metadata": {},
   "outputs": [
    {
     "name": "stdout",
     "output_type": "stream",
     "text": [
      "Fold: 0\n",
      "Fold: 1\n",
      "Fold: 2\n",
      "Fold: 3\n",
      "Fold: 4\n"
     ]
    }
   ],
   "source": [
    "gkf = GroupKFold(n_splits=5)\n",
    "\n",
    "trains = []\n",
    "valids = []\n",
    "for fold, (train_index, valid_index) in enumerate(gkf.split(X, y, ids)):\n",
    "    print(f'Fold: {fold}')\n",
    "    train_X = X.loc[train_index]\n",
    "    train_y = y.loc[train_index]\n",
    "    valid_X = X.loc[valid_index]\n",
    "    valid_y = y.loc[valid_index]\n",
    "    trains.append((train_X, train_y))\n",
    "    valids.append((valid_X, valid_y))"
   ]
  },
  {
   "cell_type": "markdown",
   "metadata": {},
   "source": [
    "## XGB"
   ]
  },
  {
   "cell_type": "code",
   "execution_count": 55,
   "metadata": {},
   "outputs": [
    {
     "name": "stdout",
     "output_type": "stream",
     "text": [
      "Fold: 0\n",
      "Fold: 1\n",
      "Fold: 2\n",
      "Fold: 3\n",
      "Fold: 4\n"
     ]
    },
    {
     "data": {
      "text/plain": [
       "No Defect       0.639757\n",
       "Pastry          0.867205\n",
       "Z_Scratch       0.957473\n",
       "K_Scatch        0.984751\n",
       "Stains          0.991365\n",
       "Dirtiness       0.877124\n",
       "Bumps           0.802708\n",
       "Other_Faults    0.699451\n",
       "dtype: float64"
      ]
     },
     "metadata": {},
     "output_type": "display_data"
    },
    {
     "name": "stdout",
     "output_type": "stream",
     "text": [
      "Mean AUC of 7: 0.8829\n"
     ]
    }
   ],
   "source": [
    "estimators = 1000\n",
    "stopping = 5\n",
    "lr = 0.05\n",
    "\n",
    "xgboosts = []\n",
    "aucs = np.zeros(8)\n",
    "\n",
    "for fold in range(5):\n",
    "    print(f'Fold: {fold}')\n",
    "\n",
    "    X, y = trains[fold]\n",
    "    Xv, yv = valids[fold]\n",
    "\n",
    "    # Fit Model\n",
    "    model = XGBClassifier(n_estimators=estimators,\n",
    "                          early_stopping_rounds=stopping,\n",
    "                          learning_rate=lr,\n",
    "                          n_jobs=-1,\n",
    "                          subsample=0.8\n",
    "                          )\n",
    "    model.fit(X, y, eval_set=[(Xv, yv)], verbose=0)\n",
    "    xgboosts.append(model)\n",
    "\n",
    "    # Calculate AUROCs\n",
    "    preds = model.predict_proba(Xv)\n",
    "    aucs += np.array(roc_auc_score(yv, preds, multi_class='ovr', average=None))\n",
    "    \n",
    "val_aucs = pd.Series(aucs, index=y_cols)/5\n",
    "display(val_aucs)\n",
    "essential_aucs = val_aucs.drop(index='No Defect')\n",
    "print(f'Mean AUC of 7: {essential_aucs.mean():.4f}')"
   ]
  },
  {
   "cell_type": "code",
   "execution_count": 56,
   "metadata": {},
   "outputs": [
    {
     "name": "stdout",
     "output_type": "stream",
     "text": [
      "pca_0: 0.22\n",
      "LogOfAreas: 0.08\n",
      "TypeOfSteel_A300: 0.08\n",
      "Pixels_Areas: 0.04\n",
      "Steel_Plate_Thickness: 0.03\n",
      "Orientation_Index: 0.03\n",
      "Outside_X_Index: 0.03\n",
      "Length_of_Conveyer: 0.02\n",
      "Y_Perimeter: 0.02\n",
      "Width: 0.02\n",
      "Edges_Y_Index: 0.02\n",
      "pca_1: 0.02\n",
      "Log_Y_Index: 0.02\n",
      "pca_2: 0.02\n",
      "Outside_Global_Index: 0.01\n",
      "Abs_Orientation: 0.01\n",
      "Log_Range: 0.01\n",
      "pca_8: 0.01\n",
      "TypeOfSteel_A400: 0.01\n",
      "Edges_Index: 0.01\n",
      "Minimum_of_Luminosity: 0.01\n",
      "Maximum_of_Luminosity: 0.01\n",
      "X_Perimeter: 0.01\n",
      "Log_X_Index: 0.01\n",
      "pca_9: 0.01\n",
      "pca_7: 0.01\n",
      "Square_Index: 0.01\n",
      "pca_12: 0.01\n",
      "Sum_of_Luminosity: 0.01\n",
      "SigmoidOfAreas: 0.01\n",
      "pca_22: 0.01\n",
      "Luminosity_Index: 0.01\n",
      "pca_11: 0.01\n",
      "pca_13: 0.01\n",
      "Edges_X_Index: 0.01\n",
      "Empty_Index: 0.01\n",
      "pca_6: 0.01\n",
      "pca_21: 0.01\n",
      "pca_10: 0.01\n",
      "pca_5: 0.01\n",
      "pca_31: 0.01\n",
      "pca_14: 0.01\n",
      "pca_34: 0.01\n",
      "pca_19: 0.01\n",
      "Log_Avg_Lum: 0.01\n",
      "pca_29: 0.01\n",
      "pca_18: 0.01\n",
      "pca_4: 0.01\n",
      "pca_20: 0.01\n",
      "pca_24: 0.01\n",
      "pca_37: 0.01\n",
      "pca_36: 0.01\n",
      "pca_35: 0.01\n",
      "pca_23: 0.01\n",
      "pca_15: 0.01\n",
      "pca_27: 0.01\n",
      "pca_32: 0.01\n",
      "pca_17: 0.01\n",
      "pca_16: 0.01\n",
      "pca_28: 0.01\n",
      "pca_25: 0.01\n",
      "pca_26: 0.01\n",
      "pca_33: 0.01\n",
      "pca_3: 0.01\n",
      "pca_30: 0.01\n",
      "Height: 0.01\n",
      "Log_Outside_X_Index: 0.00\n",
      "Log_X_Perimeter: 0.00\n",
      "Log_Y_Perimeter: 0.00\n",
      "Log_Width: 0.00\n",
      "Log_Lum: 0.00\n",
      "Log_Height: 0.00\n"
     ]
    }
   ],
   "source": [
    "importances = xgboosts[0].feature_importances_\n",
    "for xgboost in xgboosts[1:]:\n",
    "    importances += xgboost.feature_importances_\n",
    "importances = np.array(importances) / 5\n",
    "Xcols = np.array(X.columns)[np.argsort(importances)][::-1]\n",
    "sortd = np.sort(importances)[::-1]\n",
    "for i, col in enumerate(Xcols):\n",
    "    print(f'{col}: {sortd[i]:.2f}')"
   ]
  },
  {
   "cell_type": "markdown",
   "metadata": {},
   "source": [
    "## RF"
   ]
  },
  {
   "cell_type": "code",
   "execution_count": 57,
   "metadata": {},
   "outputs": [
    {
     "name": "stdout",
     "output_type": "stream",
     "text": [
      "Fold: 0\n",
      "Fold: 1\n",
      "Fold: 2\n",
      "Fold: 3\n",
      "Fold: 4\n"
     ]
    },
    {
     "data": {
      "text/plain": [
       "No Defect       0.648150\n",
       "Pastry          0.862940\n",
       "Z_Scratch       0.943396\n",
       "K_Scatch        0.982931\n",
       "Stains          0.991613\n",
       "Dirtiness       0.880112\n",
       "Bumps           0.796150\n",
       "Other_Faults    0.683487\n",
       "dtype: float64"
      ]
     },
     "metadata": {},
     "output_type": "display_data"
    },
    {
     "name": "stdout",
     "output_type": "stream",
     "text": [
      "Mean AUC of 7: 0.8772\n"
     ]
    }
   ],
   "source": [
    "estimators = 500\n",
    "\n",
    "rfs = []\n",
    "aucs = np.zeros(8)\n",
    "\n",
    "for fold in range(5):\n",
    "    print(f'Fold: {fold}')\n",
    "\n",
    "    # Fit Model\n",
    "    model = RandomForestClassifier(n_estimators=estimators,\n",
    "                                   n_jobs=-1,\n",
    "                                   max_features=0.5)\n",
    "    model.fit(*trains[fold])\n",
    "    rfs.append(model)\n",
    "\n",
    "    # Calculate AUROCs\n",
    "    X_val, y_val = valids[fold]\n",
    "    preds = np.array(model.predict_proba(X_val))[:,:,1].T\n",
    "    aucs += np.array(roc_auc_score(y_val, preds,\n",
    "                     multi_class='ovr', average=None))\n",
    "\n",
    "val_aucs = pd.Series(aucs, index=y_cols)/5\n",
    "display(val_aucs)\n",
    "essential_aucs = val_aucs.drop(index='No Defect')\n",
    "print(f'Mean AUC of 7: {essential_aucs.mean():.4f}')"
   ]
  },
  {
   "cell_type": "code",
   "execution_count": 58,
   "metadata": {},
   "outputs": [
    {
     "name": "stdout",
     "output_type": "stream",
     "text": [
      "pca_0: 0.10\n",
      "Outside_X_Index: 0.03\n",
      "Log_Outside_X_Index: 0.03\n",
      "Length_of_Conveyer: 0.02\n",
      "Width: 0.02\n",
      "Log_Width: 0.02\n",
      "Steel_Plate_Thickness: 0.02\n",
      "pca_9: 0.02\n",
      "pca_7: 0.02\n",
      "pca_2: 0.02\n",
      "LogOfAreas: 0.02\n",
      "pca_1: 0.02\n",
      "Pixels_Areas: 0.02\n",
      "Edges_Index: 0.02\n",
      "pca_8: 0.02\n",
      "Orientation_Index: 0.01\n",
      "pca_11: 0.01\n",
      "Log_Range: 0.01\n",
      "Log_X_Index: 0.01\n",
      "pca_13: 0.01\n",
      "pca_6: 0.01\n",
      "pca_12: 0.01\n",
      "Empty_Index: 0.01\n",
      "pca_4: 0.01\n",
      "pca_14: 0.01\n",
      "pca_25: 0.01\n",
      "pca_5: 0.01\n",
      "pca_31: 0.01\n",
      "pca_30: 0.01\n",
      "pca_3: 0.01\n",
      "pca_28: 0.01\n",
      "Luminosity_Index: 0.01\n",
      "pca_33: 0.01\n",
      "pca_10: 0.01\n",
      "pca_23: 0.01\n",
      "pca_24: 0.01\n",
      "pca_15: 0.01\n",
      "pca_27: 0.01\n",
      "pca_22: 0.01\n",
      "pca_18: 0.01\n",
      "pca_16: 0.01\n",
      "pca_32: 0.01\n",
      "pca_34: 0.01\n",
      "pca_17: 0.01\n",
      "pca_26: 0.01\n",
      "pca_36: 0.01\n",
      "pca_35: 0.01\n",
      "pca_29: 0.01\n",
      "Log_Avg_Lum: 0.01\n",
      "pca_21: 0.01\n",
      "pca_19: 0.01\n",
      "pca_20: 0.01\n",
      "Minimum_of_Luminosity: 0.01\n",
      "Edges_X_Index: 0.01\n",
      "Edges_Y_Index: 0.01\n",
      "SigmoidOfAreas: 0.01\n",
      "Abs_Orientation: 0.01\n",
      "Square_Index: 0.01\n",
      "Log_Height: 0.01\n",
      "Height: 0.01\n",
      "Log_Lum: 0.01\n",
      "Sum_of_Luminosity: 0.01\n",
      "Maximum_of_Luminosity: 0.01\n",
      "Log_Y_Index: 0.01\n",
      "Log_X_Perimeter: 0.01\n",
      "X_Perimeter: 0.01\n",
      "Y_Perimeter: 0.01\n",
      "Log_Y_Perimeter: 0.01\n",
      "TypeOfSteel_A300: 0.00\n",
      "TypeOfSteel_A400: 0.00\n",
      "Outside_Global_Index: 0.00\n",
      "pca_37: 0.00\n"
     ]
    }
   ],
   "source": [
    "importances = np.array(rfs[0].feature_importances_)\n",
    "for rf in rfs[1:]:\n",
    "    importances += rf.feature_importances_\n",
    "importances = np.array(importances) / 5\n",
    "Xcols = np.array(X.columns)[np.argsort(importances)][::-1]\n",
    "sortd = np.sort(importances)[::-1]\n",
    "for i, col in enumerate(Xcols):\n",
    "    print(f'{col}: {sortd[i]:.2f}')"
   ]
  },
  {
   "cell_type": "markdown",
   "metadata": {},
   "source": [
    "## Basic Ensemble"
   ]
  },
  {
   "cell_type": "code",
   "execution_count": 60,
   "metadata": {},
   "outputs": [
    {
     "name": "stdout",
     "output_type": "stream",
     "text": [
      "Mean AUROC | RF Weight | XGB Weight\n",
      "====================================\n",
      "    0.8829 |    0.0    |    1.0\n",
      "    0.8841 |    0.1    |    0.9\n",
      "    0.8847 |    0.2    |    0.8\n",
      "    0.8849 |    0.3    |    0.7\n",
      "    0.8847 |    0.4    |    0.6\n",
      "    0.8843 |    0.5    |    0.5\n",
      "    0.8836 |    0.6    |    0.4\n",
      "    0.8826 |    0.7    |    0.3\n",
      "    0.8812 |    0.8    |    0.2\n",
      "    0.8795 |    0.9    |    0.1\n",
      "    0.8772 |    1.0    |    0.0\n"
     ]
    },
    {
     "data": {
      "image/png": "[encoded data removed]",
      "text/plain": [
       "<Figure size 640x480 with 1 Axes>"
      ]
     },
     "metadata": {},
     "output_type": "display_data"
    }
   ],
   "source": [
    "mean_aucs = []\n",
    "\n",
    "print('Mean AUROC | RF Weight | XGB Weight')\n",
    "print('='*36)\n",
    "for i in range(11):\n",
    "    rf_weight = i/10\n",
    "    aucs = np.zeros(8)\n",
    "\n",
    "    for fold in range(5):\n",
    "        Xv, yv = valids[fold]\n",
    "\n",
    "        # Calculate AUROCs\n",
    "        xgb_preds = np.array(xgboosts[fold].predict_proba(Xv))\n",
    "        rf_preds = np.array(rfs[fold].predict_proba(Xv))[:, :, 1].T\n",
    "\n",
    "        preds = rf_weight * rf_preds + (1 - rf_weight) * xgb_preds\n",
    "        aucs += np.array(roc_auc_score(yv, preds, multi_class='ovr', average=None))\n",
    "\n",
    "    val_aucs = pd.Series(aucs, index=y_cols)/5\n",
    "    essential_aucs = val_aucs.drop(index='No Defect')\n",
    "    print(f'    {essential_aucs.mean():.4f} |    {i/10:.1f}    |    {1-i/10:.1f}')\n",
    "    mean_aucs.append(essential_aucs.mean())\n",
    "\n",
    "plt.plot(np.arange(0, 1.01, 0.1), mean_aucs)\n",
    "plt.title('Mean AUROC for Various Ensembles')\n",
    "plt.ylabel('Mean AUROC')\n",
    "plt.xlabel('RF Weight  |  1 - XGB Weight')\n",
    "plt.show()"
   ]
  }
 ],
 "metadata": {
  "kernelspec": {
   "display_name": ".venv",
   "language": "python",
   "name": "python3"
  },
  "language_info": {
   "codemirror_mode": {
    "name": "ipython",
    "version": 3
   },
   "file_extension": ".py",
   "mimetype": "text/x-python",
   "name": "python",
   "nbconvert_exporter": "python",
   "pygments_lexer": "ipython3",
   "version": "3.11.0"
  }
 },
 "nbformat": 4,
 "nbformat_minor": 2
}
