{
 "cells": [
  {
   "cell_type": "code",
   "execution_count": 3,
   "metadata": {},
   "outputs": [],
   "source": [
    "import numpy as np\n",
    "import pandas as pd\n",
    "from joblib import delayed, Parallel\n",
    "import optuna\n",
    "import xgboost as xgb\n",
    "import lightgbm as lgbm\n",
    "import catboost as cat"
   ]
  },
  {
   "cell_type": "code",
   "execution_count": 4,
   "metadata": {},
   "outputs": [],
   "source": [
    "class paths:\n",
    "    TRAIN = './data/train.csv'\n",
    "    TEST = './data/test.csv'"
   ]
  },
  {
   "cell_type": "code",
   "execution_count": 5,
   "metadata": {},
   "outputs": [],
   "source": [
    "train_df = pd.read_csv(paths.TRAIN)"
   ]
  },
  {
   "cell_type": "code",
   "execution_count": 6,
   "metadata": {},
   "outputs": [],
   "source": [
    "from sklearn.decomposition import PCA\n",
    "\n",
    "def feature_engineering(df):    \n",
    "    new_df = df.copy()\n",
    "    new_df['Log_Range'] = np.log(1 + new_df['Maximum_of_Luminosity']) - np.log(1 + new_df['Minimum_of_Luminosity'])\n",
    "    new_df['Log_Lum'] = np.log(new_df['Sum_of_Luminosity'])\n",
    "    new_df['Log_Avg_Lum'] = new_df['Log_Lum'] - 2 * new_df['LogOfAreas']\n",
    "\n",
    "    new_df['Abs_Orientation'] = np.abs(new_df['Orientation_Index'])\n",
    "    new_df['New_Lum'] = 1 + new_df['Luminosity_Index']\n",
    "    new_df['Lum_Range'] = np.abs(\n",
    "        new_df['Maximum_of_Luminosity'] - new_df['Minimum_of_Luminosity'])\n",
    "    \n",
    "    new_df['Abs_Orientation'] = np.abs(new_df['Orientation_Index'])\n",
    "    new_df['Norm_Range'] = new_df['Log_Range'] - new_df['LogOfAreas']/2\n",
    "\n",
    "    cols = ['LogOfAreas', 'Log_X_Index', 'Log_Y_Index', 'TypeOfSteel_A300',\n",
    "            'Edges_Index', 'Outside_Global_Index', 'Abs_Orientation',\n",
    "            'Steel_Plate_Thickness', 'Luminosity_Index', \n",
    "            'Log_Avg_Lum', 'Length_of_Conveyer', 'Empty_Index', 'Norm_Range',\n",
    "            'Pastry', 'Z_Scratch', 'K_Scatch', 'id',\n",
    "            'Stains', 'Dirtiness', 'Bumps', 'Other_Faults']\n",
    "\n",
    "    X_cols = ['LogOfAreas', 'Log_X_Index', 'Log_Y_Index',\n",
    "              'Edges_Index', 'Outside_Global_Index', 'Abs_Orientation',\n",
    "              'Steel_Plate_Thickness', 'Luminosity_Index', \n",
    "              'Log_Avg_Lum', 'Length_of_Conveyer', 'Empty_Index', 'Norm_Range']\n",
    "\n",
    "    pca_feats = [f'feature_{i}' for i in range(1, 12 + 1)]\n",
    "\n",
    "    X_feats = new_df[X_cols]\n",
    "    stats = X_feats.describe().T[['mean', 'std']]\n",
    "    X_normed = (X_feats - stats['mean']) / stats['std']\n",
    "\n",
    "    new_df[pca_feats] = PCA().fit_transform(X_normed)\n",
    "\n",
    "    return new_df[cols+pca_feats]"
   ]
  },
  {
   "cell_type": "code",
   "execution_count": 7,
   "metadata": {},
   "outputs": [],
   "source": [
    "df = feature_engineering(train_df)\n",
    "y_cols = train_df.columns[-7:]\n",
    "y = df[y_cols]\n",
    "X = df.drop(columns=['id', *y_cols])\n",
    "ids = df['id']"
   ]
  },
  {
   "cell_type": "code",
   "execution_count": 8,
   "metadata": {},
   "outputs": [
    {
     "name": "stdout",
     "output_type": "stream",
     "text": [
      "Fold: 0\n",
      "Fold: 1\n",
      "Fold: 2\n",
      "Fold: 3\n",
      "Fold: 4\n"
     ]
    }
   ],
   "source": [
    "from sklearn.model_selection import GroupKFold\n",
    "gkf = GroupKFold(n_splits=5)\n",
    "\n",
    "trains = []\n",
    "valids = []\n",
    "for fold, (train_index, valid_index) in enumerate(gkf.split(X, y, ids)):\n",
    "    print(f'Fold: {fold}')\n",
    "    train_X = X.loc[train_index]\n",
    "    train_y = y.loc[train_index]\n",
    "    valid_X = X.loc[valid_index]\n",
    "    valid_y = y.loc[valid_index]\n",
    "    trains.append((train_X, train_y))\n",
    "    valids.append((valid_X, valid_y))"
   ]
  },
  {
   "cell_type": "markdown",
   "metadata": {},
   "source": [
    "## XGBoost"
   ]
  },
  {
   "cell_type": "code",
   "execution_count": 32,
   "metadata": {},
   "outputs": [],
   "source": [
    "from sklearn.metrics import roc_auc_score\n",
    "\n",
    "def cv_score(params):\n",
    "    aucs = np.zeros(7)\n",
    "    for fold in range(5):\n",
    "\n",
    "        # Fit Model\n",
    "        model = xgb.XGBClassifier(**params)\n",
    "        model.fit(*trains[fold], eval_set=[valids[fold]], verbose=0)\n",
    "\n",
    "        # Calculate ROCS\n",
    "        X_val, y_val = valids[fold]\n",
    "        preds = model.predict_proba(X_val)\n",
    "        aucs += np.array(roc_auc_score(y_val, preds, multi_class='ovr', average=None))\n",
    "\n",
    "    return aucs.mean() / 5\n",
    "\n",
    "def xgb_objective(trial):\n",
    "    params = {\n",
    "        'n_estimators': trial.suggest_int('n_estimators', 100, 1000, log=True),\n",
    "        'early_stopping_rounds': trial.suggest_int('early_stopping_rounds', 3, 12),\n",
    "        'learning_rate': trial.suggest_float('learning_rate', 5e-3, 1e-1, log=True),\n",
    "        'lambda': trial.suggest_float('lambda', 1e-6, 1e-2, log=True),\n",
    "        'alpha': trial.suggest_float('alpha', 1e-2, 1e2, log=True),\n",
    "        'subsample': trial.suggest_float('subsample', 0.2, 1.0, log=True)\n",
    "    }\n",
    "\n",
    "    return cv_score(params)"
   ]
  },
  {
   "cell_type": "code",
   "execution_count": 33,
   "metadata": {},
   "outputs": [
    {
     "name": "stderr",
     "output_type": "stream",
     "text": [
      "[I 2024-03-30 17:07:27,998] A new study created in memory with name: no-name-be12cad1-330b-4254-a598-69d39b7d969d\n",
      "[I 2024-03-30 17:08:54,762] Trial 0 finished with value: 0.8796971324735241 and parameters: {'n_estimators': 576, 'early_stopping_rounds': 10, 'learning_rate': 0.005480634560828661, 'lambda': 7.983231160315566e-05, 'alpha': 0.170402375660281, 'subsample': 0.26131091535074075}. Best is trial 0 with value: 0.8796971324735241.\n",
      "[I 2024-03-30 17:09:55,074] Trial 1 finished with value: 0.8800449617850907 and parameters: {'n_estimators': 526, 'early_stopping_rounds': 10, 'learning_rate': 0.02914702943518748, 'lambda': 0.0004704971453976472, 'alpha': 18.65928684783534, 'subsample': 0.5552719441642882}. Best is trial 1 with value: 0.8800449617850907.\n",
      "[I 2024-03-30 17:10:17,129] Trial 2 finished with value: 0.8754957773790328 and parameters: {'n_estimators': 156, 'early_stopping_rounds': 12, 'learning_rate': 0.009811660139869486, 'lambda': 6.986134853140149e-06, 'alpha': 0.942954261705635, 'subsample': 0.4794415101179518}. Best is trial 1 with value: 0.8800449617850907.\n",
      "[I 2024-03-30 17:10:46,782] Trial 3 finished with value: 0.8756584477059807 and parameters: {'n_estimators': 191, 'early_stopping_rounds': 9, 'learning_rate': 0.005263465188601421, 'lambda': 0.0002191902970751409, 'alpha': 0.016370172592956964, 'subsample': 0.33072867199122746}. Best is trial 1 with value: 0.8800449617850907.\n",
      "[I 2024-03-30 17:10:58,064] Trial 4 finished with value: 0.8769837840814096 and parameters: {'n_estimators': 596, 'early_stopping_rounds': 3, 'learning_rate': 0.06255819658595317, 'lambda': 5.4311125013794884e-06, 'alpha': 2.0583090051094466, 'subsample': 0.2608334314144623}. Best is trial 1 with value: 0.8800449617850907.\n",
      "[I 2024-03-30 17:11:06,130] Trial 5 finished with value: 0.8734463754649273 and parameters: {'n_estimators': 163, 'early_stopping_rounds': 5, 'learning_rate': 0.0909092031264678, 'lambda': 0.003300410262208854, 'alpha': 1.508803341129102, 'subsample': 0.23397372255559418}. Best is trial 1 with value: 0.8800449617850907.\n",
      "[I 2024-03-30 17:12:01,456] Trial 6 finished with value: 0.8819303247640222 and parameters: {'n_estimators': 791, 'early_stopping_rounds': 12, 'learning_rate': 0.01465130046564331, 'lambda': 0.00013802524961479542, 'alpha': 0.4870867905741025, 'subsample': 0.4743863268810908}. Best is trial 6 with value: 0.8819303247640222.\n",
      "[I 2024-03-30 17:12:22,210] Trial 7 finished with value: 0.8809734691315503 and parameters: {'n_estimators': 300, 'early_stopping_rounds': 9, 'learning_rate': 0.05194232005274553, 'lambda': 0.001199399227498218, 'alpha': 5.237129410806727, 'subsample': 0.5819978462188943}. Best is trial 6 with value: 0.8819303247640222.\n",
      "[I 2024-03-30 17:12:39,011] Trial 8 finished with value: 0.8760075745243388 and parameters: {'n_estimators': 273, 'early_stopping_rounds': 3, 'learning_rate': 0.06872247133798319, 'lambda': 0.003471253768541052, 'alpha': 18.277898774392373, 'subsample': 0.3014403737285565}. Best is trial 6 with value: 0.8819303247640222.\n",
      "[I 2024-03-30 17:13:01,575] Trial 9 finished with value: 0.8763692610794557 and parameters: {'n_estimators': 122, 'early_stopping_rounds': 11, 'learning_rate': 0.011831199832470314, 'lambda': 1.7120434289684541e-06, 'alpha': 0.01151479217885489, 'subsample': 0.577664450096718}. Best is trial 6 with value: 0.8819303247640222.\n",
      "[I 2024-03-30 17:13:42,605] Trial 10 finished with value: 0.8816558730505706 and parameters: {'n_estimators': 924, 'early_stopping_rounds': 7, 'learning_rate': 0.02217876371917312, 'lambda': 4.49592176249538e-05, 'alpha': 0.1811015146589113, 'subsample': 0.8792717061406284}. Best is trial 6 with value: 0.8819303247640222.\n",
      "[I 2024-03-30 17:14:18,246] Trial 11 finished with value: 0.8812960051250049 and parameters: {'n_estimators': 967, 'early_stopping_rounds': 6, 'learning_rate': 0.024821894249017686, 'lambda': 5.058016399030556e-05, 'alpha': 0.1755315404791787, 'subsample': 0.9208696010930904}. Best is trial 6 with value: 0.8819303247640222.\n",
      "[I 2024-03-30 17:15:21,442] Trial 12 finished with value: 0.8818887285763471 and parameters: {'n_estimators': 946, 'early_stopping_rounds': 7, 'learning_rate': 0.013609703919753226, 'lambda': 2.5540872938854607e-05, 'alpha': 0.18215113920271778, 'subsample': 0.8276823512584183}. Best is trial 6 with value: 0.8819303247640222.\n",
      "[I 2024-03-30 17:16:25,183] Trial 13 finished with value: 0.8817120059101313 and parameters: {'n_estimators': 752, 'early_stopping_rounds': 8, 'learning_rate': 0.013887595025687488, 'lambda': 1.692398559650882e-05, 'alpha': 0.054365657970456185, 'subsample': 0.7042466512584141}. Best is trial 6 with value: 0.8819303247640222.\n",
      "[I 2024-03-30 17:17:18,373] Trial 14 finished with value: 0.8811145565013534 and parameters: {'n_estimators': 391, 'early_stopping_rounds': 5, 'learning_rate': 0.016100564710909072, 'lambda': 0.0002982900083437853, 'alpha': 0.4887723446010457, 'subsample': 0.381025303068312}. Best is trial 6 with value: 0.8819303247640222.\n",
      "[I 2024-03-30 17:18:35,868] Trial 15 finished with value: 0.8811082102100082 and parameters: {'n_estimators': 429, 'early_stopping_rounds': 12, 'learning_rate': 0.008571316433574356, 'lambda': 1.8242549273095952e-05, 'alpha': 0.06770214399080814, 'subsample': 0.696188887929911}. Best is trial 6 with value: 0.8819303247640222.\n",
      "[I 2024-03-30 17:19:14,869] Trial 16 finished with value: 0.8561615115419461 and parameters: {'n_estimators': 761, 'early_stopping_rounds': 7, 'learning_rate': 0.036950192652571254, 'lambda': 1.3472322175777191e-06, 'alpha': 99.84002920793445, 'subsample': 0.42423050144988}. Best is trial 6 with value: 0.8819303247640222.\n",
      "[I 2024-03-30 17:20:08,703] Trial 17 finished with value: 0.8818789705069501 and parameters: {'n_estimators': 731, 'early_stopping_rounds': 5, 'learning_rate': 0.017069130011591396, 'lambda': 0.009321583220315968, 'alpha': 0.3958590074796606, 'subsample': 0.7562745611807289}. Best is trial 6 with value: 0.8819303247640222.\n",
      "[I 2024-03-30 17:21:17,422] Trial 18 finished with value: 0.8803158016052539 and parameters: {'n_estimators': 390, 'early_stopping_rounds': 8, 'learning_rate': 0.007391464670667037, 'lambda': 0.00013948206124267783, 'alpha': 0.04871370579781515, 'subsample': 0.49280311491544876}. Best is trial 6 with value: 0.8819303247640222.\n",
      "[I 2024-03-30 17:22:02,076] Trial 19 finished with value: 0.8791395403339696 and parameters: {'n_estimators': 986, 'early_stopping_rounds': 6, 'learning_rate': 0.019890135118467246, 'lambda': 1.8611649641972705e-05, 'alpha': 2.9363919431938, 'subsample': 0.20122753488084416}. Best is trial 6 with value: 0.8819303247640222.\n",
      "[I 2024-03-30 17:22:28,749] Trial 20 finished with value: 0.8803346073925999 and parameters: {'n_estimators': 224, 'early_stopping_rounds': 10, 'learning_rate': 0.033272859352711626, 'lambda': 0.0006016918592637909, 'alpha': 0.5425224873447408, 'subsample': 0.38151164964499107}. Best is trial 6 with value: 0.8819303247640222.\n",
      "[I 2024-03-30 17:23:24,368] Trial 21 finished with value: 0.8818998466630843 and parameters: {'n_estimators': 714, 'early_stopping_rounds': 4, 'learning_rate': 0.01646764052598757, 'lambda': 0.0065777598780208885, 'alpha': 0.30351789448947136, 'subsample': 0.7597845810437994}. Best is trial 6 with value: 0.8819303247640222.\n",
      "[I 2024-03-30 17:24:33,173] Trial 22 finished with value: 0.8817890002040916 and parameters: {'n_estimators': 682, 'early_stopping_rounds': 4, 'learning_rate': 0.012792704658102606, 'lambda': 0.0013237719204080539, 'alpha': 0.11629284731599811, 'subsample': 0.8041176897811602}. Best is trial 6 with value: 0.8819303247640222.\n",
      "[I 2024-03-30 17:25:56,674] Trial 23 finished with value: 0.8819319398837783 and parameters: {'n_estimators': 488, 'early_stopping_rounds': 6, 'learning_rate': 0.011024229277001946, 'lambda': 0.006582963767970754, 'alpha': 0.41475344283812443, 'subsample': 0.6457585594034353}. Best is trial 23 with value: 0.8819319398837783.\n",
      "[I 2024-03-30 17:27:17,965] Trial 24 finished with value: 0.882021007867495 and parameters: {'n_estimators': 474, 'early_stopping_rounds': 4, 'learning_rate': 0.00990038408193312, 'lambda': 0.008005666644944147, 'alpha': 0.8116887218519233, 'subsample': 0.6351769256503309}. Best is trial 24 with value: 0.882021007867495.\n",
      "[I 2024-03-30 17:28:26,182] Trial 25 finished with value: 0.8786214375509024 and parameters: {'n_estimators': 422, 'early_stopping_rounds': 6, 'learning_rate': 0.007660680863279373, 'lambda': 0.00237073907844735, 'alpha': 5.62477978950438, 'subsample': 0.6529433470376919}. Best is trial 24 with value: 0.882021007867495.\n",
      "[I 2024-03-30 17:29:43,856] Trial 26 finished with value: 0.882169361013753 and parameters: {'n_estimators': 494, 'early_stopping_rounds': 5, 'learning_rate': 0.010971326691773165, 'lambda': 0.005370059426936246, 'alpha': 0.9198330400818379, 'subsample': 0.6274761500837361}. Best is trial 26 with value: 0.882169361013753.\n",
      "[I 2024-03-30 17:31:06,593] Trial 27 finished with value: 0.8819500787615769 and parameters: {'n_estimators': 470, 'early_stopping_rounds': 4, 'learning_rate': 0.009908890640564333, 'lambda': 0.00565253343161277, 'alpha': 1.0306076329429723, 'subsample': 0.6327392273979354}. Best is trial 26 with value: 0.882169361013753.\n",
      "[I 2024-03-30 17:32:18,558] Trial 28 finished with value: 0.8760105650454495 and parameters: {'n_estimators': 334, 'early_stopping_rounds': 4, 'learning_rate': 0.006625460308676472, 'lambda': 0.0012247015650102987, 'alpha': 1.0467743697652272, 'subsample': 0.9762300774130319}. Best is trial 26 with value: 0.882169361013753.\n",
      "[I 2024-03-30 17:33:49,059] Trial 29 finished with value: 0.8816962099923824 and parameters: {'n_estimators': 598, 'early_stopping_rounds': 3, 'learning_rate': 0.009563283847048264, 'lambda': 0.009823538650479337, 'alpha': 3.7640921006905756, 'subsample': 0.5378847169232643}. Best is trial 26 with value: 0.882169361013753.\n",
      "[I 2024-03-30 17:35:13,143] Trial 30 finished with value: 0.8801669031704273 and parameters: {'n_estimators': 479, 'early_stopping_rounds': 4, 'learning_rate': 0.006150277282098561, 'lambda': 0.002093734826006487, 'alpha': 0.818418476536386, 'subsample': 0.6300360481299444}. Best is trial 26 with value: 0.882169361013753.\n",
      "[I 2024-03-30 17:36:26,424] Trial 31 finished with value: 0.8800807623372744 and parameters: {'n_estimators': 513, 'early_stopping_rounds': 5, 'learning_rate': 0.01028313825622906, 'lambda': 0.00519574243487125, 'alpha': 10.945248508466554, 'subsample': 0.6321260448165122}. Best is trial 26 with value: 0.882169361013753.\n",
      "[I 2024-03-30 17:37:30,051] Trial 32 finished with value: 0.8809371748736385 and parameters: {'n_estimators': 344, 'early_stopping_rounds': 6, 'learning_rate': 0.010478057368995559, 'lambda': 0.004975783859378615, 'alpha': 1.7459290381607386, 'subsample': 0.5597806126483025}. Best is trial 26 with value: 0.882169361013753.\n",
      "[I 2024-03-30 17:39:05,340] Trial 33 finished with value: 0.8814295942555678 and parameters: {'n_estimators': 490, 'early_stopping_rounds': 4, 'learning_rate': 0.007732100599741255, 'lambda': 0.0021751390549951998, 'alpha': 1.0121174099729, 'subsample': 0.6904033356459373}. Best is trial 26 with value: 0.882169361013753.\n",
      "[I 2024-03-30 17:40:52,234] Trial 34 finished with value: 0.8801017921532491 and parameters: {'n_estimators': 558, 'early_stopping_rounds': 5, 'learning_rate': 0.005128411983530215, 'lambda': 0.0006621190163957389, 'alpha': 0.28113471943805723, 'subsample': 0.5145243832205422}. Best is trial 26 with value: 0.882169361013753.\n",
      "[I 2024-03-30 17:42:04,339] Trial 35 finished with value: 0.8815956414474639 and parameters: {'n_estimators': 614, 'early_stopping_rounds': 3, 'learning_rate': 0.011061135504181665, 'lambda': 0.00547280657057162, 'alpha': 0.6693373833692959, 'subsample': 0.4253468188456102}. Best is trial 26 with value: 0.882169361013753.\n",
      "[I 2024-03-30 17:42:50,184] Trial 36 finished with value: 0.8777844539230065 and parameters: {'n_estimators': 261, 'early_stopping_rounds': 6, 'learning_rate': 0.008731822210778407, 'lambda': 0.0035339751760820287, 'alpha': 1.4823643277851684, 'subsample': 0.6197695905497868}. Best is trial 26 with value: 0.882169361013753.\n",
      "[I 2024-03-30 17:43:53,496] Trial 37 finished with value: 0.8767347567555305 and parameters: {'n_estimators': 368, 'early_stopping_rounds': 5, 'learning_rate': 0.005854947726345918, 'lambda': 0.009925623037149433, 'alpha': 2.4114692165017466, 'subsample': 0.7471924124313587}. Best is trial 26 with value: 0.882169361013753.\n",
      "[I 2024-03-30 17:44:58,228] Trial 38 finished with value: 0.8811548814745477 and parameters: {'n_estimators': 469, 'early_stopping_rounds': 4, 'learning_rate': 0.01887648566225577, 'lambda': 0.0009406792627128865, 'alpha': 8.54014415355748, 'subsample': 0.5876328005178418}. Best is trial 26 with value: 0.882169361013753.\n",
      "[I 2024-03-30 17:46:16,732] Trial 39 finished with value: 0.8817958789973785 and parameters: {'n_estimators': 437, 'early_stopping_rounds': 5, 'learning_rate': 0.012389356630760276, 'lambda': 0.002109287062852962, 'alpha': 1.3957663184483329, 'subsample': 0.46231465747863176}. Best is trial 26 with value: 0.882169361013753.\n",
      "[I 2024-03-30 17:46:55,548] Trial 40 finished with value: 0.8557652412182 and parameters: {'n_estimators': 292, 'early_stopping_rounds': 3, 'learning_rate': 0.006854804069459081, 'lambda': 0.0004145693091836531, 'alpha': 48.021815763958124, 'subsample': 0.5108379732398952}. Best is trial 26 with value: 0.882169361013753.\n",
      "[I 2024-03-30 17:48:06,581] Trial 41 finished with value: 0.8817789639160301 and parameters: {'n_estimators': 835, 'early_stopping_rounds': 11, 'learning_rate': 0.013609755366323594, 'lambda': 6.334078335527235e-06, 'alpha': 0.28537391715743643, 'subsample': 0.4540439673471918}. Best is trial 26 with value: 0.882169361013753.\n",
      "[I 2024-03-30 17:49:46,874] Trial 42 finished with value: 0.8820722965182289 and parameters: {'n_estimators': 657, 'early_stopping_rounds': 9, 'learning_rate': 0.00925323894055018, 'lambda': 0.00373383482440854, 'alpha': 0.1133581018623825, 'subsample': 0.5521258299354839}. Best is trial 26 with value: 0.882169361013753.\n",
      "[I 2024-03-30 17:51:27,513] Trial 43 finished with value: 0.8820618832112526 and parameters: {'n_estimators': 639, 'early_stopping_rounds': 9, 'learning_rate': 0.008870301092245363, 'lambda': 0.0033202347808899244, 'alpha': 0.10173464976697458, 'subsample': 0.5422670045666981}. Best is trial 26 with value: 0.882169361013753.\n",
      "[I 2024-03-30 17:53:05,675] Trial 44 finished with value: 0.8821519771328272 and parameters: {'n_estimators': 652, 'early_stopping_rounds': 9, 'learning_rate': 0.009145452723532895, 'lambda': 0.0039387253670493194, 'alpha': 0.04062990171526356, 'subsample': 0.5233621154516955}. Best is trial 26 with value: 0.882169361013753.\n",
      "[I 2024-03-30 17:54:50,083] Trial 45 finished with value: 0.8821483804062005 and parameters: {'n_estimators': 633, 'early_stopping_rounds': 9, 'learning_rate': 0.008695560004205363, 'lambda': 0.0034279042645142276, 'alpha': 0.024455656326864875, 'subsample': 0.5430620605734294}. Best is trial 26 with value: 0.882169361013753.\n",
      "[I 2024-03-30 17:56:49,104] Trial 46 finished with value: 0.881993320239153 and parameters: {'n_estimators': 646, 'early_stopping_rounds': 9, 'learning_rate': 0.008004453261322111, 'lambda': 0.003509081718056014, 'alpha': 0.034986164081908216, 'subsample': 0.5431535648732408}. Best is trial 26 with value: 0.882169361013753.\n",
      "[I 2024-03-30 17:59:05,045] Trial 47 finished with value: 0.8819208027890942 and parameters: {'n_estimators': 853, 'early_stopping_rounds': 9, 'learning_rate': 0.006578659799868503, 'lambda': 0.0015893791845500924, 'alpha': 0.02207409894924094, 'subsample': 0.39082482512578076}. Best is trial 26 with value: 0.882169361013753.\n",
      "[I 2024-03-30 18:00:41,685] Trial 48 finished with value: 0.881726246714633 and parameters: {'n_estimators': 559, 'early_stopping_rounds': 10, 'learning_rate': 0.009150342211089343, 'lambda': 0.0008478893435134246, 'alpha': 0.010086296784803652, 'subsample': 0.41349340606687246}. Best is trial 26 with value: 0.882169361013753.\n",
      "[I 2024-03-30 18:01:19,005] Trial 49 finished with value: 0.8814113115968629 and parameters: {'n_estimators': 858, 'early_stopping_rounds': 8, 'learning_rate': 0.02535735987304421, 'lambda': 0.0033823123314215865, 'alpha': 0.08923809765523001, 'subsample': 0.5839929423972261}. Best is trial 26 with value: 0.882169361013753.\n",
      "[I 2024-03-30 18:02:42,055] Trial 50 finished with value: 0.8820134167150003 and parameters: {'n_estimators': 664, 'early_stopping_rounds': 9, 'learning_rate': 0.011533023387652455, 'lambda': 3.5626782963401263e-06, 'alpha': 0.02359572155494744, 'subsample': 0.48902128215058493}. Best is trial 26 with value: 0.882169361013753.\n",
      "[I 2024-03-30 18:04:25,197] Trial 51 finished with value: 0.8821999376510135 and parameters: {'n_estimators': 563, 'early_stopping_rounds': 10, 'learning_rate': 0.00883673784959235, 'lambda': 0.0029116641838757527, 'alpha': 0.03320816357851237, 'subsample': 0.5361550912898431}. Best is trial 51 with value: 0.8821999376510135.\n",
      "[I 2024-03-30 18:06:11,620] Trial 52 finished with value: 0.8819586615143882 and parameters: {'n_estimators': 576, 'early_stopping_rounds': 11, 'learning_rate': 0.008408410332107801, 'lambda': 0.0028424486668896572, 'alpha': 0.036448211231638904, 'subsample': 0.5292509010864577}. Best is trial 51 with value: 0.8821999376510135.\n",
      "[I 2024-03-30 18:08:04,634] Trial 53 finished with value: 0.8808927589767552 and parameters: {'n_estimators': 657, 'early_stopping_rounds': 10, 'learning_rate': 0.0057146274228491705, 'lambda': 0.0015960843088106197, 'alpha': 0.01563943311521092, 'subsample': 0.33375742538819186}. Best is trial 51 with value: 0.8821999376510135.\n",
      "[I 2024-03-30 18:08:15,931] Trial 54 finished with value: 0.8765920315218967 and parameters: {'n_estimators': 788, 'early_stopping_rounds': 9, 'learning_rate': 0.09542579689954665, 'lambda': 0.0035810533735591713, 'alpha': 0.12552019863737862, 'subsample': 0.4813432632618153}. Best is trial 51 with value: 0.8821999376510135.\n",
      "[I 2024-03-30 18:09:20,718] Trial 55 finished with value: 0.8820538041775888 and parameters: {'n_estimators': 538, 'early_stopping_rounds': 8, 'learning_rate': 0.014609514086825115, 'lambda': 0.004506037220551467, 'alpha': 0.07718543052902217, 'subsample': 0.5885310455736237}. Best is trial 51 with value: 0.8821999376510135.\n",
      "[I 2024-03-30 18:09:41,146] Trial 56 finished with value: 0.874175143091235 and parameters: {'n_estimators': 104, 'early_stopping_rounds': 11, 'learning_rate': 0.007034466379964882, 'lambda': 0.001737866971667657, 'alpha': 0.04473655989219595, 'subsample': 0.44266687822616035}. Best is trial 51 with value: 0.8821999376510135.\n",
      "[I 2024-03-30 18:11:21,627] Trial 57 finished with value: 0.8818014968581223 and parameters: {'n_estimators': 728, 'early_stopping_rounds': 9, 'learning_rate': 0.008974256334265953, 'lambda': 0.0010488714023075359, 'alpha': 0.02839826706265925, 'subsample': 0.5593751736090463}. Best is trial 51 with value: 0.8821999376510135.\n",
      "[I 2024-03-30 18:12:35,820] Trial 58 finished with value: 0.881898528123277 and parameters: {'n_estimators': 628, 'early_stopping_rounds': 10, 'learning_rate': 0.012127250199699671, 'lambda': 0.00019855771216515305, 'alpha': 0.015737970944954206, 'subsample': 0.5134010059398475}. Best is trial 51 with value: 0.8821999376510135.\n",
      "[I 2024-03-30 18:14:07,041] Trial 59 finished with value: 0.8814565338400507 and parameters: {'n_estimators': 526, 'early_stopping_rounds': 8, 'learning_rate': 0.0080373810683622, 'lambda': 6.477082050257644e-05, 'alpha': 0.07047626599128928, 'subsample': 0.3546090416574149}. Best is trial 51 with value: 0.8821999376510135.\n",
      "[I 2024-03-30 18:14:23,641] Trial 60 finished with value: 0.8782189037516706 and parameters: {'n_estimators': 690, 'early_stopping_rounds': 10, 'learning_rate': 0.06535694321722824, 'lambda': 0.007021061553945998, 'alpha': 0.1179331563982, 'subsample': 0.492157762308863}. Best is trial 51 with value: 0.8821999376510135.\n",
      "[I 2024-03-30 18:15:25,503] Trial 61 finished with value: 0.8817465915826656 and parameters: {'n_estimators': 535, 'early_stopping_rounds': 8, 'learning_rate': 0.016036342155331076, 'lambda': 0.00447416715392168, 'alpha': 0.06653674887302403, 'subsample': 0.6815955406611631}. Best is trial 51 with value: 0.8821999376510135.\n",
      "[I 2024-03-30 18:16:30,188] Trial 62 finished with value: 0.8819998413099308 and parameters: {'n_estimators': 605, 'early_stopping_rounds': 9, 'learning_rate': 0.015382189328415143, 'lambda': 0.002532438555508827, 'alpha': 0.21586478758395322, 'subsample': 0.5894894256589399}. Best is trial 51 with value: 0.8821999376510135.\n",
      "[I 2024-03-30 18:17:35,274] Trial 63 finished with value: 0.8817435422360133 and parameters: {'n_estimators': 766, 'early_stopping_rounds': 7, 'learning_rate': 0.014220642330825466, 'lambda': 0.004478311169483702, 'alpha': 0.08805095042470848, 'subsample': 0.601412809402062}. Best is trial 51 with value: 0.8821999376510135.\n",
      "[I 2024-03-30 18:18:53,589] Trial 64 finished with value: 0.8813904210195288 and parameters: {'n_estimators': 425, 'early_stopping_rounds': 8, 'learning_rate': 0.009199513091873572, 'lambda': 0.0073467046809280855, 'alpha': 0.04683450582881231, 'subsample': 0.5533187121209735}. Best is trial 51 with value: 0.8821999376510135.\n",
      "[I 2024-03-30 18:19:40,338] Trial 65 finished with value: 0.8805842024163966 and parameters: {'n_estimators': 896, 'early_stopping_rounds': 9, 'learning_rate': 0.017959601179690667, 'lambda': 0.002824654111641985, 'alpha': 0.15129830258577193, 'subsample': 0.27353825397974035}. Best is trial 51 with value: 0.8821999376510135.\n",
      "[I 2024-03-30 18:20:07,479] Trial 66 finished with value: 0.8762682423742467 and parameters: {'n_estimators': 149, 'early_stopping_rounds': 8, 'learning_rate': 0.010493034292547157, 'lambda': 0.0014325683544714617, 'alpha': 0.020718160189232386, 'subsample': 0.7370070856505946}. Best is trial 51 with value: 0.8821999376510135.\n",
      "[I 2024-03-30 18:21:17,056] Trial 67 finished with value: 0.8817475705186993 and parameters: {'n_estimators': 572, 'early_stopping_rounds': 7, 'learning_rate': 0.013088279593236721, 'lambda': 0.004318509461533504, 'alpha': 0.08709892766957568, 'subsample': 0.6627567548957256}. Best is trial 51 with value: 0.8821999376510135.\n",
      "[I 2024-03-30 18:21:39,791] Trial 68 finished with value: 0.8798468129004814 and parameters: {'n_estimators': 715, 'early_stopping_rounds': 9, 'learning_rate': 0.04450641565044189, 'lambda': 0.006286491979275025, 'alpha': 0.013842020127313712, 'subsample': 0.5670998198063767}. Best is trial 51 with value: 0.8821999376510135.\n",
      "[I 2024-03-30 18:21:52,136] Trial 69 finished with value: 0.8780008762767763 and parameters: {'n_estimators': 513, 'early_stopping_rounds': 10, 'learning_rate': 0.08165979504014964, 'lambda': 0.0003968137105004795, 'alpha': 0.034102592015208565, 'subsample': 0.6077759583955482}. Best is trial 51 with value: 0.8821999376510135.\n",
      "[I 2024-03-30 18:23:04,085] Trial 70 finished with value: 0.8818607169740973 and parameters: {'n_estimators': 445, 'early_stopping_rounds': 8, 'learning_rate': 0.011704786580836445, 'lambda': 0.0019480465592697544, 'alpha': 0.05489899683213852, 'subsample': 0.5275858556480395}. Best is trial 51 with value: 0.8821999376510135.\n",
      "[I 2024-03-30 18:24:40,198] Trial 71 finished with value: 0.8822270829611755 and parameters: {'n_estimators': 539, 'early_stopping_rounds': 10, 'learning_rate': 0.010053949164614676, 'lambda': 0.008225508298397766, 'alpha': 0.2111238039606713, 'subsample': 0.7209550358948689}. Best is trial 71 with value: 0.8822270829611755.\n",
      "[I 2024-03-30 18:25:57,510] Trial 72 finished with value: 0.8815645685046718 and parameters: {'n_estimators': 401, 'early_stopping_rounds': 10, 'learning_rate': 0.01000326597627736, 'lambda': 0.0028186632895441177, 'alpha': 0.18538056599197966, 'subsample': 0.719080877843441}. Best is trial 71 with value: 0.8822270829611755.\n",
      "[I 2024-03-30 18:27:49,277] Trial 73 finished with value: 0.8820702981813687 and parameters: {'n_estimators': 623, 'early_stopping_rounds': 9, 'learning_rate': 0.00850327009023351, 'lambda': 0.007523155668291089, 'alpha': 0.06806823290415051, 'subsample': 0.7915352014845026}. Best is trial 71 with value: 0.8822270829611755.\n",
      "[I 2024-03-30 18:29:41,792] Trial 74 finished with value: 0.8817127565655568 and parameters: {'n_estimators': 614, 'early_stopping_rounds': 10, 'learning_rate': 0.007213049918456776, 'lambda': 0.008917843451159304, 'alpha': 0.10539745078748462, 'subsample': 0.7954135847947778}. Best is trial 71 with value: 0.8822270829611755.\n",
      "[I 2024-03-30 18:31:36,565] Trial 75 finished with value: 0.8818743366671384 and parameters: {'n_estimators': 678, 'early_stopping_rounds': 11, 'learning_rate': 0.008413328740683415, 'lambda': 0.006276402011540577, 'alpha': 0.026743038854509956, 'subsample': 0.8862858289659351}. Best is trial 71 with value: 0.8822270829611755.\n",
      "[I 2024-03-30 18:34:07,109] Trial 76 finished with value: 0.8817990554611745 and parameters: {'n_estimators': 812, 'early_stopping_rounds': 10, 'learning_rate': 0.0063972714929268065, 'lambda': 0.007625070278725939, 'alpha': 0.059686566407406785, 'subsample': 0.8406548589485482}. Best is trial 71 with value: 0.8822270829611755.\n",
      "[I 2024-03-30 18:35:57,639] Trial 77 finished with value: 0.8816700716215651 and parameters: {'n_estimators': 582, 'early_stopping_rounds': 9, 'learning_rate': 0.007552630200184935, 'lambda': 0.0037974435594457898, 'alpha': 0.226557961443073, 'subsample': 0.7783427026373675}. Best is trial 71 with value: 0.8822270829611755.\n",
      "[I 2024-03-30 18:37:24,485] Trial 78 finished with value: 0.8819125111285853 and parameters: {'n_estimators': 636, 'early_stopping_rounds': 11, 'learning_rate': 0.010746915972424716, 'lambda': 0.0056338185830224, 'alpha': 0.148453569074185, 'subsample': 0.6687895795370375}. Best is trial 71 with value: 0.8822270829611755.\n",
      "[I 2024-03-30 18:38:50,931] Trial 79 finished with value: 0.8818487479030417 and parameters: {'n_estimators': 504, 'early_stopping_rounds': 9, 'learning_rate': 0.009499531310619001, 'lambda': 0.0007868073891957207, 'alpha': 0.03801011882565378, 'subsample': 0.4721373038160024}. Best is trial 71 with value: 0.8822270829611755.\n",
      "[I 2024-03-30 18:41:13,313] Trial 80 finished with value: 0.8819127801295211 and parameters: {'n_estimators': 756, 'early_stopping_rounds': 9, 'learning_rate': 0.006014632975527893, 'lambda': 0.002682229716246943, 'alpha': 0.40865537482568837, 'subsample': 0.7074641409885488}. Best is trial 71 with value: 0.8822270829611755.\n",
      "[I 2024-03-30 18:42:48,109] Trial 81 finished with value: 0.8821361082952345 and parameters: {'n_estimators': 541, 'early_stopping_rounds': 8, 'learning_rate': 0.008487953659773825, 'lambda': 0.004451599821982704, 'alpha': 0.08370527070485226, 'subsample': 0.5068366057615629}. Best is trial 71 with value: 0.8822270829611755.\n",
      "[I 2024-03-30 18:44:26,617] Trial 82 finished with value: 0.8819882773924397 and parameters: {'n_estimators': 553, 'early_stopping_rounds': 9, 'learning_rate': 0.008332016982548677, 'lambda': 0.009742002096802841, 'alpha': 0.01991719124294931, 'subsample': 0.5066514940912601}. Best is trial 71 with value: 0.8822270829611755.\n",
      "[I 2024-03-30 18:45:44,996] Trial 83 finished with value: 0.8818379535029331 and parameters: {'n_estimators': 465, 'early_stopping_rounds': 10, 'learning_rate': 0.009567884641743176, 'lambda': 0.005198383337627741, 'alpha': 0.043389975674621224, 'subsample': 0.5371582500536363}. Best is trial 71 with value: 0.8822270829611755.\n",
      "[I 2024-03-30 18:47:30,423] Trial 84 finished with value: 0.881786237047063 and parameters: {'n_estimators': 686, 'early_stopping_rounds': 7, 'learning_rate': 0.007384088339720811, 'lambda': 1.1285134753786295e-05, 'alpha': 0.027446736003907953, 'subsample': 0.44174830854316893}. Best is trial 71 with value: 0.8822270829611755.\n",
      "[I 2024-03-30 18:48:53,037] Trial 85 finished with value: 0.8818808466625191 and parameters: {'n_estimators': 605, 'early_stopping_rounds': 9, 'learning_rate': 0.011150884202868078, 'lambda': 0.007325950669291279, 'alpha': 0.10062881147198767, 'subsample': 0.8403169970096951}. Best is trial 71 with value: 0.8822270829611755.\n",
      "[I 2024-03-30 18:50:33,671] Trial 86 finished with value: 0.8821931071091322 and parameters: {'n_estimators': 639, 'early_stopping_rounds': 10, 'learning_rate': 0.008695513952198168, 'lambda': 3.5653328160055105e-05, 'alpha': 0.057907349909605596, 'subsample': 0.5014006031235688}. Best is trial 71 with value: 0.8822270829611755.\n",
      "[I 2024-03-30 18:52:09,164] Trial 87 finished with value: 0.8784902791290831 and parameters: {'n_estimators': 499, 'early_stopping_rounds': 12, 'learning_rate': 0.005574471191049658, 'lambda': 3.747345815357017e-05, 'alpha': 0.05190029202750031, 'subsample': 0.9505260374150744}. Best is trial 71 with value: 0.8822270829611755.\n",
      "[I 2024-03-30 18:52:45,131] Trial 88 finished with value: 0.8766523242703979 and parameters: {'n_estimators': 202, 'early_stopping_rounds': 11, 'learning_rate': 0.0067911715182658716, 'lambda': 2.5311932077679997e-05, 'alpha': 0.06579859774120415, 'subsample': 0.5019980360014692}. Best is trial 71 with value: 0.8822270829611755.\n",
      "[I 2024-03-30 18:54:38,488] Trial 89 finished with value: 0.8819399497145882 and parameters: {'n_estimators': 717, 'early_stopping_rounds': 10, 'learning_rate': 0.007931154809348948, 'lambda': 0.004257236001071395, 'alpha': 0.03242747724998491, 'subsample': 0.4680695578400667}. Best is trial 71 with value: 0.8822270829611755.\n",
      "[I 2024-03-30 18:56:10,647] Trial 90 finished with value: 0.8820594227581944 and parameters: {'n_estimators': 560, 'early_stopping_rounds': 10, 'learning_rate': 0.010178677214265373, 'lambda': 0.0022270202841304892, 'alpha': 0.32098318472323834, 'subsample': 0.617062425651468}. Best is trial 71 with value: 0.8822270829611755.\n",
      "[I 2024-03-30 18:57:55,288] Trial 91 finished with value: 0.8819453236256829 and parameters: {'n_estimators': 648, 'early_stopping_rounds': 9, 'learning_rate': 0.009117352072879252, 'lambda': 1.2290187076121385e-05, 'alpha': 0.1176270349944285, 'subsample': 0.571608767032411}. Best is trial 71 with value: 0.8822270829611755.\n",
      "[I 2024-03-30 18:59:37,437] Trial 92 finished with value: 0.8821669075570098 and parameters: {'n_estimators': 590, 'early_stopping_rounds': 8, 'learning_rate': 0.008735166911088634, 'lambda': 0.00011097053246370765, 'alpha': 0.1544004970704889, 'subsample': 0.5447812786342464}. Best is trial 71 with value: 0.8822270829611755.\n",
      "[I 2024-03-30 19:01:23,228] Trial 93 finished with value: 0.8819939661526103 and parameters: {'n_estimators': 596, 'early_stopping_rounds': 8, 'learning_rate': 0.00796023767408, 'lambda': 0.00011284941422948214, 'alpha': 0.5765039550497902, 'subsample': 0.5256073000264285}. Best is trial 71 with value: 0.8822270829611755.\n",
      "[I 2024-03-30 19:02:57,339] Trial 94 finished with value: 0.881889153842288 and parameters: {'n_estimators': 528, 'early_stopping_rounds': 8, 'learning_rate': 0.008515957471308013, 'lambda': 3.420355423377172e-05, 'alpha': 0.14970365171609218, 'subsample': 0.6450739762648712}. Best is trial 71 with value: 0.8822270829611755.\n",
      "[I 2024-03-30 19:04:10,522] Trial 95 finished with value: 0.8819103117236631 and parameters: {'n_estimators': 449, 'early_stopping_rounds': 8, 'learning_rate': 0.01244479429625862, 'lambda': 0.005326116109205752, 'alpha': 0.23835701939756715, 'subsample': 0.49076160112314265}. Best is trial 71 with value: 0.8822270829611755.\n",
      "[I 2024-03-30 19:05:39,018] Trial 96 finished with value: 0.8818436060353381 and parameters: {'n_estimators': 587, 'early_stopping_rounds': 10, 'learning_rate': 0.009822090482067022, 'lambda': 5.8382499813253466e-05, 'alpha': 0.04264242748918091, 'subsample': 0.41667299860234197}. Best is trial 71 with value: 0.8822270829611755.\n",
      "[I 2024-03-30 19:06:58,004] Trial 97 finished with value: 0.882131616546619 and parameters: {'n_estimators': 698, 'early_stopping_rounds': 9, 'learning_rate': 0.011269688592674798, 'lambda': 3.578883411987018e-06, 'alpha': 0.08122118896966082, 'subsample': 0.5473381252557421}. Best is trial 71 with value: 0.8822270829611755.\n",
      "[I 2024-03-30 19:08:18,813] Trial 98 finished with value: 0.8818996480238027 and parameters: {'n_estimators': 693, 'early_stopping_rounds': 7, 'learning_rate': 0.011153432307100301, 'lambda': 0.0002230806914731784, 'alpha': 0.08164736047829331, 'subsample': 0.5557829525905582}. Best is trial 71 with value: 0.8822270829611755.\n",
      "[I 2024-03-30 19:10:18,576] Trial 99 finished with value: 0.8817533711847922 and parameters: {'n_estimators': 911, 'early_stopping_rounds': 8, 'learning_rate': 0.007467250633345152, 'lambda': 2.1349145313996826e-06, 'alpha': 0.13494387667336522, 'subsample': 0.4491363686419704}. Best is trial 71 with value: 0.8822270829611755.\n"
     ]
    }
   ],
   "source": [
    "study = optuna.create_study(direction='maximize')\n",
    "study.optimize(xgb_objective, n_trials=100)"
   ]
  },
  {
   "cell_type": "code",
   "execution_count": 34,
   "metadata": {},
   "outputs": [
    {
     "data": {
      "application/vnd.plotly.v1+json": {
       "config": {
        "plotlyServerURL": "https://plot.ly"
       },
       "data": [
        {
         "mode": "markers",
         "name": "Objective Value",
         "type": "scatter",
         "x": [
          0,
          1,
          2,
          3,
          4,
          5,
          6,
          7,
          8,
          9,
          10,
          11,
          12,
          13,
          14,
          15,
          16,
          17,
          18,
          19,
          20,
          21,
          22,
          23,
          24,
          25,
          26,
          27,
          28,
          29,
          30,
          31,
          32,
          33,
          34,
          35,
          36,
          37,
          38,
          39,
          40,
          41,
          42,
          43,
          44,
          45,
          46,
          47,
          48,
          49,
          50,
          51,
          52,
          53,
          54,
          55,
          56,
          57,
          58,
          59,
          60,
          61,
          62,
          63,
          64,
          65,
          66,
          67,
          68,
          69,
          70,
          71,
          72,
          73,
          74,
          75,
          76,
          77,
          78,
          79,
          80,
          81,
          82,
          83,
          84,
          85,
          86,
          87,
          88,
          89,
          90,
          91,
          92,
          93,
          94,
          95,
          96,
          97,
          98,
          99
         ],
         "y": [
          0.8796971324735241,
          0.8800449617850907,
          0.8754957773790328,
          0.8756584477059807,
          0.8769837840814096,
          0.8734463754649273,
          0.8819303247640222,
          0.8809734691315503,
          0.8760075745243388,
          0.8763692610794557,
          0.8816558730505706,
          0.8812960051250049,
          0.8818887285763471,
          0.8817120059101313,
          0.8811145565013534,
          0.8811082102100082,
          0.8561615115419461,
          0.8818789705069501,
          0.8803158016052539,
          0.8791395403339696,
          0.8803346073925999,
          0.8818998466630843,
          0.8817890002040916,
          0.8819319398837783,
          0.882021007867495,
          0.8786214375509024,
          0.882169361013753,
          0.8819500787615769,
          0.8760105650454495,
          0.8816962099923824,
          0.8801669031704273,
          0.8800807623372744,
          0.8809371748736385,
          0.8814295942555678,
          0.8801017921532491,
          0.8815956414474639,
          0.8777844539230065,
          0.8767347567555305,
          0.8811548814745477,
          0.8817958789973785,
          0.8557652412182,
          0.8817789639160301,
          0.8820722965182289,
          0.8820618832112526,
          0.8821519771328272,
          0.8821483804062005,
          0.881993320239153,
          0.8819208027890942,
          0.881726246714633,
          0.8814113115968629,
          0.8820134167150003,
          0.8821999376510135,
          0.8819586615143882,
          0.8808927589767552,
          0.8765920315218967,
          0.8820538041775888,
          0.874175143091235,
          0.8818014968581223,
          0.881898528123277,
          0.8814565338400507,
          0.8782189037516706,
          0.8817465915826656,
          0.8819998413099308,
          0.8817435422360133,
          0.8813904210195288,
          0.8805842024163966,
          0.8762682423742467,
          0.8817475705186993,
          0.8798468129004814,
          0.8780008762767763,
          0.8818607169740973,
          0.8822270829611755,
          0.8815645685046718,
          0.8820702981813687,
          0.8817127565655568,
          0.8818743366671384,
          0.8817990554611745,
          0.8816700716215651,
          0.8819125111285853,
          0.8818487479030417,
          0.8819127801295211,
          0.8821361082952345,
          0.8819882773924397,
          0.8818379535029331,
          0.881786237047063,
          0.8818808466625191,
          0.8821931071091322,
          0.8784902791290831,
          0.8766523242703979,
          0.8819399497145882,
          0.8820594227581944,
          0.8819453236256829,
          0.8821669075570098,
          0.8819939661526103,
          0.881889153842288,
          0.8819103117236631,
          0.8818436060353381,
          0.882131616546619,
          0.8818996480238027,
          0.8817533711847922
         ]
        },
        {
         "mode": "lines",
         "name": "Best Value",
         "type": "scatter",
         "x": [
          0,
          1,
          2,
          3,
          4,
          5,
          6,
          7,
          8,
          9,
          10,
          11,
          12,
          13,
          14,
          15,
          16,
          17,
          18,
          19,
          20,
          21,
          22,
          23,
          24,
          25,
          26,
          27,
          28,
          29,
          30,
          31,
          32,
          33,
          34,
          35,
          36,
          37,
          38,
          39,
          40,
          41,
          42,
          43,
          44,
          45,
          46,
          47,
          48,
          49,
          50,
          51,
          52,
          53,
          54,
          55,
          56,
          57,
          58,
          59,
          60,
          61,
          62,
          63,
          64,
          65,
          66,
          67,
          68,
          69,
          70,
          71,
          72,
          73,
          74,
          75,
          76,
          77,
          78,
          79,
          80,
          81,
          82,
          83,
          84,
          85,
          86,
          87,
          88,
          89,
          90,
          91,
          92,
          93,
          94,
          95,
          96,
          97,
          98,
          99
         ],
         "y": [
          0.8796971324735241,
          0.8800449617850907,
          0.8800449617850907,
          0.8800449617850907,
          0.8800449617850907,
          0.8800449617850907,
          0.8819303247640222,
          0.8819303247640222,
          0.8819303247640222,
          0.8819303247640222,
          0.8819303247640222,
          0.8819303247640222,
          0.8819303247640222,
          0.8819303247640222,
          0.8819303247640222,
          0.8819303247640222,
          0.8819303247640222,
          0.8819303247640222,
          0.8819303247640222,
          0.8819303247640222,
          0.8819303247640222,
          0.8819303247640222,
          0.8819303247640222,
          0.8819319398837783,
          0.882021007867495,
          0.882021007867495,
          0.882169361013753,
          0.882169361013753,
          0.882169361013753,
          0.882169361013753,
          0.882169361013753,
          0.882169361013753,
          0.882169361013753,
          0.882169361013753,
          0.882169361013753,
          0.882169361013753,
          0.882169361013753,
          0.882169361013753,
          0.882169361013753,
          0.882169361013753,
          0.882169361013753,
          0.882169361013753,
          0.882169361013753,
          0.882169361013753,
          0.882169361013753,
          0.882169361013753,
          0.882169361013753,
          0.882169361013753,
          0.882169361013753,
          0.882169361013753,
          0.882169361013753,
          0.8821999376510135,
          0.8821999376510135,
          0.8821999376510135,
          0.8821999376510135,
          0.8821999376510135,
          0.8821999376510135,
          0.8821999376510135,
          0.8821999376510135,
          0.8821999376510135,
          0.8821999376510135,
          0.8821999376510135,
          0.8821999376510135,
          0.8821999376510135,
          0.8821999376510135,
          0.8821999376510135,
          0.8821999376510135,
          0.8821999376510135,
          0.8821999376510135,
          0.8821999376510135,
          0.8821999376510135,
          0.8822270829611755,
          0.8822270829611755,
          0.8822270829611755,
          0.8822270829611755,
          0.8822270829611755,
          0.8822270829611755,
          0.8822270829611755,
          0.8822270829611755,
          0.8822270829611755,
          0.8822270829611755,
          0.8822270829611755,
          0.8822270829611755,
          0.8822270829611755,
          0.8822270829611755,
          0.8822270829611755,
          0.8822270829611755,
          0.8822270829611755,
          0.8822270829611755,
          0.8822270829611755,
          0.8822270829611755,
          0.8822270829611755,
          0.8822270829611755,
          0.8822270829611755,
          0.8822270829611755,
          0.8822270829611755,
          0.8822270829611755,
          0.8822270829611755,
          0.8822270829611755,
          0.8822270829611755
         ]
        },
        {
         "marker": {
          "color": "#cccccc"
         },
         "mode": "markers",
         "name": "Infeasible Trial",
         "showlegend": false,
         "type": "scatter",
         "x": [],
         "y": []
        }
       ],
       "layout": {
        "template": {
         "data": {
          "bar": [
           {
            "error_x": {
             "color": "#2a3f5f"
            },
            "error_y": {
             "color": "#2a3f5f"
            },
            "marker": {
             "line": {
              "color": "#E5ECF6",
              "width": 0.5
             },
             "pattern": {
              "fillmode": "overlay",
              "size": 10,
              "solidity": 0.2
             }
            },
            "type": "bar"
           }
          ],
          "barpolar": [
           {
            "marker": {
             "line": {
              "color": "#E5ECF6",
              "width": 0.5
             },
             "pattern": {
              "fillmode": "overlay",
              "size": 10,
              "solidity": 0.2
             }
            },
            "type": "barpolar"
           }
          ],
          "carpet": [
           {
            "aaxis": {
             "endlinecolor": "#2a3f5f",
             "gridcolor": "white",
             "linecolor": "white",
             "minorgridcolor": "white",
             "startlinecolor": "#2a3f5f"
            },
            "baxis": {
             "endlinecolor": "#2a3f5f",
             "gridcolor": "white",
             "linecolor": "white",
             "minorgridcolor": "white",
             "startlinecolor": "#2a3f5f"
            },
            "type": "carpet"
           }
          ],
          "choropleth": [
           {
            "colorbar": {
             "outlinewidth": 0,
             "ticks": ""
            },
            "type": "choropleth"
           }
          ],
          "contour": [
           {
            "colorbar": {
             "outlinewidth": 0,
             "ticks": ""
            },
            "colorscale": [
             [
              0,
              "#0d0887"
             ],
             [
              0.1111111111111111,
              "#46039f"
             ],
             [
              0.2222222222222222,
              "#7201a8"
             ],
             [
              0.3333333333333333,
              "#9c179e"
             ],
             [
              0.4444444444444444,
              "#bd3786"
             ],
             [
              0.5555555555555556,
              "#d8576b"
             ],
             [
              0.6666666666666666,
              "#ed7953"
             ],
             [
              0.7777777777777778,
              "#fb9f3a"
             ],
             [
              0.8888888888888888,
              "#fdca26"
             ],
             [
              1,
              "#f0f921"
             ]
            ],
            "type": "contour"
           }
          ],
          "contourcarpet": [
           {
            "colorbar": {
             "outlinewidth": 0,
             "ticks": ""
            },
            "type": "contourcarpet"
           }
          ],
          "heatmap": [
           {
            "colorbar": {
             "outlinewidth": 0,
             "ticks": ""
            },
            "colorscale": [
             [
              0,
              "#0d0887"
             ],
             [
              0.1111111111111111,
              "#46039f"
             ],
             [
              0.2222222222222222,
              "#7201a8"
             ],
             [
              0.3333333333333333,
              "#9c179e"
             ],
             [
              0.4444444444444444,
              "#bd3786"
             ],
             [
              0.5555555555555556,
              "#d8576b"
             ],
             [
              0.6666666666666666,
              "#ed7953"
             ],
             [
              0.7777777777777778,
              "#fb9f3a"
             ],
             [
              0.8888888888888888,
              "#fdca26"
             ],
             [
              1,
              "#f0f921"
             ]
            ],
            "type": "heatmap"
           }
          ],
          "heatmapgl": [
           {
            "colorbar": {
             "outlinewidth": 0,
             "ticks": ""
            },
            "colorscale": [
             [
              0,
              "#0d0887"
             ],
             [
              0.1111111111111111,
              "#46039f"
             ],
             [
              0.2222222222222222,
              "#7201a8"
             ],
             [
              0.3333333333333333,
              "#9c179e"
             ],
             [
              0.4444444444444444,
              "#bd3786"
             ],
             [
              0.5555555555555556,
              "#d8576b"
             ],
             [
              0.6666666666666666,
              "#ed7953"
             ],
             [
              0.7777777777777778,
              "#fb9f3a"
             ],
             [
              0.8888888888888888,
              "#fdca26"
             ],
             [
              1,
              "#f0f921"
             ]
            ],
            "type": "heatmapgl"
           }
          ],
          "histogram": [
           {
            "marker": {
             "pattern": {
              "fillmode": "overlay",
              "size": 10,
              "solidity": 0.2
             }
            },
            "type": "histogram"
           }
          ],
          "histogram2d": [
           {
            "colorbar": {
             "outlinewidth": 0,
             "ticks": ""
            },
            "colorscale": [
             [
              0,
              "#0d0887"
             ],
             [
              0.1111111111111111,
              "#46039f"
             ],
             [
              0.2222222222222222,
              "#7201a8"
             ],
             [
              0.3333333333333333,
              "#9c179e"
             ],
             [
              0.4444444444444444,
              "#bd3786"
             ],
             [
              0.5555555555555556,
              "#d8576b"
             ],
             [
              0.6666666666666666,
              "#ed7953"
             ],
             [
              0.7777777777777778,
              "#fb9f3a"
             ],
             [
              0.8888888888888888,
              "#fdca26"
             ],
             [
              1,
              "#f0f921"
             ]
            ],
            "type": "histogram2d"
           }
          ],
          "histogram2dcontour": [
           {
            "colorbar": {
             "outlinewidth": 0,
             "ticks": ""
            },
            "colorscale": [
             [
              0,
              "#0d0887"
             ],
             [
              0.1111111111111111,
              "#46039f"
             ],
             [
              0.2222222222222222,
              "#7201a8"
             ],
             [
              0.3333333333333333,
              "#9c179e"
             ],
             [
              0.4444444444444444,
              "#bd3786"
             ],
             [
              0.5555555555555556,
              "#d8576b"
             ],
             [
              0.6666666666666666,
              "#ed7953"
             ],
             [
              0.7777777777777778,
              "#fb9f3a"
             ],
             [
              0.8888888888888888,
              "#fdca26"
             ],
             [
              1,
              "#f0f921"
             ]
            ],
            "type": "histogram2dcontour"
           }
          ],
          "mesh3d": [
           {
            "colorbar": {
             "outlinewidth": 0,
             "ticks": ""
            },
            "type": "mesh3d"
           }
          ],
          "parcoords": [
           {
            "line": {
             "colorbar": {
              "outlinewidth": 0,
              "ticks": ""
             }
            },
            "type": "parcoords"
           }
          ],
          "pie": [
           {
            "automargin": true,
            "type": "pie"
           }
          ],
          "scatter": [
           {
            "fillpattern": {
             "fillmode": "overlay",
             "size": 10,
             "solidity": 0.2
            },
            "type": "scatter"
           }
          ],
          "scatter3d": [
           {
            "line": {
             "colorbar": {
              "outlinewidth": 0,
              "ticks": ""
             }
            },
            "marker": {
             "colorbar": {
              "outlinewidth": 0,
              "ticks": ""
             }
            },
            "type": "scatter3d"
           }
          ],
          "scattercarpet": [
           {
            "marker": {
             "colorbar": {
              "outlinewidth": 0,
              "ticks": ""
             }
            },
            "type": "scattercarpet"
           }
          ],
          "scattergeo": [
           {
            "marker": {
             "colorbar": {
              "outlinewidth": 0,
              "ticks": ""
             }
            },
            "type": "scattergeo"
           }
          ],
          "scattergl": [
           {
            "marker": {
             "colorbar": {
              "outlinewidth": 0,
              "ticks": ""
             }
            },
            "type": "scattergl"
           }
          ],
          "scattermapbox": [
           {
            "marker": {
             "colorbar": {
              "outlinewidth": 0,
              "ticks": ""
             }
            },
            "type": "scattermapbox"
           }
          ],
          "scatterpolar": [
           {
            "marker": {
             "colorbar": {
              "outlinewidth": 0,
              "ticks": ""
             }
            },
            "type": "scatterpolar"
           }
          ],
          "scatterpolargl": [
           {
            "marker": {
             "colorbar": {
              "outlinewidth": 0,
              "ticks": ""
             }
            },
            "type": "scatterpolargl"
           }
          ],
          "scatterternary": [
           {
            "marker": {
             "colorbar": {
              "outlinewidth": 0,
              "ticks": ""
             }
            },
            "type": "scatterternary"
           }
          ],
          "surface": [
           {
            "colorbar": {
             "outlinewidth": 0,
             "ticks": ""
            },
            "colorscale": [
             [
              0,
              "#0d0887"
             ],
             [
              0.1111111111111111,
              "#46039f"
             ],
             [
              0.2222222222222222,
              "#7201a8"
             ],
             [
              0.3333333333333333,
              "#9c179e"
             ],
             [
              0.4444444444444444,
              "#bd3786"
             ],
             [
              0.5555555555555556,
              "#d8576b"
             ],
             [
              0.6666666666666666,
              "#ed7953"
             ],
             [
              0.7777777777777778,
              "#fb9f3a"
             ],
             [
              0.8888888888888888,
              "#fdca26"
             ],
             [
              1,
              "#f0f921"
             ]
            ],
            "type": "surface"
           }
          ],
          "table": [
           {
            "cells": {
             "fill": {
              "color": "#EBF0F8"
             },
             "line": {
              "color": "white"
             }
            },
            "header": {
             "fill": {
              "color": "#C8D4E3"
             },
             "line": {
              "color": "white"
             }
            },
            "type": "table"
           }
          ]
         },
         "layout": {
          "annotationdefaults": {
           "arrowcolor": "#2a3f5f",
           "arrowhead": 0,
           "arrowwidth": 1
          },
          "autotypenumbers": "strict",
          "coloraxis": {
           "colorbar": {
            "outlinewidth": 0,
            "ticks": ""
           }
          },
          "colorscale": {
           "diverging": [
            [
             0,
             "#8e0152"
            ],
            [
             0.1,
             "#c51b7d"
            ],
            [
             0.2,
             "#de77ae"
            ],
            [
             0.3,
             "#f1b6da"
            ],
            [
             0.4,
             "#fde0ef"
            ],
            [
             0.5,
             "#f7f7f7"
            ],
            [
             0.6,
             "#e6f5d0"
            ],
            [
             0.7,
             "#b8e186"
            ],
            [
             0.8,
             "#7fbc41"
            ],
            [
             0.9,
             "#4d9221"
            ],
            [
             1,
             "#276419"
            ]
           ],
           "sequential": [
            [
             0,
             "#0d0887"
            ],
            [
             0.1111111111111111,
             "#46039f"
            ],
            [
             0.2222222222222222,
             "#7201a8"
            ],
            [
             0.3333333333333333,
             "#9c179e"
            ],
            [
             0.4444444444444444,
             "#bd3786"
            ],
            [
             0.5555555555555556,
             "#d8576b"
            ],
            [
             0.6666666666666666,
             "#ed7953"
            ],
            [
             0.7777777777777778,
             "#fb9f3a"
            ],
            [
             0.8888888888888888,
             "#fdca26"
            ],
            [
             1,
             "#f0f921"
            ]
           ],
           "sequentialminus": [
            [
             0,
             "#0d0887"
            ],
            [
             0.1111111111111111,
             "#46039f"
            ],
            [
             0.2222222222222222,
             "#7201a8"
            ],
            [
             0.3333333333333333,
             "#9c179e"
            ],
            [
             0.4444444444444444,
             "#bd3786"
            ],
            [
             0.5555555555555556,
             "#d8576b"
            ],
            [
             0.6666666666666666,
             "#ed7953"
            ],
            [
             0.7777777777777778,
             "#fb9f3a"
            ],
            [
             0.8888888888888888,
             "#fdca26"
            ],
            [
             1,
             "#f0f921"
            ]
           ]
          },
          "colorway": [
           "#636efa",
           "#EF553B",
           "#00cc96",
           "#ab63fa",
           "#FFA15A",
           "#19d3f3",
           "#FF6692",
           "#B6E880",
           "#FF97FF",
           "#FECB52"
          ],
          "font": {
           "color": "#2a3f5f"
          },
          "geo": {
           "bgcolor": "white",
           "lakecolor": "white",
           "landcolor": "#E5ECF6",
           "showlakes": true,
           "showland": true,
           "subunitcolor": "white"
          },
          "hoverlabel": {
           "align": "left"
          },
          "hovermode": "closest",
          "mapbox": {
           "style": "light"
          },
          "paper_bgcolor": "white",
          "plot_bgcolor": "#E5ECF6",
          "polar": {
           "angularaxis": {
            "gridcolor": "white",
            "linecolor": "white",
            "ticks": ""
           },
           "bgcolor": "#E5ECF6",
           "radialaxis": {
            "gridcolor": "white",
            "linecolor": "white",
            "ticks": ""
           }
          },
          "scene": {
           "xaxis": {
            "backgroundcolor": "#E5ECF6",
            "gridcolor": "white",
            "gridwidth": 2,
            "linecolor": "white",
            "showbackground": true,
            "ticks": "",
            "zerolinecolor": "white"
           },
           "yaxis": {
            "backgroundcolor": "#E5ECF6",
            "gridcolor": "white",
            "gridwidth": 2,
            "linecolor": "white",
            "showbackground": true,
            "ticks": "",
            "zerolinecolor": "white"
           },
           "zaxis": {
            "backgroundcolor": "#E5ECF6",
            "gridcolor": "white",
            "gridwidth": 2,
            "linecolor": "white",
            "showbackground": true,
            "ticks": "",
            "zerolinecolor": "white"
           }
          },
          "shapedefaults": {
           "line": {
            "color": "#2a3f5f"
           }
          },
          "ternary": {
           "aaxis": {
            "gridcolor": "white",
            "linecolor": "white",
            "ticks": ""
           },
           "baxis": {
            "gridcolor": "white",
            "linecolor": "white",
            "ticks": ""
           },
           "bgcolor": "#E5ECF6",
           "caxis": {
            "gridcolor": "white",
            "linecolor": "white",
            "ticks": ""
           }
          },
          "title": {
           "x": 0.05
          },
          "xaxis": {
           "automargin": true,
           "gridcolor": "white",
           "linecolor": "white",
           "ticks": "",
           "title": {
            "standoff": 15
           },
           "zerolinecolor": "white",
           "zerolinewidth": 2
          },
          "yaxis": {
           "automargin": true,
           "gridcolor": "white",
           "linecolor": "white",
           "ticks": "",
           "title": {
            "standoff": 15
           },
           "zerolinecolor": "white",
           "zerolinewidth": 2
          }
         }
        },
        "title": {
         "text": "Optimization History Plot"
        },
        "xaxis": {
         "title": {
          "text": "Trial"
         }
        },
        "yaxis": {
         "title": {
          "text": "Objective Value"
         }
        }
       }
      }
     },
     "metadata": {},
     "output_type": "display_data"
    }
   ],
   "source": [
    "import matplotlib.pyplot as plt\n",
    "optuna.visualization.plot_optimization_history(study)"
   ]
  },
  {
   "cell_type": "code",
   "execution_count": 35,
   "metadata": {},
   "outputs": [
    {
     "data": {
      "application/vnd.plotly.v1+json": {
       "config": {
        "plotlyServerURL": "https://plot.ly"
       },
       "data": [
        {
         "dimensions": [
          {
           "label": "Objective Value",
           "range": [
            0.8557652412182,
            0.8822270829611755
           ],
           "values": [
            0.8796971324735241,
            0.8800449617850907,
            0.8754957773790328,
            0.8756584477059807,
            0.8769837840814096,
            0.8734463754649273,
            0.8819303247640222,
            0.8809734691315503,
            0.8760075745243388,
            0.8763692610794557,
            0.8816558730505706,
            0.8812960051250049,
            0.8818887285763471,
            0.8817120059101313,
            0.8811145565013534,
            0.8811082102100082,
            0.8561615115419461,
            0.8818789705069501,
            0.8803158016052539,
            0.8791395403339696,
            0.8803346073925999,
            0.8818998466630843,
            0.8817890002040916,
            0.8819319398837783,
            0.882021007867495,
            0.8786214375509024,
            0.882169361013753,
            0.8819500787615769,
            0.8760105650454495,
            0.8816962099923824,
            0.8801669031704273,
            0.8800807623372744,
            0.8809371748736385,
            0.8814295942555678,
            0.8801017921532491,
            0.8815956414474639,
            0.8777844539230065,
            0.8767347567555305,
            0.8811548814745477,
            0.8817958789973785,
            0.8557652412182,
            0.8817789639160301,
            0.8820722965182289,
            0.8820618832112526,
            0.8821519771328272,
            0.8821483804062005,
            0.881993320239153,
            0.8819208027890942,
            0.881726246714633,
            0.8814113115968629,
            0.8820134167150003,
            0.8821999376510135,
            0.8819586615143882,
            0.8808927589767552,
            0.8765920315218967,
            0.8820538041775888,
            0.874175143091235,
            0.8818014968581223,
            0.881898528123277,
            0.8814565338400507,
            0.8782189037516706,
            0.8817465915826656,
            0.8819998413099308,
            0.8817435422360133,
            0.8813904210195288,
            0.8805842024163966,
            0.8762682423742467,
            0.8817475705186993,
            0.8798468129004814,
            0.8780008762767763,
            0.8818607169740973,
            0.8822270829611755,
            0.8815645685046718,
            0.8820702981813687,
            0.8817127565655568,
            0.8818743366671384,
            0.8817990554611745,
            0.8816700716215651,
            0.8819125111285853,
            0.8818487479030417,
            0.8819127801295211,
            0.8821361082952345,
            0.8819882773924397,
            0.8818379535029331,
            0.881786237047063,
            0.8818808466625191,
            0.8821931071091322,
            0.8784902791290831,
            0.8766523242703979,
            0.8819399497145882,
            0.8820594227581944,
            0.8819453236256829,
            0.8821669075570098,
            0.8819939661526103,
            0.881889153842288,
            0.8819103117236631,
            0.8818436060353381,
            0.882131616546619,
            0.8818996480238027,
            0.8817533711847922
           ]
          },
          {
           "label": "alpha",
           "range": [
            -1.9962682570666113,
            1.9993046993900605
           ],
           "ticktext": [
            "0.0101",
            "0.1",
            "1",
            "10",
            "99.8"
           ],
           "tickvals": [
            -1.9962682570666113,
            -1,
            0,
            1,
            1.9993046993900605
           ],
           "values": [
            -0.7685243548219072,
            1.2708950411270696,
            -0.025509372342839915,
            -1.7859467417381083,
            0.3135105740901809,
            0.17863263710608832,
            -0.312393648006888,
            0.7190933055617621,
            1.2619262678125835,
            -1.9387438958578929,
            -0.7420779174095401,
            -0.7556448357489441,
            -0.7395681082655625,
            -1.264675351470841,
            -0.31089337503829656,
            -1.1693975778638415,
            1.9993046993900605,
            -0.4024594685613136,
            -1.3123488310867317,
            0.4678140237936128,
            -0.2655822557700694,
            -0.5178156991556493,
            -0.9344469960774052,
            -0.3822100002417724,
            -0.09061048837009288,
            0.7501055244589269,
            -0.036290994775557035,
            0.013093354632661088,
            0.019853080412433995,
            0.5756602413047257,
            -0.08702457459499327,
            1.0392256265371629,
            0.24202658818885145,
            0.005230895454054676,
            -0.5510855167929558,
            -0.17435491840362996,
            0.17095495539849428,
            0.3822817223272541,
            0.93146520143446,
            0.14481271405829763,
            1.6814385772403493,
            -0.5445857234156544,
            -0.9455474347930135,
            -0.9925311056841933,
            -1.3911542282414033,
            -1.611620677340313,
            -1.4561036713891546,
            -1.6561170150146842,
            -1.9962682570666113,
            -1.0494496964187052,
            -1.6271667374335286,
            -1.4787551403537507,
            -1.4383237806873261,
            -1.805778992925637,
            -0.9012863821438,
            -1.1124646690683329,
            -1.3493374149036226,
            -1.546708160941944,
            -1.803051260808803,
            -1.151957113993532,
            -0.9283640777175497,
            -1.1769384235002653,
            -0.6658181951145713,
            -1.0552659518832046,
            -1.3294340578392212,
            -0.8201659442951738,
            -1.6836488133640768,
            -1.0599871918356532,
            -1.858800523598736,
            -1.4672126105934,
            -1.2604355913285443,
            -0.6754627977394757,
            -0.7319357962154094,
            -1.167055523817878,
            -0.9771698931302764,
            -1.5727892446896274,
            -1.2241234040737707,
            -0.6448206717322368,
            -0.828409356770589,
            -1.4201007727214139,
            -0.38864278466445906,
            -1.0772471947431301,
            -1.7007719065596691,
            -1.3626105933457993,
            -1.5615092949215699,
            -0.997277656736838,
            -1.2372663098027676,
            -1.284830198498842,
            -1.1817833617013398,
            -1.489086836680938,
            -0.4935177182904256,
            -0.9294928500326481,
            -0.8113513058485796,
            -0.2391977089236488,
            -0.8247676057971914,
            -0.6227720539708738,
            -1.3701580803616842,
            -1.090330657308634,
            -1.0880578507098155,
            -0.8698468175713652
           ]
          },
          {
           "label": "early_stopping_ro...",
           "range": [
            3,
            12
           ],
           "values": [
            10,
            10,
            12,
            9,
            3,
            5,
            12,
            9,
            3,
            11,
            7,
            6,
            7,
            8,
            5,
            12,
            7,
            5,
            8,
            6,
            10,
            4,
            4,
            6,
            4,
            6,
            5,
            4,
            4,
            3,
            4,
            5,
            6,
            4,
            5,
            3,
            6,
            5,
            4,
            5,
            3,
            11,
            9,
            9,
            9,
            9,
            9,
            9,
            10,
            8,
            9,
            10,
            11,
            10,
            9,
            8,
            11,
            9,
            10,
            8,
            10,
            8,
            9,
            7,
            8,
            9,
            8,
            7,
            9,
            10,
            8,
            10,
            10,
            9,
            10,
            11,
            10,
            9,
            11,
            9,
            9,
            8,
            9,
            10,
            7,
            9,
            10,
            12,
            11,
            10,
            10,
            9,
            8,
            8,
            8,
            8,
            10,
            9,
            7,
            8
           ]
          },
          {
           "label": "lambda",
           "range": [
            -5.870557540045048,
            -2.003242222791189
           ],
           "ticktext": [
            "1.35e-06",
            "1e-05",
            "0.0001",
            "0.001",
            "0.00993"
           ],
           "tickvals": [
            -5.870557540045048,
            -5,
            -4,
            -3,
            -2.003242222791189
           ],
           "values": [
            -4.0978212952315145,
            -3.3274430071821244,
            -5.15576303544481,
            -3.6591786747314297,
            -5.265111201033136,
            -2.481432071170944,
            -3.8600414587777157,
            -2.921036235215906,
            -2.459513635752829,
            -5.7664852228819194,
            -4.347181254915013,
            -4.296019766925791,
            -4.592764263452836,
            -4.771497352955456,
            -3.5253612937175025,
            -4.73891447204502,
            -5.870557540045048,
            -2.030510318820658,
            -3.855481643317094,
            -4.730215131508967,
            -3.220625864361313,
            -2.1819219845404927,
            -2.8781868353200104,
            -2.1815785352183683,
            -2.096602497827644,
            -2.6251162414777682,
            -2.2700209082208014,
            -2.247756860363052,
            -2.9119697271847196,
            -2.0077320417908386,
            -2.6790783230844077,
            -2.284352386060646,
            -2.3031384930113514,
            -2.662512973703971,
            -3.1790639387806117,
            -2.2617899011755833,
            -2.4517365054598317,
            -2.003242222791189,
            -3.026558429897285,
            -2.675864311048013,
            -3.3824028521349314,
            -5.198316569875247,
            -2.427844898072687,
            -2.478831205320115,
            -2.404644299905029,
            -2.4649713156793474,
            -2.4548065179950354,
            -2.7987724790592976,
            -3.0716608230231426,
            -2.4707862910168465,
            -5.448223391915634,
            -2.5358587157256767,
            -2.5463073696966445,
            -2.796944171955107,
            -2.4459892060281736,
            -2.3462052252590246,
            -2.7599834705120974,
            -2.979277755554587,
            -3.702113239873215,
            -4.1886206013638265,
            -2.153597219470395,
            -2.349287794787948,
            -2.596461083115633,
            -2.348885733335234,
            -2.133907417351904,
            -2.5490347254028354,
            -2.843884646664914,
            -2.3646661245582385,
            -2.2015916342119333,
            -3.401413330742066,
            -2.710400667481893,
            -2.0848372551568977,
            -2.5499568007608437,
            -2.123599951715257,
            -2.0497401557691446,
            -2.2022892470796496,
            -2.1177561491585912,
            -2.4205086722389497,
            -2.2491971420255794,
            -3.104131570115362,
            -2.5715040302777736,
            -2.351483883626669,
            -2.011351781289623,
            -2.284131698040475,
            -4.9474932507221165,
            -2.1351360100676953,
            -4.44789992348162,
            -4.42627622717006,
            -4.596674703571496,
            -2.3708722739191552,
            -2.6522758273100018,
            -4.910441506413069,
            -3.954792330108989,
            -3.947500690884525,
            -4.465928762250545,
            -2.273589370184401,
            -4.233717313392905,
            -5.446252449236545,
            -3.6515380180153323,
            -5.670619506720682
           ]
          },
          {
           "label": "learning_rate",
           "range": [
            -2.290017093671203,
            -1.0203342045763417
           ],
           "ticktext": [
            "0.00513",
            "0.01",
            "0.0954"
           ],
           "tickvals": [
            -2.290017093671203,
            -2,
            -1.0203342045763417
           ],
           "values": [
            -2.261169154962403,
            -1.535405700446828,
            -2.0082575034676466,
            -2.27872824504739,
            -1.2037157795143554,
            -1.0413921490692928,
            -1.8341238251401393,
            -1.2844786561005863,
            -1.1629012311740428,
            -1.9269712102158474,
            -1.6540626658020545,
            -1.6051650789813352,
            -1.8661513228066626,
            -1.857372956386592,
            -1.793158891264382,
            -2.066952471433765,
            -1.4323832929192095,
            -1.7677886136710754,
            -2.1312694945739628,
            -1.7013622665987715,
            -1.4779098757844709,
            -1.783368621835101,
            -1.8930376264431097,
            -1.9576517630796533,
            -2.004347956773304,
            -2.115732629580917,
            -1.9597408528192442,
            -2.0039749646519507,
            -2.178783943417785,
            -2.019392953773365,
            -2.2111053038391018,
            -1.9878743250907775,
            -1.9797192280516538,
            -2.111702504148362,
            -2.290017093671203,
            -1.9562002873272444,
            -2.0588951155721453,
            -2.232476978005941,
            -1.7240788574721058,
            -1.906951245598539,
            -2.1640049541157276,
            -1.8661496811163272,
            -2.033706223175384,
            -2.0520616382876216,
            -2.0387947909567714,
            -2.0607024436894843,
            -2.0966683269176913,
            -2.1818625715538684,
            -2.0385626635719554,
            -1.5958959657846314,
            -1.9380568272714793,
            -2.053708028582874,
            -2.0752861028049954,
            -2.2430120790876473,
            -1.0203342045763417,
            -1.8353642284818512,
            -2.1527688416587214,
            -2.0470015297475275,
            -1.9162376623221276,
            -2.0948854404112573,
            -1.1847082682096477,
            -1.7948946861090325,
            -1.8129818475266222,
            -1.8470807865575334,
            -2.0362351582097142,
            -1.7457033117323417,
            -1.979098907806513,
            -1.8831174361282137,
            -1.351577380462838,
            -1.0879917144576425,
            -1.9316365006012792,
            -1.9976633150083958,
            -1.9998581836096596,
            -2.070414026164527,
            -2.1418810622317688,
            -2.075032141219245,
            -2.1940052179274248,
            -2.1219017791649812,
            -1.9687161467548002,
            -2.02229782147254,
            -2.220790869000148,
            -2.0711970001434095,
            -2.0792498535323016,
            -2.019184069534218,
            -2.1317031162584463,
            -1.952690694122423,
            -2.060704743735204,
            -2.253796324638867,
            -2.1680553008252956,
            -2.100663572983293,
            -1.9923086577431004,
            -2.0401312742936915,
            -2.058728792126705,
            -2.0990739650512182,
            -2.069766516094961,
            -1.9050122775799452,
            -2.0077960694223522,
            -1.9480880843400046,
            -1.952591464216706,
            -2.126839271619107
           ]
          },
          {
           "label": "n_estimators",
           "range": [
            2.0170333392987803,
            2.993876914941211
           ],
           "ticktext": [
            "104",
            "986"
           ],
           "tickvals": [
            2.0170333392987803,
            2.993876914941211
           ],
           "values": [
            2.760422483423212,
            2.7209857441537393,
            2.1931245983544616,
            2.2810333672477277,
            2.7752462597402365,
            2.2121876044039577,
            2.8981764834976764,
            2.4771212547196626,
            2.436162647040756,
            2.0863598306747484,
            2.9656719712201065,
            2.9854264740830017,
            2.975891136401793,
            2.876217840591642,
            2.5921767573958667,
            2.6324572921847245,
            2.8813846567705728,
            2.8639173769578603,
            2.591064607026499,
            2.993876914941211,
            2.3502480183341627,
            2.8536982117761744,
            2.833784374656479,
            2.6884198220027105,
            2.6757783416740852,
            2.625312450961674,
            2.693726948923647,
            2.6720978579357175,
            2.5237464668115646,
            2.776701183988411,
            2.680335513414563,
            2.7101173651118162,
            2.53655844257153,
            2.690196080028514,
            2.7466341989375787,
            2.788168371141168,
            2.416640507338281,
            2.5658478186735176,
            2.6711728427150834,
            2.640481436970422,
            2.4653828514484184,
            2.921686475483602,
            2.8175653695597807,
            2.8055008581584002,
            2.81424759573192,
            2.801403710017355,
            2.8102325179950842,
            2.930949031167523,
            2.747411807886423,
            2.9334872878487053,
            2.8221680793680175,
            2.7505083948513462,
            2.760422483423212,
            2.8175653695597807,
            2.8965262174895554,
            2.7307822756663893,
            2.0170333392987803,
            2.862131379313037,
            2.797959643737196,
            2.7209857441537393,
            2.838849090737255,
            2.7283537820212285,
            2.781755374652469,
            2.884228769632604,
            2.6283889300503116,
            2.9523080096621253,
            2.173186268412274,
            2.7573960287930244,
            2.8543060418010806,
            2.7101173651118162,
            2.6483600109809315,
            2.7315887651867388,
            2.603144372620182,
            2.7944880466591697,
            2.788168371141168,
            2.8312296938670634,
            2.9095560292411755,
            2.7649229846498886,
            2.803457115648414,
            2.7024305364455254,
            2.8785217955012063,
            2.7331972651065692,
            2.7427251313046983,
            2.667452952889954,
            2.8363241157067516,
            2.781755374652469,
            2.8055008581584002,
            2.6981005456233897,
            2.305351369446624,
            2.8555191556678,
            2.7481880270062002,
            2.8115750058705933,
            2.7708520116421442,
            2.7752462597402365,
            2.722633922533812,
            2.6522463410033232,
            2.7686381012476144,
            2.843855422623161,
            2.8407332346118066,
            2.9595183769729982
           ]
          },
          {
           "label": "subsample",
           "range": [
            -0.6963125930563565,
            -0.010447815965215584
           ],
           "ticktext": [
            "0.201",
            "0.976"
           ],
           "tickvals": [
            -0.6963125930563565,
            -0.010447815965215584
           ],
           "values": [
            -0.5828424487587633,
            -0.2554942692655,
            -0.31926436739304026,
            -0.4805281529913386,
            -0.583636745193502,
            -0.6308329151963772,
            -0.32386783702505206,
            -0.23507862252705344,
            -0.5207985804445774,
            -0.238324358444195,
            -0.05587690166812605,
            -0.03580186332666445,
            -0.08213630520081257,
            -0.15227520943760942,
            -0.4190461828071688,
            -0.15727291289493045,
            -0.372398109663971,
            -0.1213205077285027,
            -0.30732655574152945,
            -0.6963125930563565,
            -0.4184921961120111,
            -0.11930952420001616,
            -0.09468038373662081,
            -0.18992982862805724,
            -0.19710528709977682,
            -0.1851244988723615,
            -0.20240277675349425,
            -0.19877524011906972,
            -0.010447815965215584,
            -0.26931079527975815,
            -0.20063460125112187,
            -0.19919631553037653,
            -0.2519821468946235,
            -0.16089711901775328,
            -0.28859403927431543,
            -0.3712568109205906,
            -0.207769736551749,
            -0.12656754691704647,
            -0.23089397073350257,
            -0.33506233723209544,
            -0.29171682684405825,
            -0.3429020902007856,
            -0.2579619349173784,
            -0.26578682036735585,
            -0.28119771777897334,
            -0.2651505368485935,
            -0.26507736571821844,
            -0.4080178577661738,
            -0.3835314117017727,
            -0.23359240134044462,
            -0.3106722400186332,
            -0.2707095656269275,
            -0.2763383938913692,
            -0.47656906339742094,
            -0.3175451020636134,
            -0.23023062276840114,
            -0.3539229721294587,
            -0.2522968125512948,
            -0.2895432847224311,
            -0.45025019515399267,
            -0.3078956608146539,
            -0.16647325960371706,
            -0.22952398093218512,
            -0.22082732616335585,
            -0.25702464257552793,
            -0.562981929547845,
            -0.13252833677573636,
            -0.17864583719126348,
            -0.2463404907092556,
            -0.21625648316797982,
            -0.27770685621958613,
            -0.14209182026208897,
            -0.14322226006812072,
            -0.10152976624631725,
            -0.0994069960115567,
            -0.05242619467751106,
            -0.0753822724780433,
            -0.1088291419641473,
            -0.17471050229275378,
            -0.3259316843783015,
            -0.1502955681930352,
            -0.29513202617584594,
            -0.2952906722968099,
            -0.26989774968154595,
            -0.3548251047341004,
            -0.07555685193592633,
            -0.29981514797437125,
            -0.022035982164333195,
            -0.2992979819693092,
            -0.32968960346130827,
            -0.209670897969099,
            -0.2429011188513261,
            -0.2637778253345193,
            -0.27933861160052187,
            -0.19039047816878585,
            -0.30912942531081106,
            -0.38020464194241654,
            -0.2617442996895599,
            -0.25509477837439826,
            -0.34762177668740785
           ]
          }
         ],
         "labelangle": 30,
         "labelside": "bottom",
         "line": {
          "color": [
           0.8796971324735241,
           0.8800449617850907,
           0.8754957773790328,
           0.8756584477059807,
           0.8769837840814096,
           0.8734463754649273,
           0.8819303247640222,
           0.8809734691315503,
           0.8760075745243388,
           0.8763692610794557,
           0.8816558730505706,
           0.8812960051250049,
           0.8818887285763471,
           0.8817120059101313,
           0.8811145565013534,
           0.8811082102100082,
           0.8561615115419461,
           0.8818789705069501,
           0.8803158016052539,
           0.8791395403339696,
           0.8803346073925999,
           0.8818998466630843,
           0.8817890002040916,
           0.8819319398837783,
           0.882021007867495,
           0.8786214375509024,
           0.882169361013753,
           0.8819500787615769,
           0.8760105650454495,
           0.8816962099923824,
           0.8801669031704273,
           0.8800807623372744,
           0.8809371748736385,
           0.8814295942555678,
           0.8801017921532491,
           0.8815956414474639,
           0.8777844539230065,
           0.8767347567555305,
           0.8811548814745477,
           0.8817958789973785,
           0.8557652412182,
           0.8817789639160301,
           0.8820722965182289,
           0.8820618832112526,
           0.8821519771328272,
           0.8821483804062005,
           0.881993320239153,
           0.8819208027890942,
           0.881726246714633,
           0.8814113115968629,
           0.8820134167150003,
           0.8821999376510135,
           0.8819586615143882,
           0.8808927589767552,
           0.8765920315218967,
           0.8820538041775888,
           0.874175143091235,
           0.8818014968581223,
           0.881898528123277,
           0.8814565338400507,
           0.8782189037516706,
           0.8817465915826656,
           0.8819998413099308,
           0.8817435422360133,
           0.8813904210195288,
           0.8805842024163966,
           0.8762682423742467,
           0.8817475705186993,
           0.8798468129004814,
           0.8780008762767763,
           0.8818607169740973,
           0.8822270829611755,
           0.8815645685046718,
           0.8820702981813687,
           0.8817127565655568,
           0.8818743366671384,
           0.8817990554611745,
           0.8816700716215651,
           0.8819125111285853,
           0.8818487479030417,
           0.8819127801295211,
           0.8821361082952345,
           0.8819882773924397,
           0.8818379535029331,
           0.881786237047063,
           0.8818808466625191,
           0.8821931071091322,
           0.8784902791290831,
           0.8766523242703979,
           0.8819399497145882,
           0.8820594227581944,
           0.8819453236256829,
           0.8821669075570098,
           0.8819939661526103,
           0.881889153842288,
           0.8819103117236631,
           0.8818436060353381,
           0.882131616546619,
           0.8818996480238027,
           0.8817533711847922
          ],
          "colorbar": {
           "title": {
            "text": "Objective Value"
           }
          },
          "colorscale": [
           [
            0,
            "rgb(247,251,255)"
           ],
           [
            0.125,
            "rgb(222,235,247)"
           ],
           [
            0.25,
            "rgb(198,219,239)"
           ],
           [
            0.375,
            "rgb(158,202,225)"
           ],
           [
            0.5,
            "rgb(107,174,214)"
           ],
           [
            0.625,
            "rgb(66,146,198)"
           ],
           [
            0.75,
            "rgb(33,113,181)"
           ],
           [
            0.875,
            "rgb(8,81,156)"
           ],
           [
            1,
            "rgb(8,48,107)"
           ]
          ],
          "reversescale": false,
          "showscale": true
         },
         "type": "parcoords"
        }
       ],
       "layout": {
        "template": {
         "data": {
          "bar": [
           {
            "error_x": {
             "color": "#2a3f5f"
            },
            "error_y": {
             "color": "#2a3f5f"
            },
            "marker": {
             "line": {
              "color": "#E5ECF6",
              "width": 0.5
             },
             "pattern": {
              "fillmode": "overlay",
              "size": 10,
              "solidity": 0.2
             }
            },
            "type": "bar"
           }
          ],
          "barpolar": [
           {
            "marker": {
             "line": {
              "color": "#E5ECF6",
              "width": 0.5
             },
             "pattern": {
              "fillmode": "overlay",
              "size": 10,
              "solidity": 0.2
             }
            },
            "type": "barpolar"
           }
          ],
          "carpet": [
           {
            "aaxis": {
             "endlinecolor": "#2a3f5f",
             "gridcolor": "white",
             "linecolor": "white",
             "minorgridcolor": "white",
             "startlinecolor": "#2a3f5f"
            },
            "baxis": {
             "endlinecolor": "#2a3f5f",
             "gridcolor": "white",
             "linecolor": "white",
             "minorgridcolor": "white",
             "startlinecolor": "#2a3f5f"
            },
            "type": "carpet"
           }
          ],
          "choropleth": [
           {
            "colorbar": {
             "outlinewidth": 0,
             "ticks": ""
            },
            "type": "choropleth"
           }
          ],
          "contour": [
           {
            "colorbar": {
             "outlinewidth": 0,
             "ticks": ""
            },
            "colorscale": [
             [
              0,
              "#0d0887"
             ],
             [
              0.1111111111111111,
              "#46039f"
             ],
             [
              0.2222222222222222,
              "#7201a8"
             ],
             [
              0.3333333333333333,
              "#9c179e"
             ],
             [
              0.4444444444444444,
              "#bd3786"
             ],
             [
              0.5555555555555556,
              "#d8576b"
             ],
             [
              0.6666666666666666,
              "#ed7953"
             ],
             [
              0.7777777777777778,
              "#fb9f3a"
             ],
             [
              0.8888888888888888,
              "#fdca26"
             ],
             [
              1,
              "#f0f921"
             ]
            ],
            "type": "contour"
           }
          ],
          "contourcarpet": [
           {
            "colorbar": {
             "outlinewidth": 0,
             "ticks": ""
            },
            "type": "contourcarpet"
           }
          ],
          "heatmap": [
           {
            "colorbar": {
             "outlinewidth": 0,
             "ticks": ""
            },
            "colorscale": [
             [
              0,
              "#0d0887"
             ],
             [
              0.1111111111111111,
              "#46039f"
             ],
             [
              0.2222222222222222,
              "#7201a8"
             ],
             [
              0.3333333333333333,
              "#9c179e"
             ],
             [
              0.4444444444444444,
              "#bd3786"
             ],
             [
              0.5555555555555556,
              "#d8576b"
             ],
             [
              0.6666666666666666,
              "#ed7953"
             ],
             [
              0.7777777777777778,
              "#fb9f3a"
             ],
             [
              0.8888888888888888,
              "#fdca26"
             ],
             [
              1,
              "#f0f921"
             ]
            ],
            "type": "heatmap"
           }
          ],
          "heatmapgl": [
           {
            "colorbar": {
             "outlinewidth": 0,
             "ticks": ""
            },
            "colorscale": [
             [
              0,
              "#0d0887"
             ],
             [
              0.1111111111111111,
              "#46039f"
             ],
             [
              0.2222222222222222,
              "#7201a8"
             ],
             [
              0.3333333333333333,
              "#9c179e"
             ],
             [
              0.4444444444444444,
              "#bd3786"
             ],
             [
              0.5555555555555556,
              "#d8576b"
             ],
             [
              0.6666666666666666,
              "#ed7953"
             ],
             [
              0.7777777777777778,
              "#fb9f3a"
             ],
             [
              0.8888888888888888,
              "#fdca26"
             ],
             [
              1,
              "#f0f921"
             ]
            ],
            "type": "heatmapgl"
           }
          ],
          "histogram": [
           {
            "marker": {
             "pattern": {
              "fillmode": "overlay",
              "size": 10,
              "solidity": 0.2
             }
            },
            "type": "histogram"
           }
          ],
          "histogram2d": [
           {
            "colorbar": {
             "outlinewidth": 0,
             "ticks": ""
            },
            "colorscale": [
             [
              0,
              "#0d0887"
             ],
             [
              0.1111111111111111,
              "#46039f"
             ],
             [
              0.2222222222222222,
              "#7201a8"
             ],
             [
              0.3333333333333333,
              "#9c179e"
             ],
             [
              0.4444444444444444,
              "#bd3786"
             ],
             [
              0.5555555555555556,
              "#d8576b"
             ],
             [
              0.6666666666666666,
              "#ed7953"
             ],
             [
              0.7777777777777778,
              "#fb9f3a"
             ],
             [
              0.8888888888888888,
              "#fdca26"
             ],
             [
              1,
              "#f0f921"
             ]
            ],
            "type": "histogram2d"
           }
          ],
          "histogram2dcontour": [
           {
            "colorbar": {
             "outlinewidth": 0,
             "ticks": ""
            },
            "colorscale": [
             [
              0,
              "#0d0887"
             ],
             [
              0.1111111111111111,
              "#46039f"
             ],
             [
              0.2222222222222222,
              "#7201a8"
             ],
             [
              0.3333333333333333,
              "#9c179e"
             ],
             [
              0.4444444444444444,
              "#bd3786"
             ],
             [
              0.5555555555555556,
              "#d8576b"
             ],
             [
              0.6666666666666666,
              "#ed7953"
             ],
             [
              0.7777777777777778,
              "#fb9f3a"
             ],
             [
              0.8888888888888888,
              "#fdca26"
             ],
             [
              1,
              "#f0f921"
             ]
            ],
            "type": "histogram2dcontour"
           }
          ],
          "mesh3d": [
           {
            "colorbar": {
             "outlinewidth": 0,
             "ticks": ""
            },
            "type": "mesh3d"
           }
          ],
          "parcoords": [
           {
            "line": {
             "colorbar": {
              "outlinewidth": 0,
              "ticks": ""
             }
            },
            "type": "parcoords"
           }
          ],
          "pie": [
           {
            "automargin": true,
            "type": "pie"
           }
          ],
          "scatter": [
           {
            "fillpattern": {
             "fillmode": "overlay",
             "size": 10,
             "solidity": 0.2
            },
            "type": "scatter"
           }
          ],
          "scatter3d": [
           {
            "line": {
             "colorbar": {
              "outlinewidth": 0,
              "ticks": ""
             }
            },
            "marker": {
             "colorbar": {
              "outlinewidth": 0,
              "ticks": ""
             }
            },
            "type": "scatter3d"
           }
          ],
          "scattercarpet": [
           {
            "marker": {
             "colorbar": {
              "outlinewidth": 0,
              "ticks": ""
             }
            },
            "type": "scattercarpet"
           }
          ],
          "scattergeo": [
           {
            "marker": {
             "colorbar": {
              "outlinewidth": 0,
              "ticks": ""
             }
            },
            "type": "scattergeo"
           }
          ],
          "scattergl": [
           {
            "marker": {
             "colorbar": {
              "outlinewidth": 0,
              "ticks": ""
             }
            },
            "type": "scattergl"
           }
          ],
          "scattermapbox": [
           {
            "marker": {
             "colorbar": {
              "outlinewidth": 0,
              "ticks": ""
             }
            },
            "type": "scattermapbox"
           }
          ],
          "scatterpolar": [
           {
            "marker": {
             "colorbar": {
              "outlinewidth": 0,
              "ticks": ""
             }
            },
            "type": "scatterpolar"
           }
          ],
          "scatterpolargl": [
           {
            "marker": {
             "colorbar": {
              "outlinewidth": 0,
              "ticks": ""
             }
            },
            "type": "scatterpolargl"
           }
          ],
          "scatterternary": [
           {
            "marker": {
             "colorbar": {
              "outlinewidth": 0,
              "ticks": ""
             }
            },
            "type": "scatterternary"
           }
          ],
          "surface": [
           {
            "colorbar": {
             "outlinewidth": 0,
             "ticks": ""
            },
            "colorscale": [
             [
              0,
              "#0d0887"
             ],
             [
              0.1111111111111111,
              "#46039f"
             ],
             [
              0.2222222222222222,
              "#7201a8"
             ],
             [
              0.3333333333333333,
              "#9c179e"
             ],
             [
              0.4444444444444444,
              "#bd3786"
             ],
             [
              0.5555555555555556,
              "#d8576b"
             ],
             [
              0.6666666666666666,
              "#ed7953"
             ],
             [
              0.7777777777777778,
              "#fb9f3a"
             ],
             [
              0.8888888888888888,
              "#fdca26"
             ],
             [
              1,
              "#f0f921"
             ]
            ],
            "type": "surface"
           }
          ],
          "table": [
           {
            "cells": {
             "fill": {
              "color": "#EBF0F8"
             },
             "line": {
              "color": "white"
             }
            },
            "header": {
             "fill": {
              "color": "#C8D4E3"
             },
             "line": {
              "color": "white"
             }
            },
            "type": "table"
           }
          ]
         },
         "layout": {
          "annotationdefaults": {
           "arrowcolor": "#2a3f5f",
           "arrowhead": 0,
           "arrowwidth": 1
          },
          "autotypenumbers": "strict",
          "coloraxis": {
           "colorbar": {
            "outlinewidth": 0,
            "ticks": ""
           }
          },
          "colorscale": {
           "diverging": [
            [
             0,
             "#8e0152"
            ],
            [
             0.1,
             "#c51b7d"
            ],
            [
             0.2,
             "#de77ae"
            ],
            [
             0.3,
             "#f1b6da"
            ],
            [
             0.4,
             "#fde0ef"
            ],
            [
             0.5,
             "#f7f7f7"
            ],
            [
             0.6,
             "#e6f5d0"
            ],
            [
             0.7,
             "#b8e186"
            ],
            [
             0.8,
             "#7fbc41"
            ],
            [
             0.9,
             "#4d9221"
            ],
            [
             1,
             "#276419"
            ]
           ],
           "sequential": [
            [
             0,
             "#0d0887"
            ],
            [
             0.1111111111111111,
             "#46039f"
            ],
            [
             0.2222222222222222,
             "#7201a8"
            ],
            [
             0.3333333333333333,
             "#9c179e"
            ],
            [
             0.4444444444444444,
             "#bd3786"
            ],
            [
             0.5555555555555556,
             "#d8576b"
            ],
            [
             0.6666666666666666,
             "#ed7953"
            ],
            [
             0.7777777777777778,
             "#fb9f3a"
            ],
            [
             0.8888888888888888,
             "#fdca26"
            ],
            [
             1,
             "#f0f921"
            ]
           ],
           "sequentialminus": [
            [
             0,
             "#0d0887"
            ],
            [
             0.1111111111111111,
             "#46039f"
            ],
            [
             0.2222222222222222,
             "#7201a8"
            ],
            [
             0.3333333333333333,
             "#9c179e"
            ],
            [
             0.4444444444444444,
             "#bd3786"
            ],
            [
             0.5555555555555556,
             "#d8576b"
            ],
            [
             0.6666666666666666,
             "#ed7953"
            ],
            [
             0.7777777777777778,
             "#fb9f3a"
            ],
            [
             0.8888888888888888,
             "#fdca26"
            ],
            [
             1,
             "#f0f921"
            ]
           ]
          },
          "colorway": [
           "#636efa",
           "#EF553B",
           "#00cc96",
           "#ab63fa",
           "#FFA15A",
           "#19d3f3",
           "#FF6692",
           "#B6E880",
           "#FF97FF",
           "#FECB52"
          ],
          "font": {
           "color": "#2a3f5f"
          },
          "geo": {
           "bgcolor": "white",
           "lakecolor": "white",
           "landcolor": "#E5ECF6",
           "showlakes": true,
           "showland": true,
           "subunitcolor": "white"
          },
          "hoverlabel": {
           "align": "left"
          },
          "hovermode": "closest",
          "mapbox": {
           "style": "light"
          },
          "paper_bgcolor": "white",
          "plot_bgcolor": "#E5ECF6",
          "polar": {
           "angularaxis": {
            "gridcolor": "white",
            "linecolor": "white",
            "ticks": ""
           },
           "bgcolor": "#E5ECF6",
           "radialaxis": {
            "gridcolor": "white",
            "linecolor": "white",
            "ticks": ""
           }
          },
          "scene": {
           "xaxis": {
            "backgroundcolor": "#E5ECF6",
            "gridcolor": "white",
            "gridwidth": 2,
            "linecolor": "white",
            "showbackground": true,
            "ticks": "",
            "zerolinecolor": "white"
           },
           "yaxis": {
            "backgroundcolor": "#E5ECF6",
            "gridcolor": "white",
            "gridwidth": 2,
            "linecolor": "white",
            "showbackground": true,
            "ticks": "",
            "zerolinecolor": "white"
           },
           "zaxis": {
            "backgroundcolor": "#E5ECF6",
            "gridcolor": "white",
            "gridwidth": 2,
            "linecolor": "white",
            "showbackground": true,
            "ticks": "",
            "zerolinecolor": "white"
           }
          },
          "shapedefaults": {
           "line": {
            "color": "#2a3f5f"
           }
          },
          "ternary": {
           "aaxis": {
            "gridcolor": "white",
            "linecolor": "white",
            "ticks": ""
           },
           "baxis": {
            "gridcolor": "white",
            "linecolor": "white",
            "ticks": ""
           },
           "bgcolor": "#E5ECF6",
           "caxis": {
            "gridcolor": "white",
            "linecolor": "white",
            "ticks": ""
           }
          },
          "title": {
           "x": 0.05
          },
          "xaxis": {
           "automargin": true,
           "gridcolor": "white",
           "linecolor": "white",
           "ticks": "",
           "title": {
            "standoff": 15
           },
           "zerolinecolor": "white",
           "zerolinewidth": 2
          },
          "yaxis": {
           "automargin": true,
           "gridcolor": "white",
           "linecolor": "white",
           "ticks": "",
           "title": {
            "standoff": 15
           },
           "zerolinecolor": "white",
           "zerolinewidth": 2
          }
         }
        },
        "title": {
         "text": "Parallel Coordinate Plot"
        }
       }
      }
     },
     "metadata": {},
     "output_type": "display_data"
    }
   ],
   "source": [
    "optuna.visualization.plot_parallel_coordinate(study)"
   ]
  },
  {
   "cell_type": "code",
   "execution_count": 39,
   "metadata": {},
   "outputs": [
    {
     "data": {
      "application/vnd.plotly.v1+json": {
       "config": {
        "plotlyServerURL": "https://plot.ly"
       },
       "data": [
        {
         "marker": {
          "color": [
           0,
           1,
           2,
           3,
           4,
           5,
           6,
           7,
           8,
           9,
           10,
           11,
           12,
           13,
           14,
           15,
           16,
           17,
           18,
           19,
           20,
           21,
           22,
           23,
           24,
           25,
           26,
           27,
           28,
           29,
           30,
           31,
           32,
           33,
           34,
           35,
           36,
           37,
           38,
           39,
           40,
           41,
           42,
           43,
           44,
           45,
           46,
           47,
           48,
           49,
           50,
           51,
           52,
           53,
           54,
           55,
           56,
           57,
           58,
           59,
           60,
           61,
           62,
           63,
           64,
           65,
           66,
           67,
           68,
           69,
           70,
           71,
           72,
           73,
           74,
           75,
           76,
           77,
           78,
           79,
           80,
           81,
           82,
           83,
           84,
           85,
           86,
           87,
           88,
           89,
           90,
           91,
           92,
           93,
           94,
           95,
           96,
           97,
           98,
           99
          ],
          "colorbar": {
           "title": {
            "text": "Trial"
           },
           "x": 1,
           "xpad": 40
          },
          "colorscale": [
           [
            0,
            "rgb(247,251,255)"
           ],
           [
            0.125,
            "rgb(222,235,247)"
           ],
           [
            0.25,
            "rgb(198,219,239)"
           ],
           [
            0.375,
            "rgb(158,202,225)"
           ],
           [
            0.5,
            "rgb(107,174,214)"
           ],
           [
            0.625,
            "rgb(66,146,198)"
           ],
           [
            0.75,
            "rgb(33,113,181)"
           ],
           [
            0.875,
            "rgb(8,81,156)"
           ],
           [
            1,
            "rgb(8,48,107)"
           ]
          ],
          "line": {
           "color": "Grey",
           "width": 0.5
          },
          "showscale": true
         },
         "mode": "markers",
         "name": "Feasible Trial",
         "showlegend": false,
         "type": "scatter",
         "x": [
          0.170402375660281,
          18.65928684783534,
          0.942954261705635,
          0.016370172592956964,
          2.0583090051094466,
          1.508803341129102,
          0.4870867905741025,
          5.237129410806727,
          18.277898774392373,
          0.01151479217885489,
          0.1811015146589113,
          0.1755315404791787,
          0.18215113920271778,
          0.054365657970456185,
          0.4887723446010457,
          0.06770214399080814,
          99.84002920793445,
          0.3958590074796606,
          0.04871370579781515,
          2.9363919431938,
          0.5425224873447408,
          0.30351789448947136,
          0.11629284731599811,
          0.41475344283812443,
          0.8116887218519233,
          5.62477978950438,
          0.9198330400818379,
          1.0306076329429723,
          1.0467743697652272,
          3.7640921006905756,
          0.818418476536386,
          10.945248508466554,
          1.7459290381607386,
          1.0121174099729,
          0.28113471943805723,
          0.6693373833692959,
          1.4823643277851684,
          2.4114692165017466,
          8.54014415355748,
          1.3957663184483329,
          48.021815763958124,
          0.28537391715743643,
          0.1133581018623825,
          0.10173464976697458,
          0.04062990171526356,
          0.024455656326864875,
          0.034986164081908216,
          0.02207409894924094,
          0.010086296784803652,
          0.08923809765523001,
          0.02359572155494744,
          0.03320816357851237,
          0.036448211231638904,
          0.01563943311521092,
          0.12552019863737862,
          0.07718543052902217,
          0.04473655989219595,
          0.02839826706265925,
          0.015737970944954206,
          0.07047626599128928,
          0.1179331563982,
          0.06653674887302403,
          0.21586478758395322,
          0.08805095042470848,
          0.04683450582881231,
          0.15129830258577193,
          0.020718160189232386,
          0.08709892766957568,
          0.013842020127313712,
          0.034102592015208565,
          0.05489899683213852,
          0.2111238039606713,
          0.18538056599197966,
          0.06806823290415051,
          0.10539745078748462,
          0.026743038854509956,
          0.059686566407406785,
          0.226557961443073,
          0.148453569074185,
          0.03801011882565378,
          0.40865537482568837,
          0.08370527070485226,
          0.01991719124294931,
          0.043389975674621224,
          0.027446736003907953,
          0.10062881147198767,
          0.057907349909605596,
          0.05190029202750031,
          0.06579859774120415,
          0.03242747724998491,
          0.32098318472323834,
          0.1176270349944285,
          0.1544004970704889,
          0.5765039550497902,
          0.14970365171609218,
          0.23835701939756715,
          0.04264242748918091,
          0.08122118896966082,
          0.08164736047829331,
          0.13494387667336522
         ],
         "xaxis": "x",
         "y": [
          0.8796971324735241,
          0.8800449617850907,
          0.8754957773790328,
          0.8756584477059807,
          0.8769837840814096,
          0.8734463754649273,
          0.8819303247640222,
          0.8809734691315503,
          0.8760075745243388,
          0.8763692610794557,
          0.8816558730505706,
          0.8812960051250049,
          0.8818887285763471,
          0.8817120059101313,
          0.8811145565013534,
          0.8811082102100082,
          0.8561615115419461,
          0.8818789705069501,
          0.8803158016052539,
          0.8791395403339696,
          0.8803346073925999,
          0.8818998466630843,
          0.8817890002040916,
          0.8819319398837783,
          0.882021007867495,
          0.8786214375509024,
          0.882169361013753,
          0.8819500787615769,
          0.8760105650454495,
          0.8816962099923824,
          0.8801669031704273,
          0.8800807623372744,
          0.8809371748736385,
          0.8814295942555678,
          0.8801017921532491,
          0.8815956414474639,
          0.8777844539230065,
          0.8767347567555305,
          0.8811548814745477,
          0.8817958789973785,
          0.8557652412182,
          0.8817789639160301,
          0.8820722965182289,
          0.8820618832112526,
          0.8821519771328272,
          0.8821483804062005,
          0.881993320239153,
          0.8819208027890942,
          0.881726246714633,
          0.8814113115968629,
          0.8820134167150003,
          0.8821999376510135,
          0.8819586615143882,
          0.8808927589767552,
          0.8765920315218967,
          0.8820538041775888,
          0.874175143091235,
          0.8818014968581223,
          0.881898528123277,
          0.8814565338400507,
          0.8782189037516706,
          0.8817465915826656,
          0.8819998413099308,
          0.8817435422360133,
          0.8813904210195288,
          0.8805842024163966,
          0.8762682423742467,
          0.8817475705186993,
          0.8798468129004814,
          0.8780008762767763,
          0.8818607169740973,
          0.8822270829611755,
          0.8815645685046718,
          0.8820702981813687,
          0.8817127565655568,
          0.8818743366671384,
          0.8817990554611745,
          0.8816700716215651,
          0.8819125111285853,
          0.8818487479030417,
          0.8819127801295211,
          0.8821361082952345,
          0.8819882773924397,
          0.8818379535029331,
          0.881786237047063,
          0.8818808466625191,
          0.8821931071091322,
          0.8784902791290831,
          0.8766523242703979,
          0.8819399497145882,
          0.8820594227581944,
          0.8819453236256829,
          0.8821669075570098,
          0.8819939661526103,
          0.881889153842288,
          0.8819103117236631,
          0.8818436060353381,
          0.882131616546619,
          0.8818996480238027,
          0.8817533711847922
         ],
         "yaxis": "y"
        },
        {
         "marker": {
          "color": [
           0,
           1,
           2,
           3,
           4,
           5,
           6,
           7,
           8,
           9,
           10,
           11,
           12,
           13,
           14,
           15,
           16,
           17,
           18,
           19,
           20,
           21,
           22,
           23,
           24,
           25,
           26,
           27,
           28,
           29,
           30,
           31,
           32,
           33,
           34,
           35,
           36,
           37,
           38,
           39,
           40,
           41,
           42,
           43,
           44,
           45,
           46,
           47,
           48,
           49,
           50,
           51,
           52,
           53,
           54,
           55,
           56,
           57,
           58,
           59,
           60,
           61,
           62,
           63,
           64,
           65,
           66,
           67,
           68,
           69,
           70,
           71,
           72,
           73,
           74,
           75,
           76,
           77,
           78,
           79,
           80,
           81,
           82,
           83,
           84,
           85,
           86,
           87,
           88,
           89,
           90,
           91,
           92,
           93,
           94,
           95,
           96,
           97,
           98,
           99
          ],
          "colorbar": {
           "title": {
            "text": "Trial"
           },
           "x": 1,
           "xpad": 40
          },
          "colorscale": [
           [
            0,
            "rgb(247,251,255)"
           ],
           [
            0.125,
            "rgb(222,235,247)"
           ],
           [
            0.25,
            "rgb(198,219,239)"
           ],
           [
            0.375,
            "rgb(158,202,225)"
           ],
           [
            0.5,
            "rgb(107,174,214)"
           ],
           [
            0.625,
            "rgb(66,146,198)"
           ],
           [
            0.75,
            "rgb(33,113,181)"
           ],
           [
            0.875,
            "rgb(8,81,156)"
           ],
           [
            1,
            "rgb(8,48,107)"
           ]
          ],
          "line": {
           "color": "Grey",
           "width": 0.5
          },
          "showscale": false
         },
         "mode": "markers",
         "name": "Feasible Trial",
         "showlegend": false,
         "type": "scatter",
         "x": [
          10,
          10,
          12,
          9,
          3,
          5,
          12,
          9,
          3,
          11,
          7,
          6,
          7,
          8,
          5,
          12,
          7,
          5,
          8,
          6,
          10,
          4,
          4,
          6,
          4,
          6,
          5,
          4,
          4,
          3,
          4,
          5,
          6,
          4,
          5,
          3,
          6,
          5,
          4,
          5,
          3,
          11,
          9,
          9,
          9,
          9,
          9,
          9,
          10,
          8,
          9,
          10,
          11,
          10,
          9,
          8,
          11,
          9,
          10,
          8,
          10,
          8,
          9,
          7,
          8,
          9,
          8,
          7,
          9,
          10,
          8,
          10,
          10,
          9,
          10,
          11,
          10,
          9,
          11,
          9,
          9,
          8,
          9,
          10,
          7,
          9,
          10,
          12,
          11,
          10,
          10,
          9,
          8,
          8,
          8,
          8,
          10,
          9,
          7,
          8
         ],
         "xaxis": "x2",
         "y": [
          0.8796971324735241,
          0.8800449617850907,
          0.8754957773790328,
          0.8756584477059807,
          0.8769837840814096,
          0.8734463754649273,
          0.8819303247640222,
          0.8809734691315503,
          0.8760075745243388,
          0.8763692610794557,
          0.8816558730505706,
          0.8812960051250049,
          0.8818887285763471,
          0.8817120059101313,
          0.8811145565013534,
          0.8811082102100082,
          0.8561615115419461,
          0.8818789705069501,
          0.8803158016052539,
          0.8791395403339696,
          0.8803346073925999,
          0.8818998466630843,
          0.8817890002040916,
          0.8819319398837783,
          0.882021007867495,
          0.8786214375509024,
          0.882169361013753,
          0.8819500787615769,
          0.8760105650454495,
          0.8816962099923824,
          0.8801669031704273,
          0.8800807623372744,
          0.8809371748736385,
          0.8814295942555678,
          0.8801017921532491,
          0.8815956414474639,
          0.8777844539230065,
          0.8767347567555305,
          0.8811548814745477,
          0.8817958789973785,
          0.8557652412182,
          0.8817789639160301,
          0.8820722965182289,
          0.8820618832112526,
          0.8821519771328272,
          0.8821483804062005,
          0.881993320239153,
          0.8819208027890942,
          0.881726246714633,
          0.8814113115968629,
          0.8820134167150003,
          0.8821999376510135,
          0.8819586615143882,
          0.8808927589767552,
          0.8765920315218967,
          0.8820538041775888,
          0.874175143091235,
          0.8818014968581223,
          0.881898528123277,
          0.8814565338400507,
          0.8782189037516706,
          0.8817465915826656,
          0.8819998413099308,
          0.8817435422360133,
          0.8813904210195288,
          0.8805842024163966,
          0.8762682423742467,
          0.8817475705186993,
          0.8798468129004814,
          0.8780008762767763,
          0.8818607169740973,
          0.8822270829611755,
          0.8815645685046718,
          0.8820702981813687,
          0.8817127565655568,
          0.8818743366671384,
          0.8817990554611745,
          0.8816700716215651,
          0.8819125111285853,
          0.8818487479030417,
          0.8819127801295211,
          0.8821361082952345,
          0.8819882773924397,
          0.8818379535029331,
          0.881786237047063,
          0.8818808466625191,
          0.8821931071091322,
          0.8784902791290831,
          0.8766523242703979,
          0.8819399497145882,
          0.8820594227581944,
          0.8819453236256829,
          0.8821669075570098,
          0.8819939661526103,
          0.881889153842288,
          0.8819103117236631,
          0.8818436060353381,
          0.882131616546619,
          0.8818996480238027,
          0.8817533711847922
         ],
         "yaxis": "y2"
        },
        {
         "marker": {
          "color": [
           0,
           1,
           2,
           3,
           4,
           5,
           6,
           7,
           8,
           9,
           10,
           11,
           12,
           13,
           14,
           15,
           16,
           17,
           18,
           19,
           20,
           21,
           22,
           23,
           24,
           25,
           26,
           27,
           28,
           29,
           30,
           31,
           32,
           33,
           34,
           35,
           36,
           37,
           38,
           39,
           40,
           41,
           42,
           43,
           44,
           45,
           46,
           47,
           48,
           49,
           50,
           51,
           52,
           53,
           54,
           55,
           56,
           57,
           58,
           59,
           60,
           61,
           62,
           63,
           64,
           65,
           66,
           67,
           68,
           69,
           70,
           71,
           72,
           73,
           74,
           75,
           76,
           77,
           78,
           79,
           80,
           81,
           82,
           83,
           84,
           85,
           86,
           87,
           88,
           89,
           90,
           91,
           92,
           93,
           94,
           95,
           96,
           97,
           98,
           99
          ],
          "colorbar": {
           "title": {
            "text": "Trial"
           },
           "x": 1,
           "xpad": 40
          },
          "colorscale": [
           [
            0,
            "rgb(247,251,255)"
           ],
           [
            0.125,
            "rgb(222,235,247)"
           ],
           [
            0.25,
            "rgb(198,219,239)"
           ],
           [
            0.375,
            "rgb(158,202,225)"
           ],
           [
            0.5,
            "rgb(107,174,214)"
           ],
           [
            0.625,
            "rgb(66,146,198)"
           ],
           [
            0.75,
            "rgb(33,113,181)"
           ],
           [
            0.875,
            "rgb(8,81,156)"
           ],
           [
            1,
            "rgb(8,48,107)"
           ]
          ],
          "line": {
           "color": "Grey",
           "width": 0.5
          },
          "showscale": false
         },
         "mode": "markers",
         "name": "Feasible Trial",
         "showlegend": false,
         "type": "scatter",
         "x": [
          0.00007983231160315566,
          0.0004704971453976472,
          0.000006986134853140149,
          0.0002191902970751409,
          0.0000054311125013794884,
          0.003300410262208854,
          0.00013802524961479542,
          0.001199399227498218,
          0.003471253768541052,
          0.0000017120434289684541,
          0.0000449592176249538,
          0.00005058016399030556,
          0.000025540872938854607,
          0.00001692398559650882,
          0.0002982900083437853,
          0.000018242549273095952,
          0.0000013472322175777191,
          0.009321583220315968,
          0.00013948206124267783,
          0.000018611649641972705,
          0.0006016918592637909,
          0.0065777598780208885,
          0.0013237719204080539,
          0.006582963767970754,
          0.008005666644944147,
          0.00237073907844735,
          0.005370059426936246,
          0.00565253343161277,
          0.0012247015650102987,
          0.009823538650479337,
          0.002093734826006487,
          0.00519574243487125,
          0.004975783859378615,
          0.0021751390549951998,
          0.0006621190163957389,
          0.00547280657057162,
          0.0035339751760820287,
          0.009925623037149433,
          0.0009406792627128865,
          0.002109287062852962,
          0.0004145693091836531,
          0.000006334078335527235,
          0.00373383482440854,
          0.0033202347808899244,
          0.0039387253670493194,
          0.0034279042645142276,
          0.003509081718056014,
          0.0015893791845500924,
          0.0008478893435134246,
          0.0033823123314215865,
          0.0000035626782963401263,
          0.0029116641838757527,
          0.0028424486668896572,
          0.0015960843088106197,
          0.0035810533735591713,
          0.004506037220551467,
          0.001737866971667657,
          0.0010488714023075359,
          0.00019855771216515305,
          0.00006477082050257644,
          0.007021061553945998,
          0.00447416715392168,
          0.002532438555508827,
          0.004478311169483702,
          0.0073467046809280855,
          0.002824654111641985,
          0.0014325683544714617,
          0.004318509461533504,
          0.006286491979275025,
          0.0003968137105004795,
          0.0019480465592697544,
          0.008225508298397766,
          0.0028186632895441177,
          0.007523155668291089,
          0.008917843451159304,
          0.006276402011540577,
          0.007625070278725939,
          0.0037974435594457898,
          0.0056338185830224,
          0.0007868073891957207,
          0.002682229716246943,
          0.004451599821982704,
          0.009742002096802841,
          0.005198383337627741,
          0.000011285134753786295,
          0.007325950669291279,
          0.000035653328160055105,
          0.00003747345815357017,
          0.000025311932077679997,
          0.004257236001071395,
          0.0022270202841304892,
          0.000012290187076121385,
          0.00011097053246370765,
          0.00011284941422948214,
          0.00003420355423377172,
          0.005326116109205752,
          0.000058382499813253466,
          0.000003578883411987018,
          0.0002230806914731784,
          0.0000021349145313996826
         ],
         "xaxis": "x3",
         "y": [
          0.8796971324735241,
          0.8800449617850907,
          0.8754957773790328,
          0.8756584477059807,
          0.8769837840814096,
          0.8734463754649273,
          0.8819303247640222,
          0.8809734691315503,
          0.8760075745243388,
          0.8763692610794557,
          0.8816558730505706,
          0.8812960051250049,
          0.8818887285763471,
          0.8817120059101313,
          0.8811145565013534,
          0.8811082102100082,
          0.8561615115419461,
          0.8818789705069501,
          0.8803158016052539,
          0.8791395403339696,
          0.8803346073925999,
          0.8818998466630843,
          0.8817890002040916,
          0.8819319398837783,
          0.882021007867495,
          0.8786214375509024,
          0.882169361013753,
          0.8819500787615769,
          0.8760105650454495,
          0.8816962099923824,
          0.8801669031704273,
          0.8800807623372744,
          0.8809371748736385,
          0.8814295942555678,
          0.8801017921532491,
          0.8815956414474639,
          0.8777844539230065,
          0.8767347567555305,
          0.8811548814745477,
          0.8817958789973785,
          0.8557652412182,
          0.8817789639160301,
          0.8820722965182289,
          0.8820618832112526,
          0.8821519771328272,
          0.8821483804062005,
          0.881993320239153,
          0.8819208027890942,
          0.881726246714633,
          0.8814113115968629,
          0.8820134167150003,
          0.8821999376510135,
          0.8819586615143882,
          0.8808927589767552,
          0.8765920315218967,
          0.8820538041775888,
          0.874175143091235,
          0.8818014968581223,
          0.881898528123277,
          0.8814565338400507,
          0.8782189037516706,
          0.8817465915826656,
          0.8819998413099308,
          0.8817435422360133,
          0.8813904210195288,
          0.8805842024163966,
          0.8762682423742467,
          0.8817475705186993,
          0.8798468129004814,
          0.8780008762767763,
          0.8818607169740973,
          0.8822270829611755,
          0.8815645685046718,
          0.8820702981813687,
          0.8817127565655568,
          0.8818743366671384,
          0.8817990554611745,
          0.8816700716215651,
          0.8819125111285853,
          0.8818487479030417,
          0.8819127801295211,
          0.8821361082952345,
          0.8819882773924397,
          0.8818379535029331,
          0.881786237047063,
          0.8818808466625191,
          0.8821931071091322,
          0.8784902791290831,
          0.8766523242703979,
          0.8819399497145882,
          0.8820594227581944,
          0.8819453236256829,
          0.8821669075570098,
          0.8819939661526103,
          0.881889153842288,
          0.8819103117236631,
          0.8818436060353381,
          0.882131616546619,
          0.8818996480238027,
          0.8817533711847922
         ],
         "yaxis": "y3"
        },
        {
         "marker": {
          "color": [
           0,
           1,
           2,
           3,
           4,
           5,
           6,
           7,
           8,
           9,
           10,
           11,
           12,
           13,
           14,
           15,
           16,
           17,
           18,
           19,
           20,
           21,
           22,
           23,
           24,
           25,
           26,
           27,
           28,
           29,
           30,
           31,
           32,
           33,
           34,
           35,
           36,
           37,
           38,
           39,
           40,
           41,
           42,
           43,
           44,
           45,
           46,
           47,
           48,
           49,
           50,
           51,
           52,
           53,
           54,
           55,
           56,
           57,
           58,
           59,
           60,
           61,
           62,
           63,
           64,
           65,
           66,
           67,
           68,
           69,
           70,
           71,
           72,
           73,
           74,
           75,
           76,
           77,
           78,
           79,
           80,
           81,
           82,
           83,
           84,
           85,
           86,
           87,
           88,
           89,
           90,
           91,
           92,
           93,
           94,
           95,
           96,
           97,
           98,
           99
          ],
          "colorbar": {
           "title": {
            "text": "Trial"
           },
           "x": 1,
           "xpad": 40
          },
          "colorscale": [
           [
            0,
            "rgb(247,251,255)"
           ],
           [
            0.125,
            "rgb(222,235,247)"
           ],
           [
            0.25,
            "rgb(198,219,239)"
           ],
           [
            0.375,
            "rgb(158,202,225)"
           ],
           [
            0.5,
            "rgb(107,174,214)"
           ],
           [
            0.625,
            "rgb(66,146,198)"
           ],
           [
            0.75,
            "rgb(33,113,181)"
           ],
           [
            0.875,
            "rgb(8,81,156)"
           ],
           [
            1,
            "rgb(8,48,107)"
           ]
          ],
          "line": {
           "color": "Grey",
           "width": 0.5
          },
          "showscale": false
         },
         "mode": "markers",
         "name": "Feasible Trial",
         "showlegend": false,
         "type": "scatter",
         "x": [
          0.005480634560828661,
          0.02914702943518748,
          0.009811660139869486,
          0.005263465188601421,
          0.06255819658595317,
          0.0909092031264678,
          0.01465130046564331,
          0.05194232005274553,
          0.06872247133798319,
          0.011831199832470314,
          0.02217876371917312,
          0.024821894249017686,
          0.013609703919753226,
          0.013887595025687488,
          0.016100564710909072,
          0.008571316433574356,
          0.036950192652571254,
          0.017069130011591396,
          0.007391464670667037,
          0.019890135118467246,
          0.033272859352711626,
          0.01646764052598757,
          0.012792704658102606,
          0.011024229277001946,
          0.00990038408193312,
          0.007660680863279373,
          0.010971326691773165,
          0.009908890640564333,
          0.006625460308676472,
          0.009563283847048264,
          0.006150277282098561,
          0.01028313825622906,
          0.010478057368995559,
          0.007732100599741255,
          0.005128411983530215,
          0.011061135504181665,
          0.008731822210778407,
          0.005854947726345918,
          0.01887648566225577,
          0.012389356630760276,
          0.006854804069459081,
          0.013609755366323594,
          0.00925323894055018,
          0.008870301092245363,
          0.009145452723532895,
          0.008695560004205363,
          0.008004453261322111,
          0.006578659799868503,
          0.009150342211089343,
          0.02535735987304421,
          0.011533023387652455,
          0.00883673784959235,
          0.008408410332107801,
          0.0057146274228491705,
          0.09542579689954665,
          0.014609514086825115,
          0.007034466379964882,
          0.008974256334265953,
          0.012127250199699671,
          0.0080373810683622,
          0.06535694321722824,
          0.016036342155331076,
          0.015382189328415143,
          0.014220642330825466,
          0.009199513091873572,
          0.017959601179690667,
          0.010493034292547157,
          0.013088279593236721,
          0.04450641565044189,
          0.08165979504014964,
          0.011704786580836445,
          0.010053949164614676,
          0.01000326597627736,
          0.00850327009023351,
          0.007213049918456776,
          0.008413328740683415,
          0.0063972714929268065,
          0.007552630200184935,
          0.010746915972424716,
          0.009499531310619001,
          0.006014632975527893,
          0.008487953659773825,
          0.008332016982548677,
          0.009567884641743176,
          0.007384088339720811,
          0.011150884202868078,
          0.008695513952198168,
          0.005574471191049658,
          0.0067911715182658716,
          0.007931154809348948,
          0.010178677214265373,
          0.009117352072879252,
          0.008735166911088634,
          0.00796023767408,
          0.008515957471308013,
          0.01244479429625862,
          0.009822090482067022,
          0.011269688592674798,
          0.011153432307100301,
          0.007467250633345152
         ],
         "xaxis": "x4",
         "y": [
          0.8796971324735241,
          0.8800449617850907,
          0.8754957773790328,
          0.8756584477059807,
          0.8769837840814096,
          0.8734463754649273,
          0.8819303247640222,
          0.8809734691315503,
          0.8760075745243388,
          0.8763692610794557,
          0.8816558730505706,
          0.8812960051250049,
          0.8818887285763471,
          0.8817120059101313,
          0.8811145565013534,
          0.8811082102100082,
          0.8561615115419461,
          0.8818789705069501,
          0.8803158016052539,
          0.8791395403339696,
          0.8803346073925999,
          0.8818998466630843,
          0.8817890002040916,
          0.8819319398837783,
          0.882021007867495,
          0.8786214375509024,
          0.882169361013753,
          0.8819500787615769,
          0.8760105650454495,
          0.8816962099923824,
          0.8801669031704273,
          0.8800807623372744,
          0.8809371748736385,
          0.8814295942555678,
          0.8801017921532491,
          0.8815956414474639,
          0.8777844539230065,
          0.8767347567555305,
          0.8811548814745477,
          0.8817958789973785,
          0.8557652412182,
          0.8817789639160301,
          0.8820722965182289,
          0.8820618832112526,
          0.8821519771328272,
          0.8821483804062005,
          0.881993320239153,
          0.8819208027890942,
          0.881726246714633,
          0.8814113115968629,
          0.8820134167150003,
          0.8821999376510135,
          0.8819586615143882,
          0.8808927589767552,
          0.8765920315218967,
          0.8820538041775888,
          0.874175143091235,
          0.8818014968581223,
          0.881898528123277,
          0.8814565338400507,
          0.8782189037516706,
          0.8817465915826656,
          0.8819998413099308,
          0.8817435422360133,
          0.8813904210195288,
          0.8805842024163966,
          0.8762682423742467,
          0.8817475705186993,
          0.8798468129004814,
          0.8780008762767763,
          0.8818607169740973,
          0.8822270829611755,
          0.8815645685046718,
          0.8820702981813687,
          0.8817127565655568,
          0.8818743366671384,
          0.8817990554611745,
          0.8816700716215651,
          0.8819125111285853,
          0.8818487479030417,
          0.8819127801295211,
          0.8821361082952345,
          0.8819882773924397,
          0.8818379535029331,
          0.881786237047063,
          0.8818808466625191,
          0.8821931071091322,
          0.8784902791290831,
          0.8766523242703979,
          0.8819399497145882,
          0.8820594227581944,
          0.8819453236256829,
          0.8821669075570098,
          0.8819939661526103,
          0.881889153842288,
          0.8819103117236631,
          0.8818436060353381,
          0.882131616546619,
          0.8818996480238027,
          0.8817533711847922
         ],
         "yaxis": "y4"
        },
        {
         "marker": {
          "color": [
           0,
           1,
           2,
           3,
           4,
           5,
           6,
           7,
           8,
           9,
           10,
           11,
           12,
           13,
           14,
           15,
           16,
           17,
           18,
           19,
           20,
           21,
           22,
           23,
           24,
           25,
           26,
           27,
           28,
           29,
           30,
           31,
           32,
           33,
           34,
           35,
           36,
           37,
           38,
           39,
           40,
           41,
           42,
           43,
           44,
           45,
           46,
           47,
           48,
           49,
           50,
           51,
           52,
           53,
           54,
           55,
           56,
           57,
           58,
           59,
           60,
           61,
           62,
           63,
           64,
           65,
           66,
           67,
           68,
           69,
           70,
           71,
           72,
           73,
           74,
           75,
           76,
           77,
           78,
           79,
           80,
           81,
           82,
           83,
           84,
           85,
           86,
           87,
           88,
           89,
           90,
           91,
           92,
           93,
           94,
           95,
           96,
           97,
           98,
           99
          ],
          "colorbar": {
           "title": {
            "text": "Trial"
           },
           "x": 1,
           "xpad": 40
          },
          "colorscale": [
           [
            0,
            "rgb(247,251,255)"
           ],
           [
            0.125,
            "rgb(222,235,247)"
           ],
           [
            0.25,
            "rgb(198,219,239)"
           ],
           [
            0.375,
            "rgb(158,202,225)"
           ],
           [
            0.5,
            "rgb(107,174,214)"
           ],
           [
            0.625,
            "rgb(66,146,198)"
           ],
           [
            0.75,
            "rgb(33,113,181)"
           ],
           [
            0.875,
            "rgb(8,81,156)"
           ],
           [
            1,
            "rgb(8,48,107)"
           ]
          ],
          "line": {
           "color": "Grey",
           "width": 0.5
          },
          "showscale": false
         },
         "mode": "markers",
         "name": "Feasible Trial",
         "showlegend": false,
         "type": "scatter",
         "x": [
          576,
          526,
          156,
          191,
          596,
          163,
          791,
          300,
          273,
          122,
          924,
          967,
          946,
          752,
          391,
          429,
          761,
          731,
          390,
          986,
          224,
          714,
          682,
          488,
          474,
          422,
          494,
          470,
          334,
          598,
          479,
          513,
          344,
          490,
          558,
          614,
          261,
          368,
          469,
          437,
          292,
          835,
          657,
          639,
          652,
          633,
          646,
          853,
          559,
          858,
          664,
          563,
          576,
          657,
          788,
          538,
          104,
          728,
          628,
          526,
          690,
          535,
          605,
          766,
          425,
          896,
          149,
          572,
          715,
          513,
          445,
          539,
          401,
          623,
          614,
          678,
          812,
          582,
          636,
          504,
          756,
          541,
          553,
          465,
          686,
          605,
          639,
          499,
          202,
          717,
          560,
          648,
          590,
          596,
          528,
          449,
          587,
          698,
          693,
          911
         ],
         "xaxis": "x5",
         "y": [
          0.8796971324735241,
          0.8800449617850907,
          0.8754957773790328,
          0.8756584477059807,
          0.8769837840814096,
          0.8734463754649273,
          0.8819303247640222,
          0.8809734691315503,
          0.8760075745243388,
          0.8763692610794557,
          0.8816558730505706,
          0.8812960051250049,
          0.8818887285763471,
          0.8817120059101313,
          0.8811145565013534,
          0.8811082102100082,
          0.8561615115419461,
          0.8818789705069501,
          0.8803158016052539,
          0.8791395403339696,
          0.8803346073925999,
          0.8818998466630843,
          0.8817890002040916,
          0.8819319398837783,
          0.882021007867495,
          0.8786214375509024,
          0.882169361013753,
          0.8819500787615769,
          0.8760105650454495,
          0.8816962099923824,
          0.8801669031704273,
          0.8800807623372744,
          0.8809371748736385,
          0.8814295942555678,
          0.8801017921532491,
          0.8815956414474639,
          0.8777844539230065,
          0.8767347567555305,
          0.8811548814745477,
          0.8817958789973785,
          0.8557652412182,
          0.8817789639160301,
          0.8820722965182289,
          0.8820618832112526,
          0.8821519771328272,
          0.8821483804062005,
          0.881993320239153,
          0.8819208027890942,
          0.881726246714633,
          0.8814113115968629,
          0.8820134167150003,
          0.8821999376510135,
          0.8819586615143882,
          0.8808927589767552,
          0.8765920315218967,
          0.8820538041775888,
          0.874175143091235,
          0.8818014968581223,
          0.881898528123277,
          0.8814565338400507,
          0.8782189037516706,
          0.8817465915826656,
          0.8819998413099308,
          0.8817435422360133,
          0.8813904210195288,
          0.8805842024163966,
          0.8762682423742467,
          0.8817475705186993,
          0.8798468129004814,
          0.8780008762767763,
          0.8818607169740973,
          0.8822270829611755,
          0.8815645685046718,
          0.8820702981813687,
          0.8817127565655568,
          0.8818743366671384,
          0.8817990554611745,
          0.8816700716215651,
          0.8819125111285853,
          0.8818487479030417,
          0.8819127801295211,
          0.8821361082952345,
          0.8819882773924397,
          0.8818379535029331,
          0.881786237047063,
          0.8818808466625191,
          0.8821931071091322,
          0.8784902791290831,
          0.8766523242703979,
          0.8819399497145882,
          0.8820594227581944,
          0.8819453236256829,
          0.8821669075570098,
          0.8819939661526103,
          0.881889153842288,
          0.8819103117236631,
          0.8818436060353381,
          0.882131616546619,
          0.8818996480238027,
          0.8817533711847922
         ],
         "yaxis": "y5"
        },
        {
         "marker": {
          "color": [
           0,
           1,
           2,
           3,
           4,
           5,
           6,
           7,
           8,
           9,
           10,
           11,
           12,
           13,
           14,
           15,
           16,
           17,
           18,
           19,
           20,
           21,
           22,
           23,
           24,
           25,
           26,
           27,
           28,
           29,
           30,
           31,
           32,
           33,
           34,
           35,
           36,
           37,
           38,
           39,
           40,
           41,
           42,
           43,
           44,
           45,
           46,
           47,
           48,
           49,
           50,
           51,
           52,
           53,
           54,
           55,
           56,
           57,
           58,
           59,
           60,
           61,
           62,
           63,
           64,
           65,
           66,
           67,
           68,
           69,
           70,
           71,
           72,
           73,
           74,
           75,
           76,
           77,
           78,
           79,
           80,
           81,
           82,
           83,
           84,
           85,
           86,
           87,
           88,
           89,
           90,
           91,
           92,
           93,
           94,
           95,
           96,
           97,
           98,
           99
          ],
          "colorbar": {
           "title": {
            "text": "Trial"
           },
           "x": 1,
           "xpad": 40
          },
          "colorscale": [
           [
            0,
            "rgb(247,251,255)"
           ],
           [
            0.125,
            "rgb(222,235,247)"
           ],
           [
            0.25,
            "rgb(198,219,239)"
           ],
           [
            0.375,
            "rgb(158,202,225)"
           ],
           [
            0.5,
            "rgb(107,174,214)"
           ],
           [
            0.625,
            "rgb(66,146,198)"
           ],
           [
            0.75,
            "rgb(33,113,181)"
           ],
           [
            0.875,
            "rgb(8,81,156)"
           ],
           [
            1,
            "rgb(8,48,107)"
           ]
          ],
          "line": {
           "color": "Grey",
           "width": 0.5
          },
          "showscale": false
         },
         "mode": "markers",
         "name": "Feasible Trial",
         "showlegend": false,
         "type": "scatter",
         "x": [
          0.26131091535074075,
          0.5552719441642882,
          0.4794415101179518,
          0.33072867199122746,
          0.2608334314144623,
          0.23397372255559418,
          0.4743863268810908,
          0.5819978462188943,
          0.3014403737285565,
          0.577664450096718,
          0.8792717061406284,
          0.9208696010930904,
          0.8276823512584183,
          0.7042466512584141,
          0.381025303068312,
          0.696188887929911,
          0.42423050144988,
          0.7562745611807289,
          0.49280311491544876,
          0.20122753488084416,
          0.38151164964499107,
          0.7597845810437994,
          0.8041176897811602,
          0.6457585594034353,
          0.6351769256503309,
          0.6529433470376919,
          0.6274761500837361,
          0.6327392273979354,
          0.9762300774130319,
          0.5378847169232643,
          0.6300360481299444,
          0.6321260448165122,
          0.5597806126483025,
          0.6904033356459373,
          0.5145243832205422,
          0.4253468188456102,
          0.6197695905497868,
          0.7471924124313587,
          0.5876328005178418,
          0.46231465747863176,
          0.5108379732398952,
          0.4540439673471918,
          0.5521258299354839,
          0.5422670045666981,
          0.5233621154516955,
          0.5430620605734294,
          0.5431535648732408,
          0.39082482512578076,
          0.41349340606687246,
          0.5839929423972261,
          0.48902128215058493,
          0.5361550912898431,
          0.5292509010864577,
          0.33375742538819186,
          0.4813432632618153,
          0.5885310455736237,
          0.44266687822616035,
          0.5593751736090463,
          0.5134010059398475,
          0.3546090416574149,
          0.492157762308863,
          0.6815955406611631,
          0.5894894256589399,
          0.601412809402062,
          0.5533187121209735,
          0.27353825397974035,
          0.7370070856505946,
          0.6627567548957256,
          0.5670998198063767,
          0.6077759583955482,
          0.5275858556480395,
          0.7209550358948689,
          0.719080877843441,
          0.7915352014845026,
          0.7954135847947778,
          0.8862858289659351,
          0.8406548589485482,
          0.7783427026373675,
          0.6687895795370375,
          0.4721373038160024,
          0.7074641409885488,
          0.5068366057615629,
          0.5066514940912601,
          0.5371582500536363,
          0.44174830854316893,
          0.8403169970096951,
          0.5014006031235688,
          0.9505260374150744,
          0.5019980360014692,
          0.4680695578400667,
          0.617062425651468,
          0.571608767032411,
          0.5447812786342464,
          0.5256073000264285,
          0.6450739762648712,
          0.49076160112314265,
          0.41667299860234197,
          0.5473381252557421,
          0.5557829525905582,
          0.4491363686419704
         ],
         "xaxis": "x6",
         "y": [
          0.8796971324735241,
          0.8800449617850907,
          0.8754957773790328,
          0.8756584477059807,
          0.8769837840814096,
          0.8734463754649273,
          0.8819303247640222,
          0.8809734691315503,
          0.8760075745243388,
          0.8763692610794557,
          0.8816558730505706,
          0.8812960051250049,
          0.8818887285763471,
          0.8817120059101313,
          0.8811145565013534,
          0.8811082102100082,
          0.8561615115419461,
          0.8818789705069501,
          0.8803158016052539,
          0.8791395403339696,
          0.8803346073925999,
          0.8818998466630843,
          0.8817890002040916,
          0.8819319398837783,
          0.882021007867495,
          0.8786214375509024,
          0.882169361013753,
          0.8819500787615769,
          0.8760105650454495,
          0.8816962099923824,
          0.8801669031704273,
          0.8800807623372744,
          0.8809371748736385,
          0.8814295942555678,
          0.8801017921532491,
          0.8815956414474639,
          0.8777844539230065,
          0.8767347567555305,
          0.8811548814745477,
          0.8817958789973785,
          0.8557652412182,
          0.8817789639160301,
          0.8820722965182289,
          0.8820618832112526,
          0.8821519771328272,
          0.8821483804062005,
          0.881993320239153,
          0.8819208027890942,
          0.881726246714633,
          0.8814113115968629,
          0.8820134167150003,
          0.8821999376510135,
          0.8819586615143882,
          0.8808927589767552,
          0.8765920315218967,
          0.8820538041775888,
          0.874175143091235,
          0.8818014968581223,
          0.881898528123277,
          0.8814565338400507,
          0.8782189037516706,
          0.8817465915826656,
          0.8819998413099308,
          0.8817435422360133,
          0.8813904210195288,
          0.8805842024163966,
          0.8762682423742467,
          0.8817475705186993,
          0.8798468129004814,
          0.8780008762767763,
          0.8818607169740973,
          0.8822270829611755,
          0.8815645685046718,
          0.8820702981813687,
          0.8817127565655568,
          0.8818743366671384,
          0.8817990554611745,
          0.8816700716215651,
          0.8819125111285853,
          0.8818487479030417,
          0.8819127801295211,
          0.8821361082952345,
          0.8819882773924397,
          0.8818379535029331,
          0.881786237047063,
          0.8818808466625191,
          0.8821931071091322,
          0.8784902791290831,
          0.8766523242703979,
          0.8819399497145882,
          0.8820594227581944,
          0.8819453236256829,
          0.8821669075570098,
          0.8819939661526103,
          0.881889153842288,
          0.8819103117236631,
          0.8818436060353381,
          0.882131616546619,
          0.8818996480238027,
          0.8817533711847922
         ],
         "yaxis": "y6"
        }
       ],
       "layout": {
        "template": {
         "data": {
          "bar": [
           {
            "error_x": {
             "color": "#2a3f5f"
            },
            "error_y": {
             "color": "#2a3f5f"
            },
            "marker": {
             "line": {
              "color": "#E5ECF6",
              "width": 0.5
             },
             "pattern": {
              "fillmode": "overlay",
              "size": 10,
              "solidity": 0.2
             }
            },
            "type": "bar"
           }
          ],
          "barpolar": [
           {
            "marker": {
             "line": {
              "color": "#E5ECF6",
              "width": 0.5
             },
             "pattern": {
              "fillmode": "overlay",
              "size": 10,
              "solidity": 0.2
             }
            },
            "type": "barpolar"
           }
          ],
          "carpet": [
           {
            "aaxis": {
             "endlinecolor": "#2a3f5f",
             "gridcolor": "white",
             "linecolor": "white",
             "minorgridcolor": "white",
             "startlinecolor": "#2a3f5f"
            },
            "baxis": {
             "endlinecolor": "#2a3f5f",
             "gridcolor": "white",
             "linecolor": "white",
             "minorgridcolor": "white",
             "startlinecolor": "#2a3f5f"
            },
            "type": "carpet"
           }
          ],
          "choropleth": [
           {
            "colorbar": {
             "outlinewidth": 0,
             "ticks": ""
            },
            "type": "choropleth"
           }
          ],
          "contour": [
           {
            "colorbar": {
             "outlinewidth": 0,
             "ticks": ""
            },
            "colorscale": [
             [
              0,
              "#0d0887"
             ],
             [
              0.1111111111111111,
              "#46039f"
             ],
             [
              0.2222222222222222,
              "#7201a8"
             ],
             [
              0.3333333333333333,
              "#9c179e"
             ],
             [
              0.4444444444444444,
              "#bd3786"
             ],
             [
              0.5555555555555556,
              "#d8576b"
             ],
             [
              0.6666666666666666,
              "#ed7953"
             ],
             [
              0.7777777777777778,
              "#fb9f3a"
             ],
             [
              0.8888888888888888,
              "#fdca26"
             ],
             [
              1,
              "#f0f921"
             ]
            ],
            "type": "contour"
           }
          ],
          "contourcarpet": [
           {
            "colorbar": {
             "outlinewidth": 0,
             "ticks": ""
            },
            "type": "contourcarpet"
           }
          ],
          "heatmap": [
           {
            "colorbar": {
             "outlinewidth": 0,
             "ticks": ""
            },
            "colorscale": [
             [
              0,
              "#0d0887"
             ],
             [
              0.1111111111111111,
              "#46039f"
             ],
             [
              0.2222222222222222,
              "#7201a8"
             ],
             [
              0.3333333333333333,
              "#9c179e"
             ],
             [
              0.4444444444444444,
              "#bd3786"
             ],
             [
              0.5555555555555556,
              "#d8576b"
             ],
             [
              0.6666666666666666,
              "#ed7953"
             ],
             [
              0.7777777777777778,
              "#fb9f3a"
             ],
             [
              0.8888888888888888,
              "#fdca26"
             ],
             [
              1,
              "#f0f921"
             ]
            ],
            "type": "heatmap"
           }
          ],
          "heatmapgl": [
           {
            "colorbar": {
             "outlinewidth": 0,
             "ticks": ""
            },
            "colorscale": [
             [
              0,
              "#0d0887"
             ],
             [
              0.1111111111111111,
              "#46039f"
             ],
             [
              0.2222222222222222,
              "#7201a8"
             ],
             [
              0.3333333333333333,
              "#9c179e"
             ],
             [
              0.4444444444444444,
              "#bd3786"
             ],
             [
              0.5555555555555556,
              "#d8576b"
             ],
             [
              0.6666666666666666,
              "#ed7953"
             ],
             [
              0.7777777777777778,
              "#fb9f3a"
             ],
             [
              0.8888888888888888,
              "#fdca26"
             ],
             [
              1,
              "#f0f921"
             ]
            ],
            "type": "heatmapgl"
           }
          ],
          "histogram": [
           {
            "marker": {
             "pattern": {
              "fillmode": "overlay",
              "size": 10,
              "solidity": 0.2
             }
            },
            "type": "histogram"
           }
          ],
          "histogram2d": [
           {
            "colorbar": {
             "outlinewidth": 0,
             "ticks": ""
            },
            "colorscale": [
             [
              0,
              "#0d0887"
             ],
             [
              0.1111111111111111,
              "#46039f"
             ],
             [
              0.2222222222222222,
              "#7201a8"
             ],
             [
              0.3333333333333333,
              "#9c179e"
             ],
             [
              0.4444444444444444,
              "#bd3786"
             ],
             [
              0.5555555555555556,
              "#d8576b"
             ],
             [
              0.6666666666666666,
              "#ed7953"
             ],
             [
              0.7777777777777778,
              "#fb9f3a"
             ],
             [
              0.8888888888888888,
              "#fdca26"
             ],
             [
              1,
              "#f0f921"
             ]
            ],
            "type": "histogram2d"
           }
          ],
          "histogram2dcontour": [
           {
            "colorbar": {
             "outlinewidth": 0,
             "ticks": ""
            },
            "colorscale": [
             [
              0,
              "#0d0887"
             ],
             [
              0.1111111111111111,
              "#46039f"
             ],
             [
              0.2222222222222222,
              "#7201a8"
             ],
             [
              0.3333333333333333,
              "#9c179e"
             ],
             [
              0.4444444444444444,
              "#bd3786"
             ],
             [
              0.5555555555555556,
              "#d8576b"
             ],
             [
              0.6666666666666666,
              "#ed7953"
             ],
             [
              0.7777777777777778,
              "#fb9f3a"
             ],
             [
              0.8888888888888888,
              "#fdca26"
             ],
             [
              1,
              "#f0f921"
             ]
            ],
            "type": "histogram2dcontour"
           }
          ],
          "mesh3d": [
           {
            "colorbar": {
             "outlinewidth": 0,
             "ticks": ""
            },
            "type": "mesh3d"
           }
          ],
          "parcoords": [
           {
            "line": {
             "colorbar": {
              "outlinewidth": 0,
              "ticks": ""
             }
            },
            "type": "parcoords"
           }
          ],
          "pie": [
           {
            "automargin": true,
            "type": "pie"
           }
          ],
          "scatter": [
           {
            "fillpattern": {
             "fillmode": "overlay",
             "size": 10,
             "solidity": 0.2
            },
            "type": "scatter"
           }
          ],
          "scatter3d": [
           {
            "line": {
             "colorbar": {
              "outlinewidth": 0,
              "ticks": ""
             }
            },
            "marker": {
             "colorbar": {
              "outlinewidth": 0,
              "ticks": ""
             }
            },
            "type": "scatter3d"
           }
          ],
          "scattercarpet": [
           {
            "marker": {
             "colorbar": {
              "outlinewidth": 0,
              "ticks": ""
             }
            },
            "type": "scattercarpet"
           }
          ],
          "scattergeo": [
           {
            "marker": {
             "colorbar": {
              "outlinewidth": 0,
              "ticks": ""
             }
            },
            "type": "scattergeo"
           }
          ],
          "scattergl": [
           {
            "marker": {
             "colorbar": {
              "outlinewidth": 0,
              "ticks": ""
             }
            },
            "type": "scattergl"
           }
          ],
          "scattermapbox": [
           {
            "marker": {
             "colorbar": {
              "outlinewidth": 0,
              "ticks": ""
             }
            },
            "type": "scattermapbox"
           }
          ],
          "scatterpolar": [
           {
            "marker": {
             "colorbar": {
              "outlinewidth": 0,
              "ticks": ""
             }
            },
            "type": "scatterpolar"
           }
          ],
          "scatterpolargl": [
           {
            "marker": {
             "colorbar": {
              "outlinewidth": 0,
              "ticks": ""
             }
            },
            "type": "scatterpolargl"
           }
          ],
          "scatterternary": [
           {
            "marker": {
             "colorbar": {
              "outlinewidth": 0,
              "ticks": ""
             }
            },
            "type": "scatterternary"
           }
          ],
          "surface": [
           {
            "colorbar": {
             "outlinewidth": 0,
             "ticks": ""
            },
            "colorscale": [
             [
              0,
              "#0d0887"
             ],
             [
              0.1111111111111111,
              "#46039f"
             ],
             [
              0.2222222222222222,
              "#7201a8"
             ],
             [
              0.3333333333333333,
              "#9c179e"
             ],
             [
              0.4444444444444444,
              "#bd3786"
             ],
             [
              0.5555555555555556,
              "#d8576b"
             ],
             [
              0.6666666666666666,
              "#ed7953"
             ],
             [
              0.7777777777777778,
              "#fb9f3a"
             ],
             [
              0.8888888888888888,
              "#fdca26"
             ],
             [
              1,
              "#f0f921"
             ]
            ],
            "type": "surface"
           }
          ],
          "table": [
           {
            "cells": {
             "fill": {
              "color": "#EBF0F8"
             },
             "line": {
              "color": "white"
             }
            },
            "header": {
             "fill": {
              "color": "#C8D4E3"
             },
             "line": {
              "color": "white"
             }
            },
            "type": "table"
           }
          ]
         },
         "layout": {
          "annotationdefaults": {
           "arrowcolor": "#2a3f5f",
           "arrowhead": 0,
           "arrowwidth": 1
          },
          "autotypenumbers": "strict",
          "coloraxis": {
           "colorbar": {
            "outlinewidth": 0,
            "ticks": ""
           }
          },
          "colorscale": {
           "diverging": [
            [
             0,
             "#8e0152"
            ],
            [
             0.1,
             "#c51b7d"
            ],
            [
             0.2,
             "#de77ae"
            ],
            [
             0.3,
             "#f1b6da"
            ],
            [
             0.4,
             "#fde0ef"
            ],
            [
             0.5,
             "#f7f7f7"
            ],
            [
             0.6,
             "#e6f5d0"
            ],
            [
             0.7,
             "#b8e186"
            ],
            [
             0.8,
             "#7fbc41"
            ],
            [
             0.9,
             "#4d9221"
            ],
            [
             1,
             "#276419"
            ]
           ],
           "sequential": [
            [
             0,
             "#0d0887"
            ],
            [
             0.1111111111111111,
             "#46039f"
            ],
            [
             0.2222222222222222,
             "#7201a8"
            ],
            [
             0.3333333333333333,
             "#9c179e"
            ],
            [
             0.4444444444444444,
             "#bd3786"
            ],
            [
             0.5555555555555556,
             "#d8576b"
            ],
            [
             0.6666666666666666,
             "#ed7953"
            ],
            [
             0.7777777777777778,
             "#fb9f3a"
            ],
            [
             0.8888888888888888,
             "#fdca26"
            ],
            [
             1,
             "#f0f921"
            ]
           ],
           "sequentialminus": [
            [
             0,
             "#0d0887"
            ],
            [
             0.1111111111111111,
             "#46039f"
            ],
            [
             0.2222222222222222,
             "#7201a8"
            ],
            [
             0.3333333333333333,
             "#9c179e"
            ],
            [
             0.4444444444444444,
             "#bd3786"
            ],
            [
             0.5555555555555556,
             "#d8576b"
            ],
            [
             0.6666666666666666,
             "#ed7953"
            ],
            [
             0.7777777777777778,
             "#fb9f3a"
            ],
            [
             0.8888888888888888,
             "#fdca26"
            ],
            [
             1,
             "#f0f921"
            ]
           ]
          },
          "colorway": [
           "#636efa",
           "#EF553B",
           "#00cc96",
           "#ab63fa",
           "#FFA15A",
           "#19d3f3",
           "#FF6692",
           "#B6E880",
           "#FF97FF",
           "#FECB52"
          ],
          "font": {
           "color": "#2a3f5f"
          },
          "geo": {
           "bgcolor": "white",
           "lakecolor": "white",
           "landcolor": "#E5ECF6",
           "showlakes": true,
           "showland": true,
           "subunitcolor": "white"
          },
          "hoverlabel": {
           "align": "left"
          },
          "hovermode": "closest",
          "mapbox": {
           "style": "light"
          },
          "paper_bgcolor": "white",
          "plot_bgcolor": "#E5ECF6",
          "polar": {
           "angularaxis": {
            "gridcolor": "white",
            "linecolor": "white",
            "ticks": ""
           },
           "bgcolor": "#E5ECF6",
           "radialaxis": {
            "gridcolor": "white",
            "linecolor": "white",
            "ticks": ""
           }
          },
          "scene": {
           "xaxis": {
            "backgroundcolor": "#E5ECF6",
            "gridcolor": "white",
            "gridwidth": 2,
            "linecolor": "white",
            "showbackground": true,
            "ticks": "",
            "zerolinecolor": "white"
           },
           "yaxis": {
            "backgroundcolor": "#E5ECF6",
            "gridcolor": "white",
            "gridwidth": 2,
            "linecolor": "white",
            "showbackground": true,
            "ticks": "",
            "zerolinecolor": "white"
           },
           "zaxis": {
            "backgroundcolor": "#E5ECF6",
            "gridcolor": "white",
            "gridwidth": 2,
            "linecolor": "white",
            "showbackground": true,
            "ticks": "",
            "zerolinecolor": "white"
           }
          },
          "shapedefaults": {
           "line": {
            "color": "#2a3f5f"
           }
          },
          "ternary": {
           "aaxis": {
            "gridcolor": "white",
            "linecolor": "white",
            "ticks": ""
           },
           "baxis": {
            "gridcolor": "white",
            "linecolor": "white",
            "ticks": ""
           },
           "bgcolor": "#E5ECF6",
           "caxis": {
            "gridcolor": "white",
            "linecolor": "white",
            "ticks": ""
           }
          },
          "title": {
           "x": 0.05
          },
          "xaxis": {
           "automargin": true,
           "gridcolor": "white",
           "linecolor": "white",
           "ticks": "",
           "title": {
            "standoff": 15
           },
           "zerolinecolor": "white",
           "zerolinewidth": 2
          },
          "yaxis": {
           "automargin": true,
           "gridcolor": "white",
           "linecolor": "white",
           "ticks": "",
           "title": {
            "standoff": 15
           },
           "zerolinecolor": "white",
           "zerolinewidth": 2
          }
         }
        },
        "title": {
         "text": "Slice Plot"
        },
        "width": 1800,
        "xaxis": {
         "anchor": "y",
         "domain": [
          0,
          0.1388888888888889
         ],
         "title": {
          "text": "alpha"
         },
         "type": "log"
        },
        "xaxis2": {
         "anchor": "y2",
         "domain": [
          0.17222222222222222,
          0.3111111111111111
         ],
         "title": {
          "text": "early_stopping_rounds"
         }
        },
        "xaxis3": {
         "anchor": "y3",
         "domain": [
          0.34444444444444444,
          0.48333333333333334
         ],
         "title": {
          "text": "lambda"
         },
         "type": "log"
        },
        "xaxis4": {
         "anchor": "y4",
         "domain": [
          0.5166666666666667,
          0.6555555555555557
         ],
         "title": {
          "text": "learning_rate"
         },
         "type": "log"
        },
        "xaxis5": {
         "anchor": "y5",
         "domain": [
          0.6888888888888889,
          0.8277777777777777
         ],
         "title": {
          "text": "n_estimators"
         },
         "type": "log"
        },
        "xaxis6": {
         "anchor": "y6",
         "domain": [
          0.861111111111111,
          1
         ],
         "title": {
          "text": "subsample"
         },
         "type": "log"
        },
        "yaxis": {
         "anchor": "x",
         "domain": [
          0,
          1
         ],
         "title": {
          "text": "Objective Value"
         }
        },
        "yaxis2": {
         "anchor": "x2",
         "domain": [
          0,
          1
         ],
         "matches": "y",
         "showticklabels": false
        },
        "yaxis3": {
         "anchor": "x3",
         "domain": [
          0,
          1
         ],
         "matches": "y",
         "showticklabels": false
        },
        "yaxis4": {
         "anchor": "x4",
         "domain": [
          0,
          1
         ],
         "matches": "y",
         "showticklabels": false
        },
        "yaxis5": {
         "anchor": "x5",
         "domain": [
          0,
          1
         ],
         "matches": "y",
         "showticklabels": false
        },
        "yaxis6": {
         "anchor": "x6",
         "domain": [
          0,
          1
         ],
         "matches": "y",
         "showticklabels": false
        }
       }
      }
     },
     "metadata": {},
     "output_type": "display_data"
    }
   ],
   "source": [
    "optuna.visualization.plot_slice(study, params=['alpha', 'lambda', 'subsample',\n",
    "                                               'early_stopping_rounds',\n",
    "                                               'n_estimators',\n",
    "                                               'learning_rate'])"
   ]
  },
  {
   "cell_type": "code",
   "execution_count": 38,
   "metadata": {},
   "outputs": [
    {
     "data": {
      "application/vnd.plotly.v1+json": {
       "config": {
        "plotlyServerURL": "https://plot.ly"
       },
       "data": [
        {
         "cliponaxis": false,
         "hovertemplate": [
          "early_stopping_rounds (IntDistribution): 0.001002825315345376<extra></extra>",
          "lambda (FloatDistribution): 0.00437430318825541<extra></extra>",
          "subsample (FloatDistribution): 0.010211628245300312<extra></extra>",
          "n_estimators (IntDistribution): 0.06262683755622918<extra></extra>",
          "learning_rate (FloatDistribution): 0.07338071256045454<extra></extra>",
          "alpha (FloatDistribution): 0.8484036931344152<extra></extra>"
         ],
         "name": "Objective Value",
         "orientation": "h",
         "text": [
          "<0.01",
          "<0.01",
          "0.01",
          "0.06",
          "0.07",
          "0.85"
         ],
         "textposition": "outside",
         "type": "bar",
         "x": [
          0.001002825315345376,
          0.00437430318825541,
          0.010211628245300312,
          0.06262683755622918,
          0.07338071256045454,
          0.8484036931344152
         ],
         "y": [
          "early_stopping_rounds",
          "lambda",
          "subsample",
          "n_estimators",
          "learning_rate",
          "alpha"
         ]
        }
       ],
       "layout": {
        "template": {
         "data": {
          "bar": [
           {
            "error_x": {
             "color": "#2a3f5f"
            },
            "error_y": {
             "color": "#2a3f5f"
            },
            "marker": {
             "line": {
              "color": "#E5ECF6",
              "width": 0.5
             },
             "pattern": {
              "fillmode": "overlay",
              "size": 10,
              "solidity": 0.2
             }
            },
            "type": "bar"
           }
          ],
          "barpolar": [
           {
            "marker": {
             "line": {
              "color": "#E5ECF6",
              "width": 0.5
             },
             "pattern": {
              "fillmode": "overlay",
              "size": 10,
              "solidity": 0.2
             }
            },
            "type": "barpolar"
           }
          ],
          "carpet": [
           {
            "aaxis": {
             "endlinecolor": "#2a3f5f",
             "gridcolor": "white",
             "linecolor": "white",
             "minorgridcolor": "white",
             "startlinecolor": "#2a3f5f"
            },
            "baxis": {
             "endlinecolor": "#2a3f5f",
             "gridcolor": "white",
             "linecolor": "white",
             "minorgridcolor": "white",
             "startlinecolor": "#2a3f5f"
            },
            "type": "carpet"
           }
          ],
          "choropleth": [
           {
            "colorbar": {
             "outlinewidth": 0,
             "ticks": ""
            },
            "type": "choropleth"
           }
          ],
          "contour": [
           {
            "colorbar": {
             "outlinewidth": 0,
             "ticks": ""
            },
            "colorscale": [
             [
              0,
              "#0d0887"
             ],
             [
              0.1111111111111111,
              "#46039f"
             ],
             [
              0.2222222222222222,
              "#7201a8"
             ],
             [
              0.3333333333333333,
              "#9c179e"
             ],
             [
              0.4444444444444444,
              "#bd3786"
             ],
             [
              0.5555555555555556,
              "#d8576b"
             ],
             [
              0.6666666666666666,
              "#ed7953"
             ],
             [
              0.7777777777777778,
              "#fb9f3a"
             ],
             [
              0.8888888888888888,
              "#fdca26"
             ],
             [
              1,
              "#f0f921"
             ]
            ],
            "type": "contour"
           }
          ],
          "contourcarpet": [
           {
            "colorbar": {
             "outlinewidth": 0,
             "ticks": ""
            },
            "type": "contourcarpet"
           }
          ],
          "heatmap": [
           {
            "colorbar": {
             "outlinewidth": 0,
             "ticks": ""
            },
            "colorscale": [
             [
              0,
              "#0d0887"
             ],
             [
              0.1111111111111111,
              "#46039f"
             ],
             [
              0.2222222222222222,
              "#7201a8"
             ],
             [
              0.3333333333333333,
              "#9c179e"
             ],
             [
              0.4444444444444444,
              "#bd3786"
             ],
             [
              0.5555555555555556,
              "#d8576b"
             ],
             [
              0.6666666666666666,
              "#ed7953"
             ],
             [
              0.7777777777777778,
              "#fb9f3a"
             ],
             [
              0.8888888888888888,
              "#fdca26"
             ],
             [
              1,
              "#f0f921"
             ]
            ],
            "type": "heatmap"
           }
          ],
          "heatmapgl": [
           {
            "colorbar": {
             "outlinewidth": 0,
             "ticks": ""
            },
            "colorscale": [
             [
              0,
              "#0d0887"
             ],
             [
              0.1111111111111111,
              "#46039f"
             ],
             [
              0.2222222222222222,
              "#7201a8"
             ],
             [
              0.3333333333333333,
              "#9c179e"
             ],
             [
              0.4444444444444444,
              "#bd3786"
             ],
             [
              0.5555555555555556,
              "#d8576b"
             ],
             [
              0.6666666666666666,
              "#ed7953"
             ],
             [
              0.7777777777777778,
              "#fb9f3a"
             ],
             [
              0.8888888888888888,
              "#fdca26"
             ],
             [
              1,
              "#f0f921"
             ]
            ],
            "type": "heatmapgl"
           }
          ],
          "histogram": [
           {
            "marker": {
             "pattern": {
              "fillmode": "overlay",
              "size": 10,
              "solidity": 0.2
             }
            },
            "type": "histogram"
           }
          ],
          "histogram2d": [
           {
            "colorbar": {
             "outlinewidth": 0,
             "ticks": ""
            },
            "colorscale": [
             [
              0,
              "#0d0887"
             ],
             [
              0.1111111111111111,
              "#46039f"
             ],
             [
              0.2222222222222222,
              "#7201a8"
             ],
             [
              0.3333333333333333,
              "#9c179e"
             ],
             [
              0.4444444444444444,
              "#bd3786"
             ],
             [
              0.5555555555555556,
              "#d8576b"
             ],
             [
              0.6666666666666666,
              "#ed7953"
             ],
             [
              0.7777777777777778,
              "#fb9f3a"
             ],
             [
              0.8888888888888888,
              "#fdca26"
             ],
             [
              1,
              "#f0f921"
             ]
            ],
            "type": "histogram2d"
           }
          ],
          "histogram2dcontour": [
           {
            "colorbar": {
             "outlinewidth": 0,
             "ticks": ""
            },
            "colorscale": [
             [
              0,
              "#0d0887"
             ],
             [
              0.1111111111111111,
              "#46039f"
             ],
             [
              0.2222222222222222,
              "#7201a8"
             ],
             [
              0.3333333333333333,
              "#9c179e"
             ],
             [
              0.4444444444444444,
              "#bd3786"
             ],
             [
              0.5555555555555556,
              "#d8576b"
             ],
             [
              0.6666666666666666,
              "#ed7953"
             ],
             [
              0.7777777777777778,
              "#fb9f3a"
             ],
             [
              0.8888888888888888,
              "#fdca26"
             ],
             [
              1,
              "#f0f921"
             ]
            ],
            "type": "histogram2dcontour"
           }
          ],
          "mesh3d": [
           {
            "colorbar": {
             "outlinewidth": 0,
             "ticks": ""
            },
            "type": "mesh3d"
           }
          ],
          "parcoords": [
           {
            "line": {
             "colorbar": {
              "outlinewidth": 0,
              "ticks": ""
             }
            },
            "type": "parcoords"
           }
          ],
          "pie": [
           {
            "automargin": true,
            "type": "pie"
           }
          ],
          "scatter": [
           {
            "fillpattern": {
             "fillmode": "overlay",
             "size": 10,
             "solidity": 0.2
            },
            "type": "scatter"
           }
          ],
          "scatter3d": [
           {
            "line": {
             "colorbar": {
              "outlinewidth": 0,
              "ticks": ""
             }
            },
            "marker": {
             "colorbar": {
              "outlinewidth": 0,
              "ticks": ""
             }
            },
            "type": "scatter3d"
           }
          ],
          "scattercarpet": [
           {
            "marker": {
             "colorbar": {
              "outlinewidth": 0,
              "ticks": ""
             }
            },
            "type": "scattercarpet"
           }
          ],
          "scattergeo": [
           {
            "marker": {
             "colorbar": {
              "outlinewidth": 0,
              "ticks": ""
             }
            },
            "type": "scattergeo"
           }
          ],
          "scattergl": [
           {
            "marker": {
             "colorbar": {
              "outlinewidth": 0,
              "ticks": ""
             }
            },
            "type": "scattergl"
           }
          ],
          "scattermapbox": [
           {
            "marker": {
             "colorbar": {
              "outlinewidth": 0,
              "ticks": ""
             }
            },
            "type": "scattermapbox"
           }
          ],
          "scatterpolar": [
           {
            "marker": {
             "colorbar": {
              "outlinewidth": 0,
              "ticks": ""
             }
            },
            "type": "scatterpolar"
           }
          ],
          "scatterpolargl": [
           {
            "marker": {
             "colorbar": {
              "outlinewidth": 0,
              "ticks": ""
             }
            },
            "type": "scatterpolargl"
           }
          ],
          "scatterternary": [
           {
            "marker": {
             "colorbar": {
              "outlinewidth": 0,
              "ticks": ""
             }
            },
            "type": "scatterternary"
           }
          ],
          "surface": [
           {
            "colorbar": {
             "outlinewidth": 0,
             "ticks": ""
            },
            "colorscale": [
             [
              0,
              "#0d0887"
             ],
             [
              0.1111111111111111,
              "#46039f"
             ],
             [
              0.2222222222222222,
              "#7201a8"
             ],
             [
              0.3333333333333333,
              "#9c179e"
             ],
             [
              0.4444444444444444,
              "#bd3786"
             ],
             [
              0.5555555555555556,
              "#d8576b"
             ],
             [
              0.6666666666666666,
              "#ed7953"
             ],
             [
              0.7777777777777778,
              "#fb9f3a"
             ],
             [
              0.8888888888888888,
              "#fdca26"
             ],
             [
              1,
              "#f0f921"
             ]
            ],
            "type": "surface"
           }
          ],
          "table": [
           {
            "cells": {
             "fill": {
              "color": "#EBF0F8"
             },
             "line": {
              "color": "white"
             }
            },
            "header": {
             "fill": {
              "color": "#C8D4E3"
             },
             "line": {
              "color": "white"
             }
            },
            "type": "table"
           }
          ]
         },
         "layout": {
          "annotationdefaults": {
           "arrowcolor": "#2a3f5f",
           "arrowhead": 0,
           "arrowwidth": 1
          },
          "autotypenumbers": "strict",
          "coloraxis": {
           "colorbar": {
            "outlinewidth": 0,
            "ticks": ""
           }
          },
          "colorscale": {
           "diverging": [
            [
             0,
             "#8e0152"
            ],
            [
             0.1,
             "#c51b7d"
            ],
            [
             0.2,
             "#de77ae"
            ],
            [
             0.3,
             "#f1b6da"
            ],
            [
             0.4,
             "#fde0ef"
            ],
            [
             0.5,
             "#f7f7f7"
            ],
            [
             0.6,
             "#e6f5d0"
            ],
            [
             0.7,
             "#b8e186"
            ],
            [
             0.8,
             "#7fbc41"
            ],
            [
             0.9,
             "#4d9221"
            ],
            [
             1,
             "#276419"
            ]
           ],
           "sequential": [
            [
             0,
             "#0d0887"
            ],
            [
             0.1111111111111111,
             "#46039f"
            ],
            [
             0.2222222222222222,
             "#7201a8"
            ],
            [
             0.3333333333333333,
             "#9c179e"
            ],
            [
             0.4444444444444444,
             "#bd3786"
            ],
            [
             0.5555555555555556,
             "#d8576b"
            ],
            [
             0.6666666666666666,
             "#ed7953"
            ],
            [
             0.7777777777777778,
             "#fb9f3a"
            ],
            [
             0.8888888888888888,
             "#fdca26"
            ],
            [
             1,
             "#f0f921"
            ]
           ],
           "sequentialminus": [
            [
             0,
             "#0d0887"
            ],
            [
             0.1111111111111111,
             "#46039f"
            ],
            [
             0.2222222222222222,
             "#7201a8"
            ],
            [
             0.3333333333333333,
             "#9c179e"
            ],
            [
             0.4444444444444444,
             "#bd3786"
            ],
            [
             0.5555555555555556,
             "#d8576b"
            ],
            [
             0.6666666666666666,
             "#ed7953"
            ],
            [
             0.7777777777777778,
             "#fb9f3a"
            ],
            [
             0.8888888888888888,
             "#fdca26"
            ],
            [
             1,
             "#f0f921"
            ]
           ]
          },
          "colorway": [
           "#636efa",
           "#EF553B",
           "#00cc96",
           "#ab63fa",
           "#FFA15A",
           "#19d3f3",
           "#FF6692",
           "#B6E880",
           "#FF97FF",
           "#FECB52"
          ],
          "font": {
           "color": "#2a3f5f"
          },
          "geo": {
           "bgcolor": "white",
           "lakecolor": "white",
           "landcolor": "#E5ECF6",
           "showlakes": true,
           "showland": true,
           "subunitcolor": "white"
          },
          "hoverlabel": {
           "align": "left"
          },
          "hovermode": "closest",
          "mapbox": {
           "style": "light"
          },
          "paper_bgcolor": "white",
          "plot_bgcolor": "#E5ECF6",
          "polar": {
           "angularaxis": {
            "gridcolor": "white",
            "linecolor": "white",
            "ticks": ""
           },
           "bgcolor": "#E5ECF6",
           "radialaxis": {
            "gridcolor": "white",
            "linecolor": "white",
            "ticks": ""
           }
          },
          "scene": {
           "xaxis": {
            "backgroundcolor": "#E5ECF6",
            "gridcolor": "white",
            "gridwidth": 2,
            "linecolor": "white",
            "showbackground": true,
            "ticks": "",
            "zerolinecolor": "white"
           },
           "yaxis": {
            "backgroundcolor": "#E5ECF6",
            "gridcolor": "white",
            "gridwidth": 2,
            "linecolor": "white",
            "showbackground": true,
            "ticks": "",
            "zerolinecolor": "white"
           },
           "zaxis": {
            "backgroundcolor": "#E5ECF6",
            "gridcolor": "white",
            "gridwidth": 2,
            "linecolor": "white",
            "showbackground": true,
            "ticks": "",
            "zerolinecolor": "white"
           }
          },
          "shapedefaults": {
           "line": {
            "color": "#2a3f5f"
           }
          },
          "ternary": {
           "aaxis": {
            "gridcolor": "white",
            "linecolor": "white",
            "ticks": ""
           },
           "baxis": {
            "gridcolor": "white",
            "linecolor": "white",
            "ticks": ""
           },
           "bgcolor": "#E5ECF6",
           "caxis": {
            "gridcolor": "white",
            "linecolor": "white",
            "ticks": ""
           }
          },
          "title": {
           "x": 0.05
          },
          "xaxis": {
           "automargin": true,
           "gridcolor": "white",
           "linecolor": "white",
           "ticks": "",
           "title": {
            "standoff": 15
           },
           "zerolinecolor": "white",
           "zerolinewidth": 2
          },
          "yaxis": {
           "automargin": true,
           "gridcolor": "white",
           "linecolor": "white",
           "ticks": "",
           "title": {
            "standoff": 15
           },
           "zerolinecolor": "white",
           "zerolinewidth": 2
          }
         }
        },
        "title": {
         "text": "Hyperparameter Importances"
        },
        "xaxis": {
         "title": {
          "text": "Hyperparameter Importance"
         }
        },
        "yaxis": {
         "title": {
          "text": "Hyperparameter"
         }
        }
       }
      }
     },
     "metadata": {},
     "output_type": "display_data"
    }
   ],
   "source": [
    "optuna.visualization.plot_param_importances(study)"
   ]
  },
  {
   "cell_type": "code",
   "execution_count": 69,
   "metadata": {},
   "outputs": [
    {
     "name": "stdout",
     "output_type": "stream",
     "text": [
      "{'n_estimators': 539, 'early_stopping_rounds': 10, 'learning_rate': 0.010053949164614676, 'lambda': 0.008225508298397766, 'alpha': 0.2111238039606713, 'subsample': 0.7209550358948689}\n"
     ]
    }
   ],
   "source": [
    "print(study.best_params)"
   ]
  },
  {
   "cell_type": "markdown",
   "metadata": {},
   "source": [
    "## Random Forest"
   ]
  },
  {
   "cell_type": "code",
   "execution_count": 62,
   "metadata": {},
   "outputs": [],
   "source": [
    "from sklearn.metrics import roc_auc_score\n",
    "from sklearn.ensemble import RandomForestClassifier\n",
    "\n",
    "def cv_rf_score(params):\n",
    "    aucs = np.zeros(7)\n",
    "    for fold in range(5):\n",
    "\n",
    "        # Fit Model\n",
    "        model = RandomForestClassifier(**params)\n",
    "        model.fit(*trains[fold])\n",
    "\n",
    "        # Calculate ROCS\n",
    "        X_val, y_val = valids[fold]\n",
    "        preds = model.predict_proba(X_val)\n",
    "        preds = np.array(preds)[:,:,1].T\n",
    "        aucs += np.array(roc_auc_score(y_val, preds, multi_class='ovr', average=None))\n",
    "\n",
    "    return aucs.mean() / 5\n",
    "\n",
    "def rf_objective(trial):\n",
    "    params = {\n",
    "        'n_estimators': trial.suggest_int('n_estimators', 50, 1000, log=True),\n",
    "        'max_depth': trial.suggest_int('max_depth', 5, 50, log=True),\n",
    "        'max_samples': trial.suggest_float('max_samples', 1e-3, 1, log=True),\n",
    "        'class_weight': 'balanced'\n",
    "    }\n",
    "\n",
    "    return cv_rf_score(params)"
   ]
  },
  {
   "cell_type": "code",
   "execution_count": 63,
   "metadata": {},
   "outputs": [
    {
     "name": "stderr",
     "output_type": "stream",
     "text": [
      "[I 2024-03-30 20:31:33,446] A new study created in memory with name: no-name-12623f6b-ea27-40aa-85a6-67f4a9e65862\n",
      "[I 2024-03-30 20:31:55,861] Trial 0 finished with value: 0.8634212690146436 and parameters: {'n_estimators': 529, 'max_depth': 6, 'max_samples': 0.013801811087332538}. Best is trial 0 with value: 0.8634212690146436.\n",
      "[I 2024-03-30 20:32:17,946] Trial 1 finished with value: 0.8730867647047053 and parameters: {'n_estimators': 232, 'max_depth': 10, 'max_samples': 0.11155986566957342}. Best is trial 1 with value: 0.8730867647047053.\n",
      "[I 2024-03-30 20:32:56,055] Trial 2 finished with value: 0.8755434641646135 and parameters: {'n_estimators': 178, 'max_depth': 12, 'max_samples': 0.3175155932895404}. Best is trial 2 with value: 0.8755434641646135.\n",
      "[I 2024-03-30 20:32:58,688] Trial 3 finished with value: 0.8431669111770509 and parameters: {'n_estimators': 59, 'max_depth': 16, 'max_samples': 0.00857076003713293}. Best is trial 2 with value: 0.8755434641646135.\n",
      "[I 2024-03-30 20:33:27,069] Trial 4 finished with value: 0.8673803823591111 and parameters: {'n_estimators': 697, 'max_depth': 9, 'max_samples': 0.007925232712610275}. Best is trial 2 with value: 0.8755434641646135.\n",
      "[I 2024-03-30 20:33:42,551] Trial 5 finished with value: 0.8649292477136281 and parameters: {'n_estimators': 374, 'max_depth': 37, 'max_samples': 0.00824463344014334}. Best is trial 2 with value: 0.8755434641646135.\n",
      "[I 2024-03-30 20:33:54,883] Trial 6 finished with value: 0.8486651574437956 and parameters: {'n_estimators': 324, 'max_depth': 11, 'max_samples': 0.0023329139407839}. Best is trial 2 with value: 0.8755434641646135.\n",
      "[I 2024-03-30 20:34:13,814] Trial 7 finished with value: 0.8427790369707283 and parameters: {'n_estimators': 504, 'max_depth': 17, 'max_samples': 0.0014918853442216404}. Best is trial 2 with value: 0.8755434641646135.\n",
      "[I 2024-03-30 20:37:47,609] Trial 8 finished with value: 0.865790203855769 and parameters: {'n_estimators': 858, 'max_depth': 7, 'max_samples': 0.8710715635333781}. Best is trial 2 with value: 0.8755434641646135.\n",
      "[I 2024-03-30 20:38:05,241] Trial 9 finished with value: 0.8673815818789359 and parameters: {'n_estimators': 75, 'max_depth': 8, 'max_samples': 0.6138221840171503}. Best is trial 2 with value: 0.8755434641646135.\n",
      "[I 2024-03-30 20:38:19,506] Trial 10 finished with value: 0.8707789270195097 and parameters: {'n_estimators': 113, 'max_depth': 27, 'max_samples': 0.12275418239181313}. Best is trial 2 with value: 0.8755434641646135.\n",
      "[I 2024-03-30 20:38:39,807] Trial 11 finished with value: 0.8752449675265931 and parameters: {'n_estimators': 175, 'max_depth': 13, 'max_samples': 0.12691115280299162}. Best is trial 2 with value: 0.8755434641646135.\n",
      "[I 2024-03-30 20:39:01,386] Trial 12 finished with value: 0.8716594405479297 and parameters: {'n_estimators': 144, 'max_depth': 20, 'max_samples': 0.1554249665582099}. Best is trial 2 with value: 0.8755434641646135.\n",
      "[I 2024-03-30 20:39:34,935] Trial 13 finished with value: 0.8756828745795954 and parameters: {'n_estimators': 164, 'max_depth': 14, 'max_samples': 0.262207859514781}. Best is trial 13 with value: 0.8756828745795954.\n",
      "[I 2024-03-30 20:40:09,080] Trial 14 finished with value: 0.872392175787318 and parameters: {'n_estimators': 116, 'max_depth': 23, 'max_samples': 0.34202109428352084}. Best is trial 13 with value: 0.8756828745795954.\n",
      "[I 2024-03-30 20:40:20,493] Trial 15 finished with value: 0.8574905084498043 and parameters: {'n_estimators': 238, 'max_depth': 5, 'max_samples': 0.03683886116186925}. Best is trial 13 with value: 0.8756828745795954.\n",
      "[I 2024-03-30 20:40:26,513] Trial 16 finished with value: 0.8635962744625834 and parameters: {'n_estimators': 89, 'max_depth': 50, 'max_samples': 0.045420299992144364}. Best is trial 13 with value: 0.8756828745795954.\n",
      "[I 2024-03-30 20:41:01,724] Trial 17 finished with value: 0.8748826855297063 and parameters: {'n_estimators': 178, 'max_depth': 12, 'max_samples': 0.2928348377430053}. Best is trial 13 with value: 0.8756828745795954.\n",
      "[I 2024-03-30 20:41:26,457] Trial 18 finished with value: 0.8740518513206832 and parameters: {'n_estimators': 317, 'max_depth': 26, 'max_samples': 0.05956172029751065}. Best is trial 13 with value: 0.8756828745795954.\n",
      "[I 2024-03-30 20:42:02,951] Trial 19 finished with value: 0.8752248656638402 and parameters: {'n_estimators': 142, 'max_depth': 14, 'max_samples': 0.36482699813131314}. Best is trial 13 with value: 0.8756828745795954.\n",
      "[I 2024-03-30 20:43:01,440] Trial 20 finished with value: 0.8690321188221338 and parameters: {'n_estimators': 94, 'max_depth': 34, 'max_samples': 0.9152882233034997}. Best is trial 13 with value: 0.8756828745795954.\n",
      "[I 2024-03-30 21:28:06,622] Trial 21 finished with value: 0.8756294975981416 and parameters: {'n_estimators': 185, 'max_depth': 14, 'max_samples': 0.24048921639386475}. Best is trial 13 with value: 0.8756828745795954.\n",
      "[I 2024-03-30 21:28:48,994] Trial 22 finished with value: 0.8756272452096807 and parameters: {'n_estimators': 192, 'max_depth': 19, 'max_samples': 0.24477828152609551}. Best is trial 13 with value: 0.8756828745795954.\n",
      "[I 2024-03-30 21:29:15,178] Trial 23 finished with value: 0.8757474743136786 and parameters: {'n_estimators': 253, 'max_depth': 19, 'max_samples': 0.0758301602279002}. Best is trial 23 with value: 0.8757474743136786.\n",
      "[I 2024-03-30 21:29:43,440] Trial 24 finished with value: 0.8745457174481663 and parameters: {'n_estimators': 276, 'max_depth': 16, 'max_samples': 0.07590996111687844}. Best is trial 23 with value: 0.8757474743136786.\n",
      "[I 2024-03-30 21:30:05,371] Trial 25 finished with value: 0.8709370075307896 and parameters: {'n_estimators': 398, 'max_depth': 21, 'max_samples': 0.022101400588047722}. Best is trial 23 with value: 0.8757474743136786.\n",
      "[I 2024-03-30 21:30:29,093] Trial 26 finished with value: 0.873870769172097 and parameters: {'n_estimators': 143, 'max_depth': 14, 'max_samples': 0.17682779023143436}. Best is trial 23 with value: 0.8757474743136786.\n",
      "[I 2024-03-30 21:32:27,557] Trial 27 finished with value: 0.875470719508807 and parameters: {'n_estimators': 260, 'max_depth': 29, 'max_samples': 0.5267945202659371}. Best is trial 23 with value: 0.8757474743136786.\n",
      "[I 2024-03-30 21:32:40,169] Trial 28 finished with value: 0.8688448117873395 and parameters: {'n_estimators': 208, 'max_depth': 18, 'max_samples': 0.02935903783588536}. Best is trial 23 with value: 0.8757474743136786.\n",
      "[I 2024-03-30 21:33:14,453] Trial 29 finished with value: 0.8662102040061237 and parameters: {'n_estimators': 473, 'max_depth': 7, 'max_samples': 0.08061572651130218}. Best is trial 23 with value: 0.8757474743136786.\n",
      "[I 2024-03-30 21:33:22,503] Trial 30 finished with value: 0.870131594362489 and parameters: {'n_estimators': 51, 'max_depth': 10, 'max_samples': 0.2161656511102695}. Best is trial 23 with value: 0.8757474743136786.\n",
      "[I 2024-03-30 21:34:04,247] Trial 31 finished with value: 0.8761264506801542 and parameters: {'n_estimators': 199, 'max_depth': 18, 'max_samples': 0.21952274750892842}. Best is trial 31 with value: 0.8761264506801542.\n",
      "[I 2024-03-30 21:36:02,951] Trial 32 finished with value: 0.8754251085102551 and parameters: {'n_estimators': 282, 'max_depth': 23, 'max_samples': 0.49117335751145036}. Best is trial 31 with value: 0.8761264506801542.\n",
      "[I 2024-03-30 21:36:26,222] Trial 33 finished with value: 0.87471630167035 and parameters: {'n_estimators': 210, 'max_depth': 15, 'max_samples': 0.08724683735955321}. Best is trial 31 with value: 0.8761264506801542.\n",
      "[I 2024-03-30 21:36:51,866] Trial 34 finished with value: 0.8746038221272883 and parameters: {'n_estimators': 155, 'max_depth': 12, 'max_samples': 0.19921500653442878}. Best is trial 31 with value: 0.8761264506801542.\n",
      "[I 2024-03-30 21:36:59,799] Trial 35 finished with value: 0.8688837631110813 and parameters: {'n_estimators': 108, 'max_depth': 10, 'max_samples': 0.052978174305095986}. Best is trial 31 with value: 0.8761264506801542.\n",
      "[I 2024-03-30 21:37:11,391] Trial 36 finished with value: 0.8664471864191293 and parameters: {'n_estimators': 233, 'max_depth': 16, 'max_samples': 0.015745354005891322}. Best is trial 31 with value: 0.8761264506801542.\n",
      "[I 2024-03-30 21:37:58,568] Trial 37 finished with value: 0.8762109445256876 and parameters: {'n_estimators': 369, 'max_depth': 22, 'max_samples': 0.1079475337139477}. Best is trial 37 with value: 0.8762109445256876.\n",
      "[I 2024-03-30 21:38:45,689] Trial 38 finished with value: 0.8774951780481963 and parameters: {'n_estimators': 393, 'max_depth': 31, 'max_samples': 0.09845541200113249}. Best is trial 38 with value: 0.8774951780481963.\n",
      "[I 2024-03-30 21:40:17,553] Trial 39 finished with value: 0.8783299699224513 and parameters: {'n_estimators': 694, 'max_depth': 34, 'max_samples': 0.1083034118469941}. Best is trial 39 with value: 0.8783299699224513.\n",
      "[I 2024-03-30 21:42:05,009] Trial 40 finished with value: 0.879035427244842 and parameters: {'n_estimators': 763, 'max_depth': 41, 'max_samples': 0.11622527608897594}. Best is trial 40 with value: 0.879035427244842.\n",
      "[I 2024-03-30 21:43:31,046] Trial 41 finished with value: 0.8782033502566927 and parameters: {'n_estimators': 650, 'max_depth': 41, 'max_samples': 0.10867262938307043}. Best is trial 40 with value: 0.879035427244842.\n",
      "[I 2024-03-30 21:44:54,300] Trial 42 finished with value: 0.8781195396885846 and parameters: {'n_estimators': 620, 'max_depth': 44, 'max_samples': 0.10763284633455657}. Best is trial 40 with value: 0.879035427244842.\n",
      "[I 2024-03-30 21:45:23,966] Trial 43 finished with value: 0.8596539913954914 and parameters: {'n_estimators': 648, 'max_depth': 48, 'max_samples': 0.004272695708212221}. Best is trial 40 with value: 0.879035427244842.\n",
      "[I 2024-03-30 21:47:53,614] Trial 44 finished with value: 0.878786744503888 and parameters: {'n_estimators': 990, 'max_depth': 41, 'max_samples': 0.12023821672164858}. Best is trial 40 with value: 0.879035427244842.\n",
      "[I 2024-03-30 21:50:29,227] Trial 45 finished with value: 0.878613151958136 and parameters: {'n_estimators': 928, 'max_depth': 42, 'max_samples': 0.14484198364761006}. Best is trial 40 with value: 0.879035427244842.\n",
      "[I 2024-03-30 21:52:53,319] Trial 46 finished with value: 0.8791672787317731 and parameters: {'n_estimators': 897, 'max_depth': 39, 'max_samples': 0.1358113726268003}. Best is trial 46 with value: 0.8791672787317731.\n",
      "[I 2024-03-30 21:55:42,697] Trial 47 finished with value: 0.879193867964878 and parameters: {'n_estimators': 982, 'max_depth': 38, 'max_samples': 0.16076430398856645}. Best is trial 47 with value: 0.879193867964878.\n",
      "[I 2024-03-30 21:58:32,353] Trial 48 finished with value: 0.8790834134504182 and parameters: {'n_estimators': 969, 'max_depth': 41, 'max_samples': 0.16569142657516855}. Best is trial 47 with value: 0.879193867964878.\n",
      "[I 2024-03-30 22:03:27,940] Trial 49 finished with value: 0.8781149028462666 and parameters: {'n_estimators': 794, 'max_depth': 38, 'max_samples': 0.36049740150327814}. Best is trial 47 with value: 0.879193867964878.\n"
     ]
    }
   ],
   "source": [
    "rf_study = optuna.create_study(direction='maximize')\n",
    "rf_study.optimize(rf_objective, n_trials=50)"
   ]
  },
  {
   "cell_type": "code",
   "execution_count": 65,
   "metadata": {},
   "outputs": [
    {
     "data": {
      "application/vnd.plotly.v1+json": {
       "config": {
        "plotlyServerURL": "https://plot.ly"
       },
       "data": [
        {
         "mode": "markers",
         "name": "Objective Value",
         "type": "scatter",
         "x": [
          0,
          1,
          2,
          3,
          4,
          5,
          6,
          7,
          8,
          9,
          10,
          11,
          12,
          13,
          14,
          15,
          16,
          17,
          18,
          19,
          20,
          21,
          22,
          23,
          24,
          25,
          26,
          27,
          28,
          29,
          30,
          31,
          32,
          33,
          34,
          35,
          36,
          37,
          38,
          39,
          40,
          41,
          42,
          43,
          44,
          45,
          46,
          47,
          48,
          49
         ],
         "y": [
          0.8634212690146436,
          0.8730867647047053,
          0.8755434641646135,
          0.8431669111770509,
          0.8673803823591111,
          0.8649292477136281,
          0.8486651574437956,
          0.8427790369707283,
          0.865790203855769,
          0.8673815818789359,
          0.8707789270195097,
          0.8752449675265931,
          0.8716594405479297,
          0.8756828745795954,
          0.872392175787318,
          0.8574905084498043,
          0.8635962744625834,
          0.8748826855297063,
          0.8740518513206832,
          0.8752248656638402,
          0.8690321188221338,
          0.8756294975981416,
          0.8756272452096807,
          0.8757474743136786,
          0.8745457174481663,
          0.8709370075307896,
          0.873870769172097,
          0.875470719508807,
          0.8688448117873395,
          0.8662102040061237,
          0.870131594362489,
          0.8761264506801542,
          0.8754251085102551,
          0.87471630167035,
          0.8746038221272883,
          0.8688837631110813,
          0.8664471864191293,
          0.8762109445256876,
          0.8774951780481963,
          0.8783299699224513,
          0.879035427244842,
          0.8782033502566927,
          0.8781195396885846,
          0.8596539913954914,
          0.878786744503888,
          0.878613151958136,
          0.8791672787317731,
          0.879193867964878,
          0.8790834134504182,
          0.8781149028462666
         ]
        },
        {
         "mode": "lines",
         "name": "Best Value",
         "type": "scatter",
         "x": [
          0,
          1,
          2,
          3,
          4,
          5,
          6,
          7,
          8,
          9,
          10,
          11,
          12,
          13,
          14,
          15,
          16,
          17,
          18,
          19,
          20,
          21,
          22,
          23,
          24,
          25,
          26,
          27,
          28,
          29,
          30,
          31,
          32,
          33,
          34,
          35,
          36,
          37,
          38,
          39,
          40,
          41,
          42,
          43,
          44,
          45,
          46,
          47,
          48,
          49
         ],
         "y": [
          0.8634212690146436,
          0.8730867647047053,
          0.8755434641646135,
          0.8755434641646135,
          0.8755434641646135,
          0.8755434641646135,
          0.8755434641646135,
          0.8755434641646135,
          0.8755434641646135,
          0.8755434641646135,
          0.8755434641646135,
          0.8755434641646135,
          0.8755434641646135,
          0.8756828745795954,
          0.8756828745795954,
          0.8756828745795954,
          0.8756828745795954,
          0.8756828745795954,
          0.8756828745795954,
          0.8756828745795954,
          0.8756828745795954,
          0.8756828745795954,
          0.8756828745795954,
          0.8757474743136786,
          0.8757474743136786,
          0.8757474743136786,
          0.8757474743136786,
          0.8757474743136786,
          0.8757474743136786,
          0.8757474743136786,
          0.8757474743136786,
          0.8761264506801542,
          0.8761264506801542,
          0.8761264506801542,
          0.8761264506801542,
          0.8761264506801542,
          0.8761264506801542,
          0.8762109445256876,
          0.8774951780481963,
          0.8783299699224513,
          0.879035427244842,
          0.879035427244842,
          0.879035427244842,
          0.879035427244842,
          0.879035427244842,
          0.879035427244842,
          0.8791672787317731,
          0.879193867964878,
          0.879193867964878,
          0.879193867964878
         ]
        },
        {
         "marker": {
          "color": "#cccccc"
         },
         "mode": "markers",
         "name": "Infeasible Trial",
         "showlegend": false,
         "type": "scatter",
         "x": [],
         "y": []
        }
       ],
       "layout": {
        "template": {
         "data": {
          "bar": [
           {
            "error_x": {
             "color": "#2a3f5f"
            },
            "error_y": {
             "color": "#2a3f5f"
            },
            "marker": {
             "line": {
              "color": "#E5ECF6",
              "width": 0.5
             },
             "pattern": {
              "fillmode": "overlay",
              "size": 10,
              "solidity": 0.2
             }
            },
            "type": "bar"
           }
          ],
          "barpolar": [
           {
            "marker": {
             "line": {
              "color": "#E5ECF6",
              "width": 0.5
             },
             "pattern": {
              "fillmode": "overlay",
              "size": 10,
              "solidity": 0.2
             }
            },
            "type": "barpolar"
           }
          ],
          "carpet": [
           {
            "aaxis": {
             "endlinecolor": "#2a3f5f",
             "gridcolor": "white",
             "linecolor": "white",
             "minorgridcolor": "white",
             "startlinecolor": "#2a3f5f"
            },
            "baxis": {
             "endlinecolor": "#2a3f5f",
             "gridcolor": "white",
             "linecolor": "white",
             "minorgridcolor": "white",
             "startlinecolor": "#2a3f5f"
            },
            "type": "carpet"
           }
          ],
          "choropleth": [
           {
            "colorbar": {
             "outlinewidth": 0,
             "ticks": ""
            },
            "type": "choropleth"
           }
          ],
          "contour": [
           {
            "colorbar": {
             "outlinewidth": 0,
             "ticks": ""
            },
            "colorscale": [
             [
              0,
              "#0d0887"
             ],
             [
              0.1111111111111111,
              "#46039f"
             ],
             [
              0.2222222222222222,
              "#7201a8"
             ],
             [
              0.3333333333333333,
              "#9c179e"
             ],
             [
              0.4444444444444444,
              "#bd3786"
             ],
             [
              0.5555555555555556,
              "#d8576b"
             ],
             [
              0.6666666666666666,
              "#ed7953"
             ],
             [
              0.7777777777777778,
              "#fb9f3a"
             ],
             [
              0.8888888888888888,
              "#fdca26"
             ],
             [
              1,
              "#f0f921"
             ]
            ],
            "type": "contour"
           }
          ],
          "contourcarpet": [
           {
            "colorbar": {
             "outlinewidth": 0,
             "ticks": ""
            },
            "type": "contourcarpet"
           }
          ],
          "heatmap": [
           {
            "colorbar": {
             "outlinewidth": 0,
             "ticks": ""
            },
            "colorscale": [
             [
              0,
              "#0d0887"
             ],
             [
              0.1111111111111111,
              "#46039f"
             ],
             [
              0.2222222222222222,
              "#7201a8"
             ],
             [
              0.3333333333333333,
              "#9c179e"
             ],
             [
              0.4444444444444444,
              "#bd3786"
             ],
             [
              0.5555555555555556,
              "#d8576b"
             ],
             [
              0.6666666666666666,
              "#ed7953"
             ],
             [
              0.7777777777777778,
              "#fb9f3a"
             ],
             [
              0.8888888888888888,
              "#fdca26"
             ],
             [
              1,
              "#f0f921"
             ]
            ],
            "type": "heatmap"
           }
          ],
          "heatmapgl": [
           {
            "colorbar": {
             "outlinewidth": 0,
             "ticks": ""
            },
            "colorscale": [
             [
              0,
              "#0d0887"
             ],
             [
              0.1111111111111111,
              "#46039f"
             ],
             [
              0.2222222222222222,
              "#7201a8"
             ],
             [
              0.3333333333333333,
              "#9c179e"
             ],
             [
              0.4444444444444444,
              "#bd3786"
             ],
             [
              0.5555555555555556,
              "#d8576b"
             ],
             [
              0.6666666666666666,
              "#ed7953"
             ],
             [
              0.7777777777777778,
              "#fb9f3a"
             ],
             [
              0.8888888888888888,
              "#fdca26"
             ],
             [
              1,
              "#f0f921"
             ]
            ],
            "type": "heatmapgl"
           }
          ],
          "histogram": [
           {
            "marker": {
             "pattern": {
              "fillmode": "overlay",
              "size": 10,
              "solidity": 0.2
             }
            },
            "type": "histogram"
           }
          ],
          "histogram2d": [
           {
            "colorbar": {
             "outlinewidth": 0,
             "ticks": ""
            },
            "colorscale": [
             [
              0,
              "#0d0887"
             ],
             [
              0.1111111111111111,
              "#46039f"
             ],
             [
              0.2222222222222222,
              "#7201a8"
             ],
             [
              0.3333333333333333,
              "#9c179e"
             ],
             [
              0.4444444444444444,
              "#bd3786"
             ],
             [
              0.5555555555555556,
              "#d8576b"
             ],
             [
              0.6666666666666666,
              "#ed7953"
             ],
             [
              0.7777777777777778,
              "#fb9f3a"
             ],
             [
              0.8888888888888888,
              "#fdca26"
             ],
             [
              1,
              "#f0f921"
             ]
            ],
            "type": "histogram2d"
           }
          ],
          "histogram2dcontour": [
           {
            "colorbar": {
             "outlinewidth": 0,
             "ticks": ""
            },
            "colorscale": [
             [
              0,
              "#0d0887"
             ],
             [
              0.1111111111111111,
              "#46039f"
             ],
             [
              0.2222222222222222,
              "#7201a8"
             ],
             [
              0.3333333333333333,
              "#9c179e"
             ],
             [
              0.4444444444444444,
              "#bd3786"
             ],
             [
              0.5555555555555556,
              "#d8576b"
             ],
             [
              0.6666666666666666,
              "#ed7953"
             ],
             [
              0.7777777777777778,
              "#fb9f3a"
             ],
             [
              0.8888888888888888,
              "#fdca26"
             ],
             [
              1,
              "#f0f921"
             ]
            ],
            "type": "histogram2dcontour"
           }
          ],
          "mesh3d": [
           {
            "colorbar": {
             "outlinewidth": 0,
             "ticks": ""
            },
            "type": "mesh3d"
           }
          ],
          "parcoords": [
           {
            "line": {
             "colorbar": {
              "outlinewidth": 0,
              "ticks": ""
             }
            },
            "type": "parcoords"
           }
          ],
          "pie": [
           {
            "automargin": true,
            "type": "pie"
           }
          ],
          "scatter": [
           {
            "fillpattern": {
             "fillmode": "overlay",
             "size": 10,
             "solidity": 0.2
            },
            "type": "scatter"
           }
          ],
          "scatter3d": [
           {
            "line": {
             "colorbar": {
              "outlinewidth": 0,
              "ticks": ""
             }
            },
            "marker": {
             "colorbar": {
              "outlinewidth": 0,
              "ticks": ""
             }
            },
            "type": "scatter3d"
           }
          ],
          "scattercarpet": [
           {
            "marker": {
             "colorbar": {
              "outlinewidth": 0,
              "ticks": ""
             }
            },
            "type": "scattercarpet"
           }
          ],
          "scattergeo": [
           {
            "marker": {
             "colorbar": {
              "outlinewidth": 0,
              "ticks": ""
             }
            },
            "type": "scattergeo"
           }
          ],
          "scattergl": [
           {
            "marker": {
             "colorbar": {
              "outlinewidth": 0,
              "ticks": ""
             }
            },
            "type": "scattergl"
           }
          ],
          "scattermapbox": [
           {
            "marker": {
             "colorbar": {
              "outlinewidth": 0,
              "ticks": ""
             }
            },
            "type": "scattermapbox"
           }
          ],
          "scatterpolar": [
           {
            "marker": {
             "colorbar": {
              "outlinewidth": 0,
              "ticks": ""
             }
            },
            "type": "scatterpolar"
           }
          ],
          "scatterpolargl": [
           {
            "marker": {
             "colorbar": {
              "outlinewidth": 0,
              "ticks": ""
             }
            },
            "type": "scatterpolargl"
           }
          ],
          "scatterternary": [
           {
            "marker": {
             "colorbar": {
              "outlinewidth": 0,
              "ticks": ""
             }
            },
            "type": "scatterternary"
           }
          ],
          "surface": [
           {
            "colorbar": {
             "outlinewidth": 0,
             "ticks": ""
            },
            "colorscale": [
             [
              0,
              "#0d0887"
             ],
             [
              0.1111111111111111,
              "#46039f"
             ],
             [
              0.2222222222222222,
              "#7201a8"
             ],
             [
              0.3333333333333333,
              "#9c179e"
             ],
             [
              0.4444444444444444,
              "#bd3786"
             ],
             [
              0.5555555555555556,
              "#d8576b"
             ],
             [
              0.6666666666666666,
              "#ed7953"
             ],
             [
              0.7777777777777778,
              "#fb9f3a"
             ],
             [
              0.8888888888888888,
              "#fdca26"
             ],
             [
              1,
              "#f0f921"
             ]
            ],
            "type": "surface"
           }
          ],
          "table": [
           {
            "cells": {
             "fill": {
              "color": "#EBF0F8"
             },
             "line": {
              "color": "white"
             }
            },
            "header": {
             "fill": {
              "color": "#C8D4E3"
             },
             "line": {
              "color": "white"
             }
            },
            "type": "table"
           }
          ]
         },
         "layout": {
          "annotationdefaults": {
           "arrowcolor": "#2a3f5f",
           "arrowhead": 0,
           "arrowwidth": 1
          },
          "autotypenumbers": "strict",
          "coloraxis": {
           "colorbar": {
            "outlinewidth": 0,
            "ticks": ""
           }
          },
          "colorscale": {
           "diverging": [
            [
             0,
             "#8e0152"
            ],
            [
             0.1,
             "#c51b7d"
            ],
            [
             0.2,
             "#de77ae"
            ],
            [
             0.3,
             "#f1b6da"
            ],
            [
             0.4,
             "#fde0ef"
            ],
            [
             0.5,
             "#f7f7f7"
            ],
            [
             0.6,
             "#e6f5d0"
            ],
            [
             0.7,
             "#b8e186"
            ],
            [
             0.8,
             "#7fbc41"
            ],
            [
             0.9,
             "#4d9221"
            ],
            [
             1,
             "#276419"
            ]
           ],
           "sequential": [
            [
             0,
             "#0d0887"
            ],
            [
             0.1111111111111111,
             "#46039f"
            ],
            [
             0.2222222222222222,
             "#7201a8"
            ],
            [
             0.3333333333333333,
             "#9c179e"
            ],
            [
             0.4444444444444444,
             "#bd3786"
            ],
            [
             0.5555555555555556,
             "#d8576b"
            ],
            [
             0.6666666666666666,
             "#ed7953"
            ],
            [
             0.7777777777777778,
             "#fb9f3a"
            ],
            [
             0.8888888888888888,
             "#fdca26"
            ],
            [
             1,
             "#f0f921"
            ]
           ],
           "sequentialminus": [
            [
             0,
             "#0d0887"
            ],
            [
             0.1111111111111111,
             "#46039f"
            ],
            [
             0.2222222222222222,
             "#7201a8"
            ],
            [
             0.3333333333333333,
             "#9c179e"
            ],
            [
             0.4444444444444444,
             "#bd3786"
            ],
            [
             0.5555555555555556,
             "#d8576b"
            ],
            [
             0.6666666666666666,
             "#ed7953"
            ],
            [
             0.7777777777777778,
             "#fb9f3a"
            ],
            [
             0.8888888888888888,
             "#fdca26"
            ],
            [
             1,
             "#f0f921"
            ]
           ]
          },
          "colorway": [
           "#636efa",
           "#EF553B",
           "#00cc96",
           "#ab63fa",
           "#FFA15A",
           "#19d3f3",
           "#FF6692",
           "#B6E880",
           "#FF97FF",
           "#FECB52"
          ],
          "font": {
           "color": "#2a3f5f"
          },
          "geo": {
           "bgcolor": "white",
           "lakecolor": "white",
           "landcolor": "#E5ECF6",
           "showlakes": true,
           "showland": true,
           "subunitcolor": "white"
          },
          "hoverlabel": {
           "align": "left"
          },
          "hovermode": "closest",
          "mapbox": {
           "style": "light"
          },
          "paper_bgcolor": "white",
          "plot_bgcolor": "#E5ECF6",
          "polar": {
           "angularaxis": {
            "gridcolor": "white",
            "linecolor": "white",
            "ticks": ""
           },
           "bgcolor": "#E5ECF6",
           "radialaxis": {
            "gridcolor": "white",
            "linecolor": "white",
            "ticks": ""
           }
          },
          "scene": {
           "xaxis": {
            "backgroundcolor": "#E5ECF6",
            "gridcolor": "white",
            "gridwidth": 2,
            "linecolor": "white",
            "showbackground": true,
            "ticks": "",
            "zerolinecolor": "white"
           },
           "yaxis": {
            "backgroundcolor": "#E5ECF6",
            "gridcolor": "white",
            "gridwidth": 2,
            "linecolor": "white",
            "showbackground": true,
            "ticks": "",
            "zerolinecolor": "white"
           },
           "zaxis": {
            "backgroundcolor": "#E5ECF6",
            "gridcolor": "white",
            "gridwidth": 2,
            "linecolor": "white",
            "showbackground": true,
            "ticks": "",
            "zerolinecolor": "white"
           }
          },
          "shapedefaults": {
           "line": {
            "color": "#2a3f5f"
           }
          },
          "ternary": {
           "aaxis": {
            "gridcolor": "white",
            "linecolor": "white",
            "ticks": ""
           },
           "baxis": {
            "gridcolor": "white",
            "linecolor": "white",
            "ticks": ""
           },
           "bgcolor": "#E5ECF6",
           "caxis": {
            "gridcolor": "white",
            "linecolor": "white",
            "ticks": ""
           }
          },
          "title": {
           "x": 0.05
          },
          "xaxis": {
           "automargin": true,
           "gridcolor": "white",
           "linecolor": "white",
           "ticks": "",
           "title": {
            "standoff": 15
           },
           "zerolinecolor": "white",
           "zerolinewidth": 2
          },
          "yaxis": {
           "automargin": true,
           "gridcolor": "white",
           "linecolor": "white",
           "ticks": "",
           "title": {
            "standoff": 15
           },
           "zerolinecolor": "white",
           "zerolinewidth": 2
          }
         }
        },
        "title": {
         "text": "Optimization History Plot"
        },
        "xaxis": {
         "title": {
          "text": "Trial"
         }
        },
        "yaxis": {
         "title": {
          "text": "Objective Value"
         }
        }
       }
      }
     },
     "metadata": {},
     "output_type": "display_data"
    }
   ],
   "source": [
    "optuna.visualization.plot_optimization_history(rf_study)"
   ]
  },
  {
   "cell_type": "code",
   "execution_count": 66,
   "metadata": {},
   "outputs": [
    {
     "data": {
      "application/vnd.plotly.v1+json": {
       "config": {
        "plotlyServerURL": "https://plot.ly"
       },
       "data": [
        {
         "dimensions": [
          {
           "label": "Objective Value",
           "range": [
            0.8427790369707283,
            0.879193867964878
           ],
           "values": [
            0.8634212690146436,
            0.8730867647047053,
            0.8755434641646135,
            0.8431669111770509,
            0.8673803823591111,
            0.8649292477136281,
            0.8486651574437956,
            0.8427790369707283,
            0.865790203855769,
            0.8673815818789359,
            0.8707789270195097,
            0.8752449675265931,
            0.8716594405479297,
            0.8756828745795954,
            0.872392175787318,
            0.8574905084498043,
            0.8635962744625834,
            0.8748826855297063,
            0.8740518513206832,
            0.8752248656638402,
            0.8690321188221338,
            0.8756294975981416,
            0.8756272452096807,
            0.8757474743136786,
            0.8745457174481663,
            0.8709370075307896,
            0.873870769172097,
            0.875470719508807,
            0.8688448117873395,
            0.8662102040061237,
            0.870131594362489,
            0.8761264506801542,
            0.8754251085102551,
            0.87471630167035,
            0.8746038221272883,
            0.8688837631110813,
            0.8664471864191293,
            0.8762109445256876,
            0.8774951780481963,
            0.8783299699224513,
            0.879035427244842,
            0.8782033502566927,
            0.8781195396885846,
            0.8596539913954914,
            0.878786744503888,
            0.878613151958136,
            0.8791672787317731,
            0.879193867964878,
            0.8790834134504182,
            0.8781149028462666
           ]
          },
          {
           "label": "max_depth",
           "range": [
            0.6989700043360189,
            1.6989700043360187
           ],
           "ticktext": [
            "5",
            "10",
            "50"
           ],
           "tickvals": [
            0.6989700043360189,
            1,
            1.6989700043360187
           ],
           "values": [
            0.7781512503836436,
            1,
            1.0791812460476249,
            1.2041199826559248,
            0.9542425094393249,
            1.568201724066995,
            1.0413926851582251,
            1.2304489213782739,
            0.8450980400142568,
            0.9030899869919435,
            1.4313637641589874,
            1.1139433523068367,
            1.3010299956639813,
            1.146128035678238,
            1.3617278360175928,
            0.6989700043360189,
            1.6989700043360187,
            1.0791812460476249,
            1.414973347970818,
            1.146128035678238,
            1.5314789170422551,
            1.146128035678238,
            1.2787536009528289,
            1.2787536009528289,
            1.2041199826559248,
            1.3222192947339193,
            1.146128035678238,
            1.462397997898956,
            1.255272505103306,
            0.8450980400142568,
            1,
            1.255272505103306,
            1.3617278360175928,
            1.1760912590556813,
            1.0791812460476249,
            1,
            1.2041199826559248,
            1.3424226808222062,
            1.4913616938342726,
            1.5314789170422551,
            1.6127838567197355,
            1.6127838567197355,
            1.6434526764861874,
            1.6812412373755872,
            1.6127838567197355,
            1.6232492903979006,
            1.591064607026499,
            1.5797835966168101,
            1.6127838567197355,
            1.5797835966168101
           ]
          },
          {
           "label": "max_samples",
           "range": [
            -2.8262645523896457,
            -0.038442125518634775
           ],
           "ticktext": [
            "0.00149",
            "0.01",
            "0.1",
            "0.915"
           ],
           "tickvals": [
            -2.8262645523896457,
            -2,
            -1,
            -0.038442125518634775
           ],
           "values": [
            -1.86006392130696,
            -0.9524920173443002,
            -0.4982349415111869,
            -2.0669806640398076,
            -2.1009879765147947,
            -2.083828648504838,
            -2.6321012816657534,
            -2.8262645523896457,
            -0.059946163739832956,
            -0.21195741987595348,
            -0.9109637019851007,
            -0.8965002109394496,
            -0.8084792174041461,
            -0.5813542947483644,
            -0.46594710783737714,
            -1.4336938040658727,
            -1.3427500016772114,
            -0.533377257738181,
            -1.225032767183685,
            -0.4379130302515295,
            -0.038442125518634775,
            -0.618904392743943,
            -0.6112271185191492,
            -1.1201580263552626,
            -1.1197012310314922,
            -1.6555802037634473,
            -0.752449480297377,
            -0.27835875123235565,
            -1.5322581813653937,
            -1.0935802277874287,
            -0.6652133146306756,
            -0.6585204703843325,
            -0.308765198462099,
            -1.0592503069726624,
            -0.7006779500005642,
            -1.2759030121181438,
            -1.802847570589404,
            -0.9667872755776328,
            -1.0067604061116728,
            -0.9653578617220212,
            -0.9346994134926804,
            -0.9638798248622742,
            -0.968055174719781,
            -2.369298035558652,
            -0.9199574734864413,
            -0.8391055360414943,
            -0.8670638614085107,
            -0.7938103753746082,
            -0.7806999628385025,
            -0.4430978613657859
           ]
          },
          {
           "label": "n_estimators",
           "range": [
            1.7075701760979363,
            2.99563519459755
           ],
           "ticktext": [
            "51",
            "100",
            "990"
           ],
           "tickvals": [
            1.7075701760979363,
            2,
            2.99563519459755
           ],
           "values": [
            2.7234556720351857,
            2.3654879848909,
            2.250420002308894,
            1.7708520116421442,
            2.8432327780980096,
            2.5728716022004803,
            2.510545010206612,
            2.7024305364455254,
            2.9334872878487053,
            1.8750612633917,
            2.0530784434834195,
            2.2430380486862944,
            2.1583624920952498,
            2.214843848047698,
            2.0644579892269186,
            2.376576957056512,
            1.9493900066449128,
            2.250420002308894,
            2.5010592622177517,
            2.1522883443830563,
            1.9731278535996986,
            2.2671717284030137,
            2.2833012287035497,
            2.403120521175818,
            2.4409090820652177,
            2.5998830720736876,
            2.155336037465062,
            2.4149733479708178,
            2.3180633349627615,
            2.6748611407378116,
            1.7075701760979363,
            2.298853076409707,
            2.450249108319361,
            2.322219294733919,
            2.1903316981702914,
            2.03342375548695,
            2.367355921026019,
            2.56702636615906,
            2.5943925503754266,
            2.841359470454855,
            2.8825245379548803,
            2.8129133566428557,
            2.792391689498254,
            2.8115750058705933,
            2.99563519459755,
            2.967547976218862,
            2.952792443044092,
            2.9921114877869495,
            2.986323777050765,
            2.8998205024270964
           ]
          }
         ],
         "labelangle": 30,
         "labelside": "bottom",
         "line": {
          "color": [
           0.8634212690146436,
           0.8730867647047053,
           0.8755434641646135,
           0.8431669111770509,
           0.8673803823591111,
           0.8649292477136281,
           0.8486651574437956,
           0.8427790369707283,
           0.865790203855769,
           0.8673815818789359,
           0.8707789270195097,
           0.8752449675265931,
           0.8716594405479297,
           0.8756828745795954,
           0.872392175787318,
           0.8574905084498043,
           0.8635962744625834,
           0.8748826855297063,
           0.8740518513206832,
           0.8752248656638402,
           0.8690321188221338,
           0.8756294975981416,
           0.8756272452096807,
           0.8757474743136786,
           0.8745457174481663,
           0.8709370075307896,
           0.873870769172097,
           0.875470719508807,
           0.8688448117873395,
           0.8662102040061237,
           0.870131594362489,
           0.8761264506801542,
           0.8754251085102551,
           0.87471630167035,
           0.8746038221272883,
           0.8688837631110813,
           0.8664471864191293,
           0.8762109445256876,
           0.8774951780481963,
           0.8783299699224513,
           0.879035427244842,
           0.8782033502566927,
           0.8781195396885846,
           0.8596539913954914,
           0.878786744503888,
           0.878613151958136,
           0.8791672787317731,
           0.879193867964878,
           0.8790834134504182,
           0.8781149028462666
          ],
          "colorbar": {
           "title": {
            "text": "Objective Value"
           }
          },
          "colorscale": [
           [
            0,
            "rgb(247,251,255)"
           ],
           [
            0.125,
            "rgb(222,235,247)"
           ],
           [
            0.25,
            "rgb(198,219,239)"
           ],
           [
            0.375,
            "rgb(158,202,225)"
           ],
           [
            0.5,
            "rgb(107,174,214)"
           ],
           [
            0.625,
            "rgb(66,146,198)"
           ],
           [
            0.75,
            "rgb(33,113,181)"
           ],
           [
            0.875,
            "rgb(8,81,156)"
           ],
           [
            1,
            "rgb(8,48,107)"
           ]
          ],
          "reversescale": false,
          "showscale": true
         },
         "type": "parcoords"
        }
       ],
       "layout": {
        "template": {
         "data": {
          "bar": [
           {
            "error_x": {
             "color": "#2a3f5f"
            },
            "error_y": {
             "color": "#2a3f5f"
            },
            "marker": {
             "line": {
              "color": "#E5ECF6",
              "width": 0.5
             },
             "pattern": {
              "fillmode": "overlay",
              "size": 10,
              "solidity": 0.2
             }
            },
            "type": "bar"
           }
          ],
          "barpolar": [
           {
            "marker": {
             "line": {
              "color": "#E5ECF6",
              "width": 0.5
             },
             "pattern": {
              "fillmode": "overlay",
              "size": 10,
              "solidity": 0.2
             }
            },
            "type": "barpolar"
           }
          ],
          "carpet": [
           {
            "aaxis": {
             "endlinecolor": "#2a3f5f",
             "gridcolor": "white",
             "linecolor": "white",
             "minorgridcolor": "white",
             "startlinecolor": "#2a3f5f"
            },
            "baxis": {
             "endlinecolor": "#2a3f5f",
             "gridcolor": "white",
             "linecolor": "white",
             "minorgridcolor": "white",
             "startlinecolor": "#2a3f5f"
            },
            "type": "carpet"
           }
          ],
          "choropleth": [
           {
            "colorbar": {
             "outlinewidth": 0,
             "ticks": ""
            },
            "type": "choropleth"
           }
          ],
          "contour": [
           {
            "colorbar": {
             "outlinewidth": 0,
             "ticks": ""
            },
            "colorscale": [
             [
              0,
              "#0d0887"
             ],
             [
              0.1111111111111111,
              "#46039f"
             ],
             [
              0.2222222222222222,
              "#7201a8"
             ],
             [
              0.3333333333333333,
              "#9c179e"
             ],
             [
              0.4444444444444444,
              "#bd3786"
             ],
             [
              0.5555555555555556,
              "#d8576b"
             ],
             [
              0.6666666666666666,
              "#ed7953"
             ],
             [
              0.7777777777777778,
              "#fb9f3a"
             ],
             [
              0.8888888888888888,
              "#fdca26"
             ],
             [
              1,
              "#f0f921"
             ]
            ],
            "type": "contour"
           }
          ],
          "contourcarpet": [
           {
            "colorbar": {
             "outlinewidth": 0,
             "ticks": ""
            },
            "type": "contourcarpet"
           }
          ],
          "heatmap": [
           {
            "colorbar": {
             "outlinewidth": 0,
             "ticks": ""
            },
            "colorscale": [
             [
              0,
              "#0d0887"
             ],
             [
              0.1111111111111111,
              "#46039f"
             ],
             [
              0.2222222222222222,
              "#7201a8"
             ],
             [
              0.3333333333333333,
              "#9c179e"
             ],
             [
              0.4444444444444444,
              "#bd3786"
             ],
             [
              0.5555555555555556,
              "#d8576b"
             ],
             [
              0.6666666666666666,
              "#ed7953"
             ],
             [
              0.7777777777777778,
              "#fb9f3a"
             ],
             [
              0.8888888888888888,
              "#fdca26"
             ],
             [
              1,
              "#f0f921"
             ]
            ],
            "type": "heatmap"
           }
          ],
          "heatmapgl": [
           {
            "colorbar": {
             "outlinewidth": 0,
             "ticks": ""
            },
            "colorscale": [
             [
              0,
              "#0d0887"
             ],
             [
              0.1111111111111111,
              "#46039f"
             ],
             [
              0.2222222222222222,
              "#7201a8"
             ],
             [
              0.3333333333333333,
              "#9c179e"
             ],
             [
              0.4444444444444444,
              "#bd3786"
             ],
             [
              0.5555555555555556,
              "#d8576b"
             ],
             [
              0.6666666666666666,
              "#ed7953"
             ],
             [
              0.7777777777777778,
              "#fb9f3a"
             ],
             [
              0.8888888888888888,
              "#fdca26"
             ],
             [
              1,
              "#f0f921"
             ]
            ],
            "type": "heatmapgl"
           }
          ],
          "histogram": [
           {
            "marker": {
             "pattern": {
              "fillmode": "overlay",
              "size": 10,
              "solidity": 0.2
             }
            },
            "type": "histogram"
           }
          ],
          "histogram2d": [
           {
            "colorbar": {
             "outlinewidth": 0,
             "ticks": ""
            },
            "colorscale": [
             [
              0,
              "#0d0887"
             ],
             [
              0.1111111111111111,
              "#46039f"
             ],
             [
              0.2222222222222222,
              "#7201a8"
             ],
             [
              0.3333333333333333,
              "#9c179e"
             ],
             [
              0.4444444444444444,
              "#bd3786"
             ],
             [
              0.5555555555555556,
              "#d8576b"
             ],
             [
              0.6666666666666666,
              "#ed7953"
             ],
             [
              0.7777777777777778,
              "#fb9f3a"
             ],
             [
              0.8888888888888888,
              "#fdca26"
             ],
             [
              1,
              "#f0f921"
             ]
            ],
            "type": "histogram2d"
           }
          ],
          "histogram2dcontour": [
           {
            "colorbar": {
             "outlinewidth": 0,
             "ticks": ""
            },
            "colorscale": [
             [
              0,
              "#0d0887"
             ],
             [
              0.1111111111111111,
              "#46039f"
             ],
             [
              0.2222222222222222,
              "#7201a8"
             ],
             [
              0.3333333333333333,
              "#9c179e"
             ],
             [
              0.4444444444444444,
              "#bd3786"
             ],
             [
              0.5555555555555556,
              "#d8576b"
             ],
             [
              0.6666666666666666,
              "#ed7953"
             ],
             [
              0.7777777777777778,
              "#fb9f3a"
             ],
             [
              0.8888888888888888,
              "#fdca26"
             ],
             [
              1,
              "#f0f921"
             ]
            ],
            "type": "histogram2dcontour"
           }
          ],
          "mesh3d": [
           {
            "colorbar": {
             "outlinewidth": 0,
             "ticks": ""
            },
            "type": "mesh3d"
           }
          ],
          "parcoords": [
           {
            "line": {
             "colorbar": {
              "outlinewidth": 0,
              "ticks": ""
             }
            },
            "type": "parcoords"
           }
          ],
          "pie": [
           {
            "automargin": true,
            "type": "pie"
           }
          ],
          "scatter": [
           {
            "fillpattern": {
             "fillmode": "overlay",
             "size": 10,
             "solidity": 0.2
            },
            "type": "scatter"
           }
          ],
          "scatter3d": [
           {
            "line": {
             "colorbar": {
              "outlinewidth": 0,
              "ticks": ""
             }
            },
            "marker": {
             "colorbar": {
              "outlinewidth": 0,
              "ticks": ""
             }
            },
            "type": "scatter3d"
           }
          ],
          "scattercarpet": [
           {
            "marker": {
             "colorbar": {
              "outlinewidth": 0,
              "ticks": ""
             }
            },
            "type": "scattercarpet"
           }
          ],
          "scattergeo": [
           {
            "marker": {
             "colorbar": {
              "outlinewidth": 0,
              "ticks": ""
             }
            },
            "type": "scattergeo"
           }
          ],
          "scattergl": [
           {
            "marker": {
             "colorbar": {
              "outlinewidth": 0,
              "ticks": ""
             }
            },
            "type": "scattergl"
           }
          ],
          "scattermapbox": [
           {
            "marker": {
             "colorbar": {
              "outlinewidth": 0,
              "ticks": ""
             }
            },
            "type": "scattermapbox"
           }
          ],
          "scatterpolar": [
           {
            "marker": {
             "colorbar": {
              "outlinewidth": 0,
              "ticks": ""
             }
            },
            "type": "scatterpolar"
           }
          ],
          "scatterpolargl": [
           {
            "marker": {
             "colorbar": {
              "outlinewidth": 0,
              "ticks": ""
             }
            },
            "type": "scatterpolargl"
           }
          ],
          "scatterternary": [
           {
            "marker": {
             "colorbar": {
              "outlinewidth": 0,
              "ticks": ""
             }
            },
            "type": "scatterternary"
           }
          ],
          "surface": [
           {
            "colorbar": {
             "outlinewidth": 0,
             "ticks": ""
            },
            "colorscale": [
             [
              0,
              "#0d0887"
             ],
             [
              0.1111111111111111,
              "#46039f"
             ],
             [
              0.2222222222222222,
              "#7201a8"
             ],
             [
              0.3333333333333333,
              "#9c179e"
             ],
             [
              0.4444444444444444,
              "#bd3786"
             ],
             [
              0.5555555555555556,
              "#d8576b"
             ],
             [
              0.6666666666666666,
              "#ed7953"
             ],
             [
              0.7777777777777778,
              "#fb9f3a"
             ],
             [
              0.8888888888888888,
              "#fdca26"
             ],
             [
              1,
              "#f0f921"
             ]
            ],
            "type": "surface"
           }
          ],
          "table": [
           {
            "cells": {
             "fill": {
              "color": "#EBF0F8"
             },
             "line": {
              "color": "white"
             }
            },
            "header": {
             "fill": {
              "color": "#C8D4E3"
             },
             "line": {
              "color": "white"
             }
            },
            "type": "table"
           }
          ]
         },
         "layout": {
          "annotationdefaults": {
           "arrowcolor": "#2a3f5f",
           "arrowhead": 0,
           "arrowwidth": 1
          },
          "autotypenumbers": "strict",
          "coloraxis": {
           "colorbar": {
            "outlinewidth": 0,
            "ticks": ""
           }
          },
          "colorscale": {
           "diverging": [
            [
             0,
             "#8e0152"
            ],
            [
             0.1,
             "#c51b7d"
            ],
            [
             0.2,
             "#de77ae"
            ],
            [
             0.3,
             "#f1b6da"
            ],
            [
             0.4,
             "#fde0ef"
            ],
            [
             0.5,
             "#f7f7f7"
            ],
            [
             0.6,
             "#e6f5d0"
            ],
            [
             0.7,
             "#b8e186"
            ],
            [
             0.8,
             "#7fbc41"
            ],
            [
             0.9,
             "#4d9221"
            ],
            [
             1,
             "#276419"
            ]
           ],
           "sequential": [
            [
             0,
             "#0d0887"
            ],
            [
             0.1111111111111111,
             "#46039f"
            ],
            [
             0.2222222222222222,
             "#7201a8"
            ],
            [
             0.3333333333333333,
             "#9c179e"
            ],
            [
             0.4444444444444444,
             "#bd3786"
            ],
            [
             0.5555555555555556,
             "#d8576b"
            ],
            [
             0.6666666666666666,
             "#ed7953"
            ],
            [
             0.7777777777777778,
             "#fb9f3a"
            ],
            [
             0.8888888888888888,
             "#fdca26"
            ],
            [
             1,
             "#f0f921"
            ]
           ],
           "sequentialminus": [
            [
             0,
             "#0d0887"
            ],
            [
             0.1111111111111111,
             "#46039f"
            ],
            [
             0.2222222222222222,
             "#7201a8"
            ],
            [
             0.3333333333333333,
             "#9c179e"
            ],
            [
             0.4444444444444444,
             "#bd3786"
            ],
            [
             0.5555555555555556,
             "#d8576b"
            ],
            [
             0.6666666666666666,
             "#ed7953"
            ],
            [
             0.7777777777777778,
             "#fb9f3a"
            ],
            [
             0.8888888888888888,
             "#fdca26"
            ],
            [
             1,
             "#f0f921"
            ]
           ]
          },
          "colorway": [
           "#636efa",
           "#EF553B",
           "#00cc96",
           "#ab63fa",
           "#FFA15A",
           "#19d3f3",
           "#FF6692",
           "#B6E880",
           "#FF97FF",
           "#FECB52"
          ],
          "font": {
           "color": "#2a3f5f"
          },
          "geo": {
           "bgcolor": "white",
           "lakecolor": "white",
           "landcolor": "#E5ECF6",
           "showlakes": true,
           "showland": true,
           "subunitcolor": "white"
          },
          "hoverlabel": {
           "align": "left"
          },
          "hovermode": "closest",
          "mapbox": {
           "style": "light"
          },
          "paper_bgcolor": "white",
          "plot_bgcolor": "#E5ECF6",
          "polar": {
           "angularaxis": {
            "gridcolor": "white",
            "linecolor": "white",
            "ticks": ""
           },
           "bgcolor": "#E5ECF6",
           "radialaxis": {
            "gridcolor": "white",
            "linecolor": "white",
            "ticks": ""
           }
          },
          "scene": {
           "xaxis": {
            "backgroundcolor": "#E5ECF6",
            "gridcolor": "white",
            "gridwidth": 2,
            "linecolor": "white",
            "showbackground": true,
            "ticks": "",
            "zerolinecolor": "white"
           },
           "yaxis": {
            "backgroundcolor": "#E5ECF6",
            "gridcolor": "white",
            "gridwidth": 2,
            "linecolor": "white",
            "showbackground": true,
            "ticks": "",
            "zerolinecolor": "white"
           },
           "zaxis": {
            "backgroundcolor": "#E5ECF6",
            "gridcolor": "white",
            "gridwidth": 2,
            "linecolor": "white",
            "showbackground": true,
            "ticks": "",
            "zerolinecolor": "white"
           }
          },
          "shapedefaults": {
           "line": {
            "color": "#2a3f5f"
           }
          },
          "ternary": {
           "aaxis": {
            "gridcolor": "white",
            "linecolor": "white",
            "ticks": ""
           },
           "baxis": {
            "gridcolor": "white",
            "linecolor": "white",
            "ticks": ""
           },
           "bgcolor": "#E5ECF6",
           "caxis": {
            "gridcolor": "white",
            "linecolor": "white",
            "ticks": ""
           }
          },
          "title": {
           "x": 0.05
          },
          "xaxis": {
           "automargin": true,
           "gridcolor": "white",
           "linecolor": "white",
           "ticks": "",
           "title": {
            "standoff": 15
           },
           "zerolinecolor": "white",
           "zerolinewidth": 2
          },
          "yaxis": {
           "automargin": true,
           "gridcolor": "white",
           "linecolor": "white",
           "ticks": "",
           "title": {
            "standoff": 15
           },
           "zerolinecolor": "white",
           "zerolinewidth": 2
          }
         }
        },
        "title": {
         "text": "Parallel Coordinate Plot"
        }
       }
      }
     },
     "metadata": {},
     "output_type": "display_data"
    }
   ],
   "source": [
    "optuna.visualization.plot_parallel_coordinate(rf_study)"
   ]
  },
  {
   "cell_type": "code",
   "execution_count": 67,
   "metadata": {},
   "outputs": [
    {
     "data": {
      "application/vnd.plotly.v1+json": {
       "config": {
        "plotlyServerURL": "https://plot.ly"
       },
       "data": [
        {
         "marker": {
          "color": [
           0,
           1,
           2,
           3,
           4,
           5,
           6,
           7,
           8,
           9,
           10,
           11,
           12,
           13,
           14,
           15,
           16,
           17,
           18,
           19,
           20,
           21,
           22,
           23,
           24,
           25,
           26,
           27,
           28,
           29,
           30,
           31,
           32,
           33,
           34,
           35,
           36,
           37,
           38,
           39,
           40,
           41,
           42,
           43,
           44,
           45,
           46,
           47,
           48,
           49
          ],
          "colorbar": {
           "title": {
            "text": "Trial"
           },
           "x": 1,
           "xpad": 40
          },
          "colorscale": [
           [
            0,
            "rgb(247,251,255)"
           ],
           [
            0.125,
            "rgb(222,235,247)"
           ],
           [
            0.25,
            "rgb(198,219,239)"
           ],
           [
            0.375,
            "rgb(158,202,225)"
           ],
           [
            0.5,
            "rgb(107,174,214)"
           ],
           [
            0.625,
            "rgb(66,146,198)"
           ],
           [
            0.75,
            "rgb(33,113,181)"
           ],
           [
            0.875,
            "rgb(8,81,156)"
           ],
           [
            1,
            "rgb(8,48,107)"
           ]
          ],
          "line": {
           "color": "Grey",
           "width": 0.5
          },
          "showscale": true
         },
         "mode": "markers",
         "name": "Feasible Trial",
         "showlegend": false,
         "type": "scatter",
         "x": [
          6,
          10,
          12,
          16,
          9,
          37,
          11,
          17,
          7,
          8,
          27,
          13,
          20,
          14,
          23,
          5,
          50,
          12,
          26,
          14,
          34,
          14,
          19,
          19,
          16,
          21,
          14,
          29,
          18,
          7,
          10,
          18,
          23,
          15,
          12,
          10,
          16,
          22,
          31,
          34,
          41,
          41,
          44,
          48,
          41,
          42,
          39,
          38,
          41,
          38
         ],
         "xaxis": "x",
         "y": [
          0.8634212690146436,
          0.8730867647047053,
          0.8755434641646135,
          0.8431669111770509,
          0.8673803823591111,
          0.8649292477136281,
          0.8486651574437956,
          0.8427790369707283,
          0.865790203855769,
          0.8673815818789359,
          0.8707789270195097,
          0.8752449675265931,
          0.8716594405479297,
          0.8756828745795954,
          0.872392175787318,
          0.8574905084498043,
          0.8635962744625834,
          0.8748826855297063,
          0.8740518513206832,
          0.8752248656638402,
          0.8690321188221338,
          0.8756294975981416,
          0.8756272452096807,
          0.8757474743136786,
          0.8745457174481663,
          0.8709370075307896,
          0.873870769172097,
          0.875470719508807,
          0.8688448117873395,
          0.8662102040061237,
          0.870131594362489,
          0.8761264506801542,
          0.8754251085102551,
          0.87471630167035,
          0.8746038221272883,
          0.8688837631110813,
          0.8664471864191293,
          0.8762109445256876,
          0.8774951780481963,
          0.8783299699224513,
          0.879035427244842,
          0.8782033502566927,
          0.8781195396885846,
          0.8596539913954914,
          0.878786744503888,
          0.878613151958136,
          0.8791672787317731,
          0.879193867964878,
          0.8790834134504182,
          0.8781149028462666
         ],
         "yaxis": "y"
        },
        {
         "marker": {
          "color": [
           0,
           1,
           2,
           3,
           4,
           5,
           6,
           7,
           8,
           9,
           10,
           11,
           12,
           13,
           14,
           15,
           16,
           17,
           18,
           19,
           20,
           21,
           22,
           23,
           24,
           25,
           26,
           27,
           28,
           29,
           30,
           31,
           32,
           33,
           34,
           35,
           36,
           37,
           38,
           39,
           40,
           41,
           42,
           43,
           44,
           45,
           46,
           47,
           48,
           49
          ],
          "colorbar": {
           "title": {
            "text": "Trial"
           },
           "x": 1,
           "xpad": 40
          },
          "colorscale": [
           [
            0,
            "rgb(247,251,255)"
           ],
           [
            0.125,
            "rgb(222,235,247)"
           ],
           [
            0.25,
            "rgb(198,219,239)"
           ],
           [
            0.375,
            "rgb(158,202,225)"
           ],
           [
            0.5,
            "rgb(107,174,214)"
           ],
           [
            0.625,
            "rgb(66,146,198)"
           ],
           [
            0.75,
            "rgb(33,113,181)"
           ],
           [
            0.875,
            "rgb(8,81,156)"
           ],
           [
            1,
            "rgb(8,48,107)"
           ]
          ],
          "line": {
           "color": "Grey",
           "width": 0.5
          },
          "showscale": false
         },
         "mode": "markers",
         "name": "Feasible Trial",
         "showlegend": false,
         "type": "scatter",
         "x": [
          0.013801811087332538,
          0.11155986566957342,
          0.3175155932895404,
          0.00857076003713293,
          0.007925232712610275,
          0.00824463344014334,
          0.0023329139407839,
          0.0014918853442216404,
          0.8710715635333781,
          0.6138221840171503,
          0.12275418239181313,
          0.12691115280299162,
          0.1554249665582099,
          0.262207859514781,
          0.34202109428352084,
          0.03683886116186925,
          0.045420299992144364,
          0.2928348377430053,
          0.05956172029751065,
          0.36482699813131314,
          0.9152882233034997,
          0.24048921639386475,
          0.24477828152609551,
          0.0758301602279002,
          0.07590996111687844,
          0.022101400588047722,
          0.17682779023143436,
          0.5267945202659371,
          0.02935903783588536,
          0.08061572651130218,
          0.2161656511102695,
          0.21952274750892842,
          0.49117335751145036,
          0.08724683735955321,
          0.19921500653442878,
          0.052978174305095986,
          0.015745354005891322,
          0.1079475337139477,
          0.09845541200113249,
          0.1083034118469941,
          0.11622527608897594,
          0.10867262938307043,
          0.10763284633455657,
          0.004272695708212221,
          0.12023821672164858,
          0.14484198364761006,
          0.1358113726268003,
          0.16076430398856645,
          0.16569142657516855,
          0.36049740150327814
         ],
         "xaxis": "x2",
         "y": [
          0.8634212690146436,
          0.8730867647047053,
          0.8755434641646135,
          0.8431669111770509,
          0.8673803823591111,
          0.8649292477136281,
          0.8486651574437956,
          0.8427790369707283,
          0.865790203855769,
          0.8673815818789359,
          0.8707789270195097,
          0.8752449675265931,
          0.8716594405479297,
          0.8756828745795954,
          0.872392175787318,
          0.8574905084498043,
          0.8635962744625834,
          0.8748826855297063,
          0.8740518513206832,
          0.8752248656638402,
          0.8690321188221338,
          0.8756294975981416,
          0.8756272452096807,
          0.8757474743136786,
          0.8745457174481663,
          0.8709370075307896,
          0.873870769172097,
          0.875470719508807,
          0.8688448117873395,
          0.8662102040061237,
          0.870131594362489,
          0.8761264506801542,
          0.8754251085102551,
          0.87471630167035,
          0.8746038221272883,
          0.8688837631110813,
          0.8664471864191293,
          0.8762109445256876,
          0.8774951780481963,
          0.8783299699224513,
          0.879035427244842,
          0.8782033502566927,
          0.8781195396885846,
          0.8596539913954914,
          0.878786744503888,
          0.878613151958136,
          0.8791672787317731,
          0.879193867964878,
          0.8790834134504182,
          0.8781149028462666
         ],
         "yaxis": "y2"
        },
        {
         "marker": {
          "color": [
           0,
           1,
           2,
           3,
           4,
           5,
           6,
           7,
           8,
           9,
           10,
           11,
           12,
           13,
           14,
           15,
           16,
           17,
           18,
           19,
           20,
           21,
           22,
           23,
           24,
           25,
           26,
           27,
           28,
           29,
           30,
           31,
           32,
           33,
           34,
           35,
           36,
           37,
           38,
           39,
           40,
           41,
           42,
           43,
           44,
           45,
           46,
           47,
           48,
           49
          ],
          "colorbar": {
           "title": {
            "text": "Trial"
           },
           "x": 1,
           "xpad": 40
          },
          "colorscale": [
           [
            0,
            "rgb(247,251,255)"
           ],
           [
            0.125,
            "rgb(222,235,247)"
           ],
           [
            0.25,
            "rgb(198,219,239)"
           ],
           [
            0.375,
            "rgb(158,202,225)"
           ],
           [
            0.5,
            "rgb(107,174,214)"
           ],
           [
            0.625,
            "rgb(66,146,198)"
           ],
           [
            0.75,
            "rgb(33,113,181)"
           ],
           [
            0.875,
            "rgb(8,81,156)"
           ],
           [
            1,
            "rgb(8,48,107)"
           ]
          ],
          "line": {
           "color": "Grey",
           "width": 0.5
          },
          "showscale": false
         },
         "mode": "markers",
         "name": "Feasible Trial",
         "showlegend": false,
         "type": "scatter",
         "x": [
          529,
          232,
          178,
          59,
          697,
          374,
          324,
          504,
          858,
          75,
          113,
          175,
          144,
          164,
          116,
          238,
          89,
          178,
          317,
          142,
          94,
          185,
          192,
          253,
          276,
          398,
          143,
          260,
          208,
          473,
          51,
          199,
          282,
          210,
          155,
          108,
          233,
          369,
          393,
          694,
          763,
          650,
          620,
          648,
          990,
          928,
          897,
          982,
          969,
          794
         ],
         "xaxis": "x3",
         "y": [
          0.8634212690146436,
          0.8730867647047053,
          0.8755434641646135,
          0.8431669111770509,
          0.8673803823591111,
          0.8649292477136281,
          0.8486651574437956,
          0.8427790369707283,
          0.865790203855769,
          0.8673815818789359,
          0.8707789270195097,
          0.8752449675265931,
          0.8716594405479297,
          0.8756828745795954,
          0.872392175787318,
          0.8574905084498043,
          0.8635962744625834,
          0.8748826855297063,
          0.8740518513206832,
          0.8752248656638402,
          0.8690321188221338,
          0.8756294975981416,
          0.8756272452096807,
          0.8757474743136786,
          0.8745457174481663,
          0.8709370075307896,
          0.873870769172097,
          0.875470719508807,
          0.8688448117873395,
          0.8662102040061237,
          0.870131594362489,
          0.8761264506801542,
          0.8754251085102551,
          0.87471630167035,
          0.8746038221272883,
          0.8688837631110813,
          0.8664471864191293,
          0.8762109445256876,
          0.8774951780481963,
          0.8783299699224513,
          0.879035427244842,
          0.8782033502566927,
          0.8781195396885846,
          0.8596539913954914,
          0.878786744503888,
          0.878613151958136,
          0.8791672787317731,
          0.879193867964878,
          0.8790834134504182,
          0.8781149028462666
         ],
         "yaxis": "y3"
        }
       ],
       "layout": {
        "template": {
         "data": {
          "bar": [
           {
            "error_x": {
             "color": "#2a3f5f"
            },
            "error_y": {
             "color": "#2a3f5f"
            },
            "marker": {
             "line": {
              "color": "#E5ECF6",
              "width": 0.5
             },
             "pattern": {
              "fillmode": "overlay",
              "size": 10,
              "solidity": 0.2
             }
            },
            "type": "bar"
           }
          ],
          "barpolar": [
           {
            "marker": {
             "line": {
              "color": "#E5ECF6",
              "width": 0.5
             },
             "pattern": {
              "fillmode": "overlay",
              "size": 10,
              "solidity": 0.2
             }
            },
            "type": "barpolar"
           }
          ],
          "carpet": [
           {
            "aaxis": {
             "endlinecolor": "#2a3f5f",
             "gridcolor": "white",
             "linecolor": "white",
             "minorgridcolor": "white",
             "startlinecolor": "#2a3f5f"
            },
            "baxis": {
             "endlinecolor": "#2a3f5f",
             "gridcolor": "white",
             "linecolor": "white",
             "minorgridcolor": "white",
             "startlinecolor": "#2a3f5f"
            },
            "type": "carpet"
           }
          ],
          "choropleth": [
           {
            "colorbar": {
             "outlinewidth": 0,
             "ticks": ""
            },
            "type": "choropleth"
           }
          ],
          "contour": [
           {
            "colorbar": {
             "outlinewidth": 0,
             "ticks": ""
            },
            "colorscale": [
             [
              0,
              "#0d0887"
             ],
             [
              0.1111111111111111,
              "#46039f"
             ],
             [
              0.2222222222222222,
              "#7201a8"
             ],
             [
              0.3333333333333333,
              "#9c179e"
             ],
             [
              0.4444444444444444,
              "#bd3786"
             ],
             [
              0.5555555555555556,
              "#d8576b"
             ],
             [
              0.6666666666666666,
              "#ed7953"
             ],
             [
              0.7777777777777778,
              "#fb9f3a"
             ],
             [
              0.8888888888888888,
              "#fdca26"
             ],
             [
              1,
              "#f0f921"
             ]
            ],
            "type": "contour"
           }
          ],
          "contourcarpet": [
           {
            "colorbar": {
             "outlinewidth": 0,
             "ticks": ""
            },
            "type": "contourcarpet"
           }
          ],
          "heatmap": [
           {
            "colorbar": {
             "outlinewidth": 0,
             "ticks": ""
            },
            "colorscale": [
             [
              0,
              "#0d0887"
             ],
             [
              0.1111111111111111,
              "#46039f"
             ],
             [
              0.2222222222222222,
              "#7201a8"
             ],
             [
              0.3333333333333333,
              "#9c179e"
             ],
             [
              0.4444444444444444,
              "#bd3786"
             ],
             [
              0.5555555555555556,
              "#d8576b"
             ],
             [
              0.6666666666666666,
              "#ed7953"
             ],
             [
              0.7777777777777778,
              "#fb9f3a"
             ],
             [
              0.8888888888888888,
              "#fdca26"
             ],
             [
              1,
              "#f0f921"
             ]
            ],
            "type": "heatmap"
           }
          ],
          "heatmapgl": [
           {
            "colorbar": {
             "outlinewidth": 0,
             "ticks": ""
            },
            "colorscale": [
             [
              0,
              "#0d0887"
             ],
             [
              0.1111111111111111,
              "#46039f"
             ],
             [
              0.2222222222222222,
              "#7201a8"
             ],
             [
              0.3333333333333333,
              "#9c179e"
             ],
             [
              0.4444444444444444,
              "#bd3786"
             ],
             [
              0.5555555555555556,
              "#d8576b"
             ],
             [
              0.6666666666666666,
              "#ed7953"
             ],
             [
              0.7777777777777778,
              "#fb9f3a"
             ],
             [
              0.8888888888888888,
              "#fdca26"
             ],
             [
              1,
              "#f0f921"
             ]
            ],
            "type": "heatmapgl"
           }
          ],
          "histogram": [
           {
            "marker": {
             "pattern": {
              "fillmode": "overlay",
              "size": 10,
              "solidity": 0.2
             }
            },
            "type": "histogram"
           }
          ],
          "histogram2d": [
           {
            "colorbar": {
             "outlinewidth": 0,
             "ticks": ""
            },
            "colorscale": [
             [
              0,
              "#0d0887"
             ],
             [
              0.1111111111111111,
              "#46039f"
             ],
             [
              0.2222222222222222,
              "#7201a8"
             ],
             [
              0.3333333333333333,
              "#9c179e"
             ],
             [
              0.4444444444444444,
              "#bd3786"
             ],
             [
              0.5555555555555556,
              "#d8576b"
             ],
             [
              0.6666666666666666,
              "#ed7953"
             ],
             [
              0.7777777777777778,
              "#fb9f3a"
             ],
             [
              0.8888888888888888,
              "#fdca26"
             ],
             [
              1,
              "#f0f921"
             ]
            ],
            "type": "histogram2d"
           }
          ],
          "histogram2dcontour": [
           {
            "colorbar": {
             "outlinewidth": 0,
             "ticks": ""
            },
            "colorscale": [
             [
              0,
              "#0d0887"
             ],
             [
              0.1111111111111111,
              "#46039f"
             ],
             [
              0.2222222222222222,
              "#7201a8"
             ],
             [
              0.3333333333333333,
              "#9c179e"
             ],
             [
              0.4444444444444444,
              "#bd3786"
             ],
             [
              0.5555555555555556,
              "#d8576b"
             ],
             [
              0.6666666666666666,
              "#ed7953"
             ],
             [
              0.7777777777777778,
              "#fb9f3a"
             ],
             [
              0.8888888888888888,
              "#fdca26"
             ],
             [
              1,
              "#f0f921"
             ]
            ],
            "type": "histogram2dcontour"
           }
          ],
          "mesh3d": [
           {
            "colorbar": {
             "outlinewidth": 0,
             "ticks": ""
            },
            "type": "mesh3d"
           }
          ],
          "parcoords": [
           {
            "line": {
             "colorbar": {
              "outlinewidth": 0,
              "ticks": ""
             }
            },
            "type": "parcoords"
           }
          ],
          "pie": [
           {
            "automargin": true,
            "type": "pie"
           }
          ],
          "scatter": [
           {
            "fillpattern": {
             "fillmode": "overlay",
             "size": 10,
             "solidity": 0.2
            },
            "type": "scatter"
           }
          ],
          "scatter3d": [
           {
            "line": {
             "colorbar": {
              "outlinewidth": 0,
              "ticks": ""
             }
            },
            "marker": {
             "colorbar": {
              "outlinewidth": 0,
              "ticks": ""
             }
            },
            "type": "scatter3d"
           }
          ],
          "scattercarpet": [
           {
            "marker": {
             "colorbar": {
              "outlinewidth": 0,
              "ticks": ""
             }
            },
            "type": "scattercarpet"
           }
          ],
          "scattergeo": [
           {
            "marker": {
             "colorbar": {
              "outlinewidth": 0,
              "ticks": ""
             }
            },
            "type": "scattergeo"
           }
          ],
          "scattergl": [
           {
            "marker": {
             "colorbar": {
              "outlinewidth": 0,
              "ticks": ""
             }
            },
            "type": "scattergl"
           }
          ],
          "scattermapbox": [
           {
            "marker": {
             "colorbar": {
              "outlinewidth": 0,
              "ticks": ""
             }
            },
            "type": "scattermapbox"
           }
          ],
          "scatterpolar": [
           {
            "marker": {
             "colorbar": {
              "outlinewidth": 0,
              "ticks": ""
             }
            },
            "type": "scatterpolar"
           }
          ],
          "scatterpolargl": [
           {
            "marker": {
             "colorbar": {
              "outlinewidth": 0,
              "ticks": ""
             }
            },
            "type": "scatterpolargl"
           }
          ],
          "scatterternary": [
           {
            "marker": {
             "colorbar": {
              "outlinewidth": 0,
              "ticks": ""
             }
            },
            "type": "scatterternary"
           }
          ],
          "surface": [
           {
            "colorbar": {
             "outlinewidth": 0,
             "ticks": ""
            },
            "colorscale": [
             [
              0,
              "#0d0887"
             ],
             [
              0.1111111111111111,
              "#46039f"
             ],
             [
              0.2222222222222222,
              "#7201a8"
             ],
             [
              0.3333333333333333,
              "#9c179e"
             ],
             [
              0.4444444444444444,
              "#bd3786"
             ],
             [
              0.5555555555555556,
              "#d8576b"
             ],
             [
              0.6666666666666666,
              "#ed7953"
             ],
             [
              0.7777777777777778,
              "#fb9f3a"
             ],
             [
              0.8888888888888888,
              "#fdca26"
             ],
             [
              1,
              "#f0f921"
             ]
            ],
            "type": "surface"
           }
          ],
          "table": [
           {
            "cells": {
             "fill": {
              "color": "#EBF0F8"
             },
             "line": {
              "color": "white"
             }
            },
            "header": {
             "fill": {
              "color": "#C8D4E3"
             },
             "line": {
              "color": "white"
             }
            },
            "type": "table"
           }
          ]
         },
         "layout": {
          "annotationdefaults": {
           "arrowcolor": "#2a3f5f",
           "arrowhead": 0,
           "arrowwidth": 1
          },
          "autotypenumbers": "strict",
          "coloraxis": {
           "colorbar": {
            "outlinewidth": 0,
            "ticks": ""
           }
          },
          "colorscale": {
           "diverging": [
            [
             0,
             "#8e0152"
            ],
            [
             0.1,
             "#c51b7d"
            ],
            [
             0.2,
             "#de77ae"
            ],
            [
             0.3,
             "#f1b6da"
            ],
            [
             0.4,
             "#fde0ef"
            ],
            [
             0.5,
             "#f7f7f7"
            ],
            [
             0.6,
             "#e6f5d0"
            ],
            [
             0.7,
             "#b8e186"
            ],
            [
             0.8,
             "#7fbc41"
            ],
            [
             0.9,
             "#4d9221"
            ],
            [
             1,
             "#276419"
            ]
           ],
           "sequential": [
            [
             0,
             "#0d0887"
            ],
            [
             0.1111111111111111,
             "#46039f"
            ],
            [
             0.2222222222222222,
             "#7201a8"
            ],
            [
             0.3333333333333333,
             "#9c179e"
            ],
            [
             0.4444444444444444,
             "#bd3786"
            ],
            [
             0.5555555555555556,
             "#d8576b"
            ],
            [
             0.6666666666666666,
             "#ed7953"
            ],
            [
             0.7777777777777778,
             "#fb9f3a"
            ],
            [
             0.8888888888888888,
             "#fdca26"
            ],
            [
             1,
             "#f0f921"
            ]
           ],
           "sequentialminus": [
            [
             0,
             "#0d0887"
            ],
            [
             0.1111111111111111,
             "#46039f"
            ],
            [
             0.2222222222222222,
             "#7201a8"
            ],
            [
             0.3333333333333333,
             "#9c179e"
            ],
            [
             0.4444444444444444,
             "#bd3786"
            ],
            [
             0.5555555555555556,
             "#d8576b"
            ],
            [
             0.6666666666666666,
             "#ed7953"
            ],
            [
             0.7777777777777778,
             "#fb9f3a"
            ],
            [
             0.8888888888888888,
             "#fdca26"
            ],
            [
             1,
             "#f0f921"
            ]
           ]
          },
          "colorway": [
           "#636efa",
           "#EF553B",
           "#00cc96",
           "#ab63fa",
           "#FFA15A",
           "#19d3f3",
           "#FF6692",
           "#B6E880",
           "#FF97FF",
           "#FECB52"
          ],
          "font": {
           "color": "#2a3f5f"
          },
          "geo": {
           "bgcolor": "white",
           "lakecolor": "white",
           "landcolor": "#E5ECF6",
           "showlakes": true,
           "showland": true,
           "subunitcolor": "white"
          },
          "hoverlabel": {
           "align": "left"
          },
          "hovermode": "closest",
          "mapbox": {
           "style": "light"
          },
          "paper_bgcolor": "white",
          "plot_bgcolor": "#E5ECF6",
          "polar": {
           "angularaxis": {
            "gridcolor": "white",
            "linecolor": "white",
            "ticks": ""
           },
           "bgcolor": "#E5ECF6",
           "radialaxis": {
            "gridcolor": "white",
            "linecolor": "white",
            "ticks": ""
           }
          },
          "scene": {
           "xaxis": {
            "backgroundcolor": "#E5ECF6",
            "gridcolor": "white",
            "gridwidth": 2,
            "linecolor": "white",
            "showbackground": true,
            "ticks": "",
            "zerolinecolor": "white"
           },
           "yaxis": {
            "backgroundcolor": "#E5ECF6",
            "gridcolor": "white",
            "gridwidth": 2,
            "linecolor": "white",
            "showbackground": true,
            "ticks": "",
            "zerolinecolor": "white"
           },
           "zaxis": {
            "backgroundcolor": "#E5ECF6",
            "gridcolor": "white",
            "gridwidth": 2,
            "linecolor": "white",
            "showbackground": true,
            "ticks": "",
            "zerolinecolor": "white"
           }
          },
          "shapedefaults": {
           "line": {
            "color": "#2a3f5f"
           }
          },
          "ternary": {
           "aaxis": {
            "gridcolor": "white",
            "linecolor": "white",
            "ticks": ""
           },
           "baxis": {
            "gridcolor": "white",
            "linecolor": "white",
            "ticks": ""
           },
           "bgcolor": "#E5ECF6",
           "caxis": {
            "gridcolor": "white",
            "linecolor": "white",
            "ticks": ""
           }
          },
          "title": {
           "x": 0.05
          },
          "xaxis": {
           "automargin": true,
           "gridcolor": "white",
           "linecolor": "white",
           "ticks": "",
           "title": {
            "standoff": 15
           },
           "zerolinecolor": "white",
           "zerolinewidth": 2
          },
          "yaxis": {
           "automargin": true,
           "gridcolor": "white",
           "linecolor": "white",
           "ticks": "",
           "title": {
            "standoff": 15
           },
           "zerolinecolor": "white",
           "zerolinewidth": 2
          }
         }
        },
        "title": {
         "text": "Slice Plot"
        },
        "xaxis": {
         "anchor": "y",
         "domain": [
          0,
          0.2888888888888889
         ],
         "title": {
          "text": "max_depth"
         },
         "type": "log"
        },
        "xaxis2": {
         "anchor": "y2",
         "domain": [
          0.35555555555555557,
          0.6444444444444445
         ],
         "title": {
          "text": "max_samples"
         },
         "type": "log"
        },
        "xaxis3": {
         "anchor": "y3",
         "domain": [
          0.7111111111111111,
          1
         ],
         "title": {
          "text": "n_estimators"
         },
         "type": "log"
        },
        "yaxis": {
         "anchor": "x",
         "domain": [
          0,
          1
         ],
         "title": {
          "text": "Objective Value"
         }
        },
        "yaxis2": {
         "anchor": "x2",
         "domain": [
          0,
          1
         ],
         "matches": "y",
         "showticklabels": false
        },
        "yaxis3": {
         "anchor": "x3",
         "domain": [
          0,
          1
         ],
         "matches": "y",
         "showticklabels": false
        }
       }
      }
     },
     "metadata": {},
     "output_type": "display_data"
    }
   ],
   "source": [
    "optuna.visualization.plot_slice(rf_study, params=['n_estimators', \n",
    "                                                  'max_depth', \n",
    "                                                  'max_samples'])"
   ]
  },
  {
   "cell_type": "code",
   "execution_count": 68,
   "metadata": {},
   "outputs": [
    {
     "data": {
      "application/vnd.plotly.v1+json": {
       "config": {
        "plotlyServerURL": "https://plot.ly"
       },
       "data": [
        {
         "cliponaxis": false,
         "hovertemplate": [
          "n_estimators (IntDistribution): 0.17175738790870396<extra></extra>",
          "max_depth (IntDistribution): 0.403841883822841<extra></extra>",
          "max_samples (FloatDistribution): 0.42440072826845504<extra></extra>"
         ],
         "name": "Objective Value",
         "orientation": "h",
         "text": [
          "0.17",
          "0.40",
          "0.42"
         ],
         "textposition": "outside",
         "type": "bar",
         "x": [
          0.17175738790870396,
          0.403841883822841,
          0.42440072826845504
         ],
         "y": [
          "n_estimators",
          "max_depth",
          "max_samples"
         ]
        }
       ],
       "layout": {
        "template": {
         "data": {
          "bar": [
           {
            "error_x": {
             "color": "#2a3f5f"
            },
            "error_y": {
             "color": "#2a3f5f"
            },
            "marker": {
             "line": {
              "color": "#E5ECF6",
              "width": 0.5
             },
             "pattern": {
              "fillmode": "overlay",
              "size": 10,
              "solidity": 0.2
             }
            },
            "type": "bar"
           }
          ],
          "barpolar": [
           {
            "marker": {
             "line": {
              "color": "#E5ECF6",
              "width": 0.5
             },
             "pattern": {
              "fillmode": "overlay",
              "size": 10,
              "solidity": 0.2
             }
            },
            "type": "barpolar"
           }
          ],
          "carpet": [
           {
            "aaxis": {
             "endlinecolor": "#2a3f5f",
             "gridcolor": "white",
             "linecolor": "white",
             "minorgridcolor": "white",
             "startlinecolor": "#2a3f5f"
            },
            "baxis": {
             "endlinecolor": "#2a3f5f",
             "gridcolor": "white",
             "linecolor": "white",
             "minorgridcolor": "white",
             "startlinecolor": "#2a3f5f"
            },
            "type": "carpet"
           }
          ],
          "choropleth": [
           {
            "colorbar": {
             "outlinewidth": 0,
             "ticks": ""
            },
            "type": "choropleth"
           }
          ],
          "contour": [
           {
            "colorbar": {
             "outlinewidth": 0,
             "ticks": ""
            },
            "colorscale": [
             [
              0,
              "#0d0887"
             ],
             [
              0.1111111111111111,
              "#46039f"
             ],
             [
              0.2222222222222222,
              "#7201a8"
             ],
             [
              0.3333333333333333,
              "#9c179e"
             ],
             [
              0.4444444444444444,
              "#bd3786"
             ],
             [
              0.5555555555555556,
              "#d8576b"
             ],
             [
              0.6666666666666666,
              "#ed7953"
             ],
             [
              0.7777777777777778,
              "#fb9f3a"
             ],
             [
              0.8888888888888888,
              "#fdca26"
             ],
             [
              1,
              "#f0f921"
             ]
            ],
            "type": "contour"
           }
          ],
          "contourcarpet": [
           {
            "colorbar": {
             "outlinewidth": 0,
             "ticks": ""
            },
            "type": "contourcarpet"
           }
          ],
          "heatmap": [
           {
            "colorbar": {
             "outlinewidth": 0,
             "ticks": ""
            },
            "colorscale": [
             [
              0,
              "#0d0887"
             ],
             [
              0.1111111111111111,
              "#46039f"
             ],
             [
              0.2222222222222222,
              "#7201a8"
             ],
             [
              0.3333333333333333,
              "#9c179e"
             ],
             [
              0.4444444444444444,
              "#bd3786"
             ],
             [
              0.5555555555555556,
              "#d8576b"
             ],
             [
              0.6666666666666666,
              "#ed7953"
             ],
             [
              0.7777777777777778,
              "#fb9f3a"
             ],
             [
              0.8888888888888888,
              "#fdca26"
             ],
             [
              1,
              "#f0f921"
             ]
            ],
            "type": "heatmap"
           }
          ],
          "heatmapgl": [
           {
            "colorbar": {
             "outlinewidth": 0,
             "ticks": ""
            },
            "colorscale": [
             [
              0,
              "#0d0887"
             ],
             [
              0.1111111111111111,
              "#46039f"
             ],
             [
              0.2222222222222222,
              "#7201a8"
             ],
             [
              0.3333333333333333,
              "#9c179e"
             ],
             [
              0.4444444444444444,
              "#bd3786"
             ],
             [
              0.5555555555555556,
              "#d8576b"
             ],
             [
              0.6666666666666666,
              "#ed7953"
             ],
             [
              0.7777777777777778,
              "#fb9f3a"
             ],
             [
              0.8888888888888888,
              "#fdca26"
             ],
             [
              1,
              "#f0f921"
             ]
            ],
            "type": "heatmapgl"
           }
          ],
          "histogram": [
           {
            "marker": {
             "pattern": {
              "fillmode": "overlay",
              "size": 10,
              "solidity": 0.2
             }
            },
            "type": "histogram"
           }
          ],
          "histogram2d": [
           {
            "colorbar": {
             "outlinewidth": 0,
             "ticks": ""
            },
            "colorscale": [
             [
              0,
              "#0d0887"
             ],
             [
              0.1111111111111111,
              "#46039f"
             ],
             [
              0.2222222222222222,
              "#7201a8"
             ],
             [
              0.3333333333333333,
              "#9c179e"
             ],
             [
              0.4444444444444444,
              "#bd3786"
             ],
             [
              0.5555555555555556,
              "#d8576b"
             ],
             [
              0.6666666666666666,
              "#ed7953"
             ],
             [
              0.7777777777777778,
              "#fb9f3a"
             ],
             [
              0.8888888888888888,
              "#fdca26"
             ],
             [
              1,
              "#f0f921"
             ]
            ],
            "type": "histogram2d"
           }
          ],
          "histogram2dcontour": [
           {
            "colorbar": {
             "outlinewidth": 0,
             "ticks": ""
            },
            "colorscale": [
             [
              0,
              "#0d0887"
             ],
             [
              0.1111111111111111,
              "#46039f"
             ],
             [
              0.2222222222222222,
              "#7201a8"
             ],
             [
              0.3333333333333333,
              "#9c179e"
             ],
             [
              0.4444444444444444,
              "#bd3786"
             ],
             [
              0.5555555555555556,
              "#d8576b"
             ],
             [
              0.6666666666666666,
              "#ed7953"
             ],
             [
              0.7777777777777778,
              "#fb9f3a"
             ],
             [
              0.8888888888888888,
              "#fdca26"
             ],
             [
              1,
              "#f0f921"
             ]
            ],
            "type": "histogram2dcontour"
           }
          ],
          "mesh3d": [
           {
            "colorbar": {
             "outlinewidth": 0,
             "ticks": ""
            },
            "type": "mesh3d"
           }
          ],
          "parcoords": [
           {
            "line": {
             "colorbar": {
              "outlinewidth": 0,
              "ticks": ""
             }
            },
            "type": "parcoords"
           }
          ],
          "pie": [
           {
            "automargin": true,
            "type": "pie"
           }
          ],
          "scatter": [
           {
            "fillpattern": {
             "fillmode": "overlay",
             "size": 10,
             "solidity": 0.2
            },
            "type": "scatter"
           }
          ],
          "scatter3d": [
           {
            "line": {
             "colorbar": {
              "outlinewidth": 0,
              "ticks": ""
             }
            },
            "marker": {
             "colorbar": {
              "outlinewidth": 0,
              "ticks": ""
             }
            },
            "type": "scatter3d"
           }
          ],
          "scattercarpet": [
           {
            "marker": {
             "colorbar": {
              "outlinewidth": 0,
              "ticks": ""
             }
            },
            "type": "scattercarpet"
           }
          ],
          "scattergeo": [
           {
            "marker": {
             "colorbar": {
              "outlinewidth": 0,
              "ticks": ""
             }
            },
            "type": "scattergeo"
           }
          ],
          "scattergl": [
           {
            "marker": {
             "colorbar": {
              "outlinewidth": 0,
              "ticks": ""
             }
            },
            "type": "scattergl"
           }
          ],
          "scattermapbox": [
           {
            "marker": {
             "colorbar": {
              "outlinewidth": 0,
              "ticks": ""
             }
            },
            "type": "scattermapbox"
           }
          ],
          "scatterpolar": [
           {
            "marker": {
             "colorbar": {
              "outlinewidth": 0,
              "ticks": ""
             }
            },
            "type": "scatterpolar"
           }
          ],
          "scatterpolargl": [
           {
            "marker": {
             "colorbar": {
              "outlinewidth": 0,
              "ticks": ""
             }
            },
            "type": "scatterpolargl"
           }
          ],
          "scatterternary": [
           {
            "marker": {
             "colorbar": {
              "outlinewidth": 0,
              "ticks": ""
             }
            },
            "type": "scatterternary"
           }
          ],
          "surface": [
           {
            "colorbar": {
             "outlinewidth": 0,
             "ticks": ""
            },
            "colorscale": [
             [
              0,
              "#0d0887"
             ],
             [
              0.1111111111111111,
              "#46039f"
             ],
             [
              0.2222222222222222,
              "#7201a8"
             ],
             [
              0.3333333333333333,
              "#9c179e"
             ],
             [
              0.4444444444444444,
              "#bd3786"
             ],
             [
              0.5555555555555556,
              "#d8576b"
             ],
             [
              0.6666666666666666,
              "#ed7953"
             ],
             [
              0.7777777777777778,
              "#fb9f3a"
             ],
             [
              0.8888888888888888,
              "#fdca26"
             ],
             [
              1,
              "#f0f921"
             ]
            ],
            "type": "surface"
           }
          ],
          "table": [
           {
            "cells": {
             "fill": {
              "color": "#EBF0F8"
             },
             "line": {
              "color": "white"
             }
            },
            "header": {
             "fill": {
              "color": "#C8D4E3"
             },
             "line": {
              "color": "white"
             }
            },
            "type": "table"
           }
          ]
         },
         "layout": {
          "annotationdefaults": {
           "arrowcolor": "#2a3f5f",
           "arrowhead": 0,
           "arrowwidth": 1
          },
          "autotypenumbers": "strict",
          "coloraxis": {
           "colorbar": {
            "outlinewidth": 0,
            "ticks": ""
           }
          },
          "colorscale": {
           "diverging": [
            [
             0,
             "#8e0152"
            ],
            [
             0.1,
             "#c51b7d"
            ],
            [
             0.2,
             "#de77ae"
            ],
            [
             0.3,
             "#f1b6da"
            ],
            [
             0.4,
             "#fde0ef"
            ],
            [
             0.5,
             "#f7f7f7"
            ],
            [
             0.6,
             "#e6f5d0"
            ],
            [
             0.7,
             "#b8e186"
            ],
            [
             0.8,
             "#7fbc41"
            ],
            [
             0.9,
             "#4d9221"
            ],
            [
             1,
             "#276419"
            ]
           ],
           "sequential": [
            [
             0,
             "#0d0887"
            ],
            [
             0.1111111111111111,
             "#46039f"
            ],
            [
             0.2222222222222222,
             "#7201a8"
            ],
            [
             0.3333333333333333,
             "#9c179e"
            ],
            [
             0.4444444444444444,
             "#bd3786"
            ],
            [
             0.5555555555555556,
             "#d8576b"
            ],
            [
             0.6666666666666666,
             "#ed7953"
            ],
            [
             0.7777777777777778,
             "#fb9f3a"
            ],
            [
             0.8888888888888888,
             "#fdca26"
            ],
            [
             1,
             "#f0f921"
            ]
           ],
           "sequentialminus": [
            [
             0,
             "#0d0887"
            ],
            [
             0.1111111111111111,
             "#46039f"
            ],
            [
             0.2222222222222222,
             "#7201a8"
            ],
            [
             0.3333333333333333,
             "#9c179e"
            ],
            [
             0.4444444444444444,
             "#bd3786"
            ],
            [
             0.5555555555555556,
             "#d8576b"
            ],
            [
             0.6666666666666666,
             "#ed7953"
            ],
            [
             0.7777777777777778,
             "#fb9f3a"
            ],
            [
             0.8888888888888888,
             "#fdca26"
            ],
            [
             1,
             "#f0f921"
            ]
           ]
          },
          "colorway": [
           "#636efa",
           "#EF553B",
           "#00cc96",
           "#ab63fa",
           "#FFA15A",
           "#19d3f3",
           "#FF6692",
           "#B6E880",
           "#FF97FF",
           "#FECB52"
          ],
          "font": {
           "color": "#2a3f5f"
          },
          "geo": {
           "bgcolor": "white",
           "lakecolor": "white",
           "landcolor": "#E5ECF6",
           "showlakes": true,
           "showland": true,
           "subunitcolor": "white"
          },
          "hoverlabel": {
           "align": "left"
          },
          "hovermode": "closest",
          "mapbox": {
           "style": "light"
          },
          "paper_bgcolor": "white",
          "plot_bgcolor": "#E5ECF6",
          "polar": {
           "angularaxis": {
            "gridcolor": "white",
            "linecolor": "white",
            "ticks": ""
           },
           "bgcolor": "#E5ECF6",
           "radialaxis": {
            "gridcolor": "white",
            "linecolor": "white",
            "ticks": ""
           }
          },
          "scene": {
           "xaxis": {
            "backgroundcolor": "#E5ECF6",
            "gridcolor": "white",
            "gridwidth": 2,
            "linecolor": "white",
            "showbackground": true,
            "ticks": "",
            "zerolinecolor": "white"
           },
           "yaxis": {
            "backgroundcolor": "#E5ECF6",
            "gridcolor": "white",
            "gridwidth": 2,
            "linecolor": "white",
            "showbackground": true,
            "ticks": "",
            "zerolinecolor": "white"
           },
           "zaxis": {
            "backgroundcolor": "#E5ECF6",
            "gridcolor": "white",
            "gridwidth": 2,
            "linecolor": "white",
            "showbackground": true,
            "ticks": "",
            "zerolinecolor": "white"
           }
          },
          "shapedefaults": {
           "line": {
            "color": "#2a3f5f"
           }
          },
          "ternary": {
           "aaxis": {
            "gridcolor": "white",
            "linecolor": "white",
            "ticks": ""
           },
           "baxis": {
            "gridcolor": "white",
            "linecolor": "white",
            "ticks": ""
           },
           "bgcolor": "#E5ECF6",
           "caxis": {
            "gridcolor": "white",
            "linecolor": "white",
            "ticks": ""
           }
          },
          "title": {
           "x": 0.05
          },
          "xaxis": {
           "automargin": true,
           "gridcolor": "white",
           "linecolor": "white",
           "ticks": "",
           "title": {
            "standoff": 15
           },
           "zerolinecolor": "white",
           "zerolinewidth": 2
          },
          "yaxis": {
           "automargin": true,
           "gridcolor": "white",
           "linecolor": "white",
           "ticks": "",
           "title": {
            "standoff": 15
           },
           "zerolinecolor": "white",
           "zerolinewidth": 2
          }
         }
        },
        "title": {
         "text": "Hyperparameter Importances"
        },
        "xaxis": {
         "title": {
          "text": "Hyperparameter Importance"
         }
        },
        "yaxis": {
         "title": {
          "text": "Hyperparameter"
         }
        }
       }
      }
     },
     "metadata": {},
     "output_type": "display_data"
    }
   ],
   "source": [
    "optuna.visualization.plot_param_importances(rf_study)"
   ]
  },
  {
   "cell_type": "markdown",
   "metadata": {},
   "source": [
    "## Combination"
   ]
  },
  {
   "cell_type": "code",
   "execution_count": 73,
   "metadata": {},
   "outputs": [],
   "source": [
    "from sklearn.metrics import roc_auc_score\n",
    "\n",
    "def cv_score(xgb_params, rf_params, xgb_weight):\n",
    "    rf_weight = 1 - xgb_weight\n",
    "    aucs = np.zeros(7)\n",
    "    for fold in range(5):\n",
    "\n",
    "        # Fit Model\n",
    "        xgboost = xgb.XGBClassifier(**xgb_params)\n",
    "        xgboost.fit(*trains[fold], eval_set=[valids[fold]], verbose=0)\n",
    "\n",
    "        rforest = RandomForestClassifier(**rf_params)\n",
    "        rforest.fit(*trains[fold])\n",
    "\n",
    "        # Calculate ROCS\n",
    "        X_val, y_val = valids[fold]\n",
    "        xgb_preds = xgboost.predict_proba(X_val)\n",
    "\n",
    "        X_val, y_val = valids[fold]\n",
    "        rf_preds = rforest.predict_proba(X_val)\n",
    "        rf_preds = np.array(rf_preds)[:,:,1].T\n",
    "\n",
    "        preds = xgb_weight * xgb_preds + rf_weight * rf_preds\n",
    "        aucs += np.array(roc_auc_score(y_val, preds, multi_class='ovr', average=None))\n",
    "\n",
    "    return aucs.mean() / 5\n",
    "\n",
    "def combo_objective(trial):\n",
    "    xgb_params = {\n",
    "        'n_estimators': 1000,\n",
    "        'early_stopping_rounds': 10,\n",
    "        'learning_rate': 0.01,\n",
    "        'lambda': 0.008,\n",
    "        'alpha': trial.suggest_float('alpha', 1e-2, 1, log=True),\n",
    "        'subsample': trial.suggest_float('subsample', 0.4, 0.85, log=True),\n",
    "        'n_jobs': -1\n",
    "    }\n",
    "\n",
    "    rf_params = {\n",
    "        'n_estimators': trial.suggest_int('n_estimators', 500, 2000, log=True),\n",
    "        'max_depth': trial.suggest_int('max_depth', 25, 75, log=True),\n",
    "        'max_samples': trial.suggest_float('max_samples', 6e-2, 6e-1, log=True),\n",
    "        'class_weight': 'balanced',\n",
    "        'n_jobs': -1\n",
    "    }\n",
    "\n",
    "    xgb_weight = trial.suggest_float('xgb_weight', 0, 1)\n",
    "\n",
    "    return cv_score(xgb_params, rf_params, xgb_weight)"
   ]
  },
  {
   "cell_type": "code",
   "execution_count": 74,
   "metadata": {},
   "outputs": [
    {
     "name": "stderr",
     "output_type": "stream",
     "text": [
      "[I 2024-03-30 23:16:39,226] A new study created in memory with name: no-name-9be5742b-93e0-4f54-a7bd-8bbdbcab0b63\n",
      "[I 2024-03-30 23:22:42,766] Trial 0 finished with value: 0.883507049828793 and parameters: {'alpha': 0.010598727834987337, 'subsample': 0.8387836007628174, 'n_estimators': 1885, 'max_depth': 47, 'max_samples': 0.4134091892098071, 'xgb_weight': 0.5710150310178316}. Best is trial 0 with value: 0.883507049828793.\n",
      "[I 2024-03-30 23:25:32,730] Trial 1 finished with value: 0.8794432244647765 and parameters: {'alpha': 0.014544523147008166, 'subsample': 0.44226098662273866, 'n_estimators': 715, 'max_depth': 26, 'max_samples': 0.20911816963122223, 'xgb_weight': 0.01702087738420177}. Best is trial 0 with value: 0.883507049828793.\n",
      "[I 2024-03-30 23:32:43,587] Trial 2 finished with value: 0.880518517258319 and parameters: {'alpha': 0.07768541900694854, 'subsample': 0.5231241089639049, 'n_estimators': 1946, 'max_depth': 74, 'max_samples': 0.1692064997419163, 'xgb_weight': 0.09343423885345992}. Best is trial 0 with value: 0.883507049828793.\n",
      "[I 2024-03-30 23:36:55,600] Trial 3 finished with value: 0.8796161940259527 and parameters: {'alpha': 0.2830366033058741, 'subsample': 0.4390924621865684, 'n_estimators': 684, 'max_depth': 65, 'max_samples': 0.5307615335416817, 'xgb_weight': 0.13786542024908444}. Best is trial 0 with value: 0.883507049828793.\n",
      "[I 2024-03-30 23:40:32,499] Trial 4 finished with value: 0.8824712811441959 and parameters: {'alpha': 0.03132243349697575, 'subsample': 0.47639678386164797, 'n_estimators': 751, 'max_depth': 27, 'max_samples': 0.30119165694447386, 'xgb_weight': 0.9034390271511845}. Best is trial 0 with value: 0.883507049828793.\n",
      "[I 2024-03-30 23:43:30,476] Trial 5 finished with value: 0.8829032562227962 and parameters: {'alpha': 0.03545036538361493, 'subsample': 0.6670101460711019, 'n_estimators': 530, 'max_depth': 58, 'max_samples': 0.12894051717407526, 'xgb_weight': 0.8305722515147693}. Best is trial 0 with value: 0.883507049828793.\n",
      "[I 2024-03-30 23:48:58,719] Trial 6 finished with value: 0.8831271202014468 and parameters: {'alpha': 0.03605530681582083, 'subsample': 0.438615664950264, 'n_estimators': 1819, 'max_depth': 51, 'max_samples': 0.2538672971178215, 'xgb_weight': 0.6778757630239964}. Best is trial 0 with value: 0.883507049828793.\n",
      "[I 2024-03-30 23:52:19,517] Trial 7 finished with value: 0.8831980045123263 and parameters: {'alpha': 0.343810913069604, 'subsample': 0.8331150384125181, 'n_estimators': 539, 'max_depth': 56, 'max_samples': 0.3430806510899783, 'xgb_weight': 0.5957772002152473}. Best is trial 0 with value: 0.883507049828793.\n",
      "[I 2024-03-30 23:55:27,420] Trial 8 finished with value: 0.8824271356212879 and parameters: {'alpha': 0.7144680542220468, 'subsample': 0.50070849294634, 'n_estimators': 647, 'max_depth': 36, 'max_samples': 0.10103939631835533, 'xgb_weight': 0.9558804246357603}. Best is trial 0 with value: 0.883507049828793.\n",
      "[I 2024-03-31 00:00:26,203] Trial 9 finished with value: 0.8822728248628154 and parameters: {'alpha': 0.4167935524455304, 'subsample': 0.5019272577906113, 'n_estimators': 1046, 'max_depth': 56, 'max_samples': 0.06972693158887905, 'xgb_weight': 0.9586617962085728}. Best is trial 0 with value: 0.883507049828793.\n",
      "[I 2024-03-31 00:06:12,646] Trial 10 finished with value: 0.8823755135450215 and parameters: {'alpha': 0.012267077633826416, 'subsample': 0.8447719277130625, 'n_estimators': 1357, 'max_depth': 40, 'max_samples': 0.5976276457567876, 'xgb_weight': 0.3687876720439567}. Best is trial 0 with value: 0.883507049828793.\n",
      "[I 2024-03-31 00:10:47,610] Trial 11 finished with value: 0.8832579825987823 and parameters: {'alpha': 0.17011810420107934, 'subsample': 0.8491889637791896, 'n_estimators': 1069, 'max_depth': 47, 'max_samples': 0.3613073436641089, 'xgb_weight': 0.5043794642258208}. Best is trial 0 with value: 0.883507049828793.\n",
      "[I 2024-03-31 00:13:52,015] Trial 12 finished with value: 0.8825162296074719 and parameters: {'alpha': 0.11164292341256822, 'subsample': 0.7042468752749411, 'n_estimators': 1308, 'max_depth': 45, 'max_samples': 0.42007590050779714, 'xgb_weight': 0.40549742135571165}. Best is trial 0 with value: 0.883507049828793.\n",
      "[W 2024-03-31 00:17:07,508] Trial 13 failed with parameters: {'alpha': 0.12393320026837883, 'subsample': 0.7267733881135972, 'n_estimators': 1484, 'max_depth': 34, 'max_samples': 0.41665018743665644, 'xgb_weight': 0.30664551903874276} because of the following error: KeyboardInterrupt().\n",
      "Traceback (most recent call last):\n",
      "  File \"c:\\Kaggle S4E3 Competition\\Kaggle-S4E3\\.venv\\Lib\\site-packages\\optuna\\study\\_optimize.py\", line 196, in _run_trial\n",
      "    value_or_values = func(trial)\n",
      "                      ^^^^^^^^^^^\n",
      "  File \"C:\\Users\\ttfee\\AppData\\Local\\Temp\\ipykernel_9480\\1895323768.py\", line 49, in combo_objective\n",
      "    return cv_score(xgb_params, rf_params, xgb_weight)\n",
      "           ^^^^^^^^^^^^^^^^^^^^^^^^^^^^^^^^^^^^^^^^^^^\n",
      "  File \"C:\\Users\\ttfee\\AppData\\Local\\Temp\\ipykernel_9480\\1895323768.py\", line 10, in cv_score\n",
      "    xgboost.fit(*trains[fold], eval_set=[valids[fold]], verbose=0)\n",
      "  File \"c:\\Kaggle S4E3 Competition\\Kaggle-S4E3\\.venv\\Lib\\site-packages\\xgboost\\core.py\", line 730, in inner_f\n",
      "    return func(**kwargs)\n",
      "           ^^^^^^^^^^^^^^\n",
      "  File \"c:\\Kaggle S4E3 Competition\\Kaggle-S4E3\\.venv\\Lib\\site-packages\\xgboost\\sklearn.py\", line 1519, in fit\n",
      "    self._Booster = train(\n",
      "                    ^^^^^^\n",
      "  File \"c:\\Kaggle S4E3 Competition\\Kaggle-S4E3\\.venv\\Lib\\site-packages\\xgboost\\core.py\", line 730, in inner_f\n",
      "    return func(**kwargs)\n",
      "           ^^^^^^^^^^^^^^\n",
      "  File \"c:\\Kaggle S4E3 Competition\\Kaggle-S4E3\\.venv\\Lib\\site-packages\\xgboost\\training.py\", line 181, in train\n",
      "    bst.update(dtrain, i, obj)\n",
      "  File \"c:\\Kaggle S4E3 Competition\\Kaggle-S4E3\\.venv\\Lib\\site-packages\\xgboost\\core.py\", line 2051, in update\n",
      "    _LIB.XGBoosterUpdateOneIter(\n",
      "KeyboardInterrupt\n",
      "[W 2024-03-31 00:17:07,512] Trial 13 failed with value None.\n"
     ]
    },
    {
     "ename": "KeyboardInterrupt",
     "evalue": "",
     "output_type": "error",
     "traceback": [
      "\u001b[1;31m---------------------------------------------------------------------------\u001b[0m",
      "\u001b[1;31mKeyboardInterrupt\u001b[0m                         Traceback (most recent call last)",
      "Cell \u001b[1;32mIn[74], line 2\u001b[0m\n\u001b[0;32m      1\u001b[0m study \u001b[38;5;241m=\u001b[39m optuna\u001b[38;5;241m.\u001b[39mcreate_study(direction\u001b[38;5;241m=\u001b[39m\u001b[38;5;124m'\u001b[39m\u001b[38;5;124mmaximize\u001b[39m\u001b[38;5;124m'\u001b[39m)\n\u001b[1;32m----> 2\u001b[0m \u001b[43mstudy\u001b[49m\u001b[38;5;241;43m.\u001b[39;49m\u001b[43moptimize\u001b[49m\u001b[43m(\u001b[49m\u001b[43mcombo_objective\u001b[49m\u001b[43m,\u001b[49m\u001b[43m \u001b[49m\u001b[43mn_trials\u001b[49m\u001b[38;5;241;43m=\u001b[39;49m\u001b[38;5;241;43m50\u001b[39;49m\u001b[43m)\u001b[49m\n",
      "File \u001b[1;32mc:\\Kaggle S4E3 Competition\\Kaggle-S4E3\\.venv\\Lib\\site-packages\\optuna\\study\\study.py:451\u001b[0m, in \u001b[0;36mStudy.optimize\u001b[1;34m(self, func, n_trials, timeout, n_jobs, catch, callbacks, gc_after_trial, show_progress_bar)\u001b[0m\n\u001b[0;32m    348\u001b[0m \u001b[38;5;28;01mdef\u001b[39;00m \u001b[38;5;21moptimize\u001b[39m(\n\u001b[0;32m    349\u001b[0m     \u001b[38;5;28mself\u001b[39m,\n\u001b[0;32m    350\u001b[0m     func: ObjectiveFuncType,\n\u001b[1;32m   (...)\u001b[0m\n\u001b[0;32m    357\u001b[0m     show_progress_bar: \u001b[38;5;28mbool\u001b[39m \u001b[38;5;241m=\u001b[39m \u001b[38;5;28;01mFalse\u001b[39;00m,\n\u001b[0;32m    358\u001b[0m ) \u001b[38;5;241m-\u001b[39m\u001b[38;5;241m>\u001b[39m \u001b[38;5;28;01mNone\u001b[39;00m:\n\u001b[0;32m    359\u001b[0m \u001b[38;5;250m    \u001b[39m\u001b[38;5;124;03m\"\"\"Optimize an objective function.\u001b[39;00m\n\u001b[0;32m    360\u001b[0m \n\u001b[0;32m    361\u001b[0m \u001b[38;5;124;03m    Optimization is done by choosing a suitable set of hyperparameter values from a given\u001b[39;00m\n\u001b[1;32m   (...)\u001b[0m\n\u001b[0;32m    449\u001b[0m \u001b[38;5;124;03m            If nested invocation of this method occurs.\u001b[39;00m\n\u001b[0;32m    450\u001b[0m \u001b[38;5;124;03m    \"\"\"\u001b[39;00m\n\u001b[1;32m--> 451\u001b[0m     \u001b[43m_optimize\u001b[49m\u001b[43m(\u001b[49m\n\u001b[0;32m    452\u001b[0m \u001b[43m        \u001b[49m\u001b[43mstudy\u001b[49m\u001b[38;5;241;43m=\u001b[39;49m\u001b[38;5;28;43mself\u001b[39;49m\u001b[43m,\u001b[49m\n\u001b[0;32m    453\u001b[0m \u001b[43m        \u001b[49m\u001b[43mfunc\u001b[49m\u001b[38;5;241;43m=\u001b[39;49m\u001b[43mfunc\u001b[49m\u001b[43m,\u001b[49m\n\u001b[0;32m    454\u001b[0m \u001b[43m        \u001b[49m\u001b[43mn_trials\u001b[49m\u001b[38;5;241;43m=\u001b[39;49m\u001b[43mn_trials\u001b[49m\u001b[43m,\u001b[49m\n\u001b[0;32m    455\u001b[0m \u001b[43m        \u001b[49m\u001b[43mtimeout\u001b[49m\u001b[38;5;241;43m=\u001b[39;49m\u001b[43mtimeout\u001b[49m\u001b[43m,\u001b[49m\n\u001b[0;32m    456\u001b[0m \u001b[43m        \u001b[49m\u001b[43mn_jobs\u001b[49m\u001b[38;5;241;43m=\u001b[39;49m\u001b[43mn_jobs\u001b[49m\u001b[43m,\u001b[49m\n\u001b[0;32m    457\u001b[0m \u001b[43m        \u001b[49m\u001b[43mcatch\u001b[49m\u001b[38;5;241;43m=\u001b[39;49m\u001b[38;5;28;43mtuple\u001b[39;49m\u001b[43m(\u001b[49m\u001b[43mcatch\u001b[49m\u001b[43m)\u001b[49m\u001b[43m \u001b[49m\u001b[38;5;28;43;01mif\u001b[39;49;00m\u001b[43m \u001b[49m\u001b[38;5;28;43misinstance\u001b[39;49m\u001b[43m(\u001b[49m\u001b[43mcatch\u001b[49m\u001b[43m,\u001b[49m\u001b[43m \u001b[49m\u001b[43mIterable\u001b[49m\u001b[43m)\u001b[49m\u001b[43m \u001b[49m\u001b[38;5;28;43;01melse\u001b[39;49;00m\u001b[43m \u001b[49m\u001b[43m(\u001b[49m\u001b[43mcatch\u001b[49m\u001b[43m,\u001b[49m\u001b[43m)\u001b[49m\u001b[43m,\u001b[49m\n\u001b[0;32m    458\u001b[0m \u001b[43m        \u001b[49m\u001b[43mcallbacks\u001b[49m\u001b[38;5;241;43m=\u001b[39;49m\u001b[43mcallbacks\u001b[49m\u001b[43m,\u001b[49m\n\u001b[0;32m    459\u001b[0m \u001b[43m        \u001b[49m\u001b[43mgc_after_trial\u001b[49m\u001b[38;5;241;43m=\u001b[39;49m\u001b[43mgc_after_trial\u001b[49m\u001b[43m,\u001b[49m\n\u001b[0;32m    460\u001b[0m \u001b[43m        \u001b[49m\u001b[43mshow_progress_bar\u001b[49m\u001b[38;5;241;43m=\u001b[39;49m\u001b[43mshow_progress_bar\u001b[49m\u001b[43m,\u001b[49m\n\u001b[0;32m    461\u001b[0m \u001b[43m    \u001b[49m\u001b[43m)\u001b[49m\n",
      "File \u001b[1;32mc:\\Kaggle S4E3 Competition\\Kaggle-S4E3\\.venv\\Lib\\site-packages\\optuna\\study\\_optimize.py:62\u001b[0m, in \u001b[0;36m_optimize\u001b[1;34m(study, func, n_trials, timeout, n_jobs, catch, callbacks, gc_after_trial, show_progress_bar)\u001b[0m\n\u001b[0;32m     60\u001b[0m \u001b[38;5;28;01mtry\u001b[39;00m:\n\u001b[0;32m     61\u001b[0m     \u001b[38;5;28;01mif\u001b[39;00m n_jobs \u001b[38;5;241m==\u001b[39m \u001b[38;5;241m1\u001b[39m:\n\u001b[1;32m---> 62\u001b[0m         \u001b[43m_optimize_sequential\u001b[49m\u001b[43m(\u001b[49m\n\u001b[0;32m     63\u001b[0m \u001b[43m            \u001b[49m\u001b[43mstudy\u001b[49m\u001b[43m,\u001b[49m\n\u001b[0;32m     64\u001b[0m \u001b[43m            \u001b[49m\u001b[43mfunc\u001b[49m\u001b[43m,\u001b[49m\n\u001b[0;32m     65\u001b[0m \u001b[43m            \u001b[49m\u001b[43mn_trials\u001b[49m\u001b[43m,\u001b[49m\n\u001b[0;32m     66\u001b[0m \u001b[43m            \u001b[49m\u001b[43mtimeout\u001b[49m\u001b[43m,\u001b[49m\n\u001b[0;32m     67\u001b[0m \u001b[43m            \u001b[49m\u001b[43mcatch\u001b[49m\u001b[43m,\u001b[49m\n\u001b[0;32m     68\u001b[0m \u001b[43m            \u001b[49m\u001b[43mcallbacks\u001b[49m\u001b[43m,\u001b[49m\n\u001b[0;32m     69\u001b[0m \u001b[43m            \u001b[49m\u001b[43mgc_after_trial\u001b[49m\u001b[43m,\u001b[49m\n\u001b[0;32m     70\u001b[0m \u001b[43m            \u001b[49m\u001b[43mreseed_sampler_rng\u001b[49m\u001b[38;5;241;43m=\u001b[39;49m\u001b[38;5;28;43;01mFalse\u001b[39;49;00m\u001b[43m,\u001b[49m\n\u001b[0;32m     71\u001b[0m \u001b[43m            \u001b[49m\u001b[43mtime_start\u001b[49m\u001b[38;5;241;43m=\u001b[39;49m\u001b[38;5;28;43;01mNone\u001b[39;49;00m\u001b[43m,\u001b[49m\n\u001b[0;32m     72\u001b[0m \u001b[43m            \u001b[49m\u001b[43mprogress_bar\u001b[49m\u001b[38;5;241;43m=\u001b[39;49m\u001b[43mprogress_bar\u001b[49m\u001b[43m,\u001b[49m\n\u001b[0;32m     73\u001b[0m \u001b[43m        \u001b[49m\u001b[43m)\u001b[49m\n\u001b[0;32m     74\u001b[0m     \u001b[38;5;28;01melse\u001b[39;00m:\n\u001b[0;32m     75\u001b[0m         \u001b[38;5;28;01mif\u001b[39;00m n_jobs \u001b[38;5;241m==\u001b[39m \u001b[38;5;241m-\u001b[39m\u001b[38;5;241m1\u001b[39m:\n",
      "File \u001b[1;32mc:\\Kaggle S4E3 Competition\\Kaggle-S4E3\\.venv\\Lib\\site-packages\\optuna\\study\\_optimize.py:159\u001b[0m, in \u001b[0;36m_optimize_sequential\u001b[1;34m(study, func, n_trials, timeout, catch, callbacks, gc_after_trial, reseed_sampler_rng, time_start, progress_bar)\u001b[0m\n\u001b[0;32m    156\u001b[0m         \u001b[38;5;28;01mbreak\u001b[39;00m\n\u001b[0;32m    158\u001b[0m \u001b[38;5;28;01mtry\u001b[39;00m:\n\u001b[1;32m--> 159\u001b[0m     frozen_trial \u001b[38;5;241m=\u001b[39m \u001b[43m_run_trial\u001b[49m\u001b[43m(\u001b[49m\u001b[43mstudy\u001b[49m\u001b[43m,\u001b[49m\u001b[43m \u001b[49m\u001b[43mfunc\u001b[49m\u001b[43m,\u001b[49m\u001b[43m \u001b[49m\u001b[43mcatch\u001b[49m\u001b[43m)\u001b[49m\n\u001b[0;32m    160\u001b[0m \u001b[38;5;28;01mfinally\u001b[39;00m:\n\u001b[0;32m    161\u001b[0m     \u001b[38;5;66;03m# The following line mitigates memory problems that can be occurred in some\u001b[39;00m\n\u001b[0;32m    162\u001b[0m     \u001b[38;5;66;03m# environments (e.g., services that use computing containers such as GitHub Actions).\u001b[39;00m\n\u001b[0;32m    163\u001b[0m     \u001b[38;5;66;03m# Please refer to the following PR for further details:\u001b[39;00m\n\u001b[0;32m    164\u001b[0m     \u001b[38;5;66;03m# https://github.com/optuna/optuna/pull/325.\u001b[39;00m\n\u001b[0;32m    165\u001b[0m     \u001b[38;5;28;01mif\u001b[39;00m gc_after_trial:\n",
      "File \u001b[1;32mc:\\Kaggle S4E3 Competition\\Kaggle-S4E3\\.venv\\Lib\\site-packages\\optuna\\study\\_optimize.py:247\u001b[0m, in \u001b[0;36m_run_trial\u001b[1;34m(study, func, catch)\u001b[0m\n\u001b[0;32m    240\u001b[0m         \u001b[38;5;28;01massert\u001b[39;00m \u001b[38;5;28;01mFalse\u001b[39;00m, \u001b[38;5;124m\"\u001b[39m\u001b[38;5;124mShould not reach.\u001b[39m\u001b[38;5;124m\"\u001b[39m\n\u001b[0;32m    242\u001b[0m \u001b[38;5;28;01mif\u001b[39;00m (\n\u001b[0;32m    243\u001b[0m     frozen_trial\u001b[38;5;241m.\u001b[39mstate \u001b[38;5;241m==\u001b[39m TrialState\u001b[38;5;241m.\u001b[39mFAIL\n\u001b[0;32m    244\u001b[0m     \u001b[38;5;129;01mand\u001b[39;00m func_err \u001b[38;5;129;01mis\u001b[39;00m \u001b[38;5;129;01mnot\u001b[39;00m \u001b[38;5;28;01mNone\u001b[39;00m\n\u001b[0;32m    245\u001b[0m     \u001b[38;5;129;01mand\u001b[39;00m \u001b[38;5;129;01mnot\u001b[39;00m \u001b[38;5;28misinstance\u001b[39m(func_err, catch)\n\u001b[0;32m    246\u001b[0m ):\n\u001b[1;32m--> 247\u001b[0m     \u001b[38;5;28;01mraise\u001b[39;00m func_err\n\u001b[0;32m    248\u001b[0m \u001b[38;5;28;01mreturn\u001b[39;00m frozen_trial\n",
      "File \u001b[1;32mc:\\Kaggle S4E3 Competition\\Kaggle-S4E3\\.venv\\Lib\\site-packages\\optuna\\study\\_optimize.py:196\u001b[0m, in \u001b[0;36m_run_trial\u001b[1;34m(study, func, catch)\u001b[0m\n\u001b[0;32m    194\u001b[0m \u001b[38;5;28;01mwith\u001b[39;00m get_heartbeat_thread(trial\u001b[38;5;241m.\u001b[39m_trial_id, study\u001b[38;5;241m.\u001b[39m_storage):\n\u001b[0;32m    195\u001b[0m     \u001b[38;5;28;01mtry\u001b[39;00m:\n\u001b[1;32m--> 196\u001b[0m         value_or_values \u001b[38;5;241m=\u001b[39m \u001b[43mfunc\u001b[49m\u001b[43m(\u001b[49m\u001b[43mtrial\u001b[49m\u001b[43m)\u001b[49m\n\u001b[0;32m    197\u001b[0m     \u001b[38;5;28;01mexcept\u001b[39;00m exceptions\u001b[38;5;241m.\u001b[39mTrialPruned \u001b[38;5;28;01mas\u001b[39;00m e:\n\u001b[0;32m    198\u001b[0m         \u001b[38;5;66;03m# TODO(mamu): Handle multi-objective cases.\u001b[39;00m\n\u001b[0;32m    199\u001b[0m         state \u001b[38;5;241m=\u001b[39m TrialState\u001b[38;5;241m.\u001b[39mPRUNED\n",
      "Cell \u001b[1;32mIn[73], line 49\u001b[0m, in \u001b[0;36mcombo_objective\u001b[1;34m(trial)\u001b[0m\n\u001b[0;32m     39\u001b[0m rf_params \u001b[38;5;241m=\u001b[39m {\n\u001b[0;32m     40\u001b[0m     \u001b[38;5;124m'\u001b[39m\u001b[38;5;124mn_estimators\u001b[39m\u001b[38;5;124m'\u001b[39m: trial\u001b[38;5;241m.\u001b[39msuggest_int(\u001b[38;5;124m'\u001b[39m\u001b[38;5;124mn_estimators\u001b[39m\u001b[38;5;124m'\u001b[39m, \u001b[38;5;241m500\u001b[39m, \u001b[38;5;241m2000\u001b[39m, log\u001b[38;5;241m=\u001b[39m\u001b[38;5;28;01mTrue\u001b[39;00m),\n\u001b[0;32m     41\u001b[0m     \u001b[38;5;124m'\u001b[39m\u001b[38;5;124mmax_depth\u001b[39m\u001b[38;5;124m'\u001b[39m: trial\u001b[38;5;241m.\u001b[39msuggest_int(\u001b[38;5;124m'\u001b[39m\u001b[38;5;124mmax_depth\u001b[39m\u001b[38;5;124m'\u001b[39m, \u001b[38;5;241m25\u001b[39m, \u001b[38;5;241m75\u001b[39m, log\u001b[38;5;241m=\u001b[39m\u001b[38;5;28;01mTrue\u001b[39;00m),\n\u001b[1;32m   (...)\u001b[0m\n\u001b[0;32m     44\u001b[0m     \u001b[38;5;124m'\u001b[39m\u001b[38;5;124mn_jobs\u001b[39m\u001b[38;5;124m'\u001b[39m: \u001b[38;5;241m-\u001b[39m\u001b[38;5;241m1\u001b[39m\n\u001b[0;32m     45\u001b[0m }\n\u001b[0;32m     47\u001b[0m xgb_weight \u001b[38;5;241m=\u001b[39m trial\u001b[38;5;241m.\u001b[39msuggest_float(\u001b[38;5;124m'\u001b[39m\u001b[38;5;124mxgb_weight\u001b[39m\u001b[38;5;124m'\u001b[39m, \u001b[38;5;241m0\u001b[39m, \u001b[38;5;241m1\u001b[39m)\n\u001b[1;32m---> 49\u001b[0m \u001b[38;5;28;01mreturn\u001b[39;00m \u001b[43mcv_score\u001b[49m\u001b[43m(\u001b[49m\u001b[43mxgb_params\u001b[49m\u001b[43m,\u001b[49m\u001b[43m \u001b[49m\u001b[43mrf_params\u001b[49m\u001b[43m,\u001b[49m\u001b[43m \u001b[49m\u001b[43mxgb_weight\u001b[49m\u001b[43m)\u001b[49m\n",
      "Cell \u001b[1;32mIn[73], line 10\u001b[0m, in \u001b[0;36mcv_score\u001b[1;34m(xgb_params, rf_params, xgb_weight)\u001b[0m\n\u001b[0;32m      6\u001b[0m \u001b[38;5;28;01mfor\u001b[39;00m fold \u001b[38;5;129;01min\u001b[39;00m \u001b[38;5;28mrange\u001b[39m(\u001b[38;5;241m5\u001b[39m):\n\u001b[0;32m      7\u001b[0m \n\u001b[0;32m      8\u001b[0m     \u001b[38;5;66;03m# Fit Model\u001b[39;00m\n\u001b[0;32m      9\u001b[0m     xgboost \u001b[38;5;241m=\u001b[39m xgb\u001b[38;5;241m.\u001b[39mXGBClassifier(\u001b[38;5;241m*\u001b[39m\u001b[38;5;241m*\u001b[39mxgb_params)\n\u001b[1;32m---> 10\u001b[0m     \u001b[43mxgboost\u001b[49m\u001b[38;5;241;43m.\u001b[39;49m\u001b[43mfit\u001b[49m\u001b[43m(\u001b[49m\u001b[38;5;241;43m*\u001b[39;49m\u001b[43mtrains\u001b[49m\u001b[43m[\u001b[49m\u001b[43mfold\u001b[49m\u001b[43m]\u001b[49m\u001b[43m,\u001b[49m\u001b[43m \u001b[49m\u001b[43meval_set\u001b[49m\u001b[38;5;241;43m=\u001b[39;49m\u001b[43m[\u001b[49m\u001b[43mvalids\u001b[49m\u001b[43m[\u001b[49m\u001b[43mfold\u001b[49m\u001b[43m]\u001b[49m\u001b[43m]\u001b[49m\u001b[43m,\u001b[49m\u001b[43m \u001b[49m\u001b[43mverbose\u001b[49m\u001b[38;5;241;43m=\u001b[39;49m\u001b[38;5;241;43m0\u001b[39;49m\u001b[43m)\u001b[49m\n\u001b[0;32m     12\u001b[0m     rforest \u001b[38;5;241m=\u001b[39m RandomForestClassifier(\u001b[38;5;241m*\u001b[39m\u001b[38;5;241m*\u001b[39mrf_params)\n\u001b[0;32m     13\u001b[0m     rforest\u001b[38;5;241m.\u001b[39mfit(\u001b[38;5;241m*\u001b[39mtrains[fold])\n",
      "File \u001b[1;32mc:\\Kaggle S4E3 Competition\\Kaggle-S4E3\\.venv\\Lib\\site-packages\\xgboost\\core.py:730\u001b[0m, in \u001b[0;36mrequire_keyword_args.<locals>.throw_if.<locals>.inner_f\u001b[1;34m(*args, **kwargs)\u001b[0m\n\u001b[0;32m    728\u001b[0m \u001b[38;5;28;01mfor\u001b[39;00m k, arg \u001b[38;5;129;01min\u001b[39;00m \u001b[38;5;28mzip\u001b[39m(sig\u001b[38;5;241m.\u001b[39mparameters, args):\n\u001b[0;32m    729\u001b[0m     kwargs[k] \u001b[38;5;241m=\u001b[39m arg\n\u001b[1;32m--> 730\u001b[0m \u001b[38;5;28;01mreturn\u001b[39;00m \u001b[43mfunc\u001b[49m\u001b[43m(\u001b[49m\u001b[38;5;241;43m*\u001b[39;49m\u001b[38;5;241;43m*\u001b[39;49m\u001b[43mkwargs\u001b[49m\u001b[43m)\u001b[49m\n",
      "File \u001b[1;32mc:\\Kaggle S4E3 Competition\\Kaggle-S4E3\\.venv\\Lib\\site-packages\\xgboost\\sklearn.py:1519\u001b[0m, in \u001b[0;36mXGBClassifier.fit\u001b[1;34m(self, X, y, sample_weight, base_margin, eval_set, eval_metric, early_stopping_rounds, verbose, xgb_model, sample_weight_eval_set, base_margin_eval_set, feature_weights, callbacks)\u001b[0m\n\u001b[0;32m   1491\u001b[0m (\n\u001b[0;32m   1492\u001b[0m     model,\n\u001b[0;32m   1493\u001b[0m     metric,\n\u001b[1;32m   (...)\u001b[0m\n\u001b[0;32m   1498\u001b[0m     xgb_model, eval_metric, params, early_stopping_rounds, callbacks\n\u001b[0;32m   1499\u001b[0m )\n\u001b[0;32m   1500\u001b[0m train_dmatrix, evals \u001b[38;5;241m=\u001b[39m _wrap_evaluation_matrices(\n\u001b[0;32m   1501\u001b[0m     missing\u001b[38;5;241m=\u001b[39m\u001b[38;5;28mself\u001b[39m\u001b[38;5;241m.\u001b[39mmissing,\n\u001b[0;32m   1502\u001b[0m     X\u001b[38;5;241m=\u001b[39mX,\n\u001b[1;32m   (...)\u001b[0m\n\u001b[0;32m   1516\u001b[0m     feature_types\u001b[38;5;241m=\u001b[39m\u001b[38;5;28mself\u001b[39m\u001b[38;5;241m.\u001b[39mfeature_types,\n\u001b[0;32m   1517\u001b[0m )\n\u001b[1;32m-> 1519\u001b[0m \u001b[38;5;28mself\u001b[39m\u001b[38;5;241m.\u001b[39m_Booster \u001b[38;5;241m=\u001b[39m \u001b[43mtrain\u001b[49m\u001b[43m(\u001b[49m\n\u001b[0;32m   1520\u001b[0m \u001b[43m    \u001b[49m\u001b[43mparams\u001b[49m\u001b[43m,\u001b[49m\n\u001b[0;32m   1521\u001b[0m \u001b[43m    \u001b[49m\u001b[43mtrain_dmatrix\u001b[49m\u001b[43m,\u001b[49m\n\u001b[0;32m   1522\u001b[0m \u001b[43m    \u001b[49m\u001b[38;5;28;43mself\u001b[39;49m\u001b[38;5;241;43m.\u001b[39;49m\u001b[43mget_num_boosting_rounds\u001b[49m\u001b[43m(\u001b[49m\u001b[43m)\u001b[49m\u001b[43m,\u001b[49m\n\u001b[0;32m   1523\u001b[0m \u001b[43m    \u001b[49m\u001b[43mevals\u001b[49m\u001b[38;5;241;43m=\u001b[39;49m\u001b[43mevals\u001b[49m\u001b[43m,\u001b[49m\n\u001b[0;32m   1524\u001b[0m \u001b[43m    \u001b[49m\u001b[43mearly_stopping_rounds\u001b[49m\u001b[38;5;241;43m=\u001b[39;49m\u001b[43mearly_stopping_rounds\u001b[49m\u001b[43m,\u001b[49m\n\u001b[0;32m   1525\u001b[0m \u001b[43m    \u001b[49m\u001b[43mevals_result\u001b[49m\u001b[38;5;241;43m=\u001b[39;49m\u001b[43mevals_result\u001b[49m\u001b[43m,\u001b[49m\n\u001b[0;32m   1526\u001b[0m \u001b[43m    \u001b[49m\u001b[43mobj\u001b[49m\u001b[38;5;241;43m=\u001b[39;49m\u001b[43mobj\u001b[49m\u001b[43m,\u001b[49m\n\u001b[0;32m   1527\u001b[0m \u001b[43m    \u001b[49m\u001b[43mcustom_metric\u001b[49m\u001b[38;5;241;43m=\u001b[39;49m\u001b[43mmetric\u001b[49m\u001b[43m,\u001b[49m\n\u001b[0;32m   1528\u001b[0m \u001b[43m    \u001b[49m\u001b[43mverbose_eval\u001b[49m\u001b[38;5;241;43m=\u001b[39;49m\u001b[43mverbose\u001b[49m\u001b[43m,\u001b[49m\n\u001b[0;32m   1529\u001b[0m \u001b[43m    \u001b[49m\u001b[43mxgb_model\u001b[49m\u001b[38;5;241;43m=\u001b[39;49m\u001b[43mmodel\u001b[49m\u001b[43m,\u001b[49m\n\u001b[0;32m   1530\u001b[0m \u001b[43m    \u001b[49m\u001b[43mcallbacks\u001b[49m\u001b[38;5;241;43m=\u001b[39;49m\u001b[43mcallbacks\u001b[49m\u001b[43m,\u001b[49m\n\u001b[0;32m   1531\u001b[0m \u001b[43m\u001b[49m\u001b[43m)\u001b[49m\n\u001b[0;32m   1533\u001b[0m \u001b[38;5;28;01mif\u001b[39;00m \u001b[38;5;129;01mnot\u001b[39;00m \u001b[38;5;28mcallable\u001b[39m(\u001b[38;5;28mself\u001b[39m\u001b[38;5;241m.\u001b[39mobjective):\n\u001b[0;32m   1534\u001b[0m     \u001b[38;5;28mself\u001b[39m\u001b[38;5;241m.\u001b[39mobjective \u001b[38;5;241m=\u001b[39m params[\u001b[38;5;124m\"\u001b[39m\u001b[38;5;124mobjective\u001b[39m\u001b[38;5;124m\"\u001b[39m]\n",
      "File \u001b[1;32mc:\\Kaggle S4E3 Competition\\Kaggle-S4E3\\.venv\\Lib\\site-packages\\xgboost\\core.py:730\u001b[0m, in \u001b[0;36mrequire_keyword_args.<locals>.throw_if.<locals>.inner_f\u001b[1;34m(*args, **kwargs)\u001b[0m\n\u001b[0;32m    728\u001b[0m \u001b[38;5;28;01mfor\u001b[39;00m k, arg \u001b[38;5;129;01min\u001b[39;00m \u001b[38;5;28mzip\u001b[39m(sig\u001b[38;5;241m.\u001b[39mparameters, args):\n\u001b[0;32m    729\u001b[0m     kwargs[k] \u001b[38;5;241m=\u001b[39m arg\n\u001b[1;32m--> 730\u001b[0m \u001b[38;5;28;01mreturn\u001b[39;00m \u001b[43mfunc\u001b[49m\u001b[43m(\u001b[49m\u001b[38;5;241;43m*\u001b[39;49m\u001b[38;5;241;43m*\u001b[39;49m\u001b[43mkwargs\u001b[49m\u001b[43m)\u001b[49m\n",
      "File \u001b[1;32mc:\\Kaggle S4E3 Competition\\Kaggle-S4E3\\.venv\\Lib\\site-packages\\xgboost\\training.py:181\u001b[0m, in \u001b[0;36mtrain\u001b[1;34m(params, dtrain, num_boost_round, evals, obj, feval, maximize, early_stopping_rounds, evals_result, verbose_eval, xgb_model, callbacks, custom_metric)\u001b[0m\n\u001b[0;32m    179\u001b[0m \u001b[38;5;28;01mif\u001b[39;00m cb_container\u001b[38;5;241m.\u001b[39mbefore_iteration(bst, i, dtrain, evals):\n\u001b[0;32m    180\u001b[0m     \u001b[38;5;28;01mbreak\u001b[39;00m\n\u001b[1;32m--> 181\u001b[0m \u001b[43mbst\u001b[49m\u001b[38;5;241;43m.\u001b[39;49m\u001b[43mupdate\u001b[49m\u001b[43m(\u001b[49m\u001b[43mdtrain\u001b[49m\u001b[43m,\u001b[49m\u001b[43m \u001b[49m\u001b[43mi\u001b[49m\u001b[43m,\u001b[49m\u001b[43m \u001b[49m\u001b[43mobj\u001b[49m\u001b[43m)\u001b[49m\n\u001b[0;32m    182\u001b[0m \u001b[38;5;28;01mif\u001b[39;00m cb_container\u001b[38;5;241m.\u001b[39mafter_iteration(bst, i, dtrain, evals):\n\u001b[0;32m    183\u001b[0m     \u001b[38;5;28;01mbreak\u001b[39;00m\n",
      "File \u001b[1;32mc:\\Kaggle S4E3 Competition\\Kaggle-S4E3\\.venv\\Lib\\site-packages\\xgboost\\core.py:2051\u001b[0m, in \u001b[0;36mBooster.update\u001b[1;34m(self, dtrain, iteration, fobj)\u001b[0m\n\u001b[0;32m   2047\u001b[0m \u001b[38;5;28mself\u001b[39m\u001b[38;5;241m.\u001b[39m_assign_dmatrix_features(dtrain)\n\u001b[0;32m   2049\u001b[0m \u001b[38;5;28;01mif\u001b[39;00m fobj \u001b[38;5;129;01mis\u001b[39;00m \u001b[38;5;28;01mNone\u001b[39;00m:\n\u001b[0;32m   2050\u001b[0m     _check_call(\n\u001b[1;32m-> 2051\u001b[0m         \u001b[43m_LIB\u001b[49m\u001b[38;5;241;43m.\u001b[39;49m\u001b[43mXGBoosterUpdateOneIter\u001b[49m\u001b[43m(\u001b[49m\n\u001b[0;32m   2052\u001b[0m \u001b[43m            \u001b[49m\u001b[38;5;28;43mself\u001b[39;49m\u001b[38;5;241;43m.\u001b[39;49m\u001b[43mhandle\u001b[49m\u001b[43m,\u001b[49m\u001b[43m \u001b[49m\u001b[43mctypes\u001b[49m\u001b[38;5;241;43m.\u001b[39;49m\u001b[43mc_int\u001b[49m\u001b[43m(\u001b[49m\u001b[43miteration\u001b[49m\u001b[43m)\u001b[49m\u001b[43m,\u001b[49m\u001b[43m \u001b[49m\u001b[43mdtrain\u001b[49m\u001b[38;5;241;43m.\u001b[39;49m\u001b[43mhandle\u001b[49m\n\u001b[0;32m   2053\u001b[0m \u001b[43m        \u001b[49m\u001b[43m)\u001b[49m\n\u001b[0;32m   2054\u001b[0m     )\n\u001b[0;32m   2055\u001b[0m \u001b[38;5;28;01melse\u001b[39;00m:\n\u001b[0;32m   2056\u001b[0m     pred \u001b[38;5;241m=\u001b[39m \u001b[38;5;28mself\u001b[39m\u001b[38;5;241m.\u001b[39mpredict(dtrain, output_margin\u001b[38;5;241m=\u001b[39m\u001b[38;5;28;01mTrue\u001b[39;00m, training\u001b[38;5;241m=\u001b[39m\u001b[38;5;28;01mTrue\u001b[39;00m)\n",
      "\u001b[1;31mKeyboardInterrupt\u001b[0m: "
     ]
    }
   ],
   "source": [
    "study = optuna.create_study(direction='maximize')\n",
    "study.optimize(combo_objective, n_trials=50)"
   ]
  }
 ],
 "metadata": {
  "kernelspec": {
   "display_name": ".venv",
   "language": "python",
   "name": "python3"
  },
  "language_info": {
   "codemirror_mode": {
    "name": "ipython",
    "version": 3
   },
   "file_extension": ".py",
   "mimetype": "text/x-python",
   "name": "python",
   "nbconvert_exporter": "python",
   "pygments_lexer": "ipython3",
   "version": "3.11.0"
  }
 },
 "nbformat": 4,
 "nbformat_minor": 2
}
