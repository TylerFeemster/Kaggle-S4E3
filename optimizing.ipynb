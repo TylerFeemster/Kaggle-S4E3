{
 "cells": [
  {
   "cell_type": "code",
   "execution_count": 3,
   "metadata": {},
   "outputs": [],
   "source": [
    "import numpy as np\n",
    "import pandas as pd\n",
    "from joblib import delayed, Parallel\n",
    "import optuna\n",
    "import xgboost as xgb\n",
    "import lightgbm as lgbm\n",
    "import catboost as cat"
   ]
  },
  {
   "cell_type": "code",
   "execution_count": 4,
   "metadata": {},
   "outputs": [],
   "source": [
    "class paths:\n",
    "    TRAIN = './data/train.csv'\n",
    "    TEST = './data/test.csv'"
   ]
  },
  {
   "cell_type": "code",
   "execution_count": 5,
   "metadata": {},
   "outputs": [],
   "source": [
    "train_df = pd.read_csv(paths.TRAIN)"
   ]
  },
  {
   "cell_type": "code",
   "execution_count": 6,
   "metadata": {},
   "outputs": [],
   "source": [
    "from sklearn.decomposition import PCA\n",
    "\n",
    "def feature_engineering(df):    \n",
    "    new_df = df.copy()\n",
    "    new_df['Log_Range'] = np.log(1 + new_df['Maximum_of_Luminosity']) - np.log(1 + new_df['Minimum_of_Luminosity'])\n",
    "    new_df['Log_Lum'] = np.log(new_df['Sum_of_Luminosity'])\n",
    "    new_df['Log_Avg_Lum'] = new_df['Log_Lum'] - 2 * new_df['LogOfAreas']\n",
    "\n",
    "    new_df['Abs_Orientation'] = np.abs(new_df['Orientation_Index'])\n",
    "    new_df['New_Lum'] = 1 + new_df['Luminosity_Index']\n",
    "    new_df['Lum_Range'] = np.abs(\n",
    "        new_df['Maximum_of_Luminosity'] - new_df['Minimum_of_Luminosity'])\n",
    "    \n",
    "    new_df['Abs_Orientation'] = np.abs(new_df['Orientation_Index'])\n",
    "    new_df['Norm_Range'] = new_df['Log_Range'] - new_df['LogOfAreas']/2\n",
    "\n",
    "    cols = ['LogOfAreas', 'Log_X_Index', 'Log_Y_Index', 'TypeOfSteel_A300',\n",
    "            'Edges_Index', 'Outside_Global_Index', 'Abs_Orientation',\n",
    "            'Steel_Plate_Thickness', 'Luminosity_Index', \n",
    "            'Log_Avg_Lum', 'Length_of_Conveyer', 'Empty_Index', 'Norm_Range',\n",
    "            'Pastry', 'Z_Scratch', 'K_Scatch', 'id',\n",
    "            'Stains', 'Dirtiness', 'Bumps', 'Other_Faults']\n",
    "\n",
    "    X_cols = ['LogOfAreas', 'Log_X_Index', 'Log_Y_Index',\n",
    "              'Edges_Index', 'Outside_Global_Index', 'Abs_Orientation',\n",
    "              'Steel_Plate_Thickness', 'Luminosity_Index', \n",
    "              'Log_Avg_Lum', 'Length_of_Conveyer', 'Empty_Index', 'Norm_Range']\n",
    "\n",
    "    pca_feats = [f'feature_{i}' for i in range(1, 12 + 1)]\n",
    "\n",
    "    X_feats = new_df[X_cols]\n",
    "    stats = X_feats.describe().T[['mean', 'std']]\n",
    "    X_normed = (X_feats - stats['mean']) / stats['std']\n",
    "\n",
    "    new_df[pca_feats] = PCA().fit_transform(X_normed)\n",
    "\n",
    "    return new_df[cols+pca_feats]"
   ]
  },
  {
   "cell_type": "code",
   "execution_count": 9,
   "metadata": {},
   "outputs": [],
   "source": [
    "df = feature_engineering(train_df)\n",
    "y_cols = train_df.columns[-7:]\n",
    "y = df[y_cols]\n",
    "X = df.drop(columns=['id', *y_cols])\n",
    "ids = df['id']"
   ]
  },
  {
   "cell_type": "code",
   "execution_count": 10,
   "metadata": {},
   "outputs": [
    {
     "name": "stdout",
     "output_type": "stream",
     "text": [
      "Fold: 0\n",
      "Fold: 1\n",
      "Fold: 2\n",
      "Fold: 3\n",
      "Fold: 4\n"
     ]
    }
   ],
   "source": [
    "from sklearn.model_selection import GroupKFold\n",
    "gkf = GroupKFold(n_splits=5)\n",
    "\n",
    "trains = []\n",
    "valids = []\n",
    "for fold, (train_index, valid_index) in enumerate(gkf.split(X, y, ids)):\n",
    "    print(f'Fold: {fold}')\n",
    "    train_X = X.loc[train_index]\n",
    "    train_y = y.loc[train_index]\n",
    "    valid_X = X.loc[valid_index]\n",
    "    valid_y = y.loc[valid_index]\n",
    "    trains.append((train_X, train_y))\n",
    "    valids.append((valid_X, valid_y))"
   ]
  },
  {
   "cell_type": "markdown",
   "metadata": {},
   "source": [
    "## XGBoost"
   ]
  },
  {
   "cell_type": "code",
   "execution_count": 17,
   "metadata": {},
   "outputs": [],
   "source": [
    "from sklearn.metrics import roc_auc_score\n",
    "\n",
    "def cv_score(col, params):\n",
    "    aucs = 0\n",
    "    for fold in range(5):\n",
    "        X, y = trains[fold]\n",
    "        y_col = np.array(y[col])\n",
    "        X_val, y_val = valids[fold]\n",
    "        y_val_col = np.array(y_val[col])\n",
    "\n",
    "        # Fit Model\n",
    "        model = xgb.XGBClassifier(**params)\n",
    "        model.fit(X, y_col, eval_set=\n",
    "                  [(X_val, np.array(y_val_col))], verbose=0)\n",
    "\n",
    "        # Calculate ROCS\n",
    "        preds = model.predict_proba(X_val)[:,1]\n",
    "        aucs += roc_auc_score(np.array(y_val[col]), preds)\n",
    "    return aucs / 5\n",
    "\n",
    "def xgb_objective(trial):\n",
    "    params = {\n",
    "        'lambda': trial.suggest_float('lambda', 1e-8, 1.0, log=True),\n",
    "        'alpha': trial.suggest_float('alpha', 1e-8, 1.0, log=True),\n",
    "        'subsample': trial.suggest_float('subsample', 0.1, 1.0, log=False),\n",
    "        'eval_metric': 'auc'\n",
    "    }\n",
    "\n",
    "    return cv_score('Pastry', params)\n"
   ]
  },
  {
   "cell_type": "code",
   "execution_count": 18,
   "metadata": {},
   "outputs": [
    {
     "name": "stderr",
     "output_type": "stream",
     "text": [
      "[I 2024-03-30 13:17:39,634] A new study created in memory with name: no-name-f2307ff3-de3b-48db-8fe8-f1ac78d65ef2\n",
      "[I 2024-03-30 13:17:42,069] Trial 0 finished with value: 0.7465263493090997 and parameters: {'lambda': 8.804200843118732e-07, 'alpha': 0.006244341711196542, 'subsample': 0.12551689859982285}. Best is trial 0 with value: 0.7465263493090997.\n",
      "[I 2024-03-30 13:17:44,531] Trial 1 finished with value: 0.8097477526260631 and parameters: {'lambda': 0.00023761941226961716, 'alpha': 0.00016653324434492877, 'subsample': 0.3519288186099533}. Best is trial 1 with value: 0.8097477526260631.\n",
      "[I 2024-03-30 13:17:46,902] Trial 2 finished with value: 0.7528098325040657 and parameters: {'lambda': 0.5063208523546503, 'alpha': 6.261045193342276e-06, 'subsample': 0.10079745518698413}. Best is trial 1 with value: 0.8097477526260631.\n",
      "[I 2024-03-30 13:17:49,460] Trial 3 finished with value: 0.8170027557993083 and parameters: {'lambda': 0.040172774935453966, 'alpha': 0.0009602479011805545, 'subsample': 0.4605716695184108}. Best is trial 3 with value: 0.8170027557993083.\n",
      "[I 2024-03-30 13:17:52,130] Trial 4 finished with value: 0.8226334650370877 and parameters: {'lambda': 0.002583195120525377, 'alpha': 0.023326120941911756, 'subsample': 0.45984346139524934}. Best is trial 4 with value: 0.8226334650370877.\n",
      "[I 2024-03-30 13:17:54,829] Trial 5 finished with value: 0.8301870628111333 and parameters: {'lambda': 0.002688257124806871, 'alpha': 3.711240932105977e-07, 'subsample': 0.723630529092734}. Best is trial 5 with value: 0.8301870628111333.\n",
      "[I 2024-03-30 13:17:57,543] Trial 6 finished with value: 0.8355524098701845 and parameters: {'lambda': 0.030788807770454205, 'alpha': 2.955007796878064e-05, 'subsample': 0.9120418357494136}. Best is trial 6 with value: 0.8355524098701845.\n",
      "[I 2024-03-30 13:18:00,263] Trial 7 finished with value: 0.8223178504538419 and parameters: {'lambda': 7.332114675853715e-08, 'alpha': 2.1557751327088747e-07, 'subsample': 0.470595440156548}. Best is trial 6 with value: 0.8355524098701845.\n",
      "[I 2024-03-30 13:18:02,943] Trial 8 finished with value: 0.8073427264021904 and parameters: {'lambda': 0.1125760880611262, 'alpha': 8.580430763790223e-08, 'subsample': 0.3350643936444677}. Best is trial 6 with value: 0.8355524098701845.\n",
      "[I 2024-03-30 13:18:05,692] Trial 9 finished with value: 0.8094897638471291 and parameters: {'lambda': 8.238402422023623e-05, 'alpha': 2.852621937754168e-07, 'subsample': 0.34020535467575347}. Best is trial 6 with value: 0.8355524098701845.\n",
      "[I 2024-03-30 13:18:08,628] Trial 10 finished with value: 0.8372401727320508 and parameters: {'lambda': 4.946047366389646e-06, 'alpha': 0.8542133641618096, 'subsample': 0.9816521052381391}. Best is trial 10 with value: 0.8372401727320508.\n",
      "[I 2024-03-30 13:18:11,602] Trial 11 finished with value: 0.8430907422013536 and parameters: {'lambda': 1.286262262827551e-05, 'alpha': 0.7644945169290326, 'subsample': 0.997021123158109}. Best is trial 11 with value: 0.8430907422013536.\n",
      "[I 2024-03-30 13:18:14,677] Trial 12 finished with value: 0.8364469307559347 and parameters: {'lambda': 5.562663970423419e-06, 'alpha': 0.7238248238834165, 'subsample': 0.9916229067395895}. Best is trial 11 with value: 0.8430907422013536.\n",
      "[I 2024-03-30 13:18:17,733] Trial 13 finished with value: 0.8349095174490626 and parameters: {'lambda': 1.3634210047299996e-08, 'alpha': 0.683199979085344, 'subsample': 0.7941327286650242}. Best is trial 11 with value: 0.8430907422013536.\n",
      "[I 2024-03-30 13:18:20,560] Trial 14 finished with value: 0.8312003827397451 and parameters: {'lambda': 3.1833608184601793e-06, 'alpha': 0.07689708003405411, 'subsample': 0.7286599697169402}. Best is trial 11 with value: 0.8430907422013536.\n",
      "[I 2024-03-30 13:18:23,415] Trial 15 finished with value: 0.8347731096441496 and parameters: {'lambda': 3.149654934060253e-05, 'alpha': 0.09641993753754782, 'subsample': 0.8681547564392218}. Best is trial 11 with value: 0.8430907422013536.\n",
      "[I 2024-03-30 13:18:26,360] Trial 16 finished with value: 0.83736394564252 and parameters: {'lambda': 2.40537069009086e-07, 'alpha': 0.007610448701099206, 'subsample': 0.9966604227482593}. Best is trial 11 with value: 0.8430907422013536.\n",
      "[I 2024-03-30 13:18:29,242] Trial 17 finished with value: 0.8277145473878973 and parameters: {'lambda': 3.466328144499302e-07, 'alpha': 0.0023625918664261294, 'subsample': 0.6004939611629037}. Best is trial 11 with value: 0.8430907422013536.\n",
      "[I 2024-03-30 13:18:32,122] Trial 18 finished with value: 0.8347890690752194 and parameters: {'lambda': 1.2418586818137858e-08, 'alpha': 0.0003333633069713057, 'subsample': 0.8518346611492065}. Best is trial 11 with value: 0.8430907422013536.\n",
      "[I 2024-03-30 13:18:35,031] Trial 19 finished with value: 0.8264280127103056 and parameters: {'lambda': 2.021768909728419e-07, 'alpha': 0.014577842083836837, 'subsample': 0.6071124807344875}. Best is trial 11 with value: 0.8430907422013536.\n",
      "[I 2024-03-30 13:18:37,959] Trial 20 finished with value: 0.8325744651597468 and parameters: {'lambda': 0.0007392915815366324, 'alpha': 0.05514483504106614, 'subsample': 0.7049449454213687}. Best is trial 11 with value: 0.8430907422013536.\n",
      "[I 2024-03-30 13:18:40,876] Trial 21 finished with value: 0.8379878463914808 and parameters: {'lambda': 9.860145486410215e-06, 'alpha': 0.28130402991237785, 'subsample': 0.9966740047652798}. Best is trial 11 with value: 0.8430907422013536.\n",
      "[I 2024-03-30 13:18:43,861] Trial 22 finished with value: 0.8358193840942709 and parameters: {'lambda': 2.037517714867601e-05, 'alpha': 0.17710976001368925, 'subsample': 0.944681184192125}. Best is trial 11 with value: 0.8430907422013536.\n",
      "[I 2024-03-30 13:18:46,759] Trial 23 finished with value: 0.8309069116891432 and parameters: {'lambda': 1.0057575928368271e-06, 'alpha': 0.006652004572312428, 'subsample': 0.8500379578587313}. Best is trial 11 with value: 0.8430907422013536.\n",
      "[I 2024-03-30 13:18:49,919] Trial 24 finished with value: 0.8362811219457476 and parameters: {'lambda': 1.0953146662542294e-07, 'alpha': 0.2577330184399649, 'subsample': 0.9950071812021435}. Best is trial 11 with value: 0.8430907422013536.\n",
      "[I 2024-03-30 13:18:53,100] Trial 25 finished with value: 0.8317842647628059 and parameters: {'lambda': 1.6684043793525092e-05, 'alpha': 0.041280699133374, 'subsample': 0.7841115043763465}. Best is trial 11 with value: 0.8430907422013536.\n",
      "[I 2024-03-30 13:18:56,392] Trial 26 finished with value: 0.8380983049123836 and parameters: {'lambda': 1.7796487156816765e-06, 'alpha': 1.4792958444051178e-08, 'subsample': 0.9084332006626549}. Best is trial 11 with value: 0.8430907422013536.\n",
      "[I 2024-03-30 13:18:59,686] Trial 27 finished with value: 0.8348235217633851 and parameters: {'lambda': 0.0002466109484676943, 'alpha': 1.3534346852928277e-08, 'subsample': 0.9081605263462534}. Best is trial 11 with value: 0.8430907422013536.\n",
      "[I 2024-03-30 13:19:03,109] Trial 28 finished with value: 0.833551945487477 and parameters: {'lambda': 1.5960830448380306e-06, 'alpha': 4.6329526359260626e-06, 'subsample': 0.7961089788066349}. Best is trial 11 with value: 0.8430907422013536.\n",
      "[I 2024-03-30 13:19:06,460] Trial 29 finished with value: 0.83407130777357 and parameters: {'lambda': 4.9723033819897896e-05, 'alpha': 2.7786974271151556e-05, 'subsample': 0.8967208000405997}. Best is trial 11 with value: 0.8430907422013536.\n",
      "[I 2024-03-30 13:19:09,675] Trial 30 finished with value: 0.7928704240797135 and parameters: {'lambda': 1.3797735205382841e-05, 'alpha': 1.1873587464034465e-08, 'subsample': 0.24091360128050876}. Best is trial 11 with value: 0.8430907422013536.\n",
      "[I 2024-03-30 13:19:13,036] Trial 31 finished with value: 0.8371873427907432 and parameters: {'lambda': 5.767819794386695e-07, 'alpha': 0.004249758890066649, 'subsample': 0.9431723652637334}. Best is trial 11 with value: 0.8430907422013536.\n",
      "[I 2024-03-30 13:19:16,474] Trial 32 finished with value: 0.8359829482936231 and parameters: {'lambda': 5.2866528687938985e-08, 'alpha': 0.22789543729373452, 'subsample': 0.9463475567772728}. Best is trial 11 with value: 0.8430907422013536.\n",
      "[I 2024-03-30 13:19:19,878] Trial 33 finished with value: 0.8341611918862453 and parameters: {'lambda': 1.4905429156249243e-06, 'alpha': 0.0013672801459368139, 'subsample': 0.81769526268257}. Best is trial 11 with value: 0.8430907422013536.\n",
      "[I 2024-03-30 13:19:23,161] Trial 34 finished with value: 0.8345491428939518 and parameters: {'lambda': 0.00030012193695512073, 'alpha': 0.012306175407075877, 'subsample': 0.9996995493457768}. Best is trial 11 with value: 0.8430907422013536.\n",
      "[I 2024-03-30 13:19:26,726] Trial 35 finished with value: 0.8338120104235422 and parameters: {'lambda': 9.05513299107637e-06, 'alpha': 0.0004783937433579835, 'subsample': 0.9136571709442366}. Best is trial 11 with value: 0.8430907422013536.\n",
      "[I 2024-03-30 13:19:30,270] Trial 36 finished with value: 0.834746531780182 and parameters: {'lambda': 2.3172865279122284e-06, 'alpha': 2.7232951446356597e-06, 'subsample': 0.8598718034501345}. Best is trial 11 with value: 0.8430907422013536.\n",
      "[I 2024-03-30 13:19:33,836] Trial 37 finished with value: 0.8293886718797958 and parameters: {'lambda': 5.590729163011616e-07, 'alpha': 0.00010499634947047565, 'subsample': 0.6648395206315776}. Best is trial 11 with value: 0.8430907422013536.\n",
      "[I 2024-03-30 13:19:37,236] Trial 38 finished with value: 0.8375620906419515 and parameters: {'lambda': 2.205010243695533e-07, 'alpha': 0.32745624571869497, 'subsample': 0.9440180366366895}. Best is trial 11 with value: 0.8430907422013536.\n",
      "[I 2024-03-30 13:19:40,655] Trial 39 finished with value: 0.8323087968319888 and parameters: {'lambda': 3.200662031409904e-08, 'alpha': 1.0122396120102914e-06, 'subsample': 0.7571388759521405}. Best is trial 11 with value: 0.8430907422013536.\n",
      "[I 2024-03-30 13:19:44,068] Trial 40 finished with value: 0.8227798541598703 and parameters: {'lambda': 0.001565110908750553, 'alpha': 2.7647033697779116e-05, 'subsample': 0.5214650494770305}. Best is trial 11 with value: 0.8430907422013536.\n",
      "[I 2024-03-30 13:19:47,459] Trial 41 finished with value: 0.8371124850348333 and parameters: {'lambda': 2.083191213825538e-07, 'alpha': 0.2892870853137184, 'subsample': 0.9521891323420492}. Best is trial 11 with value: 0.8430907422013536.\n",
      "[I 2024-03-30 13:19:50,753] Trial 42 finished with value: 0.8338349656616394 and parameters: {'lambda': 1.357546617164671e-07, 'alpha': 0.027840103754432074, 'subsample': 0.8965858348682979}. Best is trial 11 with value: 0.8430907422013536.\n",
      "[I 2024-03-30 13:19:54,103] Trial 43 finished with value: 0.835965967557596 and parameters: {'lambda': 5.865658734577733e-06, 'alpha': 0.3993511567723274, 'subsample': 0.9513184436758302}. Best is trial 11 with value: 0.8430907422013536.\n",
      "[I 2024-03-30 13:19:57,500] Trial 44 finished with value: 0.8321497167871732 and parameters: {'lambda': 0.00010319315613163673, 'alpha': 0.11985910055505286, 'subsample': 0.8326007786805099}. Best is trial 11 with value: 0.8430907422013536.\n",
      "[I 2024-03-30 13:20:01,000] Trial 45 finished with value: 0.8364407325477666 and parameters: {'lambda': 4.51774405821183e-07, 'alpha': 0.9381266998379422, 'subsample': 0.9713129006222133}. Best is trial 11 with value: 0.8430907422013536.\n",
      "[I 2024-03-30 13:20:04,283] Trial 46 finished with value: 0.8148936868653245 and parameters: {'lambda': 3.286868890771908e-08, 'alpha': 5.4079509679825736e-08, 'subsample': 0.3946196181011712}. Best is trial 11 with value: 0.8430907422013536.\n",
      "[I 2024-03-30 13:20:07,383] Trial 47 finished with value: 0.7813557949041071 and parameters: {'lambda': 3.574522754588703e-06, 'alpha': 0.020164010665156492, 'subsample': 0.1981812773150312}. Best is trial 11 with value: 0.8430907422013536.\n",
      "[I 2024-03-30 13:20:10,683] Trial 48 finished with value: 0.8344590840450129 and parameters: {'lambda': 1.0395095906354522e-06, 'alpha': 0.08142412857444234, 'subsample': 0.8974011386112355}. Best is trial 11 with value: 0.8430907422013536.\n",
      "[I 2024-03-30 13:20:14,016] Trial 49 finished with value: 0.8367844608591785 and parameters: {'lambda': 0.8990592883510733, 'alpha': 0.006639584556494146, 'subsample': 0.9322230531734894}. Best is trial 11 with value: 0.8430907422013536.\n",
      "[I 2024-03-30 13:20:17,371] Trial 50 finished with value: 0.8357642595977344 and parameters: {'lambda': 0.006753635252211766, 'alpha': 0.5655433781512951, 'subsample': 0.9995855718812724}. Best is trial 11 with value: 0.8430907422013536.\n",
      "[I 2024-03-30 13:20:20,741] Trial 51 finished with value: 0.8379299214495438 and parameters: {'lambda': 5.302747666935697e-06, 'alpha': 0.4733470660574871, 'subsample': 0.8803400038327807}. Best is trial 11 with value: 0.8430907422013536.\n",
      "[I 2024-03-30 13:20:24,031] Trial 52 finished with value: 0.8389478503296367 and parameters: {'lambda': 3.642396994360951e-05, 'alpha': 0.1569199304727593, 'subsample': 0.8726544421260686}. Best is trial 11 with value: 0.8430907422013536.\n",
      "[I 2024-03-30 13:20:27,383] Trial 53 finished with value: 0.8349035079504269 and parameters: {'lambda': 3.9890600380527614e-05, 'alpha': 0.14908139065955672, 'subsample': 0.891125182928919}. Best is trial 11 with value: 0.8430907422013536.\n",
      "[I 2024-03-30 13:20:30,797] Trial 54 finished with value: 0.8385634697325136 and parameters: {'lambda': 9.985214112273008e-05, 'alpha': 0.3923207704795004, 'subsample': 0.8660345526607479}. Best is trial 11 with value: 0.8430907422013536.\n",
      "[I 2024-03-30 13:20:33,997] Trial 55 finished with value: 0.8317667277138157 and parameters: {'lambda': 0.00010521624604262092, 'alpha': 0.04496898189454177, 'subsample': 0.7431295532355364}. Best is trial 11 with value: 0.8430907422013536.\n",
      "[I 2024-03-30 13:20:37,313] Trial 56 finished with value: 0.8384791519981457 and parameters: {'lambda': 9.695050052985575e-06, 'alpha': 0.8808700764341724, 'subsample': 0.8095522351337718}. Best is trial 11 with value: 0.8430907422013536.\n",
      "[I 2024-03-30 13:20:40,696] Trial 57 finished with value: 0.8373579875214874 and parameters: {'lambda': 0.0004737300767731748, 'alpha': 0.8920554879114082, 'subsample': 0.826105466298266}. Best is trial 11 with value: 0.8430907422013536.\n",
      "[I 2024-03-30 13:20:43,996] Trial 58 finished with value: 0.8287059162607399 and parameters: {'lambda': 6.176064471872165e-05, 'alpha': 0.15162877161627544, 'subsample': 0.6927072345101732}. Best is trial 11 with value: 0.8430907422013536.\n",
      "[I 2024-03-30 13:20:47,212] Trial 59 finished with value: 0.8319088757050632 and parameters: {'lambda': 1.1640036721567414e-05, 'alpha': 1.2384835394609388e-05, 'subsample': 0.7719761919965222}. Best is trial 11 with value: 0.8430907422013536.\n",
      "[I 2024-03-30 13:20:50,400] Trial 60 finished with value: 0.8272646577179763 and parameters: {'lambda': 2.707335449018106e-05, 'alpha': 0.09476577351215859, 'subsample': 0.6428972015335019}. Best is trial 11 with value: 0.8430907422013536.\n",
      "[I 2024-03-30 13:20:53,646] Trial 61 finished with value: 0.8374535176021357 and parameters: {'lambda': 5.604321447866499e-06, 'alpha': 0.4359183332904085, 'subsample': 0.8789157928917999}. Best is trial 11 with value: 0.8430907422013536.\n",
      "[I 2024-03-30 13:20:56,928] Trial 62 finished with value: 0.8341246757418442 and parameters: {'lambda': 0.00017056022537200285, 'alpha': 0.5544837678774434, 'subsample': 0.8106263614880692}. Best is trial 11 with value: 0.8430907422013536.\n",
      "[I 2024-03-30 13:21:00,305] Trial 63 finished with value: 0.8348587944830765 and parameters: {'lambda': 9.2649586582544e-06, 'alpha': 0.19042729216110504, 'subsample': 0.8544363128646131}. Best is trial 11 with value: 0.8430907422013536.\n",
      "[I 2024-03-30 13:21:03,717] Trial 64 finished with value: 0.8389414463377664 and parameters: {'lambda': 2.0394326387600698e-05, 'alpha': 0.9074507118174299, 'subsample': 0.9228743678123996}. Best is trial 11 with value: 0.8430907422013536.\n",
      "[I 2024-03-30 13:21:07,021] Trial 65 finished with value: 0.8351782153451325 and parameters: {'lambda': 2.613993190458797e-05, 'alpha': 0.9085198845940383, 'subsample': 0.9726371270751758}. Best is trial 11 with value: 0.8430907422013536.\n",
      "[I 2024-03-30 13:21:10,243] Trial 66 finished with value: 0.8347536879289535 and parameters: {'lambda': 2.2749549318470066e-06, 'alpha': 0.057683507247236226, 'subsample': 0.919838511608243}. Best is trial 11 with value: 0.8430907422013536.\n",
      "[I 2024-03-30 13:21:13,645] Trial 67 finished with value: 0.8347256480753146 and parameters: {'lambda': 0.00015434195381642976, 'alpha': 0.27399167468810953, 'subsample': 0.834888169504896}. Best is trial 11 with value: 0.8430907422013536.\n",
      "[I 2024-03-30 13:21:16,947] Trial 68 finished with value: 0.8356959604181633 and parameters: {'lambda': 4.7902263024148776e-05, 'alpha': 9.0604623601269e-07, 'subsample': 0.9634258214246014}. Best is trial 11 with value: 0.8430907422013536.\n",
      "[I 2024-03-30 13:21:20,159] Trial 69 finished with value: 0.8405914301289723 and parameters: {'lambda': 1.536743310103608e-05, 'alpha': 0.034136745813483575, 'subsample': 0.9228178760592152}. Best is trial 11 with value: 0.8430907422013536.\n",
      "[I 2024-03-30 13:21:23,495] Trial 70 finished with value: 0.832846687844644 and parameters: {'lambda': 1.607126868946566e-05, 'alpha': 0.03313600539079056, 'subsample': 0.8671698550838642}. Best is trial 11 with value: 0.8430907422013536.\n",
      "[I 2024-03-30 13:21:26,725] Trial 71 finished with value: 0.8370667787150673 and parameters: {'lambda': 8.69642724973994e-06, 'alpha': 0.11000650362952602, 'subsample': 0.9223378598382405}. Best is trial 11 with value: 0.8430907422013536.\n",
      "[I 2024-03-30 13:21:29,923] Trial 72 finished with value: 0.8362033762963106 and parameters: {'lambda': 2.300696598676432e-05, 'alpha': 0.22134563719366832, 'subsample': 0.9739038069942834}. Best is trial 11 with value: 0.8430907422013536.\n",
      "[I 2024-03-30 13:21:33,257] Trial 73 finished with value: 0.8402544679118288 and parameters: {'lambda': 3.2504368021651013e-06, 'alpha': 0.9868493106704875, 'subsample': 0.9208737938402111}. Best is trial 11 with value: 0.8430907422013536.\n",
      "[I 2024-03-30 13:21:36,710] Trial 74 finished with value: 0.8318057926595837 and parameters: {'lambda': 3.27717235260607e-06, 'alpha': 0.961424286561173, 'subsample': 0.7852116479582405}. Best is trial 11 with value: 0.8430907422013536.\n",
      "[I 2024-03-30 13:21:40,155] Trial 75 finished with value: 0.8373178369938262 and parameters: {'lambda': 6.557697987521799e-05, 'alpha': 0.5676399002751668, 'subsample': 0.9131088989316994}. Best is trial 11 with value: 0.8430907422013536.\n",
      "[I 2024-03-30 13:21:43,473] Trial 76 finished with value: 0.8392041209283241 and parameters: {'lambda': 2.3317785432874835e-06, 'alpha': 0.42466901959198883, 'subsample': 0.8722413427063713}. Best is trial 11 with value: 0.8430907422013536.\n",
      "[I 2024-03-30 13:21:46,773] Trial 77 finished with value: 0.8369126603241177 and parameters: {'lambda': 7.794273254018942e-07, 'alpha': 0.36871397485978963, 'subsample': 0.804916478935995}. Best is trial 11 with value: 0.8430907422013536.\n",
      "[I 2024-03-30 13:21:49,972] Trial 78 finished with value: 0.8322595136976301 and parameters: {'lambda': 0.00046911898691300133, 'alpha': 0.07542884174415432, 'subsample': 0.8454140687720053}. Best is trial 11 with value: 0.8430907422013536.\n",
      "[I 2024-03-30 13:21:53,189] Trial 79 finished with value: 0.8376468977935335 and parameters: {'lambda': 1.6434159195519057e-05, 'alpha': 0.16025147322167355, 'subsample': 0.8772373949021807}. Best is trial 11 with value: 0.8430907422013536.\n",
      "[I 2024-03-30 13:21:56,489] Trial 80 finished with value: 0.8364690926704037 and parameters: {'lambda': 3.582667661605124e-05, 'alpha': 0.5915367286430043, 'subsample': 0.9316032644108139}. Best is trial 11 with value: 0.8430907422013536.\n",
      "[I 2024-03-30 13:21:59,831] Trial 81 finished with value: 0.836121811098381 and parameters: {'lambda': 1.6602882651952586e-06, 'alpha': 0.0002807148804302096, 'subsample': 0.9008401717939033}. Best is trial 11 with value: 0.8430907422013536.\n",
      "[I 2024-03-30 13:22:03,341] Trial 82 finished with value: 0.8343717474622864 and parameters: {'lambda': 3.52325895017244e-06, 'alpha': 0.3463754668246185, 'subsample': 0.8585452986926424}. Best is trial 11 with value: 0.8430907422013536.\n",
      "[I 2024-03-30 13:22:06,714] Trial 83 finished with value: 0.8374035604897999 and parameters: {'lambda': 6.924949392122529e-06, 'alpha': 2.2337038249601646e-08, 'subsample': 0.9591529824898526}. Best is trial 11 with value: 0.8430907422013536.\n",
      "[I 2024-03-30 13:22:10,030] Trial 84 finished with value: 0.8364710225117028 and parameters: {'lambda': 2.0728224679788564e-06, 'alpha': 1.2365409304119184e-07, 'subsample': 0.9256557225767653}. Best is trial 11 with value: 0.8430907422013536.\n",
      "[I 2024-03-30 13:22:13,371] Trial 85 finished with value: 0.8239997834811715 and parameters: {'lambda': 1.304619452010577e-06, 'alpha': 0.2296811562029331, 'subsample': 0.5187855674723618}. Best is trial 11 with value: 0.8430907422013536.\n",
      "[I 2024-03-30 13:22:16,615] Trial 86 finished with value: 0.8404178527475634 and parameters: {'lambda': 8.093694041847791e-05, 'alpha': 0.015526594607162781, 'subsample': 0.878625860231307}. Best is trial 11 with value: 0.8430907422013536.\n",
      "[I 2024-03-30 13:22:19,974] Trial 87 finished with value: 0.8313804626722554 and parameters: {'lambda': 0.0001352378817792172, 'alpha': 0.012369616457195112, 'subsample': 0.765857489540808}. Best is trial 11 with value: 0.8430907422013536.\n",
      "[I 2024-03-30 13:22:23,324] Trial 88 finished with value: 0.8360639200855322 and parameters: {'lambda': 8.333169688720002e-05, 'alpha': 0.0635722069730526, 'subsample': 0.8174516748881461}. Best is trial 11 with value: 0.8430907422013536.\n",
      "[I 2024-03-30 13:22:26,668] Trial 89 finished with value: 0.8393611176676407 and parameters: {'lambda': 0.0002708432288118129, 'alpha': 0.0036586650291817032, 'subsample': 0.8839104842456885}. Best is trial 11 with value: 0.8430907422013536.\n",
      "[I 2024-03-30 13:22:30,227] Trial 90 finished with value: 0.8387389300561103 and parameters: {'lambda': 0.0013478102982773955, 'alpha': 0.0036868648223926286, 'subsample': 0.9803858947830084}. Best is trial 11 with value: 0.8430907422013536.\n",
      "[I 2024-03-30 13:22:33,534] Trial 91 finished with value: 0.8339740082421695 and parameters: {'lambda': 0.0016874636862626497, 'alpha': 0.0026025767937474667, 'subsample': 0.9707588715472109}. Best is trial 11 with value: 0.8430907422013536.\n",
      "[I 2024-03-30 13:22:36,790] Trial 92 finished with value: 0.834289143550369 and parameters: {'lambda': 0.0007641813056083502, 'alpha': 0.001109970754414754, 'subsample': 0.9448267542624014}. Best is trial 11 with value: 0.8430907422013536.\n",
      "[I 2024-03-30 13:22:40,312] Trial 93 finished with value: 0.8388399897027522 and parameters: {'lambda': 0.003674274444289816, 'alpha': 0.003662719881108143, 'subsample': 0.8831427156671481}. Best is trial 11 with value: 0.8430907422013536.\n",
      "[I 2024-03-30 13:22:43,793] Trial 94 finished with value: 0.8368603827555192 and parameters: {'lambda': 0.007557606655701034, 'alpha': 0.0032338847429736676, 'subsample': 0.9836284028596416}. Best is trial 11 with value: 0.8430907422013536.\n",
      "[I 2024-03-30 13:22:47,382] Trial 95 finished with value: 0.8330562737472513 and parameters: {'lambda': 0.004429319988874844, 'alpha': 0.019450338368411216, 'subsample': 0.8882132438433564}. Best is trial 11 with value: 0.8430907422013536.\n",
      "[I 2024-03-30 13:22:50,715] Trial 96 finished with value: 0.8345997695908993 and parameters: {'lambda': 0.017705346926468597, 'alpha': 0.000662656400985116, 'subsample': 0.9361091383430906}. Best is trial 11 with value: 0.8430907422013536.\n",
      "[I 2024-03-30 13:22:54,059] Trial 97 finished with value: 0.8365245691082451 and parameters: {'lambda': 0.000917388125132001, 'alpha': 0.010044846240722433, 'subsample': 0.9082194951915523}. Best is trial 11 with value: 0.8430907422013536.\n",
      "[I 2024-03-30 13:22:57,600] Trial 98 finished with value: 0.8347942283971245 and parameters: {'lambda': 0.000319345039518229, 'alpha': 0.0042221193450546445, 'subsample': 0.8444098525326873}. Best is trial 11 with value: 0.8430907422013536.\n",
      "[I 2024-03-30 13:23:01,228] Trial 99 finished with value: 0.8368336265515606 and parameters: {'lambda': 0.0031224564460534047, 'alpha': 0.002026944015510681, 'subsample': 0.9880831492570045}. Best is trial 11 with value: 0.8430907422013536.\n"
     ]
    }
   ],
   "source": [
    "study = optuna.create_study(direction='maximize')\n",
    "study.optimize(xgb_objective, n_trials=100)"
   ]
  },
  {
   "cell_type": "code",
   "execution_count": 20,
   "metadata": {},
   "outputs": [
    {
     "data": {
      "application/vnd.plotly.v1+json": {
       "config": {
        "plotlyServerURL": "https://plot.ly"
       },
       "data": [
        {
         "dimensions": [
          {
           "label": "Objective Value",
           "range": [
            0.7465263493090997,
            0.8430907422013536
           ],
           "values": [
            0.7465263493090997,
            0.8097477526260631,
            0.7528098325040657,
            0.8170027557993083,
            0.8226334650370877,
            0.8301870628111333,
            0.8355524098701845,
            0.8223178504538419,
            0.8073427264021904,
            0.8094897638471291,
            0.8372401727320508,
            0.8430907422013536,
            0.8364469307559347,
            0.8349095174490626,
            0.8312003827397451,
            0.8347731096441496,
            0.83736394564252,
            0.8277145473878973,
            0.8347890690752194,
            0.8264280127103056,
            0.8325744651597468,
            0.8379878463914808,
            0.8358193840942709,
            0.8309069116891432,
            0.8362811219457476,
            0.8317842647628059,
            0.8380983049123836,
            0.8348235217633851,
            0.833551945487477,
            0.83407130777357,
            0.7928704240797135,
            0.8371873427907432,
            0.8359829482936231,
            0.8341611918862453,
            0.8345491428939518,
            0.8338120104235422,
            0.834746531780182,
            0.8293886718797958,
            0.8375620906419515,
            0.8323087968319888,
            0.8227798541598703,
            0.8371124850348333,
            0.8338349656616394,
            0.835965967557596,
            0.8321497167871732,
            0.8364407325477666,
            0.8148936868653245,
            0.7813557949041071,
            0.8344590840450129,
            0.8367844608591785,
            0.8357642595977344,
            0.8379299214495438,
            0.8389478503296367,
            0.8349035079504269,
            0.8385634697325136,
            0.8317667277138157,
            0.8384791519981457,
            0.8373579875214874,
            0.8287059162607399,
            0.8319088757050632,
            0.8272646577179763,
            0.8374535176021357,
            0.8341246757418442,
            0.8348587944830765,
            0.8389414463377664,
            0.8351782153451325,
            0.8347536879289535,
            0.8347256480753146,
            0.8356959604181633,
            0.8405914301289723,
            0.832846687844644,
            0.8370667787150673,
            0.8362033762963106,
            0.8402544679118288,
            0.8318057926595837,
            0.8373178369938262,
            0.8392041209283241,
            0.8369126603241177,
            0.8322595136976301,
            0.8376468977935335,
            0.8364690926704037,
            0.836121811098381,
            0.8343717474622864,
            0.8374035604897999,
            0.8364710225117028,
            0.8239997834811715,
            0.8404178527475634,
            0.8313804626722554,
            0.8360639200855322,
            0.8393611176676407,
            0.8387389300561103,
            0.8339740082421695,
            0.834289143550369,
            0.8388399897027522,
            0.8368603827555192,
            0.8330562737472513,
            0.8345997695908993,
            0.8365245691082451,
            0.8347942283971245,
            0.8368336265515606
           ]
          },
          {
           "label": "alpha",
           "range": [
            -7.925418044276879,
            -0.00574915790844268
           ],
           "ticktext": [
            "1.19e-08",
            "1e-07",
            "1e-06",
            "1e-05",
            "0.0001",
            "0.001",
            "0.01",
            "0.1",
            "0.987"
           ],
           "tickvals": [
            -7.925418044276879,
            -7,
            -6,
            -5,
            -4,
            -3,
            -2,
            -1,
            -0.00574915790844268
           ],
           "values": [
            -2.204513338917367,
            -3.7784990570863197,
            -5.203353161388445,
            -3.0176166334017345,
            -1.6321574769624045,
            -6.430480850531944,
            -4.529441368881997,
            -6.666396542055275,
            -7.0664909086966246,
            -6.544755782225467,
            -0.06843363832206374,
            -0.11662562506657856,
            -0.1403665266565046,
            -0.16545215561401597,
            -1.1140901510850996,
            -1.0158331541961678,
            -2.1185897370971385,
            -2.6266112954933,
            -3.4770822043186382,
            -1.8363067586272364,
            -1.2584951580779673,
            -0.5508240461633739,
            -0.7517575054203459,
            -2.1770474609363766,
            -0.5888299399756762,
            -1.3842529560708818,
            -7.82994496275492,
            -7.86856269778143,
            -5.334142139697794,
            -4.556158741055805,
            -7.925418044276879,
            -2.3716357089341513,
            -0.6422643697647317,
            -2.864142492477237,
            -1.909876898952018,
            -3.320214508875146,
            -5.564905288244881,
            -3.978825800286147,
            -0.4848467216642637,
            -5.994716671432611,
            -4.558351458131183,
            -0.5386709541922607,
            -1.5553291505308233,
            -0.3986450532394952,
            -0.9213289856537419,
            -0.027738503492393665,
            -7.266967254646143,
            -1.6954230815266171,
            -1.0892468806886189,
            -2.1778590938950355,
            -0.24753407832608307,
            -0.32482031042152215,
            -0.8043218929673276,
            -0.8265765647178037,
            -0.40635869858510887,
            -1.3470869448222678,
            -0.055088142948566156,
            -0.04960813066396344,
            -0.8192183833437423,
            -4.907109761196666,
            -1.0233484881762718,
            -0.3605948656016589,
            -0.25611116299442405,
            -0.7202708081282849,
            -0.04217695435468721,
            -0.041665562934966864,
            -1.2389483417037692,
            -0.5622626331356144,
            -6.042849639483429,
            -1.466777881657353,
            -1.479699847796639,
            -0.9585816384152174,
            -0.6549290337094765,
            -0.00574915790844268,
            -0.017084911345836524,
            -0.2459270849194706,
            -0.37194942045741197,
            -0.4333104016141867,
            -1.1224625610893657,
            -0.7951979692406428,
            -0.2280182847608651,
            -3.551734565215792,
            -0.4604528758925867,
            -7.6509744121123875,
            -6.907791503598812,
            -0.6388746342903298,
            -1.80892378609319,
            -1.9076437662646646,
            -1.196732711338443,
            -2.4366773507313053,
            -2.4333427853570457,
            -2.5845964469821823,
            -2.954688463883268,
            -2.436196294204919,
            -2.490275462593664,
            -1.7110728390552086,
            -3.178711602570919,
            -1.998056706732245,
            -2.3744694948165845,
            -2.6931582464182666
           ]
          },
          {
           "label": "lambda",
           "range": [
            -7.905927822195159,
            -0.046211667827728516
           ],
           "ticktext": [
            "1.24e-08",
            "1e-07",
            "1e-06",
            "1e-05",
            "0.0001",
            "0.001",
            "0.01",
            "0.1",
            "0.899"
           ],
           "tickvals": [
            -7.905927822195159,
            -7,
            -6,
            -5,
            -4,
            -3,
            -2,
            -1,
            -0.046211667827728516
           ],
           "values": [
            -6.055310058796644,
            -3.624118082642036,
            -0.29557418622944587,
            -1.3960681683297718,
            -2.587842788341973,
            -2.570529194493122,
            -1.5116071278794487,
            -7.134770751197409,
            -0.948553846837519,
            -4.08415699783776,
            -5.305741728883911,
            -4.89067047178018,
            -5.254717174141255,
            -7.865370019587919,
            -5.497114133422599,
            -4.5017370234936775,
            -6.618817985296224,
            -6.4601303266193355,
            -7.905927822195159,
            -6.694268486215466,
            -3.1311842391737836,
            -5.006116676998038,
            -4.690898606668574,
            -5.997506680094321,
            -6.960461097092193,
            -4.777698678856096,
            -5.749665714487176,
            -3.607987646501213,
            -5.796944515882139,
            -4.303442381015016,
            -4.860192193926643,
            -6.238988316861103,
            -7.276819205221273,
            -5.826655515269876,
            -3.5227022593223456,
            -5.043105166899733,
            -5.63502026323305,
            -6.252531546170689,
            -6.656589388613326,
            -7.4947601820392,
            -2.805454881534987,
            -6.681270864810794,
            -6.867245248126029,
            -5.231683207976863,
            -3.9863491045772594,
            -6.345078376615039,
            -7.483217619054946,
            -5.446781933970402,
            -5.983171499463016,
            -0.046211667827728516,
            -2.170462398280006,
            -5.275499038441451,
            -4.438612721071543,
            -4.399129427215154,
            -4.000642618146138,
            -3.977917197236241,
            -5.013449944431658,
            -3.324469041360368,
            -4.209288179053121,
            -4.934045649587424,
            -4.567457930180075,
            -5.251476962781169,
            -3.7681222387924023,
            -5.033156514233054,
            -4.69049063459691,
            -4.582695548105903,
            -5.643027202542705,
            -3.8115160063128157,
            -4.3196439689302295,
            -4.813398668814823,
            -4.793949838041519,
            -5.060659131795917,
            -4.638140649566232,
            -5.488058273475533,
            -5.484500717660216,
            -4.183248588485961,
            -5.632312698336362,
            -6.108224372647469,
            -3.3287169892556303,
            -4.784252510389011,
            -4.445793476351101,
            -5.77981650164979,
            -5.453055436155091,
            -5.159583396097772,
            -5.683437892541359,
            -5.884516150389742,
            -4.091853216851872,
            -3.8689016401748413,
            -4.079189774525671,
            -3.567282017475429,
            -2.870371229617411,
            -2.7727655642897906,
            -3.1168035907910836,
            -2.4348284078589524,
            -2.1216157151848023,
            -2.3536629436974748,
            -1.7518955590626168,
            -3.0374468857682646,
            -3.495739825479356,
            -2.505503610718628
           ]
          },
          {
           "label": "subsample",
           "range": [
            0.10079745518698413,
            0.9996995493457768
           ],
           "values": [
            0.12551689859982285,
            0.3519288186099533,
            0.10079745518698413,
            0.4605716695184108,
            0.45984346139524934,
            0.723630529092734,
            0.9120418357494136,
            0.470595440156548,
            0.3350643936444677,
            0.34020535467575347,
            0.9816521052381391,
            0.997021123158109,
            0.9916229067395895,
            0.7941327286650242,
            0.7286599697169402,
            0.8681547564392218,
            0.9966604227482593,
            0.6004939611629037,
            0.8518346611492065,
            0.6071124807344875,
            0.7049449454213687,
            0.9966740047652798,
            0.944681184192125,
            0.8500379578587313,
            0.9950071812021435,
            0.7841115043763465,
            0.9084332006626549,
            0.9081605263462534,
            0.7961089788066349,
            0.8967208000405997,
            0.24091360128050876,
            0.9431723652637334,
            0.9463475567772728,
            0.81769526268257,
            0.9996995493457768,
            0.9136571709442366,
            0.8598718034501345,
            0.6648395206315776,
            0.9440180366366895,
            0.7571388759521405,
            0.5214650494770305,
            0.9521891323420492,
            0.8965858348682979,
            0.9513184436758302,
            0.8326007786805099,
            0.9713129006222133,
            0.3946196181011712,
            0.1981812773150312,
            0.8974011386112355,
            0.9322230531734894,
            0.9995855718812724,
            0.8803400038327807,
            0.8726544421260686,
            0.891125182928919,
            0.8660345526607479,
            0.7431295532355364,
            0.8095522351337718,
            0.826105466298266,
            0.6927072345101732,
            0.7719761919965222,
            0.6428972015335019,
            0.8789157928917999,
            0.8106263614880692,
            0.8544363128646131,
            0.9228743678123996,
            0.9726371270751758,
            0.919838511608243,
            0.834888169504896,
            0.9634258214246014,
            0.9228178760592152,
            0.8671698550838642,
            0.9223378598382405,
            0.9739038069942834,
            0.9208737938402111,
            0.7852116479582405,
            0.9131088989316994,
            0.8722413427063713,
            0.804916478935995,
            0.8454140687720053,
            0.8772373949021807,
            0.9316032644108139,
            0.9008401717939033,
            0.8585452986926424,
            0.9591529824898526,
            0.9256557225767653,
            0.5187855674723618,
            0.878625860231307,
            0.765857489540808,
            0.8174516748881461,
            0.8839104842456885,
            0.9803858947830084,
            0.9707588715472109,
            0.9448267542624014,
            0.8831427156671481,
            0.9836284028596416,
            0.8882132438433564,
            0.9361091383430906,
            0.9082194951915523,
            0.8444098525326873,
            0.9880831492570045
           ]
          }
         ],
         "labelangle": 30,
         "labelside": "bottom",
         "line": {
          "color": [
           0.7465263493090997,
           0.8097477526260631,
           0.7528098325040657,
           0.8170027557993083,
           0.8226334650370877,
           0.8301870628111333,
           0.8355524098701845,
           0.8223178504538419,
           0.8073427264021904,
           0.8094897638471291,
           0.8372401727320508,
           0.8430907422013536,
           0.8364469307559347,
           0.8349095174490626,
           0.8312003827397451,
           0.8347731096441496,
           0.83736394564252,
           0.8277145473878973,
           0.8347890690752194,
           0.8264280127103056,
           0.8325744651597468,
           0.8379878463914808,
           0.8358193840942709,
           0.8309069116891432,
           0.8362811219457476,
           0.8317842647628059,
           0.8380983049123836,
           0.8348235217633851,
           0.833551945487477,
           0.83407130777357,
           0.7928704240797135,
           0.8371873427907432,
           0.8359829482936231,
           0.8341611918862453,
           0.8345491428939518,
           0.8338120104235422,
           0.834746531780182,
           0.8293886718797958,
           0.8375620906419515,
           0.8323087968319888,
           0.8227798541598703,
           0.8371124850348333,
           0.8338349656616394,
           0.835965967557596,
           0.8321497167871732,
           0.8364407325477666,
           0.8148936868653245,
           0.7813557949041071,
           0.8344590840450129,
           0.8367844608591785,
           0.8357642595977344,
           0.8379299214495438,
           0.8389478503296367,
           0.8349035079504269,
           0.8385634697325136,
           0.8317667277138157,
           0.8384791519981457,
           0.8373579875214874,
           0.8287059162607399,
           0.8319088757050632,
           0.8272646577179763,
           0.8374535176021357,
           0.8341246757418442,
           0.8348587944830765,
           0.8389414463377664,
           0.8351782153451325,
           0.8347536879289535,
           0.8347256480753146,
           0.8356959604181633,
           0.8405914301289723,
           0.832846687844644,
           0.8370667787150673,
           0.8362033762963106,
           0.8402544679118288,
           0.8318057926595837,
           0.8373178369938262,
           0.8392041209283241,
           0.8369126603241177,
           0.8322595136976301,
           0.8376468977935335,
           0.8364690926704037,
           0.836121811098381,
           0.8343717474622864,
           0.8374035604897999,
           0.8364710225117028,
           0.8239997834811715,
           0.8404178527475634,
           0.8313804626722554,
           0.8360639200855322,
           0.8393611176676407,
           0.8387389300561103,
           0.8339740082421695,
           0.834289143550369,
           0.8388399897027522,
           0.8368603827555192,
           0.8330562737472513,
           0.8345997695908993,
           0.8365245691082451,
           0.8347942283971245,
           0.8368336265515606
          ],
          "colorbar": {
           "title": {
            "text": "Objective Value"
           }
          },
          "colorscale": [
           [
            0,
            "rgb(247,251,255)"
           ],
           [
            0.125,
            "rgb(222,235,247)"
           ],
           [
            0.25,
            "rgb(198,219,239)"
           ],
           [
            0.375,
            "rgb(158,202,225)"
           ],
           [
            0.5,
            "rgb(107,174,214)"
           ],
           [
            0.625,
            "rgb(66,146,198)"
           ],
           [
            0.75,
            "rgb(33,113,181)"
           ],
           [
            0.875,
            "rgb(8,81,156)"
           ],
           [
            1,
            "rgb(8,48,107)"
           ]
          ],
          "reversescale": false,
          "showscale": true
         },
         "type": "parcoords"
        }
       ],
       "layout": {
        "template": {
         "data": {
          "bar": [
           {
            "error_x": {
             "color": "#2a3f5f"
            },
            "error_y": {
             "color": "#2a3f5f"
            },
            "marker": {
             "line": {
              "color": "#E5ECF6",
              "width": 0.5
             },
             "pattern": {
              "fillmode": "overlay",
              "size": 10,
              "solidity": 0.2
             }
            },
            "type": "bar"
           }
          ],
          "barpolar": [
           {
            "marker": {
             "line": {
              "color": "#E5ECF6",
              "width": 0.5
             },
             "pattern": {
              "fillmode": "overlay",
              "size": 10,
              "solidity": 0.2
             }
            },
            "type": "barpolar"
           }
          ],
          "carpet": [
           {
            "aaxis": {
             "endlinecolor": "#2a3f5f",
             "gridcolor": "white",
             "linecolor": "white",
             "minorgridcolor": "white",
             "startlinecolor": "#2a3f5f"
            },
            "baxis": {
             "endlinecolor": "#2a3f5f",
             "gridcolor": "white",
             "linecolor": "white",
             "minorgridcolor": "white",
             "startlinecolor": "#2a3f5f"
            },
            "type": "carpet"
           }
          ],
          "choropleth": [
           {
            "colorbar": {
             "outlinewidth": 0,
             "ticks": ""
            },
            "type": "choropleth"
           }
          ],
          "contour": [
           {
            "colorbar": {
             "outlinewidth": 0,
             "ticks": ""
            },
            "colorscale": [
             [
              0,
              "#0d0887"
             ],
             [
              0.1111111111111111,
              "#46039f"
             ],
             [
              0.2222222222222222,
              "#7201a8"
             ],
             [
              0.3333333333333333,
              "#9c179e"
             ],
             [
              0.4444444444444444,
              "#bd3786"
             ],
             [
              0.5555555555555556,
              "#d8576b"
             ],
             [
              0.6666666666666666,
              "#ed7953"
             ],
             [
              0.7777777777777778,
              "#fb9f3a"
             ],
             [
              0.8888888888888888,
              "#fdca26"
             ],
             [
              1,
              "#f0f921"
             ]
            ],
            "type": "contour"
           }
          ],
          "contourcarpet": [
           {
            "colorbar": {
             "outlinewidth": 0,
             "ticks": ""
            },
            "type": "contourcarpet"
           }
          ],
          "heatmap": [
           {
            "colorbar": {
             "outlinewidth": 0,
             "ticks": ""
            },
            "colorscale": [
             [
              0,
              "#0d0887"
             ],
             [
              0.1111111111111111,
              "#46039f"
             ],
             [
              0.2222222222222222,
              "#7201a8"
             ],
             [
              0.3333333333333333,
              "#9c179e"
             ],
             [
              0.4444444444444444,
              "#bd3786"
             ],
             [
              0.5555555555555556,
              "#d8576b"
             ],
             [
              0.6666666666666666,
              "#ed7953"
             ],
             [
              0.7777777777777778,
              "#fb9f3a"
             ],
             [
              0.8888888888888888,
              "#fdca26"
             ],
             [
              1,
              "#f0f921"
             ]
            ],
            "type": "heatmap"
           }
          ],
          "heatmapgl": [
           {
            "colorbar": {
             "outlinewidth": 0,
             "ticks": ""
            },
            "colorscale": [
             [
              0,
              "#0d0887"
             ],
             [
              0.1111111111111111,
              "#46039f"
             ],
             [
              0.2222222222222222,
              "#7201a8"
             ],
             [
              0.3333333333333333,
              "#9c179e"
             ],
             [
              0.4444444444444444,
              "#bd3786"
             ],
             [
              0.5555555555555556,
              "#d8576b"
             ],
             [
              0.6666666666666666,
              "#ed7953"
             ],
             [
              0.7777777777777778,
              "#fb9f3a"
             ],
             [
              0.8888888888888888,
              "#fdca26"
             ],
             [
              1,
              "#f0f921"
             ]
            ],
            "type": "heatmapgl"
           }
          ],
          "histogram": [
           {
            "marker": {
             "pattern": {
              "fillmode": "overlay",
              "size": 10,
              "solidity": 0.2
             }
            },
            "type": "histogram"
           }
          ],
          "histogram2d": [
           {
            "colorbar": {
             "outlinewidth": 0,
             "ticks": ""
            },
            "colorscale": [
             [
              0,
              "#0d0887"
             ],
             [
              0.1111111111111111,
              "#46039f"
             ],
             [
              0.2222222222222222,
              "#7201a8"
             ],
             [
              0.3333333333333333,
              "#9c179e"
             ],
             [
              0.4444444444444444,
              "#bd3786"
             ],
             [
              0.5555555555555556,
              "#d8576b"
             ],
             [
              0.6666666666666666,
              "#ed7953"
             ],
             [
              0.7777777777777778,
              "#fb9f3a"
             ],
             [
              0.8888888888888888,
              "#fdca26"
             ],
             [
              1,
              "#f0f921"
             ]
            ],
            "type": "histogram2d"
           }
          ],
          "histogram2dcontour": [
           {
            "colorbar": {
             "outlinewidth": 0,
             "ticks": ""
            },
            "colorscale": [
             [
              0,
              "#0d0887"
             ],
             [
              0.1111111111111111,
              "#46039f"
             ],
             [
              0.2222222222222222,
              "#7201a8"
             ],
             [
              0.3333333333333333,
              "#9c179e"
             ],
             [
              0.4444444444444444,
              "#bd3786"
             ],
             [
              0.5555555555555556,
              "#d8576b"
             ],
             [
              0.6666666666666666,
              "#ed7953"
             ],
             [
              0.7777777777777778,
              "#fb9f3a"
             ],
             [
              0.8888888888888888,
              "#fdca26"
             ],
             [
              1,
              "#f0f921"
             ]
            ],
            "type": "histogram2dcontour"
           }
          ],
          "mesh3d": [
           {
            "colorbar": {
             "outlinewidth": 0,
             "ticks": ""
            },
            "type": "mesh3d"
           }
          ],
          "parcoords": [
           {
            "line": {
             "colorbar": {
              "outlinewidth": 0,
              "ticks": ""
             }
            },
            "type": "parcoords"
           }
          ],
          "pie": [
           {
            "automargin": true,
            "type": "pie"
           }
          ],
          "scatter": [
           {
            "fillpattern": {
             "fillmode": "overlay",
             "size": 10,
             "solidity": 0.2
            },
            "type": "scatter"
           }
          ],
          "scatter3d": [
           {
            "line": {
             "colorbar": {
              "outlinewidth": 0,
              "ticks": ""
             }
            },
            "marker": {
             "colorbar": {
              "outlinewidth": 0,
              "ticks": ""
             }
            },
            "type": "scatter3d"
           }
          ],
          "scattercarpet": [
           {
            "marker": {
             "colorbar": {
              "outlinewidth": 0,
              "ticks": ""
             }
            },
            "type": "scattercarpet"
           }
          ],
          "scattergeo": [
           {
            "marker": {
             "colorbar": {
              "outlinewidth": 0,
              "ticks": ""
             }
            },
            "type": "scattergeo"
           }
          ],
          "scattergl": [
           {
            "marker": {
             "colorbar": {
              "outlinewidth": 0,
              "ticks": ""
             }
            },
            "type": "scattergl"
           }
          ],
          "scattermapbox": [
           {
            "marker": {
             "colorbar": {
              "outlinewidth": 0,
              "ticks": ""
             }
            },
            "type": "scattermapbox"
           }
          ],
          "scatterpolar": [
           {
            "marker": {
             "colorbar": {
              "outlinewidth": 0,
              "ticks": ""
             }
            },
            "type": "scatterpolar"
           }
          ],
          "scatterpolargl": [
           {
            "marker": {
             "colorbar": {
              "outlinewidth": 0,
              "ticks": ""
             }
            },
            "type": "scatterpolargl"
           }
          ],
          "scatterternary": [
           {
            "marker": {
             "colorbar": {
              "outlinewidth": 0,
              "ticks": ""
             }
            },
            "type": "scatterternary"
           }
          ],
          "surface": [
           {
            "colorbar": {
             "outlinewidth": 0,
             "ticks": ""
            },
            "colorscale": [
             [
              0,
              "#0d0887"
             ],
             [
              0.1111111111111111,
              "#46039f"
             ],
             [
              0.2222222222222222,
              "#7201a8"
             ],
             [
              0.3333333333333333,
              "#9c179e"
             ],
             [
              0.4444444444444444,
              "#bd3786"
             ],
             [
              0.5555555555555556,
              "#d8576b"
             ],
             [
              0.6666666666666666,
              "#ed7953"
             ],
             [
              0.7777777777777778,
              "#fb9f3a"
             ],
             [
              0.8888888888888888,
              "#fdca26"
             ],
             [
              1,
              "#f0f921"
             ]
            ],
            "type": "surface"
           }
          ],
          "table": [
           {
            "cells": {
             "fill": {
              "color": "#EBF0F8"
             },
             "line": {
              "color": "white"
             }
            },
            "header": {
             "fill": {
              "color": "#C8D4E3"
             },
             "line": {
              "color": "white"
             }
            },
            "type": "table"
           }
          ]
         },
         "layout": {
          "annotationdefaults": {
           "arrowcolor": "#2a3f5f",
           "arrowhead": 0,
           "arrowwidth": 1
          },
          "autotypenumbers": "strict",
          "coloraxis": {
           "colorbar": {
            "outlinewidth": 0,
            "ticks": ""
           }
          },
          "colorscale": {
           "diverging": [
            [
             0,
             "#8e0152"
            ],
            [
             0.1,
             "#c51b7d"
            ],
            [
             0.2,
             "#de77ae"
            ],
            [
             0.3,
             "#f1b6da"
            ],
            [
             0.4,
             "#fde0ef"
            ],
            [
             0.5,
             "#f7f7f7"
            ],
            [
             0.6,
             "#e6f5d0"
            ],
            [
             0.7,
             "#b8e186"
            ],
            [
             0.8,
             "#7fbc41"
            ],
            [
             0.9,
             "#4d9221"
            ],
            [
             1,
             "#276419"
            ]
           ],
           "sequential": [
            [
             0,
             "#0d0887"
            ],
            [
             0.1111111111111111,
             "#46039f"
            ],
            [
             0.2222222222222222,
             "#7201a8"
            ],
            [
             0.3333333333333333,
             "#9c179e"
            ],
            [
             0.4444444444444444,
             "#bd3786"
            ],
            [
             0.5555555555555556,
             "#d8576b"
            ],
            [
             0.6666666666666666,
             "#ed7953"
            ],
            [
             0.7777777777777778,
             "#fb9f3a"
            ],
            [
             0.8888888888888888,
             "#fdca26"
            ],
            [
             1,
             "#f0f921"
            ]
           ],
           "sequentialminus": [
            [
             0,
             "#0d0887"
            ],
            [
             0.1111111111111111,
             "#46039f"
            ],
            [
             0.2222222222222222,
             "#7201a8"
            ],
            [
             0.3333333333333333,
             "#9c179e"
            ],
            [
             0.4444444444444444,
             "#bd3786"
            ],
            [
             0.5555555555555556,
             "#d8576b"
            ],
            [
             0.6666666666666666,
             "#ed7953"
            ],
            [
             0.7777777777777778,
             "#fb9f3a"
            ],
            [
             0.8888888888888888,
             "#fdca26"
            ],
            [
             1,
             "#f0f921"
            ]
           ]
          },
          "colorway": [
           "#636efa",
           "#EF553B",
           "#00cc96",
           "#ab63fa",
           "#FFA15A",
           "#19d3f3",
           "#FF6692",
           "#B6E880",
           "#FF97FF",
           "#FECB52"
          ],
          "font": {
           "color": "#2a3f5f"
          },
          "geo": {
           "bgcolor": "white",
           "lakecolor": "white",
           "landcolor": "#E5ECF6",
           "showlakes": true,
           "showland": true,
           "subunitcolor": "white"
          },
          "hoverlabel": {
           "align": "left"
          },
          "hovermode": "closest",
          "mapbox": {
           "style": "light"
          },
          "paper_bgcolor": "white",
          "plot_bgcolor": "#E5ECF6",
          "polar": {
           "angularaxis": {
            "gridcolor": "white",
            "linecolor": "white",
            "ticks": ""
           },
           "bgcolor": "#E5ECF6",
           "radialaxis": {
            "gridcolor": "white",
            "linecolor": "white",
            "ticks": ""
           }
          },
          "scene": {
           "xaxis": {
            "backgroundcolor": "#E5ECF6",
            "gridcolor": "white",
            "gridwidth": 2,
            "linecolor": "white",
            "showbackground": true,
            "ticks": "",
            "zerolinecolor": "white"
           },
           "yaxis": {
            "backgroundcolor": "#E5ECF6",
            "gridcolor": "white",
            "gridwidth": 2,
            "linecolor": "white",
            "showbackground": true,
            "ticks": "",
            "zerolinecolor": "white"
           },
           "zaxis": {
            "backgroundcolor": "#E5ECF6",
            "gridcolor": "white",
            "gridwidth": 2,
            "linecolor": "white",
            "showbackground": true,
            "ticks": "",
            "zerolinecolor": "white"
           }
          },
          "shapedefaults": {
           "line": {
            "color": "#2a3f5f"
           }
          },
          "ternary": {
           "aaxis": {
            "gridcolor": "white",
            "linecolor": "white",
            "ticks": ""
           },
           "baxis": {
            "gridcolor": "white",
            "linecolor": "white",
            "ticks": ""
           },
           "bgcolor": "#E5ECF6",
           "caxis": {
            "gridcolor": "white",
            "linecolor": "white",
            "ticks": ""
           }
          },
          "title": {
           "x": 0.05
          },
          "xaxis": {
           "automargin": true,
           "gridcolor": "white",
           "linecolor": "white",
           "ticks": "",
           "title": {
            "standoff": 15
           },
           "zerolinecolor": "white",
           "zerolinewidth": 2
          },
          "yaxis": {
           "automargin": true,
           "gridcolor": "white",
           "linecolor": "white",
           "ticks": "",
           "title": {
            "standoff": 15
           },
           "zerolinecolor": "white",
           "zerolinewidth": 2
          }
         }
        },
        "title": {
         "text": "Parallel Coordinate Plot"
        }
       }
      }
     },
     "metadata": {},
     "output_type": "display_data"
    }
   ],
   "source": [
    "import matplotlib.pyplot as plt\n",
    "optuna.visualization.plot_optimization_history(study)\n",
    "optuna.visualization.plot_parallel_coordinate(study)"
   ]
  },
  {
   "cell_type": "code",
   "execution_count": 21,
   "metadata": {},
   "outputs": [
    {
     "data": {
      "application/vnd.plotly.v1+json": {
       "config": {
        "plotlyServerURL": "https://plot.ly"
       },
       "data": [
        {
         "marker": {
          "color": [
           0,
           1,
           2,
           3,
           4,
           5,
           6,
           7,
           8,
           9,
           10,
           11,
           12,
           13,
           14,
           15,
           16,
           17,
           18,
           19,
           20,
           21,
           22,
           23,
           24,
           25,
           26,
           27,
           28,
           29,
           30,
           31,
           32,
           33,
           34,
           35,
           36,
           37,
           38,
           39,
           40,
           41,
           42,
           43,
           44,
           45,
           46,
           47,
           48,
           49,
           50,
           51,
           52,
           53,
           54,
           55,
           56,
           57,
           58,
           59,
           60,
           61,
           62,
           63,
           64,
           65,
           66,
           67,
           68,
           69,
           70,
           71,
           72,
           73,
           74,
           75,
           76,
           77,
           78,
           79,
           80,
           81,
           82,
           83,
           84,
           85,
           86,
           87,
           88,
           89,
           90,
           91,
           92,
           93,
           94,
           95,
           96,
           97,
           98,
           99
          ],
          "colorbar": {
           "title": {
            "text": "Trial"
           },
           "x": 1,
           "xpad": 40
          },
          "colorscale": [
           [
            0,
            "rgb(247,251,255)"
           ],
           [
            0.125,
            "rgb(222,235,247)"
           ],
           [
            0.25,
            "rgb(198,219,239)"
           ],
           [
            0.375,
            "rgb(158,202,225)"
           ],
           [
            0.5,
            "rgb(107,174,214)"
           ],
           [
            0.625,
            "rgb(66,146,198)"
           ],
           [
            0.75,
            "rgb(33,113,181)"
           ],
           [
            0.875,
            "rgb(8,81,156)"
           ],
           [
            1,
            "rgb(8,48,107)"
           ]
          ],
          "line": {
           "color": "Grey",
           "width": 0.5
          },
          "showscale": true
         },
         "mode": "markers",
         "name": "Feasible Trial",
         "showlegend": false,
         "type": "scatter",
         "x": [
          0.006244341711196542,
          0.00016653324434492877,
          0.000006261045193342276,
          0.0009602479011805545,
          0.023326120941911756,
          3.711240932105977e-7,
          0.00002955007796878064,
          2.1557751327088747e-7,
          8.580430763790223e-8,
          2.852621937754168e-7,
          0.8542133641618096,
          0.7644945169290326,
          0.7238248238834165,
          0.683199979085344,
          0.07689708003405411,
          0.09641993753754782,
          0.007610448701099206,
          0.0023625918664261294,
          0.0003333633069713057,
          0.014577842083836837,
          0.05514483504106614,
          0.28130402991237785,
          0.17710976001368925,
          0.006652004572312428,
          0.2577330184399649,
          0.041280699133374,
          1.4792958444051178e-8,
          1.3534346852928277e-8,
          0.0000046329526359260626,
          0.000027786974271151556,
          1.1873587464034465e-8,
          0.004249758890066649,
          0.22789543729373452,
          0.0013672801459368139,
          0.012306175407075877,
          0.0004783937433579835,
          0.0000027232951446356597,
          0.00010499634947047565,
          0.32745624571869497,
          0.0000010122396120102914,
          0.000027647033697779116,
          0.2892870853137184,
          0.027840103754432074,
          0.3993511567723274,
          0.11985910055505286,
          0.9381266998379422,
          5.4079509679825736e-8,
          0.020164010665156492,
          0.08142412857444234,
          0.006639584556494146,
          0.5655433781512951,
          0.4733470660574871,
          0.1569199304727593,
          0.14908139065955672,
          0.3923207704795004,
          0.04496898189454177,
          0.8808700764341724,
          0.8920554879114082,
          0.15162877161627544,
          0.000012384835394609388,
          0.09476577351215859,
          0.4359183332904085,
          0.5544837678774434,
          0.19042729216110504,
          0.9074507118174299,
          0.9085198845940383,
          0.057683507247236226,
          0.27399167468810953,
          9.0604623601269e-7,
          0.034136745813483575,
          0.03313600539079056,
          0.11000650362952602,
          0.22134563719366832,
          0.9868493106704875,
          0.961424286561173,
          0.5676399002751668,
          0.42466901959198883,
          0.36871397485978963,
          0.07542884174415432,
          0.16025147322167355,
          0.5915367286430043,
          0.0002807148804302096,
          0.3463754668246185,
          2.2337038249601646e-8,
          1.2365409304119184e-7,
          0.2296811562029331,
          0.015526594607162781,
          0.012369616457195112,
          0.0635722069730526,
          0.0036586650291817032,
          0.0036868648223926286,
          0.0026025767937474667,
          0.001109970754414754,
          0.003662719881108143,
          0.0032338847429736676,
          0.019450338368411216,
          0.000662656400985116,
          0.010044846240722433,
          0.0042221193450546445,
          0.002026944015510681
         ],
         "xaxis": "x",
         "y": [
          0.7465263493090997,
          0.8097477526260631,
          0.7528098325040657,
          0.8170027557993083,
          0.8226334650370877,
          0.8301870628111333,
          0.8355524098701845,
          0.8223178504538419,
          0.8073427264021904,
          0.8094897638471291,
          0.8372401727320508,
          0.8430907422013536,
          0.8364469307559347,
          0.8349095174490626,
          0.8312003827397451,
          0.8347731096441496,
          0.83736394564252,
          0.8277145473878973,
          0.8347890690752194,
          0.8264280127103056,
          0.8325744651597468,
          0.8379878463914808,
          0.8358193840942709,
          0.8309069116891432,
          0.8362811219457476,
          0.8317842647628059,
          0.8380983049123836,
          0.8348235217633851,
          0.833551945487477,
          0.83407130777357,
          0.7928704240797135,
          0.8371873427907432,
          0.8359829482936231,
          0.8341611918862453,
          0.8345491428939518,
          0.8338120104235422,
          0.834746531780182,
          0.8293886718797958,
          0.8375620906419515,
          0.8323087968319888,
          0.8227798541598703,
          0.8371124850348333,
          0.8338349656616394,
          0.835965967557596,
          0.8321497167871732,
          0.8364407325477666,
          0.8148936868653245,
          0.7813557949041071,
          0.8344590840450129,
          0.8367844608591785,
          0.8357642595977344,
          0.8379299214495438,
          0.8389478503296367,
          0.8349035079504269,
          0.8385634697325136,
          0.8317667277138157,
          0.8384791519981457,
          0.8373579875214874,
          0.8287059162607399,
          0.8319088757050632,
          0.8272646577179763,
          0.8374535176021357,
          0.8341246757418442,
          0.8348587944830765,
          0.8389414463377664,
          0.8351782153451325,
          0.8347536879289535,
          0.8347256480753146,
          0.8356959604181633,
          0.8405914301289723,
          0.832846687844644,
          0.8370667787150673,
          0.8362033762963106,
          0.8402544679118288,
          0.8318057926595837,
          0.8373178369938262,
          0.8392041209283241,
          0.8369126603241177,
          0.8322595136976301,
          0.8376468977935335,
          0.8364690926704037,
          0.836121811098381,
          0.8343717474622864,
          0.8374035604897999,
          0.8364710225117028,
          0.8239997834811715,
          0.8404178527475634,
          0.8313804626722554,
          0.8360639200855322,
          0.8393611176676407,
          0.8387389300561103,
          0.8339740082421695,
          0.834289143550369,
          0.8388399897027522,
          0.8368603827555192,
          0.8330562737472513,
          0.8345997695908993,
          0.8365245691082451,
          0.8347942283971245,
          0.8368336265515606
         ],
         "yaxis": "y"
        },
        {
         "marker": {
          "color": [
           0,
           1,
           2,
           3,
           4,
           5,
           6,
           7,
           8,
           9,
           10,
           11,
           12,
           13,
           14,
           15,
           16,
           17,
           18,
           19,
           20,
           21,
           22,
           23,
           24,
           25,
           26,
           27,
           28,
           29,
           30,
           31,
           32,
           33,
           34,
           35,
           36,
           37,
           38,
           39,
           40,
           41,
           42,
           43,
           44,
           45,
           46,
           47,
           48,
           49,
           50,
           51,
           52,
           53,
           54,
           55,
           56,
           57,
           58,
           59,
           60,
           61,
           62,
           63,
           64,
           65,
           66,
           67,
           68,
           69,
           70,
           71,
           72,
           73,
           74,
           75,
           76,
           77,
           78,
           79,
           80,
           81,
           82,
           83,
           84,
           85,
           86,
           87,
           88,
           89,
           90,
           91,
           92,
           93,
           94,
           95,
           96,
           97,
           98,
           99
          ],
          "colorbar": {
           "title": {
            "text": "Trial"
           },
           "x": 1,
           "xpad": 40
          },
          "colorscale": [
           [
            0,
            "rgb(247,251,255)"
           ],
           [
            0.125,
            "rgb(222,235,247)"
           ],
           [
            0.25,
            "rgb(198,219,239)"
           ],
           [
            0.375,
            "rgb(158,202,225)"
           ],
           [
            0.5,
            "rgb(107,174,214)"
           ],
           [
            0.625,
            "rgb(66,146,198)"
           ],
           [
            0.75,
            "rgb(33,113,181)"
           ],
           [
            0.875,
            "rgb(8,81,156)"
           ],
           [
            1,
            "rgb(8,48,107)"
           ]
          ],
          "line": {
           "color": "Grey",
           "width": 0.5
          },
          "showscale": false
         },
         "mode": "markers",
         "name": "Feasible Trial",
         "showlegend": false,
         "type": "scatter",
         "x": [
          8.804200843118732e-7,
          0.00023761941226961716,
          0.5063208523546503,
          0.040172774935453966,
          0.002583195120525377,
          0.002688257124806871,
          0.030788807770454205,
          7.332114675853715e-8,
          0.1125760880611262,
          0.00008238402422023623,
          0.000004946047366389646,
          0.00001286262262827551,
          0.000005562663970423419,
          1.3634210047299996e-8,
          0.0000031833608184601793,
          0.00003149654934060253,
          2.40537069009086e-7,
          3.466328144499302e-7,
          1.2418586818137858e-8,
          2.021768909728419e-7,
          0.0007392915815366324,
          0.000009860145486410215,
          0.00002037517714867601,
          0.0000010057575928368271,
          1.0953146662542294e-7,
          0.000016684043793525092,
          0.0000017796487156816765,
          0.0002466109484676943,
          0.0000015960830448380306,
          0.000049723033819897896,
          0.000013797735205382841,
          5.767819794386695e-7,
          5.2866528687938985e-8,
          0.0000014905429156249243,
          0.00030012193695512073,
          0.00000905513299107637,
          0.0000023172865279122284,
          5.590729163011616e-7,
          2.205010243695533e-7,
          3.200662031409904e-8,
          0.001565110908750553,
          2.083191213825538e-7,
          1.357546617164671e-7,
          0.000005865658734577733,
          0.00010319315613163673,
          4.51774405821183e-7,
          3.286868890771908e-8,
          0.000003574522754588703,
          0.0000010395095906354522,
          0.8990592883510733,
          0.006753635252211766,
          0.000005302747666935697,
          0.00003642396994360951,
          0.000039890600380527614,
          0.00009985214112273008,
          0.00010521624604262092,
          0.000009695050052985575,
          0.0004737300767731748,
          0.00006176064471872165,
          0.000011640036721567414,
          0.00002707335449018106,
          0.000005604321447866499,
          0.00017056022537200285,
          0.0000092649586582544,
          0.000020394326387600698,
          0.00002613993190458797,
          0.0000022749549318470066,
          0.00015434195381642976,
          0.000047902263024148776,
          0.00001536743310103608,
          0.00001607126868946566,
          0.00000869642724973994,
          0.00002300696598676432,
          0.0000032504368021651013,
          0.00000327717235260607,
          0.00006557697987521799,
          0.0000023317785432874835,
          7.794273254018942e-7,
          0.00046911898691300133,
          0.000016434159195519057,
          0.00003582667661605124,
          0.0000016602882651952586,
          0.00000352325895017244,
          0.000006924949392122529,
          0.0000020728224679788564,
          0.000001304619452010577,
          0.00008093694041847791,
          0.0001352378817792172,
          0.00008333169688720002,
          0.0002708432288118129,
          0.0013478102982773955,
          0.0016874636862626497,
          0.0007641813056083502,
          0.003674274444289816,
          0.007557606655701034,
          0.004429319988874844,
          0.017705346926468597,
          0.000917388125132001,
          0.000319345039518229,
          0.0031224564460534047
         ],
         "xaxis": "x2",
         "y": [
          0.7465263493090997,
          0.8097477526260631,
          0.7528098325040657,
          0.8170027557993083,
          0.8226334650370877,
          0.8301870628111333,
          0.8355524098701845,
          0.8223178504538419,
          0.8073427264021904,
          0.8094897638471291,
          0.8372401727320508,
          0.8430907422013536,
          0.8364469307559347,
          0.8349095174490626,
          0.8312003827397451,
          0.8347731096441496,
          0.83736394564252,
          0.8277145473878973,
          0.8347890690752194,
          0.8264280127103056,
          0.8325744651597468,
          0.8379878463914808,
          0.8358193840942709,
          0.8309069116891432,
          0.8362811219457476,
          0.8317842647628059,
          0.8380983049123836,
          0.8348235217633851,
          0.833551945487477,
          0.83407130777357,
          0.7928704240797135,
          0.8371873427907432,
          0.8359829482936231,
          0.8341611918862453,
          0.8345491428939518,
          0.8338120104235422,
          0.834746531780182,
          0.8293886718797958,
          0.8375620906419515,
          0.8323087968319888,
          0.8227798541598703,
          0.8371124850348333,
          0.8338349656616394,
          0.835965967557596,
          0.8321497167871732,
          0.8364407325477666,
          0.8148936868653245,
          0.7813557949041071,
          0.8344590840450129,
          0.8367844608591785,
          0.8357642595977344,
          0.8379299214495438,
          0.8389478503296367,
          0.8349035079504269,
          0.8385634697325136,
          0.8317667277138157,
          0.8384791519981457,
          0.8373579875214874,
          0.8287059162607399,
          0.8319088757050632,
          0.8272646577179763,
          0.8374535176021357,
          0.8341246757418442,
          0.8348587944830765,
          0.8389414463377664,
          0.8351782153451325,
          0.8347536879289535,
          0.8347256480753146,
          0.8356959604181633,
          0.8405914301289723,
          0.832846687844644,
          0.8370667787150673,
          0.8362033762963106,
          0.8402544679118288,
          0.8318057926595837,
          0.8373178369938262,
          0.8392041209283241,
          0.8369126603241177,
          0.8322595136976301,
          0.8376468977935335,
          0.8364690926704037,
          0.836121811098381,
          0.8343717474622864,
          0.8374035604897999,
          0.8364710225117028,
          0.8239997834811715,
          0.8404178527475634,
          0.8313804626722554,
          0.8360639200855322,
          0.8393611176676407,
          0.8387389300561103,
          0.8339740082421695,
          0.834289143550369,
          0.8388399897027522,
          0.8368603827555192,
          0.8330562737472513,
          0.8345997695908993,
          0.8365245691082451,
          0.8347942283971245,
          0.8368336265515606
         ],
         "yaxis": "y2"
        },
        {
         "marker": {
          "color": [
           0,
           1,
           2,
           3,
           4,
           5,
           6,
           7,
           8,
           9,
           10,
           11,
           12,
           13,
           14,
           15,
           16,
           17,
           18,
           19,
           20,
           21,
           22,
           23,
           24,
           25,
           26,
           27,
           28,
           29,
           30,
           31,
           32,
           33,
           34,
           35,
           36,
           37,
           38,
           39,
           40,
           41,
           42,
           43,
           44,
           45,
           46,
           47,
           48,
           49,
           50,
           51,
           52,
           53,
           54,
           55,
           56,
           57,
           58,
           59,
           60,
           61,
           62,
           63,
           64,
           65,
           66,
           67,
           68,
           69,
           70,
           71,
           72,
           73,
           74,
           75,
           76,
           77,
           78,
           79,
           80,
           81,
           82,
           83,
           84,
           85,
           86,
           87,
           88,
           89,
           90,
           91,
           92,
           93,
           94,
           95,
           96,
           97,
           98,
           99
          ],
          "colorbar": {
           "title": {
            "text": "Trial"
           },
           "x": 1,
           "xpad": 40
          },
          "colorscale": [
           [
            0,
            "rgb(247,251,255)"
           ],
           [
            0.125,
            "rgb(222,235,247)"
           ],
           [
            0.25,
            "rgb(198,219,239)"
           ],
           [
            0.375,
            "rgb(158,202,225)"
           ],
           [
            0.5,
            "rgb(107,174,214)"
           ],
           [
            0.625,
            "rgb(66,146,198)"
           ],
           [
            0.75,
            "rgb(33,113,181)"
           ],
           [
            0.875,
            "rgb(8,81,156)"
           ],
           [
            1,
            "rgb(8,48,107)"
           ]
          ],
          "line": {
           "color": "Grey",
           "width": 0.5
          },
          "showscale": false
         },
         "mode": "markers",
         "name": "Feasible Trial",
         "showlegend": false,
         "type": "scatter",
         "x": [
          0.12551689859982285,
          0.3519288186099533,
          0.10079745518698413,
          0.4605716695184108,
          0.45984346139524934,
          0.723630529092734,
          0.9120418357494136,
          0.470595440156548,
          0.3350643936444677,
          0.34020535467575347,
          0.9816521052381391,
          0.997021123158109,
          0.9916229067395895,
          0.7941327286650242,
          0.7286599697169402,
          0.8681547564392218,
          0.9966604227482593,
          0.6004939611629037,
          0.8518346611492065,
          0.6071124807344875,
          0.7049449454213687,
          0.9966740047652798,
          0.944681184192125,
          0.8500379578587313,
          0.9950071812021435,
          0.7841115043763465,
          0.9084332006626549,
          0.9081605263462534,
          0.7961089788066349,
          0.8967208000405997,
          0.24091360128050876,
          0.9431723652637334,
          0.9463475567772728,
          0.81769526268257,
          0.9996995493457768,
          0.9136571709442366,
          0.8598718034501345,
          0.6648395206315776,
          0.9440180366366895,
          0.7571388759521405,
          0.5214650494770305,
          0.9521891323420492,
          0.8965858348682979,
          0.9513184436758302,
          0.8326007786805099,
          0.9713129006222133,
          0.3946196181011712,
          0.1981812773150312,
          0.8974011386112355,
          0.9322230531734894,
          0.9995855718812724,
          0.8803400038327807,
          0.8726544421260686,
          0.891125182928919,
          0.8660345526607479,
          0.7431295532355364,
          0.8095522351337718,
          0.826105466298266,
          0.6927072345101732,
          0.7719761919965222,
          0.6428972015335019,
          0.8789157928917999,
          0.8106263614880692,
          0.8544363128646131,
          0.9228743678123996,
          0.9726371270751758,
          0.919838511608243,
          0.834888169504896,
          0.9634258214246014,
          0.9228178760592152,
          0.8671698550838642,
          0.9223378598382405,
          0.9739038069942834,
          0.9208737938402111,
          0.7852116479582405,
          0.9131088989316994,
          0.8722413427063713,
          0.804916478935995,
          0.8454140687720053,
          0.8772373949021807,
          0.9316032644108139,
          0.9008401717939033,
          0.8585452986926424,
          0.9591529824898526,
          0.9256557225767653,
          0.5187855674723618,
          0.878625860231307,
          0.765857489540808,
          0.8174516748881461,
          0.8839104842456885,
          0.9803858947830084,
          0.9707588715472109,
          0.9448267542624014,
          0.8831427156671481,
          0.9836284028596416,
          0.8882132438433564,
          0.9361091383430906,
          0.9082194951915523,
          0.8444098525326873,
          0.9880831492570045
         ],
         "xaxis": "x3",
         "y": [
          0.7465263493090997,
          0.8097477526260631,
          0.7528098325040657,
          0.8170027557993083,
          0.8226334650370877,
          0.8301870628111333,
          0.8355524098701845,
          0.8223178504538419,
          0.8073427264021904,
          0.8094897638471291,
          0.8372401727320508,
          0.8430907422013536,
          0.8364469307559347,
          0.8349095174490626,
          0.8312003827397451,
          0.8347731096441496,
          0.83736394564252,
          0.8277145473878973,
          0.8347890690752194,
          0.8264280127103056,
          0.8325744651597468,
          0.8379878463914808,
          0.8358193840942709,
          0.8309069116891432,
          0.8362811219457476,
          0.8317842647628059,
          0.8380983049123836,
          0.8348235217633851,
          0.833551945487477,
          0.83407130777357,
          0.7928704240797135,
          0.8371873427907432,
          0.8359829482936231,
          0.8341611918862453,
          0.8345491428939518,
          0.8338120104235422,
          0.834746531780182,
          0.8293886718797958,
          0.8375620906419515,
          0.8323087968319888,
          0.8227798541598703,
          0.8371124850348333,
          0.8338349656616394,
          0.835965967557596,
          0.8321497167871732,
          0.8364407325477666,
          0.8148936868653245,
          0.7813557949041071,
          0.8344590840450129,
          0.8367844608591785,
          0.8357642595977344,
          0.8379299214495438,
          0.8389478503296367,
          0.8349035079504269,
          0.8385634697325136,
          0.8317667277138157,
          0.8384791519981457,
          0.8373579875214874,
          0.8287059162607399,
          0.8319088757050632,
          0.8272646577179763,
          0.8374535176021357,
          0.8341246757418442,
          0.8348587944830765,
          0.8389414463377664,
          0.8351782153451325,
          0.8347536879289535,
          0.8347256480753146,
          0.8356959604181633,
          0.8405914301289723,
          0.832846687844644,
          0.8370667787150673,
          0.8362033762963106,
          0.8402544679118288,
          0.8318057926595837,
          0.8373178369938262,
          0.8392041209283241,
          0.8369126603241177,
          0.8322595136976301,
          0.8376468977935335,
          0.8364690926704037,
          0.836121811098381,
          0.8343717474622864,
          0.8374035604897999,
          0.8364710225117028,
          0.8239997834811715,
          0.8404178527475634,
          0.8313804626722554,
          0.8360639200855322,
          0.8393611176676407,
          0.8387389300561103,
          0.8339740082421695,
          0.834289143550369,
          0.8388399897027522,
          0.8368603827555192,
          0.8330562737472513,
          0.8345997695908993,
          0.8365245691082451,
          0.8347942283971245,
          0.8368336265515606
         ],
         "yaxis": "y3"
        }
       ],
       "layout": {
        "template": {
         "data": {
          "bar": [
           {
            "error_x": {
             "color": "#2a3f5f"
            },
            "error_y": {
             "color": "#2a3f5f"
            },
            "marker": {
             "line": {
              "color": "#E5ECF6",
              "width": 0.5
             },
             "pattern": {
              "fillmode": "overlay",
              "size": 10,
              "solidity": 0.2
             }
            },
            "type": "bar"
           }
          ],
          "barpolar": [
           {
            "marker": {
             "line": {
              "color": "#E5ECF6",
              "width": 0.5
             },
             "pattern": {
              "fillmode": "overlay",
              "size": 10,
              "solidity": 0.2
             }
            },
            "type": "barpolar"
           }
          ],
          "carpet": [
           {
            "aaxis": {
             "endlinecolor": "#2a3f5f",
             "gridcolor": "white",
             "linecolor": "white",
             "minorgridcolor": "white",
             "startlinecolor": "#2a3f5f"
            },
            "baxis": {
             "endlinecolor": "#2a3f5f",
             "gridcolor": "white",
             "linecolor": "white",
             "minorgridcolor": "white",
             "startlinecolor": "#2a3f5f"
            },
            "type": "carpet"
           }
          ],
          "choropleth": [
           {
            "colorbar": {
             "outlinewidth": 0,
             "ticks": ""
            },
            "type": "choropleth"
           }
          ],
          "contour": [
           {
            "colorbar": {
             "outlinewidth": 0,
             "ticks": ""
            },
            "colorscale": [
             [
              0,
              "#0d0887"
             ],
             [
              0.1111111111111111,
              "#46039f"
             ],
             [
              0.2222222222222222,
              "#7201a8"
             ],
             [
              0.3333333333333333,
              "#9c179e"
             ],
             [
              0.4444444444444444,
              "#bd3786"
             ],
             [
              0.5555555555555556,
              "#d8576b"
             ],
             [
              0.6666666666666666,
              "#ed7953"
             ],
             [
              0.7777777777777778,
              "#fb9f3a"
             ],
             [
              0.8888888888888888,
              "#fdca26"
             ],
             [
              1,
              "#f0f921"
             ]
            ],
            "type": "contour"
           }
          ],
          "contourcarpet": [
           {
            "colorbar": {
             "outlinewidth": 0,
             "ticks": ""
            },
            "type": "contourcarpet"
           }
          ],
          "heatmap": [
           {
            "colorbar": {
             "outlinewidth": 0,
             "ticks": ""
            },
            "colorscale": [
             [
              0,
              "#0d0887"
             ],
             [
              0.1111111111111111,
              "#46039f"
             ],
             [
              0.2222222222222222,
              "#7201a8"
             ],
             [
              0.3333333333333333,
              "#9c179e"
             ],
             [
              0.4444444444444444,
              "#bd3786"
             ],
             [
              0.5555555555555556,
              "#d8576b"
             ],
             [
              0.6666666666666666,
              "#ed7953"
             ],
             [
              0.7777777777777778,
              "#fb9f3a"
             ],
             [
              0.8888888888888888,
              "#fdca26"
             ],
             [
              1,
              "#f0f921"
             ]
            ],
            "type": "heatmap"
           }
          ],
          "heatmapgl": [
           {
            "colorbar": {
             "outlinewidth": 0,
             "ticks": ""
            },
            "colorscale": [
             [
              0,
              "#0d0887"
             ],
             [
              0.1111111111111111,
              "#46039f"
             ],
             [
              0.2222222222222222,
              "#7201a8"
             ],
             [
              0.3333333333333333,
              "#9c179e"
             ],
             [
              0.4444444444444444,
              "#bd3786"
             ],
             [
              0.5555555555555556,
              "#d8576b"
             ],
             [
              0.6666666666666666,
              "#ed7953"
             ],
             [
              0.7777777777777778,
              "#fb9f3a"
             ],
             [
              0.8888888888888888,
              "#fdca26"
             ],
             [
              1,
              "#f0f921"
             ]
            ],
            "type": "heatmapgl"
           }
          ],
          "histogram": [
           {
            "marker": {
             "pattern": {
              "fillmode": "overlay",
              "size": 10,
              "solidity": 0.2
             }
            },
            "type": "histogram"
           }
          ],
          "histogram2d": [
           {
            "colorbar": {
             "outlinewidth": 0,
             "ticks": ""
            },
            "colorscale": [
             [
              0,
              "#0d0887"
             ],
             [
              0.1111111111111111,
              "#46039f"
             ],
             [
              0.2222222222222222,
              "#7201a8"
             ],
             [
              0.3333333333333333,
              "#9c179e"
             ],
             [
              0.4444444444444444,
              "#bd3786"
             ],
             [
              0.5555555555555556,
              "#d8576b"
             ],
             [
              0.6666666666666666,
              "#ed7953"
             ],
             [
              0.7777777777777778,
              "#fb9f3a"
             ],
             [
              0.8888888888888888,
              "#fdca26"
             ],
             [
              1,
              "#f0f921"
             ]
            ],
            "type": "histogram2d"
           }
          ],
          "histogram2dcontour": [
           {
            "colorbar": {
             "outlinewidth": 0,
             "ticks": ""
            },
            "colorscale": [
             [
              0,
              "#0d0887"
             ],
             [
              0.1111111111111111,
              "#46039f"
             ],
             [
              0.2222222222222222,
              "#7201a8"
             ],
             [
              0.3333333333333333,
              "#9c179e"
             ],
             [
              0.4444444444444444,
              "#bd3786"
             ],
             [
              0.5555555555555556,
              "#d8576b"
             ],
             [
              0.6666666666666666,
              "#ed7953"
             ],
             [
              0.7777777777777778,
              "#fb9f3a"
             ],
             [
              0.8888888888888888,
              "#fdca26"
             ],
             [
              1,
              "#f0f921"
             ]
            ],
            "type": "histogram2dcontour"
           }
          ],
          "mesh3d": [
           {
            "colorbar": {
             "outlinewidth": 0,
             "ticks": ""
            },
            "type": "mesh3d"
           }
          ],
          "parcoords": [
           {
            "line": {
             "colorbar": {
              "outlinewidth": 0,
              "ticks": ""
             }
            },
            "type": "parcoords"
           }
          ],
          "pie": [
           {
            "automargin": true,
            "type": "pie"
           }
          ],
          "scatter": [
           {
            "fillpattern": {
             "fillmode": "overlay",
             "size": 10,
             "solidity": 0.2
            },
            "type": "scatter"
           }
          ],
          "scatter3d": [
           {
            "line": {
             "colorbar": {
              "outlinewidth": 0,
              "ticks": ""
             }
            },
            "marker": {
             "colorbar": {
              "outlinewidth": 0,
              "ticks": ""
             }
            },
            "type": "scatter3d"
           }
          ],
          "scattercarpet": [
           {
            "marker": {
             "colorbar": {
              "outlinewidth": 0,
              "ticks": ""
             }
            },
            "type": "scattercarpet"
           }
          ],
          "scattergeo": [
           {
            "marker": {
             "colorbar": {
              "outlinewidth": 0,
              "ticks": ""
             }
            },
            "type": "scattergeo"
           }
          ],
          "scattergl": [
           {
            "marker": {
             "colorbar": {
              "outlinewidth": 0,
              "ticks": ""
             }
            },
            "type": "scattergl"
           }
          ],
          "scattermapbox": [
           {
            "marker": {
             "colorbar": {
              "outlinewidth": 0,
              "ticks": ""
             }
            },
            "type": "scattermapbox"
           }
          ],
          "scatterpolar": [
           {
            "marker": {
             "colorbar": {
              "outlinewidth": 0,
              "ticks": ""
             }
            },
            "type": "scatterpolar"
           }
          ],
          "scatterpolargl": [
           {
            "marker": {
             "colorbar": {
              "outlinewidth": 0,
              "ticks": ""
             }
            },
            "type": "scatterpolargl"
           }
          ],
          "scatterternary": [
           {
            "marker": {
             "colorbar": {
              "outlinewidth": 0,
              "ticks": ""
             }
            },
            "type": "scatterternary"
           }
          ],
          "surface": [
           {
            "colorbar": {
             "outlinewidth": 0,
             "ticks": ""
            },
            "colorscale": [
             [
              0,
              "#0d0887"
             ],
             [
              0.1111111111111111,
              "#46039f"
             ],
             [
              0.2222222222222222,
              "#7201a8"
             ],
             [
              0.3333333333333333,
              "#9c179e"
             ],
             [
              0.4444444444444444,
              "#bd3786"
             ],
             [
              0.5555555555555556,
              "#d8576b"
             ],
             [
              0.6666666666666666,
              "#ed7953"
             ],
             [
              0.7777777777777778,
              "#fb9f3a"
             ],
             [
              0.8888888888888888,
              "#fdca26"
             ],
             [
              1,
              "#f0f921"
             ]
            ],
            "type": "surface"
           }
          ],
          "table": [
           {
            "cells": {
             "fill": {
              "color": "#EBF0F8"
             },
             "line": {
              "color": "white"
             }
            },
            "header": {
             "fill": {
              "color": "#C8D4E3"
             },
             "line": {
              "color": "white"
             }
            },
            "type": "table"
           }
          ]
         },
         "layout": {
          "annotationdefaults": {
           "arrowcolor": "#2a3f5f",
           "arrowhead": 0,
           "arrowwidth": 1
          },
          "autotypenumbers": "strict",
          "coloraxis": {
           "colorbar": {
            "outlinewidth": 0,
            "ticks": ""
           }
          },
          "colorscale": {
           "diverging": [
            [
             0,
             "#8e0152"
            ],
            [
             0.1,
             "#c51b7d"
            ],
            [
             0.2,
             "#de77ae"
            ],
            [
             0.3,
             "#f1b6da"
            ],
            [
             0.4,
             "#fde0ef"
            ],
            [
             0.5,
             "#f7f7f7"
            ],
            [
             0.6,
             "#e6f5d0"
            ],
            [
             0.7,
             "#b8e186"
            ],
            [
             0.8,
             "#7fbc41"
            ],
            [
             0.9,
             "#4d9221"
            ],
            [
             1,
             "#276419"
            ]
           ],
           "sequential": [
            [
             0,
             "#0d0887"
            ],
            [
             0.1111111111111111,
             "#46039f"
            ],
            [
             0.2222222222222222,
             "#7201a8"
            ],
            [
             0.3333333333333333,
             "#9c179e"
            ],
            [
             0.4444444444444444,
             "#bd3786"
            ],
            [
             0.5555555555555556,
             "#d8576b"
            ],
            [
             0.6666666666666666,
             "#ed7953"
            ],
            [
             0.7777777777777778,
             "#fb9f3a"
            ],
            [
             0.8888888888888888,
             "#fdca26"
            ],
            [
             1,
             "#f0f921"
            ]
           ],
           "sequentialminus": [
            [
             0,
             "#0d0887"
            ],
            [
             0.1111111111111111,
             "#46039f"
            ],
            [
             0.2222222222222222,
             "#7201a8"
            ],
            [
             0.3333333333333333,
             "#9c179e"
            ],
            [
             0.4444444444444444,
             "#bd3786"
            ],
            [
             0.5555555555555556,
             "#d8576b"
            ],
            [
             0.6666666666666666,
             "#ed7953"
            ],
            [
             0.7777777777777778,
             "#fb9f3a"
            ],
            [
             0.8888888888888888,
             "#fdca26"
            ],
            [
             1,
             "#f0f921"
            ]
           ]
          },
          "colorway": [
           "#636efa",
           "#EF553B",
           "#00cc96",
           "#ab63fa",
           "#FFA15A",
           "#19d3f3",
           "#FF6692",
           "#B6E880",
           "#FF97FF",
           "#FECB52"
          ],
          "font": {
           "color": "#2a3f5f"
          },
          "geo": {
           "bgcolor": "white",
           "lakecolor": "white",
           "landcolor": "#E5ECF6",
           "showlakes": true,
           "showland": true,
           "subunitcolor": "white"
          },
          "hoverlabel": {
           "align": "left"
          },
          "hovermode": "closest",
          "mapbox": {
           "style": "light"
          },
          "paper_bgcolor": "white",
          "plot_bgcolor": "#E5ECF6",
          "polar": {
           "angularaxis": {
            "gridcolor": "white",
            "linecolor": "white",
            "ticks": ""
           },
           "bgcolor": "#E5ECF6",
           "radialaxis": {
            "gridcolor": "white",
            "linecolor": "white",
            "ticks": ""
           }
          },
          "scene": {
           "xaxis": {
            "backgroundcolor": "#E5ECF6",
            "gridcolor": "white",
            "gridwidth": 2,
            "linecolor": "white",
            "showbackground": true,
            "ticks": "",
            "zerolinecolor": "white"
           },
           "yaxis": {
            "backgroundcolor": "#E5ECF6",
            "gridcolor": "white",
            "gridwidth": 2,
            "linecolor": "white",
            "showbackground": true,
            "ticks": "",
            "zerolinecolor": "white"
           },
           "zaxis": {
            "backgroundcolor": "#E5ECF6",
            "gridcolor": "white",
            "gridwidth": 2,
            "linecolor": "white",
            "showbackground": true,
            "ticks": "",
            "zerolinecolor": "white"
           }
          },
          "shapedefaults": {
           "line": {
            "color": "#2a3f5f"
           }
          },
          "ternary": {
           "aaxis": {
            "gridcolor": "white",
            "linecolor": "white",
            "ticks": ""
           },
           "baxis": {
            "gridcolor": "white",
            "linecolor": "white",
            "ticks": ""
           },
           "bgcolor": "#E5ECF6",
           "caxis": {
            "gridcolor": "white",
            "linecolor": "white",
            "ticks": ""
           }
          },
          "title": {
           "x": 0.05
          },
          "xaxis": {
           "automargin": true,
           "gridcolor": "white",
           "linecolor": "white",
           "ticks": "",
           "title": {
            "standoff": 15
           },
           "zerolinecolor": "white",
           "zerolinewidth": 2
          },
          "yaxis": {
           "automargin": true,
           "gridcolor": "white",
           "linecolor": "white",
           "ticks": "",
           "title": {
            "standoff": 15
           },
           "zerolinecolor": "white",
           "zerolinewidth": 2
          }
         }
        },
        "title": {
         "text": "Slice Plot"
        },
        "xaxis": {
         "anchor": "y",
         "domain": [
          0,
          0.2888888888888889
         ],
         "title": {
          "text": "alpha"
         },
         "type": "log"
        },
        "xaxis2": {
         "anchor": "y2",
         "domain": [
          0.35555555555555557,
          0.6444444444444445
         ],
         "title": {
          "text": "lambda"
         },
         "type": "log"
        },
        "xaxis3": {
         "anchor": "y3",
         "domain": [
          0.7111111111111111,
          1
         ],
         "title": {
          "text": "subsample"
         }
        },
        "yaxis": {
         "anchor": "x",
         "domain": [
          0,
          1
         ],
         "title": {
          "text": "Objective Value"
         }
        },
        "yaxis2": {
         "anchor": "x2",
         "domain": [
          0,
          1
         ],
         "matches": "y",
         "showticklabels": false
        },
        "yaxis3": {
         "anchor": "x3",
         "domain": [
          0,
          1
         ],
         "matches": "y",
         "showticklabels": false
        }
       }
      }
     },
     "metadata": {},
     "output_type": "display_data"
    }
   ],
   "source": [
    "optuna.visualization.plot_slice(study, params=['alpha', 'lambda', 'subsample'])"
   ]
  }
 ],
 "metadata": {
  "kernelspec": {
   "display_name": ".venv",
   "language": "python",
   "name": "python3"
  },
  "language_info": {
   "codemirror_mode": {
    "name": "ipython",
    "version": 3
   },
   "file_extension": ".py",
   "mimetype": "text/x-python",
   "name": "python",
   "nbconvert_exporter": "python",
   "pygments_lexer": "ipython3",
   "version": "3.11.0"
  }
 },
 "nbformat": 4,
 "nbformat_minor": 2
}
